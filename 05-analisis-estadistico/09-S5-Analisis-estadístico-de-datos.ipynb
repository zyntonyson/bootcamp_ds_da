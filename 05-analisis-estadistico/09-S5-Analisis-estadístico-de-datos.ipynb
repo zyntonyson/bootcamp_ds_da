{
 "cells": [
  {
   "cell_type": "markdown",
   "metadata": {
    "id": "phmXc7ra7wuJ"
   },
   "source": [
    "## Configuración del notebook"
   ]
  },
  {
   "cell_type": "code",
   "execution_count": null,
   "metadata": {
    "id": "9FbUgncci_Ym"
   },
   "outputs": [],
   "source": [
    "import pandas as pd\n",
    "import matplotlib.pyplot as plt\n",
    "import seaborn as sns\n",
    "import numpy as np"
   ]
  },
  {
   "cell_type": "markdown",
   "metadata": {
    "id": "fCjDb1e4f60y"
   },
   "source": [
    "## 🔢 Variables Discretas y Continuas\n",
    "\n"
   ]
  },
  {
   "cell_type": "markdown",
   "metadata": {
    "id": "IK_hSJVthfWV"
   },
   "source": [
    "### 📌 Variables Discretas\n",
    "**Definición:**  \n",
    "Toman valores enteros y contables. (**Pueden contarse**)\n",
    "\n",
    "\n",
    "**Ejemplos:**\n",
    "- 🎓 Número de estudiantes en un salón  \n",
    "- 🎲 Número que cae en un dado  \n",
    "- 🏆 Cantidad de premios ganados  \n",
    "- 📦 Número de productos en inventario  \n",
    "\n",
    "---\n",
    "\n",
    "### 📈 Variables Continuas\n",
    "**Definición:**  \n",
    "Pueden tomar cualquier valor en un rango. (**Pueden medirse**)\n",
    "\n",
    "\n",
    "**Ejemplos:**\n",
    "- 📏 Altura de una persona (ej. 1.75 m)  \n",
    "- 💸 Precio de un producto (ej. \\$99.99)  \n",
    "- ⏱ Tiempo en correr 100m (ej. 10.45 s)  \n",
    "- 🌡 Temperatura ambiente (ej. 22.6 °C)  "
   ]
  },
  {
   "cell_type": "markdown",
   "metadata": {
    "id": "7y08J1dmiwkD"
   },
   "source": [
    "## Histogramas y gráficos de densidad\n"
   ]
  },
  {
   "cell_type": "markdown",
   "metadata": {
    "id": "kvNqs_rYkeXu"
   },
   "source": [
    " 📊  Histograma vs KDE\n",
    "\n",
    "| Característica                  | Histograma 🟦                           | KDE 📈                                      |\n",
    "|--------------------------------|----------------------------------------|---------------------------------------------|\n",
    "| **Tipo de visualización**      | Barras por intervalos (bins)           | Curva continua que suaviza la distribución  |\n",
    "| **Dependencia del parámetro**  | Sensible al número y tamaño de los bins| Sensible al ancho de banda (bandwidth)      |\n",
    "| **Precisión de la forma**      | Aproximada, puede verse segmentada     | Más precisa, revela patrones suaves         |\n",
    "| **Interpretación del eje Y**   | Frecuencia (o densidad si se especifica)| Densidad de probabilidad                    |\n",
    "| **Uso recomendado**            | Exploración inicial o variables discretas| Comparación de distribuciones continuas     |"
   ]
  },
  {
   "cell_type": "markdown",
   "metadata": {
    "id": "GQ6DsosGi2Hh"
   },
   "source": [
    "#### 🛍️ Análisis de Tiempos de Compra\n",
    "\n",
    "Trabajas como analista de datos en una tienda en línea. El equipo de producto ha lanzado recientemente una nueva interfaz para el carrito de compras, con el objetivo de mejorar la experiencia del usuario.\n",
    "\n",
    "Para evaluar si la nueva interfaz está resultando más intuitiva, te han solicitado analizar los tiempos que tardan los clientes en completar una compra, desde que inician el proceso hasta que finalizan el pedido.\n",
    "\n",
    "Tu equipo ha recolectado los tiempos (en segundos) de 50 clientes que usaron la nueva versión del sitio. Es momento de analizar esta información usando histogramas y gráficos de densidad.\n",
    "\n",
    "---\n",
    "\n",
    "##### 🎯 Objetivo del Análisis\n",
    "\n",
    "- Visualizar la distribución de los tiempos de compra.\n",
    "- Detectar posibles patrones, sesgos o tiempos anómalos.\n",
    "- Comparar visualmente la frecuencia de los tiempos con su densidad.\n",
    "\n",
    "---\n",
    "\n",
    "##### 🧠 Preguntas para Reflexionar\n",
    "\n",
    "1. 🧮 ¿Qué forma tiene la distribución de los tiempos en el histograma?\n",
    "2. 🎯 ¿Cuál es el intervalo de tiempo más frecuente?\n",
    "3. 📉 ¿Qué ventajas aporta el gráfico de densidad (KDE) respecto al histograma?\n",
    "4. 🔍 ¿La distribución parece simétrica o presenta sesgo hacia algún lado?\n",
    "5. 🤔 Si tuvieras que proponer una mejora, ¿dónde enfocarías tus esfuerzos?\n",
    "---"
   ]
  },
  {
   "cell_type": "code",
   "execution_count": 1,
   "metadata": {},
   "outputs": [],
   "source": [
    "import pandas as pd\n",
    "import matplotlib.pyplot as plt\n",
    "import seaborn as sns"
   ]
  },
  {
   "cell_type": "code",
   "execution_count": 6,
   "metadata": {},
   "outputs": [],
   "source": [
    "PATH =\"https://raw.githubusercontent.com/zyntonyson/bootcamp_ds_da/refs/heads/main/datasets/tiempos_compras_raw.csv\"\n",
    "versiones = pd.read_csv(PATH)"
   ]
  },
  {
   "cell_type": "code",
   "execution_count": 7,
   "metadata": {},
   "outputs": [],
   "source": [
    "# Imputar datos faltantes\n",
    "versiones['tiempo'] = versiones['tiempo'].fillna(versiones['tiempo'].mean())"
   ]
  },
  {
   "cell_type": "code",
   "execution_count": 14,
   "metadata": {
    "colab": {
     "base_uri": "https://localhost:8080/",
     "height": 487
    },
    "executionInfo": {
     "elapsed": 260,
     "status": "ok",
     "timestamp": 1745368797554,
     "user": {
      "displayName": "Roman Castillo",
      "userId": "03738236345711029424"
     },
     "user_tz": 360
    },
    "id": "GBrsiLUEi158",
    "outputId": "97e56c7d-0318-41d9-bf4d-983fe6e1ce3a"
   },
   "outputs": [
    {
     "data": {
      "image/png": "[encoded data removed]",
      "text/plain": [
       "<Figure size 1000x500 with 1 Axes>"
      ]
     },
     "metadata": {},
     "output_type": "display_data"
    }
   ],
   "source": [
    "# 📊 Histograma con intervalos personalizados\n",
    "bins = list(range(35, 55, 2))  # Intervalos de 3 entre 35 y 55\n",
    "plt.figure(figsize=(10, 5))\n",
    "\n",
    "plt.hist(versiones['tiempo'], bins=bins, alpha=0.4, edgecolor='black',label='Bin personalizado (lista)')\n",
    "plt.hist(versiones['tiempo'], bins=5, alpha=0.4, edgecolor='black', label='Bin personalizado')\n",
    "plt.title(\"⏱️ Tiempo de Compra - Histograma de Frecuencia\")\n",
    "plt.legend()\n",
    "plt.xlabel(\"Segundos\")\n",
    "plt.ylabel(\"Frecuencia\")\n",
    "plt.grid(axis='y')\n",
    "plt.show()\n",
    "\n"
   ]
  },
  {
   "cell_type": "code",
   "execution_count": 12,
   "metadata": {
    "colab": {
     "base_uri": "https://localhost:8080/",
     "height": 523
    },
    "executionInfo": {
     "elapsed": 357,
     "status": "ok",
     "timestamp": 1745368802132,
     "user": {
      "displayName": "Roman Castillo",
      "userId": "03738236345711029424"
     },
     "user_tz": 360
    },
    "id": "HvTdV6DRCsfH",
    "outputId": "ce60fe2f-86ef-4014-edb4-bbe16c56de64"
   },
   "outputs": [
    {
     "name": "stderr",
     "output_type": "stream",
     "text": [
      "c:\\Users\\roman\\Documents\\proyectos\\tripleten\\bootcamp_ds_da\\.venv\\Lib\\site-packages\\IPython\\core\\pylabtools.py:170: UserWarning: Glyph 128200 (\\N{CHART WITH UPWARDS TREND}) missing from font(s) DejaVu Sans.\n",
      "  fig.canvas.print_figure(bytes_io, **kw)\n"
     ]
    },
    {
     "data": {
      "image/png": "[encoded data removed]",
      "text/plain": [
       "<Figure size 1000x500 with 1 Axes>"
      ]
     },
     "metadata": {},
     "output_type": "display_data"
    }
   ],
   "source": [
    "# 📈 Gráfico de densidad (KDE)\n",
    "plt.figure(figsize=(10, 5))\n",
    "sns.kdeplot(versiones['tiempo'], fill=True, color='skyblue')\n",
    "plt.title(\"📈 Distribución de Tiempos de Compra - KDE\")\n",
    "plt.xlabel(\"Segundos\")\n",
    "plt.ylabel(\"Densidad\")\n",
    "plt.grid()\n",
    "plt.show()"
   ]
  },
  {
   "cell_type": "markdown",
   "metadata": {},
   "source": [
    "## 📚 Resumen de conceptos clave: Estadística Descriptiva\n",
    "\n",
    "### Medidas de tendencial central y dispersión\n",
    "\n",
    "#### 1. 📏 Media y Mediana (Medidas de posición)\n",
    "- **Media**: Promedio de los datos. Sensible a valores atípicos.\n",
    "- **Mediana**: Valor central. No se ve afectada por extremos.\n",
    "\n",
    "#### 2. 📊 Varianza\n",
    "- Mide la dispersión promedio al **elevar al cuadrado** la distancia de cada valor respecto a la media.\n",
    "- Una varianza alta indica que los datos están muy dispersos.\n",
    "\n",
    "#### 3. 📉 Desviación Estándar\n",
    "- Es la raíz cuadrada de la varianza, con las **mismas unidades** que los datos originales.\n",
    "- Muy útil para interpretar la variabilidad de los datos y definir rangos de normalidad."
   ]
  },
  {
   "cell_type": "code",
   "execution_count": 16,
   "metadata": {},
   "outputs": [
    {
     "data": {
      "text/html": [
       "<div>\n",
       "<style scoped>\n",
       "    .dataframe tbody tr th:only-of-type {\n",
       "        vertical-align: middle;\n",
       "    }\n",
       "\n",
       "    .dataframe tbody tr th {\n",
       "        vertical-align: top;\n",
       "    }\n",
       "\n",
       "    .dataframe thead th {\n",
       "        text-align: right;\n",
       "    }\n",
       "</style>\n",
       "<table border=\"1\" class=\"dataframe\">\n",
       "  <thead>\n",
       "    <tr style=\"text-align: right;\">\n",
       "      <th></th>\n",
       "      <th>Version</th>\n",
       "      <th>tiempo</th>\n",
       "      <th>clics</th>\n",
       "      <th>id</th>\n",
       "    </tr>\n",
       "  </thead>\n",
       "  <tbody>\n",
       "    <tr>\n",
       "      <th>count</th>\n",
       "      <td>291.000000</td>\n",
       "      <td>293.000000</td>\n",
       "      <td>278.000000</td>\n",
       "      <td>281.000000</td>\n",
       "    </tr>\n",
       "    <tr>\n",
       "      <th>mean</th>\n",
       "      <td>1.861856</td>\n",
       "      <td>45.354695</td>\n",
       "      <td>6.075540</td>\n",
       "      <td>15.174377</td>\n",
       "    </tr>\n",
       "    <tr>\n",
       "      <th>std</th>\n",
       "      <td>0.149788</td>\n",
       "      <td>3.216640</td>\n",
       "      <td>2.260486</td>\n",
       "      <td>7.472917</td>\n",
       "    </tr>\n",
       "    <tr>\n",
       "      <th>min</th>\n",
       "      <td>1.700000</td>\n",
       "      <td>33.599215</td>\n",
       "      <td>0.000000</td>\n",
       "      <td>2.000000</td>\n",
       "    </tr>\n",
       "    <tr>\n",
       "      <th>25%</th>\n",
       "      <td>1.700000</td>\n",
       "      <td>43.531064</td>\n",
       "      <td>4.000000</td>\n",
       "      <td>9.000000</td>\n",
       "    </tr>\n",
       "    <tr>\n",
       "      <th>50%</th>\n",
       "      <td>2.000000</td>\n",
       "      <td>45.354695</td>\n",
       "      <td>6.000000</td>\n",
       "      <td>15.000000</td>\n",
       "    </tr>\n",
       "    <tr>\n",
       "      <th>75%</th>\n",
       "      <td>2.000000</td>\n",
       "      <td>47.076171</td>\n",
       "      <td>7.000000</td>\n",
       "      <td>22.000000</td>\n",
       "    </tr>\n",
       "    <tr>\n",
       "      <th>max</th>\n",
       "      <td>2.000000</td>\n",
       "      <td>55.192093</td>\n",
       "      <td>15.000000</td>\n",
       "      <td>27.000000</td>\n",
       "    </tr>\n",
       "  </tbody>\n",
       "</table>\n",
       "</div>"
      ],
      "text/plain": [
       "          Version      tiempo       clics          id\n",
       "count  291.000000  293.000000  278.000000  281.000000\n",
       "mean     1.861856   45.354695    6.075540   15.174377\n",
       "std      0.149788    3.216640    2.260486    7.472917\n",
       "min      1.700000   33.599215    0.000000    2.000000\n",
       "25%      1.700000   43.531064    4.000000    9.000000\n",
       "50%      2.000000   45.354695    6.000000   15.000000\n",
       "75%      2.000000   47.076171    7.000000   22.000000\n",
       "max      2.000000   55.192093   15.000000   27.000000"
      ]
     },
     "execution_count": 16,
     "metadata": {},
     "output_type": "execute_result"
    }
   ],
   "source": [
    "versiones.describe()"
   ]
  },
  {
   "cell_type": "code",
   "execution_count": 18,
   "metadata": {},
   "outputs": [
    {
     "name": "stdout",
     "output_type": "stream",
     "text": [
      "Media: 45.35469501754789\n",
      "Mediana: 45.3546950175479\n",
      "Moda: [45.35469502]\n",
      "Desviación estándar: 3.216639667306941\n",
      "Varianza: 10.346770749292508\n",
      "Mínimo: 33.5992151\n",
      "Máximo: 55.19209301\n",
      "Rango: 21.59287791\n"
     ]
    }
   ],
   "source": [
    "\n",
    "# Medidas de tendencia central\n",
    "print(f\"Media: {versiones['tiempo'].mean()}\")\n",
    "print(f\"Mediana: {versiones['tiempo'].median()}\")\n",
    "print(f\"Moda: {versiones['tiempo'].mode().values}\")\n",
    "\n",
    "# Medidas de dispersión\n",
    "print(f\"Desviación estándar: {versiones['tiempo'].std()}\")\n",
    "print(f\"Varianza: {versiones['tiempo'].var()}\")\n",
    "print(f\"Mínimo: {versiones['tiempo'].min()}\")\n",
    "print(f\"Máximo: {versiones['tiempo'].max()}\")\n",
    "print(f\"Rango: {versiones['tiempo'].max() - versiones['tiempo'].min()}\")"
   ]
  },
  {
   "cell_type": "markdown",
   "metadata": {
    "id": "mXIv7DpwndWD"
   },
   "source": [
    "\n",
    "\n",
    "### 4. 🛎 Distribución Normal y la Regla de las 3 Sigmas\n",
    "- Distribución simétrica en forma de campana.\n",
    "- **Regla**:\n",
    "  - 68% de los valores dentro de ±1σ\n",
    "  - 95% dentro de ±2σ\n",
    "  - 99.7% dentro de ±3σ\n",
    "\n",
    "#### 5. 📦 Cuartiles e IQR (Rango Intercuartílico)\n",
    "- Q1: percentil 25, Q2: mediana (50%), Q3: percentil 75.\n",
    "- **IQR = Q3 - Q1**, describe la dispersión del 50% central de los datos.\n",
    "\n",
    "#### 6. 🚨 Valores Atípicos (Outliers)\n",
    "- Puntos fuera de **1.5 × IQR** desde Q1 o Q3.\n",
    "- Su detección es fundamental para entender desviaciones o errores en los datos.\n",
    "\n",
    "#### 7. ↕️ Sesgo (Asimetría)\n",
    "- **Sesgo positivo (derecha)**: Media > Mediana.\n",
    "- **Sesgo negativo (izquierda)**: Media < Mediana.\n",
    "- Puede detectarse visualmente en histogramas o boxplots.\n",
    "\n",
    "#### 8. 🔗 Covarianza\n",
    "- Mide cómo **varían conjuntamente** dos variables.\n",
    "  - Positiva: ambas suben o bajan juntas.\n",
    "  - Negativa: cuando una sube, la otra baja.\n",
    "  - Cero: no hay relación lineal clara.\n",
    "\n"
   ]
  },
  {
   "cell_type": "markdown",
   "metadata": {
    "id": "Z76hw1tGx8hc"
   },
   "source": [
    "### 🛍️ Análisis Estadístico de Tiempos de Compra\n",
    "\n",
    "\n",
    "Para evaluar si la nueva interfaz está resultando más intuitiva, has recibido un conjunto de datos con información sobre el tiempo (en segundos) que tardaron los usuarios en completar su compra, y la cantidad de clics que realizaron durante el proceso.\n",
    "\n",
    "Tu tarea es realizar un análisis estadístico comparando la versión anterior y la nueva de la interfaz.\n",
    "\n",
    "---\n"
   ]
  },
  {
   "cell_type": "markdown",
   "metadata": {
    "id": "ixKwtF35yX87"
   },
   "source": [
    "\n",
    "##### 1. Cargar y explorar los datos\n",
    "- Carga el archivo `tiempos_compras.csv`.\n",
    "- Muestra los primeros registros.\n",
    "- Verifica los tipos de datos\n"
   ]
  },
  {
   "cell_type": "markdown",
   "metadata": {
    "id": "tgFFGp3Biumm"
   },
   "source": []
  },
  {
   "cell_type": "code",
   "execution_count": null,
   "metadata": {
    "id": "NcTkrwfWxEf-"
   },
   "outputs": [],
   "source": [
    "# Datos en GSheet https://docs.google.com/spreadsheets/d/1Xio5D36BUWOYrsT-0t6mBnLvG_DmjS9xPWpXKobI2qI/edit?usp=sharing\n",
    "\n",
    "PATH=\"/content/drive/MyDrive/datasets/tiempos_compras.csv\"\n",
    "\n",
    "tiempos_compras=pd.read_csv(PATH)"
   ]
  },
  {
   "cell_type": "code",
   "execution_count": null,
   "metadata": {
    "colab": {
     "base_uri": "https://localhost:8080/",
     "height": 423
    },
    "executionInfo": {
     "elapsed": 28,
     "status": "ok",
     "timestamp": 1745370716982,
     "user": {
      "displayName": "Roman Castillo",
      "userId": "03738236345711029424"
     },
     "user_tz": 360
    },
    "id": "hpUlVUcq0gJG",
    "outputId": "956567fb-1807-44ac-a53d-0765b8a2b9e6"
   },
   "outputs": [
    {
     "data": {
      "application/vnd.google.colaboratory.intrinsic+json": {
       "summary": "{\n  \"name\": \"tiempos_compras\",\n  \"rows\": 200,\n  \"fields\": [\n    {\n      \"column\": \"Version\",\n      \"properties\": {\n        \"dtype\": \"number\",\n        \"std\": 0.15018832399130283,\n        \"min\": 1.7,\n        \"max\": 2.0,\n        \"num_unique_values\": 2,\n        \"samples\": [\n          1.7,\n          2.0\n        ],\n        \"semantic_type\": \"\",\n        \"description\": \"\"\n      }\n    },\n    {\n      \"column\": \"tiempo\",\n      \"properties\": {\n        \"dtype\": \"number\",\n        \"std\": 3.4892524389165236,\n        \"min\": 33.59921509557856,\n        \"max\": 55.19209301236474,\n        \"num_unique_values\": 200,\n        \"samples\": [\n          41.01711846332347,\n          45.99676384673701\n        ],\n        \"semantic_type\": \"\",\n        \"description\": \"\"\n      }\n    },\n    {\n      \"column\": \"clics\",\n      \"properties\": {\n        \"dtype\": \"number\",\n        \"std\": 2,\n        \"min\": 0,\n        \"max\": 15,\n        \"num_unique_values\": 14,\n        \"samples\": [\n          3,\n          0\n        ],\n        \"semantic_type\": \"\",\n        \"description\": \"\"\n      }\n    }\n  ]\n}",
       "type": "dataframe",
       "variable_name": "tiempos_compras"
      },
      "text/html": [
       "\n",
       "  <div id=\"df-aca8e7aa-72dc-40e2-bdf5-da42908e0ded\" class=\"colab-df-container\">\n",
       "    <div>\n",
       "<style scoped>\n",
       "    .dataframe tbody tr th:only-of-type {\n",
       "        vertical-align: middle;\n",
       "    }\n",
       "\n",
       "    .dataframe tbody tr th {\n",
       "        vertical-align: top;\n",
       "    }\n",
       "\n",
       "    .dataframe thead th {\n",
       "        text-align: right;\n",
       "    }\n",
       "</style>\n",
       "<table border=\"1\" class=\"dataframe\">\n",
       "  <thead>\n",
       "    <tr style=\"text-align: right;\">\n",
       "      <th></th>\n",
       "      <th>Version</th>\n",
       "      <th>tiempo</th>\n",
       "      <th>clics</th>\n",
       "    </tr>\n",
       "  </thead>\n",
       "  <tbody>\n",
       "    <tr>\n",
       "      <th>0</th>\n",
       "      <td>2.0</td>\n",
       "      <td>46.694241</td>\n",
       "      <td>7</td>\n",
       "    </tr>\n",
       "    <tr>\n",
       "      <th>1</th>\n",
       "      <td>2.0</td>\n",
       "      <td>43.593430</td>\n",
       "      <td>6</td>\n",
       "    </tr>\n",
       "    <tr>\n",
       "      <th>2</th>\n",
       "      <td>2.0</td>\n",
       "      <td>42.203941</td>\n",
       "      <td>7</td>\n",
       "    </tr>\n",
       "    <tr>\n",
       "      <th>3</th>\n",
       "      <td>1.7</td>\n",
       "      <td>47.009559</td>\n",
       "      <td>7</td>\n",
       "    </tr>\n",
       "    <tr>\n",
       "      <th>4</th>\n",
       "      <td>2.0</td>\n",
       "      <td>49.451823</td>\n",
       "      <td>4</td>\n",
       "    </tr>\n",
       "    <tr>\n",
       "      <th>...</th>\n",
       "      <td>...</td>\n",
       "      <td>...</td>\n",
       "      <td>...</td>\n",
       "    </tr>\n",
       "    <tr>\n",
       "      <th>195</th>\n",
       "      <td>1.7</td>\n",
       "      <td>44.557720</td>\n",
       "      <td>9</td>\n",
       "    </tr>\n",
       "    <tr>\n",
       "      <th>196</th>\n",
       "      <td>2.0</td>\n",
       "      <td>48.433858</td>\n",
       "      <td>5</td>\n",
       "    </tr>\n",
       "    <tr>\n",
       "      <th>197</th>\n",
       "      <td>1.7</td>\n",
       "      <td>42.307361</td>\n",
       "      <td>7</td>\n",
       "    </tr>\n",
       "    <tr>\n",
       "      <th>198</th>\n",
       "      <td>1.7</td>\n",
       "      <td>46.536161</td>\n",
       "      <td>4</td>\n",
       "    </tr>\n",
       "    <tr>\n",
       "      <th>199</th>\n",
       "      <td>2.0</td>\n",
       "      <td>47.464683</td>\n",
       "      <td>7</td>\n",
       "    </tr>\n",
       "  </tbody>\n",
       "</table>\n",
       "<p>200 rows × 3 columns</p>\n",
       "</div>\n",
       "    <div class=\"colab-df-buttons\">\n",
       "\n",
       "  <div class=\"colab-df-container\">\n",
       "    <button class=\"colab-df-convert\" onclick=\"convertToInteractive('df-aca8e7aa-72dc-40e2-bdf5-da42908e0ded')\"\n",
       "            title=\"Convert this dataframe to an interactive table.\"\n",
       "            style=\"display:none;\">\n",
       "\n",
       "  <svg xmlns=\"http://www.w3.org/2000/svg\" height=\"24px\" viewBox=\"0 -960 960 960\">\n",
       "    <path d=\"M120-120v-720h720v720H120Zm60-500h600v-160H180v160Zm220 220h160v-160H400v160Zm0 220h160v-160H400v160ZM180-400h160v-160H180v160Zm440 0h160v-160H620v160ZM180-180h160v-160H180v160Zm440 0h160v-160H620v160Z\"/>\n",
       "  </svg>\n",
       "    </button>\n",
       "\n",
       "  <style>\n",
       "    .colab-df-container {\n",
       "      display:flex;\n",
       "      gap: 12px;\n",
       "    }\n",
       "\n",
       "    .colab-df-convert {\n",
       "      background-color: #E8F0FE;\n",
       "      border: none;\n",
       "      border-radius: 50%;\n",
       "      cursor: pointer;\n",
       "      display: none;\n",
       "      fill: #1967D2;\n",
       "      height: 32px;\n",
       "      padding: 0 0 0 0;\n",
       "      width: 32px;\n",
       "    }\n",
       "\n",
       "    .colab-df-convert:hover {\n",
       "      background-color: #E2EBFA;\n",
       "      box-shadow: 0px 1px 2px rgba(60, 64, 67, 0.3), 0px 1px 3px 1px rgba(60, 64, 67, 0.15);\n",
       "      fill: #174EA6;\n",
       "    }\n",
       "\n",
       "    .colab-df-buttons div {\n",
       "      margin-bottom: 4px;\n",
       "    }\n",
       "\n",
       "    [theme=dark] .colab-df-convert {\n",
       "      background-color: #3B4455;\n",
       "      fill: #D2E3FC;\n",
       "    }\n",
       "\n",
       "    [theme=dark] .colab-df-convert:hover {\n",
       "      background-color: #434B5C;\n",
       "      box-shadow: 0px 1px 3px 1px rgba(0, 0, 0, 0.15);\n",
       "      filter: drop-shadow(0px 1px 2px rgba(0, 0, 0, 0.3));\n",
       "      fill: #FFFFFF;\n",
       "    }\n",
       "  </style>\n",
       "\n",
       "    <script>\n",
       "      const buttonEl =\n",
       "        document.querySelector('#df-aca8e7aa-72dc-40e2-bdf5-da42908e0ded button.colab-df-convert');\n",
       "      buttonEl.style.display =\n",
       "        google.colab.kernel.accessAllowed ? 'block' : 'none';\n",
       "\n",
       "      async function convertToInteractive(key) {\n",
       "        const element = document.querySelector('#df-aca8e7aa-72dc-40e2-bdf5-da42908e0ded');\n",
       "        const dataTable =\n",
       "          await google.colab.kernel.invokeFunction('convertToInteractive',\n",
       "                                                    [key], {});\n",
       "        if (!dataTable) return;\n",
       "\n",
       "        const docLinkHtml = 'Like what you see? Visit the ' +\n",
       "          '<a target=\"_blank\" href=https://colab.research.google.com/notebooks/data_table.ipynb>data table notebook</a>'\n",
       "          + ' to learn more about interactive tables.';\n",
       "        element.innerHTML = '';\n",
       "        dataTable['output_type'] = 'display_data';\n",
       "        await google.colab.output.renderOutput(dataTable, element);\n",
       "        const docLink = document.createElement('div');\n",
       "        docLink.innerHTML = docLinkHtml;\n",
       "        element.appendChild(docLink);\n",
       "      }\n",
       "    </script>\n",
       "  </div>\n",
       "\n",
       "\n",
       "<div id=\"df-e81b5936-8c3e-4d2d-9e11-1da566e0d9ca\">\n",
       "  <button class=\"colab-df-quickchart\" onclick=\"quickchart('df-e81b5936-8c3e-4d2d-9e11-1da566e0d9ca')\"\n",
       "            title=\"Suggest charts\"\n",
       "            style=\"display:none;\">\n",
       "\n",
       "<svg xmlns=\"http://www.w3.org/2000/svg\" height=\"24px\"viewBox=\"0 0 24 24\"\n",
       "     width=\"24px\">\n",
       "    <g>\n",
       "        <path d=\"M19 3H5c-1.1 0-2 .9-2 2v14c0 1.1.9 2 2 2h14c1.1 0 2-.9 2-2V5c0-1.1-.9-2-2-2zM9 17H7v-7h2v7zm4 0h-2V7h2v10zm4 0h-2v-4h2v4z\"/>\n",
       "    </g>\n",
       "</svg>\n",
       "  </button>\n",
       "\n",
       "<style>\n",
       "  .colab-df-quickchart {\n",
       "      --bg-color: #E8F0FE;\n",
       "      --fill-color: #1967D2;\n",
       "      --hover-bg-color: #E2EBFA;\n",
       "      --hover-fill-color: #174EA6;\n",
       "      --disabled-fill-color: #AAA;\n",
       "      --disabled-bg-color: #DDD;\n",
       "  }\n",
       "\n",
       "  [theme=dark] .colab-df-quickchart {\n",
       "      --bg-color: #3B4455;\n",
       "      --fill-color: #D2E3FC;\n",
       "      --hover-bg-color: #434B5C;\n",
       "      --hover-fill-color: #FFFFFF;\n",
       "      --disabled-bg-color: #3B4455;\n",
       "      --disabled-fill-color: #666;\n",
       "  }\n",
       "\n",
       "  .colab-df-quickchart {\n",
       "    background-color: var(--bg-color);\n",
       "    border: none;\n",
       "    border-radius: 50%;\n",
       "    cursor: pointer;\n",
       "    display: none;\n",
       "    fill: var(--fill-color);\n",
       "    height: 32px;\n",
       "    padding: 0;\n",
       "    width: 32px;\n",
       "  }\n",
       "\n",
       "  .colab-df-quickchart:hover {\n",
       "    background-color: var(--hover-bg-color);\n",
       "    box-shadow: 0 1px 2px rgba(60, 64, 67, 0.3), 0 1px 3px 1px rgba(60, 64, 67, 0.15);\n",
       "    fill: var(--button-hover-fill-color);\n",
       "  }\n",
       "\n",
       "  .colab-df-quickchart-complete:disabled,\n",
       "  .colab-df-quickchart-complete:disabled:hover {\n",
       "    background-color: var(--disabled-bg-color);\n",
       "    fill: var(--disabled-fill-color);\n",
       "    box-shadow: none;\n",
       "  }\n",
       "\n",
       "  .colab-df-spinner {\n",
       "    border: 2px solid var(--fill-color);\n",
       "    border-color: transparent;\n",
       "    border-bottom-color: var(--fill-color);\n",
       "    animation:\n",
       "      spin 1s steps(1) infinite;\n",
       "  }\n",
       "\n",
       "  @keyframes spin {\n",
       "    0% {\n",
       "      border-color: transparent;\n",
       "      border-bottom-color: var(--fill-color);\n",
       "      border-left-color: var(--fill-color);\n",
       "    }\n",
       "    20% {\n",
       "      border-color: transparent;\n",
       "      border-left-color: var(--fill-color);\n",
       "      border-top-color: var(--fill-color);\n",
       "    }\n",
       "    30% {\n",
       "      border-color: transparent;\n",
       "      border-left-color: var(--fill-color);\n",
       "      border-top-color: var(--fill-color);\n",
       "      border-right-color: var(--fill-color);\n",
       "    }\n",
       "    40% {\n",
       "      border-color: transparent;\n",
       "      border-right-color: var(--fill-color);\n",
       "      border-top-color: var(--fill-color);\n",
       "    }\n",
       "    60% {\n",
       "      border-color: transparent;\n",
       "      border-right-color: var(--fill-color);\n",
       "    }\n",
       "    80% {\n",
       "      border-color: transparent;\n",
       "      border-right-color: var(--fill-color);\n",
       "      border-bottom-color: var(--fill-color);\n",
       "    }\n",
       "    90% {\n",
       "      border-color: transparent;\n",
       "      border-bottom-color: var(--fill-color);\n",
       "    }\n",
       "  }\n",
       "</style>\n",
       "\n",
       "  <script>\n",
       "    async function quickchart(key) {\n",
       "      const quickchartButtonEl =\n",
       "        document.querySelector('#' + key + ' button');\n",
       "      quickchartButtonEl.disabled = true;  // To prevent multiple clicks.\n",
       "      quickchartButtonEl.classList.add('colab-df-spinner');\n",
       "      try {\n",
       "        const charts = await google.colab.kernel.invokeFunction(\n",
       "            'suggestCharts', [key], {});\n",
       "      } catch (error) {\n",
       "        console.error('Error during call to suggestCharts:', error);\n",
       "      }\n",
       "      quickchartButtonEl.classList.remove('colab-df-spinner');\n",
       "      quickchartButtonEl.classList.add('colab-df-quickchart-complete');\n",
       "    }\n",
       "    (() => {\n",
       "      let quickchartButtonEl =\n",
       "        document.querySelector('#df-e81b5936-8c3e-4d2d-9e11-1da566e0d9ca button');\n",
       "      quickchartButtonEl.style.display =\n",
       "        google.colab.kernel.accessAllowed ? 'block' : 'none';\n",
       "    })();\n",
       "  </script>\n",
       "</div>\n",
       "\n",
       "  <div id=\"id_16d47bab-77ea-42f4-b621-4e57d189fecf\">\n",
       "    <style>\n",
       "      .colab-df-generate {\n",
       "        background-color: #E8F0FE;\n",
       "        border: none;\n",
       "        border-radius: 50%;\n",
       "        cursor: pointer;\n",
       "        display: none;\n",
       "        fill: #1967D2;\n",
       "        height: 32px;\n",
       "        padding: 0 0 0 0;\n",
       "        width: 32px;\n",
       "      }\n",
       "\n",
       "      .colab-df-generate:hover {\n",
       "        background-color: #E2EBFA;\n",
       "        box-shadow: 0px 1px 2px rgba(60, 64, 67, 0.3), 0px 1px 3px 1px rgba(60, 64, 67, 0.15);\n",
       "        fill: #174EA6;\n",
       "      }\n",
       "\n",
       "      [theme=dark] .colab-df-generate {\n",
       "        background-color: #3B4455;\n",
       "        fill: #D2E3FC;\n",
       "      }\n",
       "\n",
       "      [theme=dark] .colab-df-generate:hover {\n",
       "        background-color: #434B5C;\n",
       "        box-shadow: 0px 1px 3px 1px rgba(0, 0, 0, 0.15);\n",
       "        filter: drop-shadow(0px 1px 2px rgba(0, 0, 0, 0.3));\n",
       "        fill: #FFFFFF;\n",
       "      }\n",
       "    </style>\n",
       "    <button class=\"colab-df-generate\" onclick=\"generateWithVariable('tiempos_compras')\"\n",
       "            title=\"Generate code using this dataframe.\"\n",
       "            style=\"display:none;\">\n",
       "\n",
       "  <svg xmlns=\"http://www.w3.org/2000/svg\" height=\"24px\"viewBox=\"0 0 24 24\"\n",
       "       width=\"24px\">\n",
       "    <path d=\"M7,19H8.4L18.45,9,17,7.55,7,17.6ZM5,21V16.75L18.45,3.32a2,2,0,0,1,2.83,0l1.4,1.43a1.91,1.91,0,0,1,.58,1.4,1.91,1.91,0,0,1-.58,1.4L9.25,21ZM18.45,9,17,7.55Zm-12,3A5.31,5.31,0,0,0,4.9,8.1,5.31,5.31,0,0,0,1,6.5,5.31,5.31,0,0,0,4.9,4.9,5.31,5.31,0,0,0,6.5,1,5.31,5.31,0,0,0,8.1,4.9,5.31,5.31,0,0,0,12,6.5,5.46,5.46,0,0,0,6.5,12Z\"/>\n",
       "  </svg>\n",
       "    </button>\n",
       "    <script>\n",
       "      (() => {\n",
       "      const buttonEl =\n",
       "        document.querySelector('#id_16d47bab-77ea-42f4-b621-4e57d189fecf button.colab-df-generate');\n",
       "      buttonEl.style.display =\n",
       "        google.colab.kernel.accessAllowed ? 'block' : 'none';\n",
       "\n",
       "      buttonEl.onclick = () => {\n",
       "        google.colab.notebook.generateWithVariable('tiempos_compras');\n",
       "      }\n",
       "      })();\n",
       "    </script>\n",
       "  </div>\n",
       "\n",
       "    </div>\n",
       "  </div>\n"
      ],
      "text/plain": [
       "     Version     tiempo  clics\n",
       "0        2.0  46.694241      7\n",
       "1        2.0  43.593430      6\n",
       "2        2.0  42.203941      7\n",
       "3        1.7  47.009559      7\n",
       "4        2.0  49.451823      4\n",
       "..       ...        ...    ...\n",
       "195      1.7  44.557720      9\n",
       "196      2.0  48.433858      5\n",
       "197      1.7  42.307361      7\n",
       "198      1.7  46.536161      4\n",
       "199      2.0  47.464683      7\n",
       "\n",
       "[200 rows x 3 columns]"
      ]
     },
     "execution_count": 36,
     "metadata": {},
     "output_type": "execute_result"
    }
   ],
   "source": [
    "tiempos_compras"
   ]
  },
  {
   "cell_type": "code",
   "execution_count": null,
   "metadata": {
    "colab": {
     "base_uri": "https://localhost:8080/"
    },
    "executionInfo": {
     "elapsed": 6,
     "status": "ok",
     "timestamp": 1745370775141,
     "user": {
      "displayName": "Roman Castillo",
      "userId": "03738236345711029424"
     },
     "user_tz": 360
    },
    "id": "BlU1x8Kcpl15",
    "outputId": "85359798-5fb3-4690-cc84-eddd74155354"
   },
   "outputs": [
    {
     "name": "stdout",
     "output_type": "stream",
     "text": [
      "<class 'pandas.core.frame.DataFrame'>\n",
      "RangeIndex: 200 entries, 0 to 199\n",
      "Data columns (total 3 columns):\n",
      " #   Column   Non-Null Count  Dtype  \n",
      "---  ------   --------------  -----  \n",
      " 0   Version  200 non-null    float64\n",
      " 1   tiempo   200 non-null    float64\n",
      " 2   clics    200 non-null    int64  \n",
      "dtypes: float64(2), int64(1)\n",
      "memory usage: 4.8 KB\n"
     ]
    }
   ],
   "source": [
    "tiempos_compras.info()"
   ]
  },
  {
   "cell_type": "markdown",
   "metadata": {
    "id": "YBp_kn5wybgQ"
   },
   "source": [
    "---\n",
    "\n",
    "##### 2. Calcular medidas de posición\n",
    "- Calcula la **media** y la **mediana** del tiempo de compra para cada versión de la interfaz.\n",
    "- Interpreta si hay una diferencia notable entre ambas medidas en cada grupo.\n",
    "\n"
   ]
  },
  {
   "cell_type": "code",
   "execution_count": null,
   "metadata": {
    "colab": {
     "base_uri": "https://localhost:8080/",
     "height": 143
    },
    "executionInfo": {
     "elapsed": 44,
     "status": "ok",
     "timestamp": 1745370844865,
     "user": {
      "displayName": "Roman Castillo",
      "userId": "03738236345711029424"
     },
     "user_tz": 360
    },
    "id": "UwYjjnz2y-IW",
    "outputId": "2e04ddbf-c88e-45af-b0c8-1a0948cc3f66"
   },
   "outputs": [
    {
     "data": {
      "application/vnd.google.colaboratory.intrinsic+json": {
       "summary": "{\n  \"name\": \" )\",\n  \"rows\": 2,\n  \"fields\": [\n    {\n      \"column\": \"Version\",\n      \"properties\": {\n        \"dtype\": \"number\",\n        \"std\": 0.21213203435596428,\n        \"min\": 1.7,\n        \"max\": 2.0,\n        \"num_unique_values\": 2,\n        \"samples\": [\n          2.0,\n          1.7\n        ],\n        \"semantic_type\": \"\",\n        \"description\": \"\"\n      }\n    },\n    {\n      \"column\": \"media\",\n      \"properties\": {\n        \"dtype\": \"number\",\n        \"std\": 0.3608220158630036,\n        \"min\": 44.93419673148114,\n        \"max\": 45.4444761199174,\n        \"num_unique_values\": 2,\n        \"samples\": [\n          44.93419673148114,\n          45.4444761199174\n        ],\n        \"semantic_type\": \"\",\n        \"description\": \"\"\n      }\n    },\n    {\n      \"column\": \"mediana\",\n      \"properties\": {\n        \"dtype\": \"number\",\n        \"std\": 0.6118707904674809,\n        \"min\": 44.7769504377747,\n        \"max\": 45.64226640807376,\n        \"num_unique_values\": 2,\n        \"samples\": [\n          44.7769504377747,\n          45.64226640807376\n        ],\n        \"semantic_type\": \"\",\n        \"description\": \"\"\n      }\n    },\n    {\n      \"column\": \"min\",\n      \"properties\": {\n        \"dtype\": \"number\",\n        \"std\": 2.475782407502015,\n        \"min\": 33.59921509557856,\n        \"max\": 37.10050015375262,\n        \"num_unique_values\": 2,\n        \"samples\": [\n          37.10050015375262,\n          33.59921509557856\n        ],\n        \"semantic_type\": \"\",\n        \"description\": \"\"\n      }\n    },\n    {\n      \"column\": \"max\",\n      \"properties\": {\n        \"dtype\": \"number\",\n        \"std\": 1.804187486484809,\n        \"min\": 52.640586599914094,\n        \"max\": 55.19209301236474,\n        \"num_unique_values\": 2,\n        \"samples\": [\n          52.640586599914094,\n          55.19209301236474\n        ],\n        \"semantic_type\": \"\",\n        \"description\": \"\"\n      }\n    }\n  ]\n}",
       "type": "dataframe"
      },
      "text/html": [
       "\n",
       "  <div id=\"df-02a36e9a-a18b-4a48-b815-eff9527fbe8f\" class=\"colab-df-container\">\n",
       "    <div>\n",
       "<style scoped>\n",
       "    .dataframe tbody tr th:only-of-type {\n",
       "        vertical-align: middle;\n",
       "    }\n",
       "\n",
       "    .dataframe tbody tr th {\n",
       "        vertical-align: top;\n",
       "    }\n",
       "\n",
       "    .dataframe thead th {\n",
       "        text-align: right;\n",
       "    }\n",
       "</style>\n",
       "<table border=\"1\" class=\"dataframe\">\n",
       "  <thead>\n",
       "    <tr style=\"text-align: right;\">\n",
       "      <th></th>\n",
       "      <th>media</th>\n",
       "      <th>mediana</th>\n",
       "      <th>min</th>\n",
       "      <th>max</th>\n",
       "    </tr>\n",
       "    <tr>\n",
       "      <th>Version</th>\n",
       "      <th></th>\n",
       "      <th></th>\n",
       "      <th></th>\n",
       "      <th></th>\n",
       "    </tr>\n",
       "  </thead>\n",
       "  <tbody>\n",
       "    <tr>\n",
       "      <th>1.7</th>\n",
       "      <td>45.444476</td>\n",
       "      <td>45.642266</td>\n",
       "      <td>33.599215</td>\n",
       "      <td>55.192093</td>\n",
       "    </tr>\n",
       "    <tr>\n",
       "      <th>2.0</th>\n",
       "      <td>44.934197</td>\n",
       "      <td>44.776950</td>\n",
       "      <td>37.100500</td>\n",
       "      <td>52.640587</td>\n",
       "    </tr>\n",
       "  </tbody>\n",
       "</table>\n",
       "</div>\n",
       "    <div class=\"colab-df-buttons\">\n",
       "\n",
       "  <div class=\"colab-df-container\">\n",
       "    <button class=\"colab-df-convert\" onclick=\"convertToInteractive('df-02a36e9a-a18b-4a48-b815-eff9527fbe8f')\"\n",
       "            title=\"Convert this dataframe to an interactive table.\"\n",
       "            style=\"display:none;\">\n",
       "\n",
       "  <svg xmlns=\"http://www.w3.org/2000/svg\" height=\"24px\" viewBox=\"0 -960 960 960\">\n",
       "    <path d=\"M120-120v-720h720v720H120Zm60-500h600v-160H180v160Zm220 220h160v-160H400v160Zm0 220h160v-160H400v160ZM180-400h160v-160H180v160Zm440 0h160v-160H620v160ZM180-180h160v-160H180v160Zm440 0h160v-160H620v160Z\"/>\n",
       "  </svg>\n",
       "    </button>\n",
       "\n",
       "  <style>\n",
       "    .colab-df-container {\n",
       "      display:flex;\n",
       "      gap: 12px;\n",
       "    }\n",
       "\n",
       "    .colab-df-convert {\n",
       "      background-color: #E8F0FE;\n",
       "      border: none;\n",
       "      border-radius: 50%;\n",
       "      cursor: pointer;\n",
       "      display: none;\n",
       "      fill: #1967D2;\n",
       "      height: 32px;\n",
       "      padding: 0 0 0 0;\n",
       "      width: 32px;\n",
       "    }\n",
       "\n",
       "    .colab-df-convert:hover {\n",
       "      background-color: #E2EBFA;\n",
       "      box-shadow: 0px 1px 2px rgba(60, 64, 67, 0.3), 0px 1px 3px 1px rgba(60, 64, 67, 0.15);\n",
       "      fill: #174EA6;\n",
       "    }\n",
       "\n",
       "    .colab-df-buttons div {\n",
       "      margin-bottom: 4px;\n",
       "    }\n",
       "\n",
       "    [theme=dark] .colab-df-convert {\n",
       "      background-color: #3B4455;\n",
       "      fill: #D2E3FC;\n",
       "    }\n",
       "\n",
       "    [theme=dark] .colab-df-convert:hover {\n",
       "      background-color: #434B5C;\n",
       "      box-shadow: 0px 1px 3px 1px rgba(0, 0, 0, 0.15);\n",
       "      filter: drop-shadow(0px 1px 2px rgba(0, 0, 0, 0.3));\n",
       "      fill: #FFFFFF;\n",
       "    }\n",
       "  </style>\n",
       "\n",
       "    <script>\n",
       "      const buttonEl =\n",
       "        document.querySelector('#df-02a36e9a-a18b-4a48-b815-eff9527fbe8f button.colab-df-convert');\n",
       "      buttonEl.style.display =\n",
       "        google.colab.kernel.accessAllowed ? 'block' : 'none';\n",
       "\n",
       "      async function convertToInteractive(key) {\n",
       "        const element = document.querySelector('#df-02a36e9a-a18b-4a48-b815-eff9527fbe8f');\n",
       "        const dataTable =\n",
       "          await google.colab.kernel.invokeFunction('convertToInteractive',\n",
       "                                                    [key], {});\n",
       "        if (!dataTable) return;\n",
       "\n",
       "        const docLinkHtml = 'Like what you see? Visit the ' +\n",
       "          '<a target=\"_blank\" href=https://colab.research.google.com/notebooks/data_table.ipynb>data table notebook</a>'\n",
       "          + ' to learn more about interactive tables.';\n",
       "        element.innerHTML = '';\n",
       "        dataTable['output_type'] = 'display_data';\n",
       "        await google.colab.output.renderOutput(dataTable, element);\n",
       "        const docLink = document.createElement('div');\n",
       "        docLink.innerHTML = docLinkHtml;\n",
       "        element.appendChild(docLink);\n",
       "      }\n",
       "    </script>\n",
       "  </div>\n",
       "\n",
       "\n",
       "<div id=\"df-d16b2d71-06b2-4e48-926c-7fee81bacde8\">\n",
       "  <button class=\"colab-df-quickchart\" onclick=\"quickchart('df-d16b2d71-06b2-4e48-926c-7fee81bacde8')\"\n",
       "            title=\"Suggest charts\"\n",
       "            style=\"display:none;\">\n",
       "\n",
       "<svg xmlns=\"http://www.w3.org/2000/svg\" height=\"24px\"viewBox=\"0 0 24 24\"\n",
       "     width=\"24px\">\n",
       "    <g>\n",
       "        <path d=\"M19 3H5c-1.1 0-2 .9-2 2v14c0 1.1.9 2 2 2h14c1.1 0 2-.9 2-2V5c0-1.1-.9-2-2-2zM9 17H7v-7h2v7zm4 0h-2V7h2v10zm4 0h-2v-4h2v4z\"/>\n",
       "    </g>\n",
       "</svg>\n",
       "  </button>\n",
       "\n",
       "<style>\n",
       "  .colab-df-quickchart {\n",
       "      --bg-color: #E8F0FE;\n",
       "      --fill-color: #1967D2;\n",
       "      --hover-bg-color: #E2EBFA;\n",
       "      --hover-fill-color: #174EA6;\n",
       "      --disabled-fill-color: #AAA;\n",
       "      --disabled-bg-color: #DDD;\n",
       "  }\n",
       "\n",
       "  [theme=dark] .colab-df-quickchart {\n",
       "      --bg-color: #3B4455;\n",
       "      --fill-color: #D2E3FC;\n",
       "      --hover-bg-color: #434B5C;\n",
       "      --hover-fill-color: #FFFFFF;\n",
       "      --disabled-bg-color: #3B4455;\n",
       "      --disabled-fill-color: #666;\n",
       "  }\n",
       "\n",
       "  .colab-df-quickchart {\n",
       "    background-color: var(--bg-color);\n",
       "    border: none;\n",
       "    border-radius: 50%;\n",
       "    cursor: pointer;\n",
       "    display: none;\n",
       "    fill: var(--fill-color);\n",
       "    height: 32px;\n",
       "    padding: 0;\n",
       "    width: 32px;\n",
       "  }\n",
       "\n",
       "  .colab-df-quickchart:hover {\n",
       "    background-color: var(--hover-bg-color);\n",
       "    box-shadow: 0 1px 2px rgba(60, 64, 67, 0.3), 0 1px 3px 1px rgba(60, 64, 67, 0.15);\n",
       "    fill: var(--button-hover-fill-color);\n",
       "  }\n",
       "\n",
       "  .colab-df-quickchart-complete:disabled,\n",
       "  .colab-df-quickchart-complete:disabled:hover {\n",
       "    background-color: var(--disabled-bg-color);\n",
       "    fill: var(--disabled-fill-color);\n",
       "    box-shadow: none;\n",
       "  }\n",
       "\n",
       "  .colab-df-spinner {\n",
       "    border: 2px solid var(--fill-color);\n",
       "    border-color: transparent;\n",
       "    border-bottom-color: var(--fill-color);\n",
       "    animation:\n",
       "      spin 1s steps(1) infinite;\n",
       "  }\n",
       "\n",
       "  @keyframes spin {\n",
       "    0% {\n",
       "      border-color: transparent;\n",
       "      border-bottom-color: var(--fill-color);\n",
       "      border-left-color: var(--fill-color);\n",
       "    }\n",
       "    20% {\n",
       "      border-color: transparent;\n",
       "      border-left-color: var(--fill-color);\n",
       "      border-top-color: var(--fill-color);\n",
       "    }\n",
       "    30% {\n",
       "      border-color: transparent;\n",
       "      border-left-color: var(--fill-color);\n",
       "      border-top-color: var(--fill-color);\n",
       "      border-right-color: var(--fill-color);\n",
       "    }\n",
       "    40% {\n",
       "      border-color: transparent;\n",
       "      border-right-color: var(--fill-color);\n",
       "      border-top-color: var(--fill-color);\n",
       "    }\n",
       "    60% {\n",
       "      border-color: transparent;\n",
       "      border-right-color: var(--fill-color);\n",
       "    }\n",
       "    80% {\n",
       "      border-color: transparent;\n",
       "      border-right-color: var(--fill-color);\n",
       "      border-bottom-color: var(--fill-color);\n",
       "    }\n",
       "    90% {\n",
       "      border-color: transparent;\n",
       "      border-bottom-color: var(--fill-color);\n",
       "    }\n",
       "  }\n",
       "</style>\n",
       "\n",
       "  <script>\n",
       "    async function quickchart(key) {\n",
       "      const quickchartButtonEl =\n",
       "        document.querySelector('#' + key + ' button');\n",
       "      quickchartButtonEl.disabled = true;  // To prevent multiple clicks.\n",
       "      quickchartButtonEl.classList.add('colab-df-spinner');\n",
       "      try {\n",
       "        const charts = await google.colab.kernel.invokeFunction(\n",
       "            'suggestCharts', [key], {});\n",
       "      } catch (error) {\n",
       "        console.error('Error during call to suggestCharts:', error);\n",
       "      }\n",
       "      quickchartButtonEl.classList.remove('colab-df-spinner');\n",
       "      quickchartButtonEl.classList.add('colab-df-quickchart-complete');\n",
       "    }\n",
       "    (() => {\n",
       "      let quickchartButtonEl =\n",
       "        document.querySelector('#df-d16b2d71-06b2-4e48-926c-7fee81bacde8 button');\n",
       "      quickchartButtonEl.style.display =\n",
       "        google.colab.kernel.accessAllowed ? 'block' : 'none';\n",
       "    })();\n",
       "  </script>\n",
       "</div>\n",
       "\n",
       "    </div>\n",
       "  </div>\n"
      ],
      "text/plain": [
       "             media    mediana        min        max\n",
       "Version                                            \n",
       "1.7      45.444476  45.642266  33.599215  55.192093\n",
       "2.0      44.934197  44.776950  37.100500  52.640587"
      ]
     },
     "execution_count": 38,
     "metadata": {},
     "output_type": "execute_result"
    }
   ],
   "source": [
    "(tiempos_compras.groupby('Version')\n",
    "  .agg(\n",
    "      media=('tiempo','mean'),\n",
    "      mediana=('tiempo','median'),\n",
    "      min=('tiempo','min'),\n",
    "      max=('tiempo','max')\n",
    "  )\n",
    "\n",
    " )"
   ]
  },
  {
   "cell_type": "markdown",
   "metadata": {
    "id": "T6DymUlKyeu-"
   },
   "source": [
    "---\n",
    "\n",
    "##### 3. Calcular medidas de variabilidad\n",
    "- Calcula la **varianza** y la **desviación estándar** para cada grupo.\n",
    "- Compara la dispersión del tiempo de compra antes y después del rediseño.\n",
    "\n"
   ]
  },
  {
   "cell_type": "code",
   "execution_count": null,
   "metadata": {
    "colab": {
     "base_uri": "https://localhost:8080/",
     "height": 143
    },
    "executionInfo": {
     "elapsed": 33,
     "status": "ok",
     "timestamp": 1745371075548,
     "user": {
      "displayName": "Roman Castillo",
      "userId": "03738236345711029424"
     },
     "user_tz": 360
    },
    "id": "F5GbAKpLzegB",
    "outputId": "2319bfd1-9781-43f0-e5c5-befa983aae8a"
   },
   "outputs": [
    {
     "data": {
      "application/vnd.google.colaboratory.intrinsic+json": {
       "summary": "{\n  \"name\": \" )\",\n  \"rows\": 2,\n  \"fields\": [\n    {\n      \"column\": \"Version\",\n      \"properties\": {\n        \"dtype\": \"number\",\n        \"std\": 0.21213203435596428,\n        \"min\": 1.7,\n        \"max\": 2.0,\n        \"num_unique_values\": 2,\n        \"samples\": [\n          2.0,\n          1.7\n        ],\n        \"semantic_type\": \"\",\n        \"description\": \"\"\n      }\n    },\n    {\n      \"column\": \"media\",\n      \"properties\": {\n        \"dtype\": \"number\",\n        \"std\": 0.3608220158630036,\n        \"min\": 44.93419673148114,\n        \"max\": 45.4444761199174,\n        \"num_unique_values\": 2,\n        \"samples\": [\n          44.93419673148114,\n          45.4444761199174\n        ],\n        \"semantic_type\": \"\",\n        \"description\": \"\"\n      }\n    },\n    {\n      \"column\": \"mediana\",\n      \"properties\": {\n        \"dtype\": \"number\",\n        \"std\": 0.6118707904674809,\n        \"min\": 44.7769504377747,\n        \"max\": 45.64226640807376,\n        \"num_unique_values\": 2,\n        \"samples\": [\n          44.7769504377747,\n          45.64226640807376\n        ],\n        \"semantic_type\": \"\",\n        \"description\": \"\"\n      }\n    },\n    {\n      \"column\": \"min\",\n      \"properties\": {\n        \"dtype\": \"number\",\n        \"std\": 2.475782407502015,\n        \"min\": 33.59921509557856,\n        \"max\": 37.10050015375262,\n        \"num_unique_values\": 2,\n        \"samples\": [\n          37.10050015375262,\n          33.59921509557856\n        ],\n        \"semantic_type\": \"\",\n        \"description\": \"\"\n      }\n    },\n    {\n      \"column\": \"max\",\n      \"properties\": {\n        \"dtype\": \"number\",\n        \"std\": 1.804187486484809,\n        \"min\": 52.640586599914094,\n        \"max\": 55.19209301236474,\n        \"num_unique_values\": 2,\n        \"samples\": [\n          52.640586599914094,\n          55.19209301236474\n        ],\n        \"semantic_type\": \"\",\n        \"description\": \"\"\n      }\n    },\n    {\n      \"column\": \"std\",\n      \"properties\": {\n        \"dtype\": \"number\",\n        \"std\": 0.30767152129082376,\n        \"min\": 3.275323149111093,\n        \"max\": 3.7104363872765385,\n        \"num_unique_values\": 2,\n        \"samples\": [\n          3.275323149111093,\n          3.7104363872765385\n        ],\n        \"semantic_type\": \"\",\n        \"description\": \"\"\n      }\n    },\n    {\n      \"column\": \"var\",\n      \"properties\": {\n        \"dtype\": \"number\",\n        \"std\": 2.1493192639322625,\n        \"min\": 10.727741731103007,\n        \"max\": 13.767338184025771,\n        \"num_unique_values\": 2,\n        \"samples\": [\n          10.727741731103007,\n          13.767338184025771\n        ],\n        \"semantic_type\": \"\",\n        \"description\": \"\"\n      }\n    }\n  ]\n}",
       "type": "dataframe"
      },
      "text/html": [
       "\n",
       "  <div id=\"df-a2d77056-cf0d-4188-b539-eee6022ec000\" class=\"colab-df-container\">\n",
       "    <div>\n",
       "<style scoped>\n",
       "    .dataframe tbody tr th:only-of-type {\n",
       "        vertical-align: middle;\n",
       "    }\n",
       "\n",
       "    .dataframe tbody tr th {\n",
       "        vertical-align: top;\n",
       "    }\n",
       "\n",
       "    .dataframe thead th {\n",
       "        text-align: right;\n",
       "    }\n",
       "</style>\n",
       "<table border=\"1\" class=\"dataframe\">\n",
       "  <thead>\n",
       "    <tr style=\"text-align: right;\">\n",
       "      <th></th>\n",
       "      <th>media</th>\n",
       "      <th>mediana</th>\n",
       "      <th>min</th>\n",
       "      <th>max</th>\n",
       "      <th>std</th>\n",
       "      <th>var</th>\n",
       "    </tr>\n",
       "    <tr>\n",
       "      <th>Version</th>\n",
       "      <th></th>\n",
       "      <th></th>\n",
       "      <th></th>\n",
       "      <th></th>\n",
       "      <th></th>\n",
       "      <th></th>\n",
       "    </tr>\n",
       "  </thead>\n",
       "  <tbody>\n",
       "    <tr>\n",
       "      <th>1.7</th>\n",
       "      <td>45.444476</td>\n",
       "      <td>45.642266</td>\n",
       "      <td>33.599215</td>\n",
       "      <td>55.192093</td>\n",
       "      <td>3.710436</td>\n",
       "      <td>13.767338</td>\n",
       "    </tr>\n",
       "    <tr>\n",
       "      <th>2.0</th>\n",
       "      <td>44.934197</td>\n",
       "      <td>44.776950</td>\n",
       "      <td>37.100500</td>\n",
       "      <td>52.640587</td>\n",
       "      <td>3.275323</td>\n",
       "      <td>10.727742</td>\n",
       "    </tr>\n",
       "  </tbody>\n",
       "</table>\n",
       "</div>\n",
       "    <div class=\"colab-df-buttons\">\n",
       "\n",
       "  <div class=\"colab-df-container\">\n",
       "    <button class=\"colab-df-convert\" onclick=\"convertToInteractive('df-a2d77056-cf0d-4188-b539-eee6022ec000')\"\n",
       "            title=\"Convert this dataframe to an interactive table.\"\n",
       "            style=\"display:none;\">\n",
       "\n",
       "  <svg xmlns=\"http://www.w3.org/2000/svg\" height=\"24px\" viewBox=\"0 -960 960 960\">\n",
       "    <path d=\"M120-120v-720h720v720H120Zm60-500h600v-160H180v160Zm220 220h160v-160H400v160Zm0 220h160v-160H400v160ZM180-400h160v-160H180v160Zm440 0h160v-160H620v160ZM180-180h160v-160H180v160Zm440 0h160v-160H620v160Z\"/>\n",
       "  </svg>\n",
       "    </button>\n",
       "\n",
       "  <style>\n",
       "    .colab-df-container {\n",
       "      display:flex;\n",
       "      gap: 12px;\n",
       "    }\n",
       "\n",
       "    .colab-df-convert {\n",
       "      background-color: #E8F0FE;\n",
       "      border: none;\n",
       "      border-radius: 50%;\n",
       "      cursor: pointer;\n",
       "      display: none;\n",
       "      fill: #1967D2;\n",
       "      height: 32px;\n",
       "      padding: 0 0 0 0;\n",
       "      width: 32px;\n",
       "    }\n",
       "\n",
       "    .colab-df-convert:hover {\n",
       "      background-color: #E2EBFA;\n",
       "      box-shadow: 0px 1px 2px rgba(60, 64, 67, 0.3), 0px 1px 3px 1px rgba(60, 64, 67, 0.15);\n",
       "      fill: #174EA6;\n",
       "    }\n",
       "\n",
       "    .colab-df-buttons div {\n",
       "      margin-bottom: 4px;\n",
       "    }\n",
       "\n",
       "    [theme=dark] .colab-df-convert {\n",
       "      background-color: #3B4455;\n",
       "      fill: #D2E3FC;\n",
       "    }\n",
       "\n",
       "    [theme=dark] .colab-df-convert:hover {\n",
       "      background-color: #434B5C;\n",
       "      box-shadow: 0px 1px 3px 1px rgba(0, 0, 0, 0.15);\n",
       "      filter: drop-shadow(0px 1px 2px rgba(0, 0, 0, 0.3));\n",
       "      fill: #FFFFFF;\n",
       "    }\n",
       "  </style>\n",
       "\n",
       "    <script>\n",
       "      const buttonEl =\n",
       "        document.querySelector('#df-a2d77056-cf0d-4188-b539-eee6022ec000 button.colab-df-convert');\n",
       "      buttonEl.style.display =\n",
       "        google.colab.kernel.accessAllowed ? 'block' : 'none';\n",
       "\n",
       "      async function convertToInteractive(key) {\n",
       "        const element = document.querySelector('#df-a2d77056-cf0d-4188-b539-eee6022ec000');\n",
       "        const dataTable =\n",
       "          await google.colab.kernel.invokeFunction('convertToInteractive',\n",
       "                                                    [key], {});\n",
       "        if (!dataTable) return;\n",
       "\n",
       "        const docLinkHtml = 'Like what you see? Visit the ' +\n",
       "          '<a target=\"_blank\" href=https://colab.research.google.com/notebooks/data_table.ipynb>data table notebook</a>'\n",
       "          + ' to learn more about interactive tables.';\n",
       "        element.innerHTML = '';\n",
       "        dataTable['output_type'] = 'display_data';\n",
       "        await google.colab.output.renderOutput(dataTable, element);\n",
       "        const docLink = document.createElement('div');\n",
       "        docLink.innerHTML = docLinkHtml;\n",
       "        element.appendChild(docLink);\n",
       "      }\n",
       "    </script>\n",
       "  </div>\n",
       "\n",
       "\n",
       "<div id=\"df-78d69c5c-6a82-4be5-b58e-8a0e010d39b8\">\n",
       "  <button class=\"colab-df-quickchart\" onclick=\"quickchart('df-78d69c5c-6a82-4be5-b58e-8a0e010d39b8')\"\n",
       "            title=\"Suggest charts\"\n",
       "            style=\"display:none;\">\n",
       "\n",
       "<svg xmlns=\"http://www.w3.org/2000/svg\" height=\"24px\"viewBox=\"0 0 24 24\"\n",
       "     width=\"24px\">\n",
       "    <g>\n",
       "        <path d=\"M19 3H5c-1.1 0-2 .9-2 2v14c0 1.1.9 2 2 2h14c1.1 0 2-.9 2-2V5c0-1.1-.9-2-2-2zM9 17H7v-7h2v7zm4 0h-2V7h2v10zm4 0h-2v-4h2v4z\"/>\n",
       "    </g>\n",
       "</svg>\n",
       "  </button>\n",
       "\n",
       "<style>\n",
       "  .colab-df-quickchart {\n",
       "      --bg-color: #E8F0FE;\n",
       "      --fill-color: #1967D2;\n",
       "      --hover-bg-color: #E2EBFA;\n",
       "      --hover-fill-color: #174EA6;\n",
       "      --disabled-fill-color: #AAA;\n",
       "      --disabled-bg-color: #DDD;\n",
       "  }\n",
       "\n",
       "  [theme=dark] .colab-df-quickchart {\n",
       "      --bg-color: #3B4455;\n",
       "      --fill-color: #D2E3FC;\n",
       "      --hover-bg-color: #434B5C;\n",
       "      --hover-fill-color: #FFFFFF;\n",
       "      --disabled-bg-color: #3B4455;\n",
       "      --disabled-fill-color: #666;\n",
       "  }\n",
       "\n",
       "  .colab-df-quickchart {\n",
       "    background-color: var(--bg-color);\n",
       "    border: none;\n",
       "    border-radius: 50%;\n",
       "    cursor: pointer;\n",
       "    display: none;\n",
       "    fill: var(--fill-color);\n",
       "    height: 32px;\n",
       "    padding: 0;\n",
       "    width: 32px;\n",
       "  }\n",
       "\n",
       "  .colab-df-quickchart:hover {\n",
       "    background-color: var(--hover-bg-color);\n",
       "    box-shadow: 0 1px 2px rgba(60, 64, 67, 0.3), 0 1px 3px 1px rgba(60, 64, 67, 0.15);\n",
       "    fill: var(--button-hover-fill-color);\n",
       "  }\n",
       "\n",
       "  .colab-df-quickchart-complete:disabled,\n",
       "  .colab-df-quickchart-complete:disabled:hover {\n",
       "    background-color: var(--disabled-bg-color);\n",
       "    fill: var(--disabled-fill-color);\n",
       "    box-shadow: none;\n",
       "  }\n",
       "\n",
       "  .colab-df-spinner {\n",
       "    border: 2px solid var(--fill-color);\n",
       "    border-color: transparent;\n",
       "    border-bottom-color: var(--fill-color);\n",
       "    animation:\n",
       "      spin 1s steps(1) infinite;\n",
       "  }\n",
       "\n",
       "  @keyframes spin {\n",
       "    0% {\n",
       "      border-color: transparent;\n",
       "      border-bottom-color: var(--fill-color);\n",
       "      border-left-color: var(--fill-color);\n",
       "    }\n",
       "    20% {\n",
       "      border-color: transparent;\n",
       "      border-left-color: var(--fill-color);\n",
       "      border-top-color: var(--fill-color);\n",
       "    }\n",
       "    30% {\n",
       "      border-color: transparent;\n",
       "      border-left-color: var(--fill-color);\n",
       "      border-top-color: var(--fill-color);\n",
       "      border-right-color: var(--fill-color);\n",
       "    }\n",
       "    40% {\n",
       "      border-color: transparent;\n",
       "      border-right-color: var(--fill-color);\n",
       "      border-top-color: var(--fill-color);\n",
       "    }\n",
       "    60% {\n",
       "      border-color: transparent;\n",
       "      border-right-color: var(--fill-color);\n",
       "    }\n",
       "    80% {\n",
       "      border-color: transparent;\n",
       "      border-right-color: var(--fill-color);\n",
       "      border-bottom-color: var(--fill-color);\n",
       "    }\n",
       "    90% {\n",
       "      border-color: transparent;\n",
       "      border-bottom-color: var(--fill-color);\n",
       "    }\n",
       "  }\n",
       "</style>\n",
       "\n",
       "  <script>\n",
       "    async function quickchart(key) {\n",
       "      const quickchartButtonEl =\n",
       "        document.querySelector('#' + key + ' button');\n",
       "      quickchartButtonEl.disabled = true;  // To prevent multiple clicks.\n",
       "      quickchartButtonEl.classList.add('colab-df-spinner');\n",
       "      try {\n",
       "        const charts = await google.colab.kernel.invokeFunction(\n",
       "            'suggestCharts', [key], {});\n",
       "      } catch (error) {\n",
       "        console.error('Error during call to suggestCharts:', error);\n",
       "      }\n",
       "      quickchartButtonEl.classList.remove('colab-df-spinner');\n",
       "      quickchartButtonEl.classList.add('colab-df-quickchart-complete');\n",
       "    }\n",
       "    (() => {\n",
       "      let quickchartButtonEl =\n",
       "        document.querySelector('#df-78d69c5c-6a82-4be5-b58e-8a0e010d39b8 button');\n",
       "      quickchartButtonEl.style.display =\n",
       "        google.colab.kernel.accessAllowed ? 'block' : 'none';\n",
       "    })();\n",
       "  </script>\n",
       "</div>\n",
       "\n",
       "    </div>\n",
       "  </div>\n"
      ],
      "text/plain": [
       "             media    mediana        min        max       std        var\n",
       "Version                                                                 \n",
       "1.7      45.444476  45.642266  33.599215  55.192093  3.710436  13.767338\n",
       "2.0      44.934197  44.776950  37.100500  52.640587  3.275323  10.727742"
      ]
     },
     "execution_count": 39,
     "metadata": {},
     "output_type": "execute_result"
    }
   ],
   "source": [
    "(tiempos_compras.groupby('Version')\n",
    "  .agg(\n",
    "      media=('tiempo','mean'),\n",
    "      mediana=('tiempo','median'),\n",
    "      min=('tiempo','min'),\n",
    "      max=('tiempo','max'),\n",
    "      std=('tiempo','std'),\n",
    "      var=('tiempo','var')\n",
    "  )\n",
    "\n",
    " )"
   ]
  },
  {
   "cell_type": "markdown",
   "metadata": {
    "id": "vGFr3AUKz_pe"
   },
   "source": [
    "> `describe` + `groupby`"
   ]
  },
  {
   "cell_type": "code",
   "execution_count": null,
   "metadata": {
    "colab": {
     "base_uri": "https://localhost:8080/",
     "height": 143
    },
    "executionInfo": {
     "elapsed": 47,
     "status": "ok",
     "timestamp": 1745371196380,
     "user": {
      "displayName": "Roman Castillo",
      "userId": "03738236345711029424"
     },
     "user_tz": 360
    },
    "id": "DrwVcl1w0GMx",
    "outputId": "4eb2859f-7675-4db6-b9bc-91b8323abe2d"
   },
   "outputs": [
    {
     "data": {
      "application/vnd.google.colaboratory.intrinsic+json": {
       "summary": "{\n  \"name\": \"tiempos_compras\",\n  \"rows\": 2,\n  \"fields\": [\n    {\n      \"column\": \"Version\",\n      \"properties\": {\n        \"dtype\": \"number\",\n        \"std\": 0.21213203435596428,\n        \"min\": 1.7,\n        \"max\": 2.0,\n        \"num_unique_values\": 2,\n        \"samples\": [\n          2.0,\n          1.7\n        ],\n        \"semantic_type\": \"\",\n        \"description\": \"\"\n      }\n    },\n    {\n      \"column\": \"count\",\n      \"properties\": {\n        \"dtype\": \"number\",\n        \"std\": 7.0710678118654755,\n        \"min\": 95.0,\n        \"max\": 105.0,\n        \"num_unique_values\": 2,\n        \"samples\": [\n          105.0,\n          95.0\n        ],\n        \"semantic_type\": \"\",\n        \"description\": \"\"\n      }\n    },\n    {\n      \"column\": \"mean\",\n      \"properties\": {\n        \"dtype\": \"number\",\n        \"std\": 0.3608220158630036,\n        \"min\": 44.93419673148113,\n        \"max\": 45.44447611991739,\n        \"num_unique_values\": 2,\n        \"samples\": [\n          44.93419673148113,\n          45.44447611991739\n        ],\n        \"semantic_type\": \"\",\n        \"description\": \"\"\n      }\n    },\n    {\n      \"column\": \"std\",\n      \"properties\": {\n        \"dtype\": \"number\",\n        \"std\": 0.3076715212908244,\n        \"min\": 3.275323149111092,\n        \"max\": 3.7104363872765385,\n        \"num_unique_values\": 2,\n        \"samples\": [\n          3.275323149111092,\n          3.7104363872765385\n        ],\n        \"semantic_type\": \"\",\n        \"description\": \"\"\n      }\n    },\n    {\n      \"column\": \"min\",\n      \"properties\": {\n        \"dtype\": \"number\",\n        \"std\": 2.475782407502015,\n        \"min\": 33.59921509557856,\n        \"max\": 37.10050015375262,\n        \"num_unique_values\": 2,\n        \"samples\": [\n          37.10050015375262,\n          33.59921509557856\n        ],\n        \"semantic_type\": \"\",\n        \"description\": \"\"\n      }\n    },\n    {\n      \"column\": \"25%\",\n      \"properties\": {\n        \"dtype\": \"number\",\n        \"std\": 0.19257505986176043,\n        \"min\": 42.781317628952785,\n        \"max\": 43.0536598903841,\n        \"num_unique_values\": 2,\n        \"samples\": [\n          43.0536598903841,\n          42.781317628952785\n        ],\n        \"semantic_type\": \"\",\n        \"description\": \"\"\n      }\n    },\n    {\n      \"column\": \"50%\",\n      \"properties\": {\n        \"dtype\": \"number\",\n        \"std\": 0.6118707904674809,\n        \"min\": 44.7769504377747,\n        \"max\": 45.64226640807376,\n        \"num_unique_values\": 2,\n        \"samples\": [\n          44.7769504377747,\n          45.64226640807376\n        ],\n        \"semantic_type\": \"\",\n        \"description\": \"\"\n      }\n    },\n    {\n      \"column\": \"75%\",\n      \"properties\": {\n        \"dtype\": \"number\",\n        \"std\": 0.3613906086179881,\n        \"min\": 46.98232494609076,\n        \"max\": 47.49340844611259,\n        \"num_unique_values\": 2,\n        \"samples\": [\n          46.98232494609076,\n          47.49340844611259\n        ],\n        \"semantic_type\": \"\",\n        \"description\": \"\"\n      }\n    },\n    {\n      \"column\": \"max\",\n      \"properties\": {\n        \"dtype\": \"number\",\n        \"std\": 1.804187486484809,\n        \"min\": 52.640586599914094,\n        \"max\": 55.19209301236474,\n        \"num_unique_values\": 2,\n        \"samples\": [\n          52.640586599914094,\n          55.19209301236474\n        ],\n        \"semantic_type\": \"\",\n        \"description\": \"\"\n      }\n    }\n  ]\n}",
       "type": "dataframe"
      },
      "text/html": [
       "\n",
       "  <div id=\"df-c54b5ce3-06b0-44f7-b961-3e684db1b2d7\" class=\"colab-df-container\">\n",
       "    <div>\n",
       "<style scoped>\n",
       "    .dataframe tbody tr th:only-of-type {\n",
       "        vertical-align: middle;\n",
       "    }\n",
       "\n",
       "    .dataframe tbody tr th {\n",
       "        vertical-align: top;\n",
       "    }\n",
       "\n",
       "    .dataframe thead th {\n",
       "        text-align: right;\n",
       "    }\n",
       "</style>\n",
       "<table border=\"1\" class=\"dataframe\">\n",
       "  <thead>\n",
       "    <tr style=\"text-align: right;\">\n",
       "      <th></th>\n",
       "      <th>count</th>\n",
       "      <th>mean</th>\n",
       "      <th>std</th>\n",
       "      <th>min</th>\n",
       "      <th>25%</th>\n",
       "      <th>50%</th>\n",
       "      <th>75%</th>\n",
       "      <th>max</th>\n",
       "    </tr>\n",
       "    <tr>\n",
       "      <th>Version</th>\n",
       "      <th></th>\n",
       "      <th></th>\n",
       "      <th></th>\n",
       "      <th></th>\n",
       "      <th></th>\n",
       "      <th></th>\n",
       "      <th></th>\n",
       "      <th></th>\n",
       "    </tr>\n",
       "  </thead>\n",
       "  <tbody>\n",
       "    <tr>\n",
       "      <th>1.7</th>\n",
       "      <td>95.0</td>\n",
       "      <td>45.444476</td>\n",
       "      <td>3.710436</td>\n",
       "      <td>33.599215</td>\n",
       "      <td>42.781318</td>\n",
       "      <td>45.642266</td>\n",
       "      <td>47.493408</td>\n",
       "      <td>55.192093</td>\n",
       "    </tr>\n",
       "    <tr>\n",
       "      <th>2.0</th>\n",
       "      <td>105.0</td>\n",
       "      <td>44.934197</td>\n",
       "      <td>3.275323</td>\n",
       "      <td>37.100500</td>\n",
       "      <td>43.053660</td>\n",
       "      <td>44.776950</td>\n",
       "      <td>46.982325</td>\n",
       "      <td>52.640587</td>\n",
       "    </tr>\n",
       "  </tbody>\n",
       "</table>\n",
       "</div>\n",
       "    <div class=\"colab-df-buttons\">\n",
       "\n",
       "  <div class=\"colab-df-container\">\n",
       "    <button class=\"colab-df-convert\" onclick=\"convertToInteractive('df-c54b5ce3-06b0-44f7-b961-3e684db1b2d7')\"\n",
       "            title=\"Convert this dataframe to an interactive table.\"\n",
       "            style=\"display:none;\">\n",
       "\n",
       "  <svg xmlns=\"http://www.w3.org/2000/svg\" height=\"24px\" viewBox=\"0 -960 960 960\">\n",
       "    <path d=\"M120-120v-720h720v720H120Zm60-500h600v-160H180v160Zm220 220h160v-160H400v160Zm0 220h160v-160H400v160ZM180-400h160v-160H180v160Zm440 0h160v-160H620v160ZM180-180h160v-160H180v160Zm440 0h160v-160H620v160Z\"/>\n",
       "  </svg>\n",
       "    </button>\n",
       "\n",
       "  <style>\n",
       "    .colab-df-container {\n",
       "      display:flex;\n",
       "      gap: 12px;\n",
       "    }\n",
       "\n",
       "    .colab-df-convert {\n",
       "      background-color: #E8F0FE;\n",
       "      border: none;\n",
       "      border-radius: 50%;\n",
       "      cursor: pointer;\n",
       "      display: none;\n",
       "      fill: #1967D2;\n",
       "      height: 32px;\n",
       "      padding: 0 0 0 0;\n",
       "      width: 32px;\n",
       "    }\n",
       "\n",
       "    .colab-df-convert:hover {\n",
       "      background-color: #E2EBFA;\n",
       "      box-shadow: 0px 1px 2px rgba(60, 64, 67, 0.3), 0px 1px 3px 1px rgba(60, 64, 67, 0.15);\n",
       "      fill: #174EA6;\n",
       "    }\n",
       "\n",
       "    .colab-df-buttons div {\n",
       "      margin-bottom: 4px;\n",
       "    }\n",
       "\n",
       "    [theme=dark] .colab-df-convert {\n",
       "      background-color: #3B4455;\n",
       "      fill: #D2E3FC;\n",
       "    }\n",
       "\n",
       "    [theme=dark] .colab-df-convert:hover {\n",
       "      background-color: #434B5C;\n",
       "      box-shadow: 0px 1px 3px 1px rgba(0, 0, 0, 0.15);\n",
       "      filter: drop-shadow(0px 1px 2px rgba(0, 0, 0, 0.3));\n",
       "      fill: #FFFFFF;\n",
       "    }\n",
       "  </style>\n",
       "\n",
       "    <script>\n",
       "      const buttonEl =\n",
       "        document.querySelector('#df-c54b5ce3-06b0-44f7-b961-3e684db1b2d7 button.colab-df-convert');\n",
       "      buttonEl.style.display =\n",
       "        google.colab.kernel.accessAllowed ? 'block' : 'none';\n",
       "\n",
       "      async function convertToInteractive(key) {\n",
       "        const element = document.querySelector('#df-c54b5ce3-06b0-44f7-b961-3e684db1b2d7');\n",
       "        const dataTable =\n",
       "          await google.colab.kernel.invokeFunction('convertToInteractive',\n",
       "                                                    [key], {});\n",
       "        if (!dataTable) return;\n",
       "\n",
       "        const docLinkHtml = 'Like what you see? Visit the ' +\n",
       "          '<a target=\"_blank\" href=https://colab.research.google.com/notebooks/data_table.ipynb>data table notebook</a>'\n",
       "          + ' to learn more about interactive tables.';\n",
       "        element.innerHTML = '';\n",
       "        dataTable['output_type'] = 'display_data';\n",
       "        await google.colab.output.renderOutput(dataTable, element);\n",
       "        const docLink = document.createElement('div');\n",
       "        docLink.innerHTML = docLinkHtml;\n",
       "        element.appendChild(docLink);\n",
       "      }\n",
       "    </script>\n",
       "  </div>\n",
       "\n",
       "\n",
       "<div id=\"df-7006575a-4fd6-401b-a1a3-c18e1ec48243\">\n",
       "  <button class=\"colab-df-quickchart\" onclick=\"quickchart('df-7006575a-4fd6-401b-a1a3-c18e1ec48243')\"\n",
       "            title=\"Suggest charts\"\n",
       "            style=\"display:none;\">\n",
       "\n",
       "<svg xmlns=\"http://www.w3.org/2000/svg\" height=\"24px\"viewBox=\"0 0 24 24\"\n",
       "     width=\"24px\">\n",
       "    <g>\n",
       "        <path d=\"M19 3H5c-1.1 0-2 .9-2 2v14c0 1.1.9 2 2 2h14c1.1 0 2-.9 2-2V5c0-1.1-.9-2-2-2zM9 17H7v-7h2v7zm4 0h-2V7h2v10zm4 0h-2v-4h2v4z\"/>\n",
       "    </g>\n",
       "</svg>\n",
       "  </button>\n",
       "\n",
       "<style>\n",
       "  .colab-df-quickchart {\n",
       "      --bg-color: #E8F0FE;\n",
       "      --fill-color: #1967D2;\n",
       "      --hover-bg-color: #E2EBFA;\n",
       "      --hover-fill-color: #174EA6;\n",
       "      --disabled-fill-color: #AAA;\n",
       "      --disabled-bg-color: #DDD;\n",
       "  }\n",
       "\n",
       "  [theme=dark] .colab-df-quickchart {\n",
       "      --bg-color: #3B4455;\n",
       "      --fill-color: #D2E3FC;\n",
       "      --hover-bg-color: #434B5C;\n",
       "      --hover-fill-color: #FFFFFF;\n",
       "      --disabled-bg-color: #3B4455;\n",
       "      --disabled-fill-color: #666;\n",
       "  }\n",
       "\n",
       "  .colab-df-quickchart {\n",
       "    background-color: var(--bg-color);\n",
       "    border: none;\n",
       "    border-radius: 50%;\n",
       "    cursor: pointer;\n",
       "    display: none;\n",
       "    fill: var(--fill-color);\n",
       "    height: 32px;\n",
       "    padding: 0;\n",
       "    width: 32px;\n",
       "  }\n",
       "\n",
       "  .colab-df-quickchart:hover {\n",
       "    background-color: var(--hover-bg-color);\n",
       "    box-shadow: 0 1px 2px rgba(60, 64, 67, 0.3), 0 1px 3px 1px rgba(60, 64, 67, 0.15);\n",
       "    fill: var(--button-hover-fill-color);\n",
       "  }\n",
       "\n",
       "  .colab-df-quickchart-complete:disabled,\n",
       "  .colab-df-quickchart-complete:disabled:hover {\n",
       "    background-color: var(--disabled-bg-color);\n",
       "    fill: var(--disabled-fill-color);\n",
       "    box-shadow: none;\n",
       "  }\n",
       "\n",
       "  .colab-df-spinner {\n",
       "    border: 2px solid var(--fill-color);\n",
       "    border-color: transparent;\n",
       "    border-bottom-color: var(--fill-color);\n",
       "    animation:\n",
       "      spin 1s steps(1) infinite;\n",
       "  }\n",
       "\n",
       "  @keyframes spin {\n",
       "    0% {\n",
       "      border-color: transparent;\n",
       "      border-bottom-color: var(--fill-color);\n",
       "      border-left-color: var(--fill-color);\n",
       "    }\n",
       "    20% {\n",
       "      border-color: transparent;\n",
       "      border-left-color: var(--fill-color);\n",
       "      border-top-color: var(--fill-color);\n",
       "    }\n",
       "    30% {\n",
       "      border-color: transparent;\n",
       "      border-left-color: var(--fill-color);\n",
       "      border-top-color: var(--fill-color);\n",
       "      border-right-color: var(--fill-color);\n",
       "    }\n",
       "    40% {\n",
       "      border-color: transparent;\n",
       "      border-right-color: var(--fill-color);\n",
       "      border-top-color: var(--fill-color);\n",
       "    }\n",
       "    60% {\n",
       "      border-color: transparent;\n",
       "      border-right-color: var(--fill-color);\n",
       "    }\n",
       "    80% {\n",
       "      border-color: transparent;\n",
       "      border-right-color: var(--fill-color);\n",
       "      border-bottom-color: var(--fill-color);\n",
       "    }\n",
       "    90% {\n",
       "      border-color: transparent;\n",
       "      border-bottom-color: var(--fill-color);\n",
       "    }\n",
       "  }\n",
       "</style>\n",
       "\n",
       "  <script>\n",
       "    async function quickchart(key) {\n",
       "      const quickchartButtonEl =\n",
       "        document.querySelector('#' + key + ' button');\n",
       "      quickchartButtonEl.disabled = true;  // To prevent multiple clicks.\n",
       "      quickchartButtonEl.classList.add('colab-df-spinner');\n",
       "      try {\n",
       "        const charts = await google.colab.kernel.invokeFunction(\n",
       "            'suggestCharts', [key], {});\n",
       "      } catch (error) {\n",
       "        console.error('Error during call to suggestCharts:', error);\n",
       "      }\n",
       "      quickchartButtonEl.classList.remove('colab-df-spinner');\n",
       "      quickchartButtonEl.classList.add('colab-df-quickchart-complete');\n",
       "    }\n",
       "    (() => {\n",
       "      let quickchartButtonEl =\n",
       "        document.querySelector('#df-7006575a-4fd6-401b-a1a3-c18e1ec48243 button');\n",
       "      quickchartButtonEl.style.display =\n",
       "        google.colab.kernel.accessAllowed ? 'block' : 'none';\n",
       "    })();\n",
       "  </script>\n",
       "</div>\n",
       "\n",
       "    </div>\n",
       "  </div>\n"
      ],
      "text/plain": [
       "         count       mean       std        min        25%        50%  \\\n",
       "Version                                                                \n",
       "1.7       95.0  45.444476  3.710436  33.599215  42.781318  45.642266   \n",
       "2.0      105.0  44.934197  3.275323  37.100500  43.053660  44.776950   \n",
       "\n",
       "               75%        max  \n",
       "Version                        \n",
       "1.7      47.493408  55.192093  \n",
       "2.0      46.982325  52.640587  "
      ]
     },
     "execution_count": 40,
     "metadata": {},
     "output_type": "execute_result"
    }
   ],
   "source": [
    "tiempos_compras.groupby('Version')['tiempo'].describe()"
   ]
  },
  {
   "cell_type": "markdown",
   "metadata": {
    "id": "Cu1JZpkeyhUD"
   },
   "source": [
    "---\n",
    "\n",
    "##### 4. Visualizar la distribución\n",
    "- Genera un **boxplot** que compare el tiempo de compra en ambas versiones.\n",
    "- Genera un **histograma con KDE** para la interfaz nueva.\n",
    "  - Añade líneas verticales con la media y la mediana.\n",
    "  - ¿Cómo se distribuyen los datos?\n",
    "\n"
   ]
  },
  {
   "cell_type": "code",
   "execution_count": null,
   "metadata": {
    "colab": {
     "base_uri": "https://localhost:8080/",
     "height": 592
    },
    "executionInfo": {
     "elapsed": 205,
     "status": "ok",
     "timestamp": 1745371255262,
     "user": {
      "displayName": "Roman Castillo",
      "userId": "03738236345711029424"
     },
     "user_tz": 360
    },
    "id": "tU4YNKsV1SWN",
    "outputId": "37c7f2ab-c6f1-49f1-86e4-94f29c6f5282"
   },
   "outputs": [
    {
     "name": "stderr",
     "output_type": "stream",
     "text": [
      "<ipython-input-41-c9805974f963>:2: FutureWarning: \n",
      "\n",
      "Passing `palette` without assigning `hue` is deprecated and will be removed in v0.14.0. Assign the `x` variable to `hue` and set `legend=False` for the same effect.\n",
      "\n",
      "  sns.boxplot(data=tiempos_compras, x='Version', y='tiempo', palette='Set2')\n"
     ]
    },
    {
     "data": {
      "text/plain": [
       "Text(0, 0.5, 'Tiempo de Compra (s)')"
      ]
     },
     "execution_count": 41,
     "metadata": {},
     "output_type": "execute_result"
    },
    {
     "data": {
      "image/png": "[encoded data removed]",
      "text/plain": [
       "<Figure size 1200x500 with 1 Axes>"
      ]
     },
     "metadata": {},
     "output_type": "display_data"
    }
   ],
   "source": [
    "plt.figure(figsize=(12, 5))\n",
    "sns.boxplot(data=tiempos_compras, x='Version', y='tiempo', palette='Set2')\n",
    "plt.title('Distribución del Tiempo por Versión de Interfaz')\n",
    "plt.xlabel('Versión')\n",
    "plt.ylabel('Tiempo de Compra (s)')\n"
   ]
  },
  {
   "cell_type": "code",
   "execution_count": null,
   "metadata": {
    "colab": {
     "base_uri": "https://localhost:8080/",
     "height": 472
    },
    "executionInfo": {
     "elapsed": 435,
     "status": "ok",
     "timestamp": 1745371259606,
     "user": {
      "displayName": "Roman Castillo",
      "userId": "03738236345711029424"
     },
     "user_tz": 360
    },
    "id": "MfBd7BzM2e38",
    "outputId": "15df2756-2bce-4e14-aa2c-0619d5df2f43"
   },
   "outputs": [
    {
     "data": {
      "image/png": "[encoded data removed]",
      "text/plain": [
       "<Figure size 640x480 with 1 Axes>"
      ]
     },
     "metadata": {},
     "output_type": "display_data"
    }
   ],
   "source": [
    "df_nueva = tiempos_compras[tiempos_compras['Version'] == 2]\n",
    "media = df_nueva['tiempo'].mean()\n",
    "mediana = df_nueva['tiempo'].median()\n",
    "sns.histplot(df_nueva['tiempo'], bins=20, kde=True, color='skyblue')\n",
    "plt.axvline(media, color='red', linestyle='--', label=f'Media: {media:.2f}')\n",
    "plt.axvline(mediana, color='green', linestyle='--', label=f'Mediana: {mediana:.2f}')\n",
    "plt.title('Histograma + KDE - Versión 2.0')\n",
    "plt.xlabel('Tiempo de Compra (s)')\n",
    "plt.ylabel('Frecuencia')\n",
    "plt.legend()\n",
    "plt.show()"
   ]
  },
  {
   "cell_type": "markdown",
   "metadata": {
    "id": "iQi5M2F_yjUq"
   },
   "source": [
    "---\n",
    "\n",
    "##### 5. Aplicar la regla de las 3 sigmas\n",
    "- Calcula el intervalo de la regla de las 3 sigmas para la nueva interfaz.\n",
    "\n"
   ]
  },
  {
   "cell_type": "code",
   "execution_count": null,
   "metadata": {
    "colab": {
     "base_uri": "https://localhost:8080/"
    },
    "executionInfo": {
     "elapsed": 9,
     "status": "ok",
     "timestamp": 1745372212964,
     "user": {
      "displayName": "Roman Castillo",
      "userId": "03738236345711029424"
     },
     "user_tz": 360
    },
    "id": "97j6S56h380y",
    "outputId": "7540f60a-7c26-46ec-bbf5-edb96f0b49eb"
   },
   "outputs": [
    {
     "name": "stdout",
     "output_type": "stream",
     "text": [
      "Intervalo de la regla de 3 sigma(s): (38.38, 51.48)\n"
     ]
    }
   ],
   "source": [
    "\n",
    "# 1️⃣ Calcular media y desviación estándar\n",
    "media = df_nueva['tiempo'].mean()\n",
    "std = df_nueva['tiempo'].std()\n",
    "\n",
    "# 2️⃣ Calcular los límites de ±3σ\n",
    "limite_inferior = media - 2 * std\n",
    "limite_superior = media + 2 * std\n",
    "\n",
    "print(f\"Intervalo de la regla de 3 sigma(s): ({limite_inferior:.2f}, {limite_superior:.2f})\")"
   ]
  },
  {
   "cell_type": "markdown",
   "metadata": {
    "id": "9nxsqoBa330Z"
   },
   "source": [
    "- Verifica si hay valores fuera de ese rango (posibles valores atípicos).\n",
    "\n"
   ]
  },
  {
   "cell_type": "code",
   "execution_count": null,
   "metadata": {
    "colab": {
     "base_uri": "https://localhost:8080/"
    },
    "executionInfo": {
     "elapsed": 5,
     "status": "ok",
     "timestamp": 1745372217008,
     "user": {
      "displayName": "Roman Castillo",
      "userId": "03738236345711029424"
     },
     "user_tz": 360
    },
    "id": "uCNCodCz4A0W",
    "outputId": "dd454549-56ca-4139-edae-58987bc90bb8"
   },
   "outputs": [
    {
     "name": "stdout",
     "output_type": "stream",
     "text": [
      "Número de valores fuera del rango: 6\n",
      "Valores fuera del rango:\n",
      "     Version     tiempo  clics\n",
      "8        2.0  51.906054      6\n",
      "47       2.0  52.640587      9\n",
      "60       2.0  52.554676      9\n",
      "69       2.0  38.080335      8\n",
      "80       2.0  52.014526     10\n",
      "159      2.0  37.100500      5\n"
     ]
    }
   ],
   "source": [
    "# 3️⃣ Verificar qué valores están fuera del intervalo\n",
    "fuera_de_rango = df_nueva[(df_nueva['tiempo'] < limite_inferior) | (df_nueva['tiempo'] > limite_superior)]\n",
    "\n",
    "print(f\"Número de valores fuera del rango: {fuera_de_rango.shape[0]}\")\n",
    "print(f\"Valores fuera del rango:\\n{fuera_de_rango}\")"
   ]
  },
  {
   "cell_type": "markdown",
   "metadata": {
    "id": "gIflq44j3-Wf"
   },
   "source": [
    "- ¿Qué porcentaje de los datos cae fuera de ±3σ?"
   ]
  },
  {
   "cell_type": "code",
   "execution_count": null,
   "metadata": {
    "colab": {
     "base_uri": "https://localhost:8080/"
    },
    "executionInfo": {
     "elapsed": 8,
     "status": "ok",
     "timestamp": 1745372228701,
     "user": {
      "displayName": "Roman Castillo",
      "userId": "03738236345711029424"
     },
     "user_tz": 360
    },
    "id": "anLxqRl73q3S",
    "outputId": "89fc4297-680b-4041-a91f-31f2c3d4f6de"
   },
   "outputs": [
    {
     "name": "stdout",
     "output_type": "stream",
     "text": [
      "📊 Porcentaje de datos fuera de ±3σ: 5.71%\n"
     ]
    }
   ],
   "source": [
    "# 4️⃣ Calcular porcentaje de datos fuera de ±3σ\n",
    "total = df_nueva.shape[0]\n",
    "porcentaje_fuera = (fuera_de_rango.shape[0] / total) * 100\n",
    "\n",
    "print(f\"📊 Porcentaje de datos fuera de ±3σ: {porcentaje_fuera:.2f}%\")"
   ]
  },
  {
   "cell_type": "markdown",
   "metadata": {
    "id": "LHtuMggPylP8"
   },
   "source": [
    "---\n",
    "\n",
    "##### 6. Detectar outliers con IQR\n",
    "- Calcula **Q1**, **Q3** y el **IQR** para los tiempos de la nueva interfaz.\n",
    "\n",
    "\n"
   ]
  },
  {
   "cell_type": "code",
   "execution_count": null,
   "metadata": {
    "colab": {
     "base_uri": "https://localhost:8080/"
    },
    "executionInfo": {
     "elapsed": 13,
     "status": "ok",
     "timestamp": 1745372290062,
     "user": {
      "displayName": "Roman Castillo",
      "userId": "03738236345711029424"
     },
     "user_tz": 360
    },
    "id": "LjAjR9f_4_J1",
    "outputId": "43d4bd89-8ac0-408f-e1a2-99ca242bd1f6"
   },
   "outputs": [
    {
     "name": "stdout",
     "output_type": "stream",
     "text": [
      "Q1: 43.05, Q3: 46.98, IQR: 3.93\n"
     ]
    }
   ],
   "source": [
    "# 1️⃣ Calcular Q1, Q3 e IQR\n",
    "q1 = df_nueva['tiempo'].quantile(0.25)\n",
    "q3 = df_nueva['tiempo'].quantile(0.75)\n",
    "iqr = q3 - q1\n",
    "\n",
    "print(f\"Q1: {q1:.2f}, Q3: {q3:.2f}, IQR: {iqr:.2f}\")"
   ]
  },
  {
   "cell_type": "markdown",
   "metadata": {
    "id": "w0ZsOmO346g5"
   },
   "source": [
    "- Determina los límites inferior y superior usando la regla de 1.5×IQR.\n"
   ]
  },
  {
   "cell_type": "code",
   "execution_count": null,
   "metadata": {
    "colab": {
     "base_uri": "https://localhost:8080/"
    },
    "executionInfo": {
     "elapsed": 44,
     "status": "ok",
     "timestamp": 1745372292666,
     "user": {
      "displayName": "Roman Castillo",
      "userId": "03738236345711029424"
     },
     "user_tz": 360
    },
    "id": "7am8_GC05JE8",
    "outputId": "f5903add-4412-48fe-962e-6bf1951db456"
   },
   "outputs": [
    {
     "name": "stdout",
     "output_type": "stream",
     "text": [
      "Límite inferior: 37.16\n",
      "Límite superior: 52.88\n"
     ]
    }
   ],
   "source": [
    "# 2️⃣ Calcular límites inferior y superior\n",
    "limite_inferior = q1 - 1.5 * iqr\n",
    "limite_superior = q3 + 1.5 * iqr\n",
    "\n",
    "print(f\"Límite inferior: {limite_inferior:.2f}\")\n",
    "print(f\"Límite superior: {limite_superior:.2f}\")\n"
   ]
  },
  {
   "cell_type": "markdown",
   "metadata": {
    "id": "VTPf6pLT5DiX"
   },
   "source": [
    "- Cuenta cuántos **outliers** hay y menciona sus valores."
   ]
  },
  {
   "cell_type": "code",
   "execution_count": null,
   "metadata": {
    "colab": {
     "base_uri": "https://localhost:8080/"
    },
    "executionInfo": {
     "elapsed": 5,
     "status": "ok",
     "timestamp": 1745372295658,
     "user": {
      "displayName": "Roman Castillo",
      "userId": "03738236345711029424"
     },
     "user_tz": 360
    },
    "id": "DbdgaYFo43Sj",
    "outputId": "85afa970-076e-4da2-c5a8-31d67b587c15"
   },
   "outputs": [
    {
     "name": "stdout",
     "output_type": "stream",
     "text": [
      "Cantidad de outliers detectados: 1\n",
      "Valores de tiempo considerados outliers:\n",
      "[37.10050015]\n"
     ]
    }
   ],
   "source": [
    "\n",
    "# 3️⃣ Detectar outliers\n",
    "outliers = df_nueva[(df_nueva['tiempo'] < limite_inferior) | (df_nueva['tiempo'] > limite_superior)]\n",
    "\n",
    "# Mostrar resultados\n",
    "print(f\"Cantidad de outliers detectados: {outliers.shape[0]}\")\n",
    "print(\"Valores de tiempo considerados outliers:\")\n",
    "print(outliers['tiempo'].values)"
   ]
  },
  {
   "cell_type": "markdown",
   "metadata": {
    "id": "XbEj6G2EynP8"
   },
   "source": [
    "---\n",
    "\n",
    "##### 7. Analizar relación entre variables\n",
    "- Usa un **diagrama de dispersión** para visualizar la relación entre tiempo de compra y número de clics.\n",
    "\n",
    "\n"
   ]
  },
  {
   "cell_type": "code",
   "execution_count": null,
   "metadata": {
    "id": "AWKkG31g5o7J"
   },
   "outputs": [],
   "source": [
    "# 1️⃣ Diagrama de dispersión\n",
    "plt.figure(figsize=(8, 6))\n",
    "sns.scatterplot(data=tiempos_compras, x='tiempo', y='clics',  palette='Set2')\n",
    "plt.title('Relación entre Tiempo de Compra y Número de Clics')\n",
    "plt.xlabel('Tiempo de Compra (s)')\n",
    "plt.ylabel('Número de Clics')\n",
    "plt.grid(True)\n",
    "plt.legend(title='Versión')\n",
    "plt.tight_layout()\n",
    "plt.show()"
   ]
  },
  {
   "cell_type": "code",
   "execution_count": null,
   "metadata": {
    "id": "Mp8KTRqN612x"
   },
   "outputs": [],
   "source": [
    "plt.figure(figsize=(8, 6))\n",
    "sns.regplot(data=tiempos_compras, x='tiempo', y='clics', scatter=True, line_kws={'color': 'red'})\n",
    "plt.title('Relación entre Tiempo de Compra y Clics con Línea de Tendencia')\n",
    "plt.xlabel('Tiempo de Compra (s)')\n",
    "plt.ylabel('Número de Clics')\n",
    "plt.grid(True)\n",
    "plt.tight_layout()\n",
    "plt.show()"
   ]
  },
  {
   "cell_type": "markdown",
   "metadata": {
    "id": "eQE0LWDs5od2"
   },
   "source": [
    "- Calcula la **covarianza** entre estas dos variables.\n",
    "- ¿Existe una relación lineal aparente?"
   ]
  },
  {
   "cell_type": "code",
   "execution_count": null,
   "metadata": {
    "id": "4Cb7Kg6N6ZxD"
   },
   "outputs": [],
   "source": [
    "# 2️⃣ Calcular covarianza\n",
    "covarianza = tiempos_compras[['tiempo', 'clics']].cov().iloc[0, 1]\n",
    "print(f'📊 Covarianza entre tiempo y clics: {covarianza:.2f}')\n",
    "\n",
    "# 3️⃣ Interpretación (puedes guiar al estudiante a responder en texto):\n",
    "if covarianza > 0:\n",
    "    print(\"↗️ Existe una relación positiva: a más tiempo, más clics.\")\n",
    "elif covarianza < 0:\n",
    "    print(\"↘️ Existe una relación negativa: a más tiempo, menos clics.\")\n",
    "else:\n",
    "    print(\"➖ No hay relación lineal aparente.\")"
   ]
  },
  {
   "cell_type": "markdown",
   "metadata": {
    "id": "7bFJWFAkypKi"
   },
   "source": [
    "---\n",
    "\n",
    "##### 8. Conclusiones\n",
    "- Resume tus hallazgos:\n",
    "  - ¿La nueva interfaz mejoró la experiencia?\n",
    "  - ¿Qué recomendación le darías al equipo de producto?"
   ]
  }
 ],
 "metadata": {
  "colab": {
   "authorship_tag": "ABX9TyOCcqB+FAoZ0XtZsOTcwEI/",
   "mount_file_id": "1ovKmvZFASJEHuetkS0oyaKsOZ0qPoolb",
   "provenance": []
  },
  "kernelspec": {
   "display_name": ".venv",
   "language": "python",
   "name": "python3"
  },
  "language_info": {
   "codemirror_mode": {
    "name": "ipython",
    "version": 3
   },
   "file_extension": ".py",
   "mimetype": "text/x-python",
   "name": "python",
   "nbconvert_exporter": "python",
   "pygments_lexer": "ipython3",
   "version": "3.12.0"
  }
 },
 "nbformat": 4,
 "nbformat_minor": 0
}
