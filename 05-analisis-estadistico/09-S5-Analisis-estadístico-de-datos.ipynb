{
 "cells": [
  {
   "cell_type": "markdown",
   "metadata": {},
   "source": [
    "# Análisis estadístico de Datos"
   ]
  },
  {
   "cell_type": "markdown",
   "metadata": {},
   "source": [
    "## Objetivos\n",
    "1. Diferenciar entre variables discretas y continuas, identificando ejemplos y aplicaciones en análisis de datos reales.\n",
    "2. Aplicar técnicas de análisis exploratorio para describir y visualizar la distribución de variables numéricas.\n",
    "3. Calcular e interpretar medidas de tendencia central y dispersión, como media, mediana, moda, varianza y desviación estándar.\n",
    "4. Detectar y analizar valores atípicos (outliers) utilizando métodos como la regla de las 3 sigmas y el rango intercuartílico (IQR).\n",
    "5. Explorar la relación entre variables mediante el uso de covarianza, gráficos de dispersión, interpretando patrones y asociaciones en los datos."
   ]
  },
  {
   "cell_type": "markdown",
   "metadata": {
    "id": "fCjDb1e4f60y"
   },
   "source": [
    "## 🔢 Variables Discretas y Continuas\n",
    "\n"
   ]
  },
  {
   "cell_type": "markdown",
   "metadata": {
    "id": "IK_hSJVthfWV"
   },
   "source": [
    "### 📌 Variables Discretas\n",
    "**Definición:**  \n",
    "Toman valores enteros y contables. (**Pueden contarse**)\n",
    "\n",
    "\n",
    "**Ejemplos:**\n",
    "- 🎓 Número de estudiantes en un salón  \n",
    "- 🎲 Número que cae en un dado  \n",
    "- 🏆 Cantidad de premios ganados  \n",
    "- 📦 Número de productos en inventario  \n",
    "\n",
    "---\n",
    "\n",
    "### 📈 Variables Continuas\n",
    "**Definición:**  \n",
    "Pueden tomar cualquier valor en un rango. (**Pueden medirse**)\n",
    "\n",
    "\n",
    "**Ejemplos:**\n",
    "- 📏 Altura de una persona (ej. 1.75 m)  \n",
    "- 💸 Precio de un producto (ej. \\$99.99)  \n",
    "- ⏱ Tiempo en correr 100m (ej. 10.45 s)  \n",
    "- 🌡 Temperatura ambiente (ej. 22.6 °C)  "
   ]
  },
  {
   "cell_type": "markdown",
   "metadata": {},
   "source": [
    "## Caso de estudio: Análisis de Pesos y Alturas"
   ]
  },
  {
   "cell_type": "markdown",
   "metadata": {},
   "source": [
    "\n",
    "📍**Contexto:**  \n",
    "La empresa *VitalTrack*, dedicada a seguros de vida y bienestar corporativo en EE. UU., ha lanzado un nuevo programa llamado **\"HealthCheck360\"**. Como parte del programa, los nuevos clientes completan un formulario inicial con información sobre su altura y peso. Estos datos se usan para estimar el nivel de riesgo y diseñar programas personalizados de salud.\n",
    "\n",
    "📊 La empresa ha recopilado una muestra de **10,000 registros** de personas que aplicaron al programa en los últimos 12 meses. Los datos incluyen el género, la altura (en pulgadas) y el peso (en libras) de cada individuo.\n",
    "\n",
    "---\n",
    "\n",
    "🧩 **Objetivos del análisis:**  \n",
    "Tú eres parte del equipo de analítica de datos de *VitalTrack*. Te han asignado analizar esta base con dos objetivos:\n",
    "\n",
    "1. **Detectar valores atípicos y errores de captura:**  \n",
    "   Hay sospechas de que algunos registros contienen datos erróneos (como personas con más de 8 pies de altura o pesos muy inusuales), lo que podría afectar los modelos de evaluación de riesgo. Debes identificarlos y recomendar cómo tratarlos.\n",
    "\n",
    "2. **Explorar patrones por género y relación entre altura y peso:**  \n",
    "   El equipo de diseño del programa quiere saber si hay diferencias notables entre hombres y mujeres en cuanto a altura y peso promedio, y si existe una relación predecible entre ambos para generar recomendaciones personalizadas de salud.\n",
    "\n",
    "---\n",
    "\n",
    "🔍 **Preguntas clave que debes responder:**\n",
    "\n",
    "* ¿Cuáles son los valores extremos o inconsistentes en los datos?  \n",
    "* ¿Qué tan fuerte es la correlación entre altura y peso?  \n",
    "* ¿Existen diferencias marcadas entre hombres y mujeres en las distribuciones de altura y peso?\n",
    "\n",
    "---\n"
   ]
  },
  {
   "cell_type": "markdown",
   "metadata": {},
   "source": [
    "### Cargar y explorar los datos"
   ]
  },
  {
   "cell_type": "markdown",
   "metadata": {},
   "source": [
    "\n",
    "- Carga el archivo `weight-height.csv`.\n",
    "- Muestra los primeros registros.\n",
    "- Verifica los tipos de datos"
   ]
  },
  {
   "cell_type": "code",
   "execution_count": null,
   "metadata": {},
   "outputs": [],
   "source": [
    "import pandas as pd\n",
    "import matplotlib.pyplot as plt\n",
    "import seaborn as sns\n",
    "import numpy as np"
   ]
  },
  {
   "cell_type": "code",
   "execution_count": null,
   "metadata": {},
   "outputs": [],
   "source": [
    "PATH=\"https://raw.githubusercontent.com/zyntonyson/bootcamp_ds_da/refs/heads/main/datasets/weight-height.csv\"\n",
    "weight_height=pd.read_csv(PATH)"
   ]
  },
  {
   "cell_type": "code",
   "execution_count": null,
   "metadata": {},
   "outputs": [],
   "source": [
    "weight_height.head()"
   ]
  },
  {
   "cell_type": "code",
   "execution_count": null,
   "metadata": {},
   "outputs": [],
   "source": [
    "weight_height.info()"
   ]
  },
  {
   "cell_type": "code",
   "execution_count": null,
   "metadata": {},
   "outputs": [],
   "source": []
  },
  {
   "cell_type": "markdown",
   "metadata": {},
   "source": [
    "### Análisis exploratorio de Datos"
   ]
  },
  {
   "cell_type": "markdown",
   "metadata": {},
   "source": [
    "##### 🧠 Preguntas de interés\n",
    "\n",
    "1. ¿Cómo se comporta el peso en la población?\n",
    "2. ¿Qué peso es el representativo de la población?"
   ]
  },
  {
   "cell_type": "markdown",
   "metadata": {},
   "source": [
    "#### 📚 Resumen de conceptos clave: Estadística Descriptiva\n",
    "\n",
    "##### Medidas de tendencial central y dispersión\n",
    "\n",
    "1. **📏 Media y Mediana (Medidas de posición)**\n",
    "- **Media**: Promedio de los datos. Sensible a valores atípicos.\n",
    "- **Mediana**: Valor central. No se ve afectada por extremos.\n",
    "\n",
    "2. **📊 Varianza**\n",
    "- Mide la dispersión promedio al **elevar al cuadrado** la distancia de cada valor respecto a la media.\n",
    "- Una varianza alta indica que los datos están muy dispersos.\n",
    "\n",
    "3. **📉 Desviación Estándar**\n",
    "- Es la raíz cuadrada de la varianza, con las **mismas unidades** que los datos originales.\n",
    "- Muy útil para interpretar la variabilidad de los datos y definir rangos de normalidad."
   ]
  },
  {
   "cell_type": "code",
   "execution_count": null,
   "metadata": {},
   "outputs": [],
   "source": [
    "# Medidas de tendencia central\n",
    "print(f\"Media: {weight_height['Weight'].mean()}\")\n",
    "print(f\"Mediana: {weight_height['Weight'].median()}\")\n",
    "print(f\"Moda: {weight_height['Weight'].mode().values}\")\n",
    "\n",
    "# Medidas de dispersión\n",
    "print(f\"Desviación estándar: {weight_height['Weight'].std()}\")\n",
    "print(f\"Varianza: {weight_height['Weight'].var()}\")\n",
    "print(f\"Mínimo: {weight_height['Weight'].min()}\")\n",
    "print(f\"Máximo: {weight_height['Weight'].max()}\")\n",
    "print(f\"Rango: {weight_height['Weight'].max() - weight_height['Weight'].min()}\")"
   ]
  },
  {
   "cell_type": "code",
   "execution_count": null,
   "metadata": {},
   "outputs": [],
   "source": [
    "# Resumen estadistico de las variables\n",
    "weight_height.describe()"
   ]
  },
  {
   "cell_type": "markdown",
   "metadata": {},
   "source": [
    "**Visualizemos como de dispersan los datos**"
   ]
  },
  {
   "cell_type": "markdown",
   "metadata": {
    "id": "7y08J1dmiwkD"
   },
   "source": [
    "#### Histogramas y gráficos de densidad\n"
   ]
  },
  {
   "cell_type": "markdown",
   "metadata": {
    "id": "kvNqs_rYkeXu"
   },
   "source": [
    " 📊  Histograma vs KDE\n",
    "\n",
    "| Característica                  | Histograma 🟦                           | KDE 📈                                      |\n",
    "|--------------------------------|----------------------------------------|---------------------------------------------|\n",
    "| **Tipo de visualización**      | Barras por intervalos (bins)           | Curva continua que suaviza la distribución  |\n",
    "| **Dependencia del parámetro**  | Sensible al número y tamaño de los bins| Sensible al ancho de banda (bandwidth)      |\n",
    "| **Precisión de la forma**      | Aproximada, puede verse segmentada     | Más precisa, revela patrones suaves         |\n",
    "| **Interpretación del eje Y**   | Frecuencia (o densidad si se especifica)| Densidad de probabilidad                    |\n",
    "| **Uso recomendado**            | Exploración inicial o variables discretas| Comparación de distribuciones continuas     |"
   ]
  },
  {
   "cell_type": "code",
   "execution_count": null,
   "metadata": {},
   "outputs": [],
   "source": [
    "# 📊 Histograma con intervalos personalizados\n",
    "bins = list(range(50, 300, 10))  # Intervalos de 3 entre 35 y 55\n",
    "plt.figure(figsize=(10, 5))\n",
    "\n",
    "plt.hist(weight_height['Weight'], bins=bins, alpha=0.4, edgecolor='black',label='Bin personalizado (lista)')\n",
    "plt.hist(weight_height['Weight'], bins=5, alpha=0.4, edgecolor='black', label='Bin personalizado')\n",
    "plt.title(\"📈  Distribución del peso\")\n",
    "plt.legend()\n",
    "plt.xlabel(\"Peso (lbs)\")\n",
    "plt.ylabel(\"Frecuencia\")\n",
    "plt.grid(axis='y')\n",
    "plt.show()\n"
   ]
  },
  {
   "cell_type": "code",
   "execution_count": null,
   "metadata": {},
   "outputs": [],
   "source": [
    "# 📈 Gráfico de densidad (KDE)\n",
    "plt.figure(figsize=(10, 5))\n",
    "sns.kdeplot(weight_height['Weight'], fill=True, color='skyblue')\n",
    "plt.title(\"📈 Distribución de pesos - KDE\")\n",
    "plt.xlabel(\"Peso (lbs)\")\n",
    "plt.ylabel(\"Densidad\")\n",
    "plt.grid()\n",
    "plt.show()"
   ]
  },
  {
   "cell_type": "markdown",
   "metadata": {},
   "source": [
    "##### 🧠 Preguntas para Reflexionar\n",
    "\n",
    "1. 🧮 ¿Qué forma tiene la distribución de los peso?\n",
    "2. 🎯 ¿Cuál es el rango de pesos más común?\n",
    "3. 📉 ¿Qué ventajas aporta el gráfico de densidad (KDE) respecto al histograma?\n",
    "4. 🔍 ¿La distribución parece simétrica o presenta sesgo (inclinación) hacia algún lado?\n"
   ]
  },
  {
   "cell_type": "code",
   "execution_count": null,
   "metadata": {},
   "outputs": [],
   "source": [
    "(weight_height.groupby('Gender')\n",
    "  .agg(\n",
    "      media=('Weight','mean'),\n",
    "      mediana=('Weight','median'),\n",
    "      min=('Weight','min'),\n",
    "      max=('Weight','max'),\n",
    "      std=('Weight','std'),\n",
    "      var=('Weight','var')\n",
    "  ))"
   ]
  },
  {
   "cell_type": "code",
   "execution_count": null,
   "metadata": {},
   "outputs": [],
   "source": [
    "weight_height.groupby('Gender')['Weight'].describe()"
   ]
  },
  {
   "cell_type": "markdown",
   "metadata": {},
   "source": [
    "#### 4. 📦 Cuartiles e IQR (Rango Intercuartílico)\n",
    "- Q1: percentil 25, Q2: mediana (50%), Q3: percentil 75.\n",
    "- **IQR = Q3 - Q1**, describe la dispersión del 50% central de los datos.\n"
   ]
  },
  {
   "cell_type": "markdown",
   "metadata": {},
   "source": [
    "- Genera un **boxplot** que compare el peso por genero.\n",
    "- Genera un **histograma con KDE** para el peso de los hombres.\n",
    "  - Añade líneas verticales con la media y la mediana.\n",
    "  - ¿Cómo se distribuyen los datos?\n"
   ]
  },
  {
   "cell_type": "code",
   "execution_count": null,
   "metadata": {},
   "outputs": [],
   "source": [
    "plt.figure(figsize=(12, 5))\n",
    "sns.boxplot(data=weight_height, hue='Gender', y='Weight', palette='Set2')\n",
    "plt.title('Distribución del peso por género')\n",
    "plt.xticks(rotation=45)\n",
    "plt.xlabel('Genero')\n",
    "plt.ylabel('Peso (lbs)')"
   ]
  },
  {
   "cell_type": "code",
   "execution_count": null,
   "metadata": {},
   "outputs": [],
   "source": [
    "# 📈 Gráfico de densidad (KDE)\n",
    "plt.figure(figsize=(10, 5))\n",
    "sns.kdeplot(data=weight_height, x='Weight', fill=True, color='skyblue',hue='Gender')\n",
    "plt.title(\"📈 Distribución de pesos por género - KDE\")\n",
    "plt.xlabel(\"Peso (lbs)\")\n",
    "plt.ylabel(\"Densidad\")\n",
    "plt.grid()\n",
    "plt.show()"
   ]
  },
  {
   "cell_type": "code",
   "execution_count": null,
   "metadata": {},
   "outputs": [],
   "source": [
    "df_male = weight_height[weight_height['Gender'] == \"Male\"]\n",
    "media = df_male['Weight'].mean()\n",
    "mediana = df_male['Weight'].median()\n",
    "sns.histplot(df_male['Weight'], bins=20, kde=True, color='skyblue')\n",
    "plt.axvline(media, color='red', linestyle='--', label=f'Media: {media:.2f}')\n",
    "plt.axvline(mediana, color='green', linestyle='--', label=f'Mediana: {mediana:.2f}')\n",
    "plt.title('Histograma + KDE - Male')\n",
    "plt.xlabel('Peso (lbs)')\n",
    "plt.ylabel('Frecuencia')\n",
    "plt.legend()\n",
    "plt.show()"
   ]
  },
  {
   "cell_type": "markdown",
   "metadata": {},
   "source": [
    "#### 5. 🛎 Distribución Normal y la Regla de las 3 Sigmas\n",
    "- Distribución simétrica en forma de campana.\n",
    "- **Regla**:\n",
    "  - 68% de los valores dentro de ±1σ\n",
    "  - 95% dentro de ±2σ\n",
    "  - 99.7% dentro de ±3σ\n"
   ]
  },
  {
   "cell_type": "markdown",
   "metadata": {},
   "source": [
    "- Calcula el intervalo de la regla de las 3 sigmas para el peso de los hombres."
   ]
  },
  {
   "cell_type": "code",
   "execution_count": null,
   "metadata": {},
   "outputs": [],
   "source": [
    "# 1️⃣ Calcular media y desviación estándar\n",
    "media = df_male['Weight'].mean()\n",
    "std = df_male['Weight'].std()\n",
    "total_casos = df_male.shape[0]\n",
    "\n",
    "# 2️⃣ Calcular los límites de ±3σ\n",
    "limite_inferior = media - 3 * std\n",
    "limite_superior = media + 3 * std\n",
    "\n",
    "print(f\"Intervalo de la regla de 3 sigma(s): ({limite_inferior:.2f}, {limite_superior:.2f})\")"
   ]
  },
  {
   "cell_type": "code",
   "execution_count": null,
   "metadata": {},
   "outputs": [],
   "source": [
    "def n_sigmas(sigma):\n",
    "    if sigma < 1:\n",
    "        return \"Dentro de 1 sigma\"\n",
    "    elif sigma < 2:\n",
    "        return \"Dentro de 2 sigmas\"\n",
    "    elif sigma <3:\n",
    "        return \"Dentro de 3 sigmas\"\n",
    "    else:\n",
    "        return \"Más de 3 sigmas\"\n",
    "        \n",
    "\n",
    "(\n",
    "    df_male\n",
    "    .assign(\n",
    "        n_sigma = lambda df: abs(df['Weight'] - media) / std,\n",
    "        n_sigma_tag = lambda df: df['n_sigma'].apply(n_sigmas)\n",
    "    )\n",
    "    .groupby('n_sigma_tag')\n",
    "    .agg(\n",
    "        count=('n_sigma', 'count'),\n",
    "        min=('Weight', 'min'),\n",
    "        max=('Weight', 'max')\n",
    "    )\n",
    "    .assign(\n",
    "        percentage=lambda df: 100*(df['count'] / total_casos),\n",
    "        cumulative = lambda df: df['percentage'].cumsum() \n",
    "    )\n",
    ")"
   ]
  },
  {
   "cell_type": "markdown",
   "metadata": {},
   "source": [
    "#### 6. 🚨 Valores Atípicos (Outliers)\n",
    "- Puntos fuera de **1.5 × IQR** desde Q1 o Q3.\n",
    "- Su detección es fundamental para entender desviaciones o errores en los datos."
   ]
  },
  {
   "cell_type": "markdown",
   "metadata": {},
   "source": [
    "- Verifica si hay valores fuera de ese rango (posibles valores atípicos) para las regla 3 sigma"
   ]
  },
  {
   "cell_type": "code",
   "execution_count": null,
   "metadata": {},
   "outputs": [],
   "source": [
    "# 3️⃣ Verificar qué valores están fuera del intervalo\n",
    "fuera_de_rango = df_male[(df_male['Weight'] < limite_inferior) | (df_male['Weight'] > limite_superior)]\n",
    "\n",
    "print(f\"Número de valores fuera del rango: {fuera_de_rango.shape[0]}\")\n",
    "print(f\"Valores fuera del rango:\\n{fuera_de_rango}\")"
   ]
  },
  {
   "cell_type": "markdown",
   "metadata": {},
   "source": [
    "- ¿Qué porcentaje de los datos cae fuera de ±3σ?"
   ]
  },
  {
   "cell_type": "code",
   "execution_count": null,
   "metadata": {},
   "outputs": [],
   "source": [
    "# 4️⃣ Calcular porcentaje de datos fuera de ±3σ\n",
    "total = df_male.shape[0]\n",
    "porcentaje_fuera = (fuera_de_rango.shape[0] / total_casos) * 100\n",
    "\n",
    "print(f\"📊 Porcentaje de datos fuera de ±3σ: {porcentaje_fuera:.2f}%\")"
   ]
  },
  {
   "cell_type": "markdown",
   "metadata": {},
   "source": [
    "- Detectar outliers con IQR\n",
    "    - Calcula **Q1**, **Q3** y el **IQR** para los pesos."
   ]
  },
  {
   "cell_type": "code",
   "execution_count": null,
   "metadata": {},
   "outputs": [],
   "source": [
    "# Calcular Q1, Q3 e IQR\n",
    "q1 = df_male['Weight'].quantile(0.25)\n",
    "q3 = df_male['Weight'].quantile(0.75)\n",
    "iqr = q3 - q1\n",
    "\n",
    "print(f\"Q1: {q1:.2f}, Q3: {q3:.2f}, IQR: {iqr:.2f}\")"
   ]
  },
  {
   "cell_type": "code",
   "execution_count": null,
   "metadata": {},
   "outputs": [],
   "source": [
    "# Calcular límites inferior y superior\n",
    "limite_inferior = q1 - 1.5 * iqr\n",
    "limite_superior = q3 + 1.5 * iqr\n",
    "\n",
    "print(f\"Límite inferior: {limite_inferior:.2f}\")\n",
    "print(f\"Límite superior: {limite_superior:.2f}\")"
   ]
  },
  {
   "cell_type": "markdown",
   "metadata": {},
   "source": [
    "- Cuenta cuántos **outliers** hay y menciona sus valores."
   ]
  },
  {
   "cell_type": "code",
   "execution_count": null,
   "metadata": {},
   "outputs": [],
   "source": [
    "# Detectar outliers\n",
    "outliers = df_male[(df_male['Weight'] < limite_inferior) | (df_male['Weight'] > limite_superior)]\n",
    "\n",
    "# Mostrar resultados\n",
    "print(f\"Cantidad de outliers detectados: {outliers.shape[0]}\")\n",
    "print(\"Valores de tiempo considerados outliers:\")\n",
    "sorted(outliers['Weight'].values.tolist())"
   ]
  },
  {
   "cell_type": "markdown",
   "metadata": {
    "id": "mXIv7DpwndWD"
   },
   "source": [
    "\n",
    "\n",
    "\n",
    "#### 7. ↕️ Sesgo (Asimetría)\n",
    "- **Sesgo positivo (derecha)**: Media > Mediana.\n",
    "- **Sesgo negativo (izquierda)**: Media < Mediana.\n",
    "- Puede detectarse visualmente en histogramas o boxplots.\n",
    "\n",
    "\n"
   ]
  },
  {
   "cell_type": "code",
   "execution_count": null,
   "metadata": {},
   "outputs": [],
   "source": [
    "# Distribución normal modificada para sesgo negativo\n",
    "data_neg = np.random.normal(loc=50, scale=10, size=1000)\n",
    "data_neg = -np.exp(data_neg / 25) + 100  # transforma para sesgo negativo\n",
    "\n",
    "# Calcular media y mediana\n",
    "media_neg = np.mean(data_neg)\n",
    "mediana_neg = np.median(data_neg)\n",
    "\n",
    "# Plot KDE + Histograma\n",
    "plt.figure(figsize=(10, 5))\n",
    "sns.histplot(data_neg, kde=True, bins=30, color='orchid')\n",
    "plt.axvline(media_neg, color='red', linestyle='--', label=f'Media: {media_neg:.2f}')\n",
    "plt.axvline(mediana_neg, color='green', linestyle='--', label=f'Mediana: {mediana_neg:.2f}')\n",
    "plt.title(\"Distribución con sesgo negativo (asimetría a la izquierda)\")\n",
    "plt.xlabel(\"Valor\")\n",
    "plt.ylabel(\"Frecuencia / Densidad\")\n",
    "plt.legend()\n",
    "plt.grid(True)\n",
    "plt.tight_layout()\n",
    "plt.show()"
   ]
  },
  {
   "cell_type": "code",
   "execution_count": null,
   "metadata": {},
   "outputs": [],
   "source": [
    "# Semilla para reproducibilidad\n",
    "np.random.seed(42)\n",
    "\n",
    "# Distribución normal modificada para sesgo positivo\n",
    "data_pos = np.random.normal(loc=50, scale=10, size=1000)\n",
    "data_pos = np.exp(data_pos / 25)  # transforma para sesgo positivo\n",
    "\n",
    "# Calcular media y mediana\n",
    "media_pos = np.mean(data_pos)\n",
    "mediana_pos = np.median(data_pos)\n",
    "\n",
    "# Plot KDE + Histograma\n",
    "plt.figure(figsize=(10, 5))\n",
    "sns.histplot(data_pos, kde=True, bins=30, color='skyblue')\n",
    "plt.axvline(media_pos, color='red', linestyle='--', label=f'Media: {media_pos:.2f}')\n",
    "plt.axvline(mediana_pos, color='green', linestyle='--', label=f'Mediana: {mediana_pos:.2f}')\n",
    "plt.title(\"Distribución con sesgo positivo (asimetría a la derecha)\")\n",
    "plt.xlabel(\"Valor\")\n",
    "plt.ylabel(\"Frecuencia / Densidad\")\n",
    "plt.legend()\n",
    "plt.grid(True)\n",
    "plt.tight_layout()\n",
    "plt.show()"
   ]
  },
  {
   "cell_type": "markdown",
   "metadata": {},
   "source": [
    "**La distribución de pesos en hombres, ¿tiene algún sesgo?**"
   ]
  },
  {
   "cell_type": "code",
   "execution_count": null,
   "metadata": {},
   "outputs": [],
   "source": [
    "df_male = weight_height[weight_height['Gender'] == \"Male\"]\n",
    "media = df_male['Weight'].mean()\n",
    "mediana = df_male['Weight'].median()\n",
    "sns.histplot(df_male['Weight'], bins=20, kde=True, color='skyblue')\n",
    "plt.axvline(media, color='red', linestyle='--', label=f'Media: {media:.2f}')\n",
    "plt.axvline(mediana, color='green', linestyle='--', label=f'Mediana: {mediana:.2f}')\n",
    "plt.title('Histograma + KDE - Male')\n",
    "plt.xlabel('Peso (lbs)')\n",
    "plt.ylabel('Frecuencia')\n",
    "plt.legend()\n",
    "plt.show()"
   ]
  },
  {
   "cell_type": "markdown",
   "metadata": {},
   "source": [
    "#### 8. 🔗 Covarianza\n",
    "- Mide cómo **varían conjuntamente** dos variables.\n",
    "  - Positiva: ambas suben o bajan juntas.\n",
    "  - Negativa: cuando una sube, la otra baja.\n",
    "  - Cero: no hay relación lineal clara.\n"
   ]
  },
  {
   "cell_type": "markdown",
   "metadata": {},
   "source": [
    "> 🔎 El valor numérico de la varianza y la covarianza no tiene una interpretación directa sencilla por sus unidades combinadas. Se usan principalmente para describir la dispersión y la relación entre variables, pero para comparar o interpretar mejor, se suele usar la desviación estándar (para varianza) y la correlación (para covarianza)."
   ]
  },
  {
   "cell_type": "markdown",
   "metadata": {},
   "source": [
    "**Analizar relación entre variables**\n",
    "- Usa un **diagrama de dispersión** para visualizar la relación entre peso y la estatura."
   ]
  },
  {
   "cell_type": "code",
   "execution_count": null,
   "metadata": {},
   "outputs": [],
   "source": [
    "# 1️⃣ Diagrama de dispersión\n",
    "plt.figure(figsize=(8, 6))\n",
    "sns.scatterplot(data=weight_height, x='Weight', y='Height')\n",
    "plt.title('Relación entre Peso y Altura')\n",
    "plt.xlabel('Peso (lbs)')\n",
    "plt.ylabel('Altura (inches)')\n",
    "plt.grid(True)\n",
    "plt.tight_layout()\n",
    "plt.show()"
   ]
  },
  {
   "cell_type": "code",
   "execution_count": null,
   "metadata": {},
   "outputs": [],
   "source": [
    "plt.figure(figsize=(8, 6))\n",
    "sns.scatterplot(data=weight_height, x='Weight', y='Height',hue='Gender', palette='Set2')\n",
    "plt.title('Relación entre Peso y Altura por Género')\n",
    "plt.xlabel('Peso (lbs)')\n",
    "plt.ylabel('Altura (inches)')\n",
    "plt.grid(True)\n",
    "plt.tight_layout()\n",
    "plt.show()"
   ]
  },
  {
   "cell_type": "code",
   "execution_count": null,
   "metadata": {},
   "outputs": [],
   "source": [
    "plt.figure(figsize=(8, 6))\n",
    "sns.regplot(data=weight_height, x='Weight', y='Height', scatter=True, line_kws={'color': 'red'})\n",
    "plt.title('Relación entre Peso y Estatura con Línea de Tendencia')\n",
    "plt.xlabel('Peso (lbs)')\n",
    "plt.ylabel('Estatura (inches)')\n",
    "plt.grid(True)\n",
    "plt.tight_layout()\n",
    "plt.show()"
   ]
  },
  {
   "cell_type": "markdown",
   "metadata": {},
   "source": [
    "- Calcula la **covarianza** entre estas dos variables.\n",
    "- ¿Existe una relación lineal aparente?"
   ]
  },
  {
   "cell_type": "code",
   "execution_count": null,
   "metadata": {},
   "outputs": [],
   "source": [
    "# 2️⃣ Calcular covarianza\n",
    "covarianza = weight_height[['Weight', 'Height']].cov().iloc[0, 1]\n",
    "print(f'📊 Covarianza entre Peso y altura: {covarianza:.2f}')\n",
    "\n",
    "# 3️⃣ Interpretación :\n",
    "if covarianza > 0:\n",
    "    print(\"↗️ Existe una relación positiva: a más altura, se espera mayor peso.\")\n",
    "elif covarianza < 0:\n",
    "    print(\"↘️ Existe una relación negativa: a menos altura, se espera menor peso.\")\n",
    "else:\n",
    "    print(\"➖ No hay relación lineal aparente.\")"
   ]
  },
  {
   "cell_type": "markdown",
   "metadata": {},
   "source": [
    "## Resumen\n",
    "\n",
    "1. **Diferenciación de variables:**  \n",
    "   Aprendiste a distinguir entre variables discretas (valores contables) y continuas (valores medibles).\n",
    "\n",
    "2. **Análisis exploratorio y estadística descriptiva:**  \n",
    "   Aplicaste técnicas para describir y visualizar la distribución de variables numéricas, utilizando medidas como media, mediana, moda, varianza y desviación estándar.\n",
    "\n",
    "3. **Detección y análisis de valores atípicos:**  \n",
    "   Utilizaste métodos como la regla de las 3 sigmas y el rango intercuartílico (IQR) para identificar outliers y comprender su impacto en los datos.\n",
    "\n",
    "4. **Visualización de datos:**  \n",
    "   Generaste histogramas, gráficos de densidad (KDE), boxplots y diagramas de dispersión para interpretar la forma, dispersión y relaciones en los datos.\n",
    "\n",
    "5. **Relación entre variables:**  \n",
    "   Exploraste la relación entre altura y peso mediante covarianza, correlación y gráficos de dispersión, identificando patrones y diferencias por género."
   ]
  }
 ],
 "metadata": {
  "colab": {
   "authorship_tag": "ABX9TyOCcqB+FAoZ0XtZsOTcwEI/",
   "mount_file_id": "1ovKmvZFASJEHuetkS0oyaKsOZ0qPoolb",
   "provenance": []
  },
  "kernelspec": {
   "display_name": ".venv",
   "language": "python",
   "name": "python3"
  },
  "language_info": {
   "codemirror_mode": {
    "name": "ipython",
    "version": 3
   },
   "file_extension": ".py",
   "mimetype": "text/x-python",
   "name": "python",
   "nbconvert_exporter": "python",
   "pygments_lexer": "ipython3",
   "version": "3.12.0"
  }
 },
 "nbformat": 4,
 "nbformat_minor": 0
}
