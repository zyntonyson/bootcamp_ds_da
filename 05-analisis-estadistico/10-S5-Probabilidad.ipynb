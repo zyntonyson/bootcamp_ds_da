{
 "cells": [
  {
   "cell_type": "markdown",
   "metadata": {
    "id": "zh8QZddZfxEM"
   },
   "source": [
    "# 🧠 Distribuciones de probabilidad"
   ]
  },
  {
   "cell_type": "markdown",
   "metadata": {},
   "source": [
    "---\n",
    "\n",
    "## Objetivos académicos\n",
    "\n",
    "1. **Comprender los conceptos fundamentales de probabilidad** y su aplicación en la cuantificación de la incertidumbre y el riesgo en diferentes contextos.\n",
    "\n",
    "2. **Identificar y aplicar las principales distribuciones de probabilidad** (binomial y normal) para modelar fenómenos aleatorios tanto discretos como continuos.\n",
    "\n",
    "3. **Resolver problemas prácticos utilizando fórmulas y funciones estadísticas en Python**, interpretando resultados y visualizando distribuciones de probabilidad.\n",
    "\n",
    "4. **Distinguir entre eventos independientes y dependientes**, y calcular probabilidades compuestas en situaciones reales.\n",
    "\n",
    "---"
   ]
  },
  {
   "cell_type": "markdown",
   "metadata": {
    "id": "Okz_zAJ-f4h3"
   },
   "source": [
    "## Configuración"
   ]
  },
  {
   "cell_type": "code",
   "execution_count": null,
   "metadata": {
    "id": "9xG-dabnXZng"
   },
   "outputs": [],
   "source": [
    "import matplotlib.pyplot as plt\n",
    "from scipy.stats import binom, norm\n",
    "import numpy as np\n",
    "import pandas as pd"
   ]
  },
  {
   "cell_type": "markdown",
   "metadata": {},
   "source": [
    "## Probabilidad clásica\n",
    "\n",
    "----"
   ]
  },
  {
   "cell_type": "markdown",
   "metadata": {
    "id": "0rZ4G9yvRA6e"
   },
   "source": [
    "\n",
    "\n",
    "La probabilidad estudia la incertidumbre y permite cuantificar el **riesgo** o **posibilidad** de que ocurra un evento.\n",
    "\n",
    "\n",
    "Predecimos usando la **frecuencia relativa** o **modelos probabilísticos** basados en experimentos repetidos.\n",
    "\n",
    "---\n",
    "\n",
    "- **Probabilidad clásica:**  \n",
    "\n",
    "---\n",
    "\n",
    "\n",
    "  $$\n",
    "  P(A) = \\frac{\\text{número de casos favorables}}{\\text{número de casos posibles}}\n",
    "  $$\n",
    "\n",
    " 🎲 Ejemplos clásicos:\n",
    "\n",
    "---\n",
    "\n",
    "1. **¿Cuál es la probabilidad de sacar un número par al lanzar un dado?**  \n",
    "   Casos favorables: 2, 4, 6 ⇒ 3  \n",
    "   Casos posibles: 6  \n",
    "   $$\n",
    "   P(\\text{par}) = \\frac{3}{6} = 0.5\n",
    "   $$\n",
    "\n",
    "2. **¿Cuál es la probabilidad de sacar un 4?**  \n",
    "   $$\n",
    "   P(4) = \\frac{1}{6}\n",
    "   $$\n",
    "\n",
    "3. **¿Cuál es la probabilidad de sacar un número mayor que 4?**  \n",
    "   Casos favorables: 5, 6 ⇒ 2  \n",
    "   $$\n",
    "   P(>4) = \\frac{2}{6} = \\frac{1}{3}\n",
    "   $$\n",
    "\n",
    "---\n",
    "\n",
    "**Eventos independientes**\n",
    "\n",
    "---\n",
    "\n",
    "Dos eventos $A$ y $B$ son **independientes** si la ocurrencia de uno no afecta al otro.\n",
    "\n",
    "$$\n",
    "P(A \\cap B) = P(A) \\cdot P(B)\n",
    "$$\n",
    "\n",
    "\n",
    " 🧪 Ejemplos:\n",
    "\n",
    "---\n",
    "\n",
    "1. **Lanzar una moneda y un dado:**  \n",
    "   $$\n",
    "   P(\\text{cara y número par}) = 0.5 \\cdot 0.5 = 0.25\n",
    "   $$\n",
    "\n",
    "2. **Sacar una bola roja de una urna y lanzar una moneda:**  \n",
    "   $$\n",
    "   P(\\text{roja y águila}) = \\frac{2}{5} \\cdot 0.5 = \\frac{1}{5}\n",
    "   $$\n"
   ]
  },
  {
   "cell_type": "markdown",
   "metadata": {
    "id": "b_0gPahVV9zp"
   },
   "source": [
    "\n",
    "## Distribuciónes de probabilidad\n",
    "\n",
    "Una **distribución de probabilidad** es un modelo matemático que describe cómo se distribuyen los valores posibles de una variable aleatoria.\n",
    "\n",
    "\n",
    "  >Una distribución de probabilidad es como un mapa que nos dice qué tan probable es cada resultado posible de una situación con incertidumbre.\n",
    "  >Imagina que lanzas un dado: la distribución nos diría qué tan probable es sacar un 1, un 2, un 3… hasta un 6.\n",
    "\n",
    "---\n"
   ]
  },
  {
   "cell_type": "markdown",
   "metadata": {
    "id": "yg0grU3qWC7G"
   },
   "source": [
    "### Distribución binomial\n",
    "---\n",
    "\n",
    "Modela el número de éxitos en $n$ ensayos independientes con probabilidad $p$ de éxito.\n",
    "\n",
    "$$\n",
    "P(X = k) = C(n, k) \\cdot p^k \\cdot (1 - p)^{n - k}\n",
    "$$\n",
    "\n",
    "\n",
    "Esta distribución se usa cuando:\n",
    "\n",
    "* La variable aleatoria es discreta.\n",
    "* Haces el mismo experimento varias veces (como lanzar una moneda o responder preguntas de opción múltiple).\n",
    "* Cada intento tiene solo dos resultados: éxito o fracaso.\n",
    "* La probabilidad de éxito es la misma cada vez.\n",
    "* Los intentos son independientes entre sí.\n",
    "\n",
    "#### Ejemplos de variables aleatorias modeladas con una distribución binomial\n",
    "\n",
    "\n",
    "\n",
    "1. **Salud:**  \n",
    "   > Número de pacientes que presentan efectos secundarios tras recibir una vacuna (de un grupo de $n$ vacunados).\n",
    "\n",
    "2. **Economía:**  \n",
    "   > Número de clientes que aceptan una oferta promocional en una campaña de marketing (de $n$ clientes contactados).\n",
    "\n",
    "3. **Ciencias:**  \n",
    "   > Número de experimentos exitosos en una serie de pruebas de laboratorio (de $n$ intentos).\n",
    "\n",
    "4. **Ingenierías:**  \n",
    "   > Número de componentes electrónicos defectuosos en un lote de $n$ piezas producidas.\n",
    "\n",
    "5. **Biología:**  \n",
    "   > Número de semillas que germinan en una muestra de $n$ semillas plantadas, con una probabilidad conocida de germinación.\n",
    "\n",
    "6. **Química:**  \n",
    "   > Número de reacciones que producen el producto deseado en $n$ repeticiones de un experimento químico.\n",
    "\n",
    "7. **Educación:**  \n",
    "   > Número de estudiantes que aprueban un examen estandarizado (de $n$ estudiantes que lo presentan).\n",
    "\n",
    "8. **Agricultura:**  \n",
    "   > Número de plantas que sobreviven después de un tratamiento específico (de $n$ plantas tratadas).\n",
    "\n",
    "9. **Tecnología:**  \n",
    "   > Número de correos electrónicos que son marcados como spam por un filtro automático (de $n$ correos recibidos).\n",
    "\n",
    "10. **Deportes:**  \n",
    "    > Número de tiros acertados por un jugador en una serie de $n$ lanzamientos libres, con probabilidad constante de acierto.\n",
    "\n",
    "---\n",
    "\n",
    "\n",
    "\n",
    "#### Intuición tras el modelo\n",
    "---\n",
    "\n",
    "Considera el siguiente caso: \n",
    "\n",
    "> Una fabrica sabe que cierto producto sale de la linea de producción con defectos un 15 % de las veces. El producto se vende en u paquete con de 3 piezas. Representa la distribución para la cantidad de piezas defectuosas en un paquete.\n",
    "\n",
    "1. La variable aleatoria $x$ es la cantidad de piezas defectuosas en el paquete, la cual puede tomar valores entre 0 y 3.\n",
    "2. La variable aleatoria es discreta.\n",
    "3. Una pieza está defectuosa o no.\n",
    "4. Se conoce una probabilidad $p$ de que la pieza sea defectuosa.\n",
    "5. El estado de una pieza no depende del anterior ni afecta al siguiente (son independientes).\n",
    "\n",
    "\n",
    "Analicemos el caso de que $x=1$, es decir que haya un producto defectuoso dentro del paquete. Dado que los eventos son independientes la probabilidad estaría dada por  $p\\cdot(1-p)(1-p)$, aqui puedes darte cuenta que esto solo consideran una sola posibilidad, cuando en realidad existen varias formas en las que puede haber exactamente una pieza defectuosa en el paquete: la primera, la segunda o la tercera pieza pueden ser la defectuosa. Por lo tanto, debemos considerar todas las **combinaciones** posibles. En este caso, hay 3 formas diferentes de que una sola pieza sea defectuosa y las otras dos no. Así, la probabilidad total de que haya exactamente una pieza defectuosa es:\n",
    "\n",
    "$$\n",
    "P(x=1) = C(3,1) \\cdot p \\cdot (1-p)^2\n",
    "$$\n",
    "\n",
    "donde $C(3,1)$ representa el número de maneras de elegir una pieza defectuosa entre tres. Este razonamiento se generaliza para cualquier número de piezas defectuosas en el paquete, utilizando la fórmula de la distribución binomial.\n",
    "\n"
   ]
  },
  {
   "cell_type": "markdown",
   "metadata": {},
   "source": [
    "#### 🛡️🏢 Ejemplo 1:\n",
    "---\n",
    "\n",
    "Supón que una aseguradora sabe que, en promedio, el 10% de los clientes presentan un reclamo por accidente de auto cada año. Si seleccionamos al azar 6 clientes, sea $X$ la variable aleatoria que representa el número de clientes que presentan al menos un reclamo en el año.\n",
    "\n",
    "Responde lo siguiente usando la fórmula de la binomial:\n",
    "\n",
    "$$\n",
    "P(X = k) = C(n, k) \\cdot p^k \\cdot (1-p)^{n-k}\n",
    "$$\n",
    "\n",
    "Donde $n = 6$, $p = 0.1$.\n",
    "\n",
    "---\n",
    "\n",
    "\n"
   ]
  },
  {
   "cell_type": "code",
   "execution_count": null,
   "metadata": {},
   "outputs": [],
   "source": [
    "def get_pmf_binomial(n, p,labels=True):\n",
    "    # Inicializamos listas vacías\n",
    "    x_vals = []\n",
    "    probabilidades = []\n",
    "\n",
    "    # Llenamos las listas usando un ciclo for\n",
    "    for k in range(n + 1):\n",
    "        x_vals.append(k)\n",
    "        prob = binom.pmf(k, n, p)\n",
    "        probabilidades.append(prob)\n",
    "\n",
    "    # Graficamos\n",
    "    plt.figure(figsize=(8, 5))\n",
    "    bars = plt.bar(x_vals, probabilidades, color=\"skyblue\", edgecolor=\"black\")\n",
    "\n",
    "    # Agregar etiquetas de valor a cada barra\n",
    "    if labels:\n",
    "        for i in range(len(x_vals)):\n",
    "            plt.text(x_vals[i], 1.01*probabilidades[i] , f\"{probabilidades[i]:.2f}\",\n",
    "                    ha='center', va='bottom', fontsize=10)\n",
    "\n",
    "    plt.title(f\"Distribución Binomial: PMF (n = {n}, p = {p})\")\n",
    "    plt.xlabel(\"Éxitos (X)\")\n",
    "    plt.ylabel(\"Probabilidad P(X = x)\")\n",
    "    plt.xticks(x_vals)\n",
    "    plt.ylim(0, 1.05*max(probabilidades) )  # margen superior para las etiquetas\n",
    "    plt.grid(axis='y', linestyle='--', alpha=0.7)\n",
    "    plt.show()"
   ]
  },
  {
   "cell_type": "code",
   "execution_count": null,
   "metadata": {},
   "outputs": [],
   "source": [
    "get_pmf_binomial(6, 0.1)"
   ]
  },
  {
   "cell_type": "markdown",
   "metadata": {},
   "source": [
    "\n",
    "1. **¿Cuál es la probabilidad de que exactamente 2 clientes presenten un reclamo este año?**  \n",
    "   $$\n",
    "   P(X = 2) = C(6, 2) \\cdot (0.1)^2 \\cdot (0.9)^{4} \\approx 0.0984\n",
    "   $$\n",
    "\n",
    "2. **¿Cuál es la probabilidad de que menos de 3 clientes presenten un reclamo?**  \n",
    "   $$\n",
    "   P(X < 3) = P(X = 0) + P(X = 1) + P(X = 2)\n",
    "   $$\n",
    "   $$\n",
    "   = C(6, 0) \\cdot (0.1)^0 \\cdot (0.9)^{6} + C(6, 1) \\cdot (0.1)^1 \\cdot (0.9)^{5} + C(6, 2) \\cdot (0.1)^2 \\cdot (0.9)^{4} \\approx 0.9841\n",
    "   $$\n",
    "\n",
    "3. **¿Cuál es la probabilidad de que más de 4 clientes presenten un reclamo?**  \n",
    "   $$\n",
    "   P(X > 4) = 1 - P(X \\leq 4)\n",
    "   $$\n",
    "   $$\n",
    "   = 1 - \\sum_{k=0}^{4} C(6, k) \\cdot (0.1)^k \\cdot (0.9)^{6-k} \\approx 0.9407\n",
    "   $$\n",
    "\n",
    "4. **¿Cuál es la probabilidad de que entre 2 y 4 clientes (excluyendo los extremos) presenten un reclamo?**  \n",
    "   $$\n",
    "   P(2 < X < 4) = P(X = 3)\n",
    "   $$\n",
    "   $$\n",
    "   = C(6, 3) \\cdot (0.1)^3 \\cdot (0.9)^{3} \\approx 0.0138\n",
    "   $$\n",
    "\n",
    "   *(Si quieres incluir ambos extremos: $P(2 \\leq X \\leq 4) = P(X=2) + P(X=3) + P(X=4)$)*\n",
    "\n",
    "---"
   ]
  },
  {
   "cell_type": "markdown",
   "metadata": {
    "id": "mxf2l4nQWmtV"
   },
   "source": [
    "**Solución con paquete estadístico**"
   ]
  },
  {
   "cell_type": "markdown",
   "metadata": {},
   "source": [
    "\n",
    "\n",
    "| Método | Descripción | Ejemplo |\n",
    "|--------|-------------|---------|\n",
    "| `binom.pmf(k, n, p)` | Probabilidad de que ocurra exactamente $k$ éxitos | `binom.pmf(3, 5, 0.5)` → $P(X = 3)$ |\n",
    "| `binom.cdf(k, n, p)` | Probabilidad acumulada de hasta $k$ éxitos | `binom.cdf(3, 5, 0.5)` → $P(X \\leq 3)$ |\n",
    "| `binom.sf(k, n, p)` | Probabilidad de más de $k$ éxitos | `binom.sf(3, 5, 0.5)` → $P(X > 3)$ |\n",
    "\n",
    "\n",
    "---\n"
   ]
  },
  {
   "cell_type": "code",
   "execution_count": null,
   "metadata": {},
   "outputs": [],
   "source": [
    "n=6\n",
    "p =0.1"
   ]
  },
  {
   "cell_type": "markdown",
   "metadata": {},
   "source": [
    "\n",
    "1. **¿Cuál es la probabilidad de que exactamente 2 clientes presenten un reclamo este año?**  \n",
    "   $$\n",
    "   P(X = 2) = \\text{binom.pmf}(2, 6, 0.1)\n",
    "   $$\n"
   ]
  },
  {
   "cell_type": "code",
   "execution_count": null,
   "metadata": {},
   "outputs": [],
   "source": [
    "binom.pmf(2, n, p)"
   ]
  },
  {
   "cell_type": "markdown",
   "metadata": {},
   "source": [
    "2. **¿Cuál es la probabilidad de que menos de 3 clientes presenten un reclamo?**  \n",
    "   $$\n",
    "   P(X < 3) = P(X \\leq 2) = \\text{binom.cdf}(2, 6, 0.1)\n",
    "   $$"
   ]
  },
  {
   "cell_type": "code",
   "execution_count": null,
   "metadata": {},
   "outputs": [],
   "source": [
    "binom.cdf(2, n, p)"
   ]
  },
  {
   "cell_type": "markdown",
   "metadata": {},
   "source": [
    "3. **¿Cuál es la probabilidad de que más de 4 clientes presenten un reclamo?**  \n",
    "   $$\n",
    "   P(X > 4) = \\text{binom.sf}(4, 6, 0.1)\n",
    "   $$"
   ]
  },
  {
   "cell_type": "code",
   "execution_count": null,
   "metadata": {},
   "outputs": [],
   "source": [
    "binom.sf(4, n, p)"
   ]
  },
  {
   "cell_type": "markdown",
   "metadata": {},
   "source": [
    "4. **¿Cuál es la probabilidad de que entre 2 y 4 clientes (excluyendo los extremos) presenten un reclamo?**  \n",
    "   $$\n",
    "   P(2 < X < 4) = P(X = 3) = \\text{binom.pmf}(3, 6, 0.1)\n",
    "   $$\n",
    "   *(Si quieres incluir ambos extremos: $P(2 \\leq X \\leq 4) = \\text{binom.cdf}(4, 6, 0.1) - \\text{binom.cdf}(1, 6, 0.1)$)*\n"
   ]
  },
  {
   "cell_type": "code",
   "execution_count": null,
   "metadata": {},
   "outputs": [],
   "source": [
    "binom.pmf(3, n, p)"
   ]
  },
  {
   "cell_type": "code",
   "execution_count": null,
   "metadata": {},
   "outputs": [],
   "source": [
    "binom.cdf(4, n, p) - binom.cdf(1, n, p)"
   ]
  },
  {
   "cell_type": "markdown",
   "metadata": {},
   "source": [
    "#### 💾🏭 Ejemplo 2:\n",
    "\n",
    "---"
   ]
  },
  {
   "cell_type": "markdown",
   "metadata": {
    "id": "MXOM4utaDnfj"
   },
   "source": [
    "En una línea de producción de chips de memoria, la probabilidad de que un chip individual sea defectuoso es de 0.02 (2%). Se toma una muestra aleatoria de 100 chips producidos en un día.\n",
    "\n",
    "Sea $(X)$ la variable aleatoria que representa el número de chips defectuosos en la muestra. Asumimos que la producción de cada chip es independiente de los demás."
   ]
  },
  {
   "cell_type": "code",
   "execution_count": null,
   "metadata": {},
   "outputs": [],
   "source": [
    "get_pmf_binomial(100, 0.02,False)"
   ]
  },
  {
   "cell_type": "markdown",
   "metadata": {},
   "source": [
    "Calcula las siguientes probabilidades:\n",
    "\n",
    "* Exactamente 3 chips son defectuosos."
   ]
  },
  {
   "cell_type": "code",
   "execution_count": null,
   "metadata": {
    "colab": {
     "base_uri": "https://localhost:8080/"
    },
    "executionInfo": {
     "elapsed": 18,
     "status": "ok",
     "timestamp": 1747700431781,
     "user": {
      "displayName": "Roman Castillo",
      "userId": "03738236345711029424"
     },
     "user_tz": 360
    },
    "id": "1WaUs9UGDpA2",
    "outputId": "1ffe6068-d9e5-4799-949b-9159d9161caa"
   },
   "outputs": [],
   "source": [
    "#Exactamente 3 chips son defectuosos\n",
    "binom.pmf(3, 100, 0.02)"
   ]
  },
  {
   "cell_type": "markdown",
   "metadata": {},
   "source": [
    "* Menos de 2 chips son defectuosos (cola izquierda).\n",
    "."
   ]
  },
  {
   "cell_type": "code",
   "execution_count": null,
   "metadata": {
    "colab": {
     "base_uri": "https://localhost:8080/"
    },
    "executionInfo": {
     "elapsed": 59,
     "status": "ok",
     "timestamp": 1747700499087,
     "user": {
      "displayName": "Roman Castillo",
      "userId": "03738236345711029424"
     },
     "user_tz": 360
    },
    "id": "eq8uzYTKEJBS",
    "outputId": "7d8b6e94-ee40-4c50-b23f-a60e4b6ee311"
   },
   "outputs": [],
   "source": [
    "#Menos de 2 chips son defectuosos\n",
    "binom.cdf(1, 100, 0.02)"
   ]
  },
  {
   "cell_type": "markdown",
   "metadata": {},
   "source": [
    "* Más de 5 chips son defectuosos (cola derecha).\n"
   ]
  },
  {
   "cell_type": "code",
   "execution_count": null,
   "metadata": {
    "colab": {
     "base_uri": "https://localhost:8080/"
    },
    "executionInfo": {
     "elapsed": 10,
     "status": "ok",
     "timestamp": 1747700552651,
     "user": {
      "displayName": "Roman Castillo",
      "userId": "03738236345711029424"
     },
     "user_tz": 360
    },
    "id": "K_JWCeqDEVMq",
    "outputId": "40de5731-5e64-4a7b-e16c-492cc71e14d9"
   },
   "outputs": [],
   "source": [
    "#Más de 5 chips son defectuosos\n",
    "binom.sf(5, 100, 0.02)"
   ]
  },
  {
   "cell_type": "markdown",
   "metadata": {},
   "source": [
    "* Entre 2 y 4 chips (inclusive) son defectuosos.\n"
   ]
  },
  {
   "cell_type": "code",
   "execution_count": null,
   "metadata": {
    "colab": {
     "base_uri": "https://localhost:8080/"
    },
    "executionInfo": {
     "elapsed": 8,
     "status": "ok",
     "timestamp": 1747700727325,
     "user": {
      "displayName": "Roman Castillo",
      "userId": "03738236345711029424"
     },
     "user_tz": 360
    },
    "id": "-KZSG7OLEkrH",
    "outputId": "c73c28d4-5ab3-4e54-c7b4-2ed754dd38c1"
   },
   "outputs": [],
   "source": [
    "# Entre 2 y 4 chips\n",
    "binom.cdf(4, 100, 0.02) - binom.cdf(1, 100, 0.02)"
   ]
  },
  {
   "cell_type": "code",
   "execution_count": null,
   "metadata": {
    "colab": {
     "base_uri": "https://localhost:8080/"
    },
    "executionInfo": {
     "elapsed": 7,
     "status": "ok",
     "timestamp": 1747700731613,
     "user": {
      "displayName": "Roman Castillo",
      "userId": "03738236345711029424"
     },
     "user_tz": 360
    },
    "id": "8CHJ5_mTFFF3",
    "outputId": "f3f5d209-3e69-448d-f260-d470400c40f1"
   },
   "outputs": [],
   "source": [
    "binom.pmf(2, 100, 0.02) + binom.pmf(3, 100, 0.02) + binom.pmf(4, 100, 0.02)"
   ]
  },
  {
   "cell_type": "markdown",
   "metadata": {},
   "source": [
    "* Al menos 1 chip es defectuoso"
   ]
  },
  {
   "cell_type": "code",
   "execution_count": null,
   "metadata": {
    "colab": {
     "base_uri": "https://localhost:8080/"
    },
    "executionInfo": {
     "elapsed": 17,
     "status": "ok",
     "timestamp": 1747700843067,
     "user": {
      "displayName": "Roman Castillo",
      "userId": "03738236345711029424"
     },
     "user_tz": 360
    },
    "id": "D1lPVyJ4FSdF",
    "outputId": "b474e366-fba5-4074-bda0-a55f0e0cf3f1"
   },
   "outputs": [],
   "source": [
    "# Al menos 1 chip es defectuoso\n",
    "binom.sf(0, 100, 0.02)"
   ]
  },
  {
   "cell_type": "markdown",
   "metadata": {},
   "source": [
    "La **distribución binomial** es un modelo fundamental para variables *aleatorias discretas*, ya que describe el número de éxitos en una cantidad fija de ensayos independientes con igual probabilidad de éxito. Sin embargo, cuando el número de ensayos $n$ es grande y la probabilidad de éxito $p$ no es demasiado cercana a 0 ni a 1, la distribución binomial puede aproximarse a otra distribución para valores continuos"
   ]
  },
  {
   "cell_type": "code",
   "execution_count": null,
   "metadata": {},
   "outputs": [],
   "source": [
    "get_pmf_binomial(20, 0.5,labels=False)"
   ]
  },
  {
   "cell_type": "markdown",
   "metadata": {},
   "source": [
    "###  Distribución normal\n",
    "---\n",
    "\n",
    "Es continua, simétrica y en forma de campana. Se define por su media $\\mu$ y desviación estándar $\\sigma$.\n",
    "\n",
    "![](https://practicum-content.s3.amazonaws.com/resources/S01_18_4_1691759849.png)\n",
    "\n",
    "\n",
    "#### 📏 Regla empírica:\n",
    "- 68% de los datos están dentro de 1 $\\sigma$\n",
    "- 95% dentro de 2 $\\sigma$\n",
    "- 99.7% dentro de 3 $\\sigma$\n",
    "\n",
    "\n",
    ">El puntaje Z (o valor Z) nos dice cuántas desviaciones estándar está un dato por encima o por debajo del promedio.\n",
    ">Es como una regla para saber qué tan lejos está un valor de lo normal.\n",
    "\n",
    "$$ Z= \\frac{x-\\mu}{\\sigma} $$\n",
    "\n",
    "\n",
    "$$\n",
    "P(Z < z) = \\int_{-\\infty}^{z} \\frac{1}{\\sqrt{2\\pi}} e^{-\\frac{z^2}{2}} \\, dz\n",
    "$$"
   ]
  },
  {
   "cell_type": "markdown",
   "metadata": {},
   "source": [
    "#### Usandp scipy\n",
    "\n",
    "```python\n",
    "from scipy.stats import norm\n",
    "```\n",
    "\n",
    "| Método | Descripción |\n",
    "|--------|-------------|\n",
    "| `norm.pdf(x, mu, sigma)` | Densidad en el valor $x$ |\n",
    "| `norm.cdf(x, mu, sigma)` | Probabilidad acumulada hasta $x$ $P(X < x)$|\n",
    "| `norm.sf(x, mu, sigma)` | Probabilidad de que sea mayor a $x$ $P(X > x)$ |\n",
    "| `norm.ppf(q, mu, sigma)` | Valor de $x$ tal que $P(X \\leq x) = q$ |"
   ]
  },
  {
   "cell_type": "markdown",
   "metadata": {},
   "source": [
    "\n",
    "##### 🎯 Ejemplo:\n",
    "---\n",
    "\n",
    "\n",
    "La estatura de los estudiantes de una clase se distribuye normalmente con media $\\mu = 170$ cm y desviación estándar $\\sigma = 10$ cm.\n",
    "\n",
    "**a) ¿Cuál es la probabilidad de que un estudiante mida menos de 180 cm?**\n",
    "\n",
    "1. Calculamos el puntaje Z:  \n",
    "   $$\n",
    "   z = \\frac{180 - 170}{10} = 1\n",
    "   $$\n",
    "\n",
    "2. Buscamos $P(Z < 1)$ en la tabla Z:  \n",
    "   $$\n",
    "   P(Z < 1) \\approx 0.8413\n",
    "   $$\n",
    "\n",
    "**Respuesta:** Aproximadamente el 84.13% de los estudiantes miden menos de 180 cm.\n",
    "\n",
    "---"
   ]
  },
  {
   "cell_type": "code",
   "execution_count": null,
   "metadata": {},
   "outputs": [],
   "source": [
    "# Parámetros\n",
    "mu = 170\n",
    "sigma = 10"
   ]
  },
  {
   "cell_type": "code",
   "execution_count": null,
   "metadata": {},
   "outputs": [],
   "source": [
    "\n",
    "x = np.linspace(mu - 4*sigma, mu + 4*sigma, 1000)\n",
    "y = norm.pdf(x, mu, sigma)\n",
    "\n",
    "# Gráfico a)\n",
    "plt.figure(figsize=(8, 4))\n",
    "plt.plot(x, y, color='orange')\n",
    "plt.fill_between(x, y, where=(x <= 180), color='skyblue', alpha=0.6)\n",
    "plt.axvline(180, color='blue', linestyle='--')\n",
    "plt.title('a) P(X < 180 cm)')\n",
    "plt.xlabel('Estatura (cm)')\n",
    "plt.ylabel('Densidad')\n",
    "plt.grid(True)\n",
    "plt.show()"
   ]
  },
  {
   "cell_type": "markdown",
   "metadata": {},
   "source": [
    "**b) ¿Cuál es la probabilidad de que un estudiante mida más de 185 cm?**\n",
    "\n",
    "1. Calculamos el puntaje Z:\n",
    "\n",
    "$$\n",
    "z = \\frac{185 - 170}{10} = 1.5\n",
    "$$\n",
    "\n",
    "2. Buscamos $P(Z > 1.5)$:\n",
    "\n",
    "$$\n",
    "P(Z > 1.5) = 1 - P(Z < 1.5) = 1 - 0.9332 = 0.0668\n",
    "$$\n",
    "\n",
    "**Respuesta:** Aproximadamente el **6.68%** de los estudiantes miden más de 185 cm.\n",
    "\n",
    "---"
   ]
  },
  {
   "cell_type": "code",
   "execution_count": null,
   "metadata": {},
   "outputs": [],
   "source": [
    "# Parámetros\n",
    "x = np.linspace(mu - 4*sigma, mu + 4*sigma, 1000)\n",
    "y = norm.pdf(x, mu, sigma)\n",
    "\n",
    "# Gráfico b)\n",
    "plt.figure(figsize=(8, 4))\n",
    "plt.plot(x, y, color='orange')\n",
    "plt.fill_between(x, y, where=(x >= 185), color='lightcoral', alpha=0.6)\n",
    "plt.axvline(185, color='red', linestyle='--')\n",
    "plt.title('b) P(X > 185 cm)')\n",
    "plt.xlabel('Estatura (cm)')\n",
    "plt.ylabel('Densidad')\n",
    "plt.grid(True)\n",
    "plt.show()"
   ]
  },
  {
   "cell_type": "code",
   "execution_count": null,
   "metadata": {},
   "outputs": [],
   "source": [
    "# probabilidad de que un estudiante mida más de 185 cm\n",
    "norm.sf(185, 170, 10)"
   ]
  },
  {
   "cell_type": "markdown",
   "metadata": {},
   "source": [
    "**c) ¿Cuál es la probabilidad de que un estudiante mida entre 160 cm y 180 cm**?\n",
    "\n",
    "1. Calculamos ambos puntajes Z:\n",
    "\n",
    "$$\n",
    "z_1 = \\frac{160 - 170}{10} = -1, \\quad z_2 = \\frac{180 - 170}{10} = 1\n",
    "$$\n",
    "\n",
    "2. Buscamos $P(-1 < Z < 1)$:\n",
    "\n",
    "$$\n",
    "P(-1 < Z < 1) = P(Z < 1) - P(Z < -1) = 0.8413 - 0.1587 = 0.6826\n",
    "$$\n",
    "\n",
    "**Respuesta:** Aproximadamente el **68.26%** de los estudiantes miden entre 160 cm y 180 cm."
   ]
  },
  {
   "cell_type": "code",
   "execution_count": null,
   "metadata": {},
   "outputs": [],
   "source": [
    "x = np.linspace(mu - 4*sigma, mu + 4*sigma, 1000)\n",
    "y = norm.pdf(x, mu, sigma)\n",
    "\n",
    "# Gráfico c)\n",
    "plt.figure(figsize=(8, 4))\n",
    "plt.plot(x, y, color='orange')\n",
    "plt.fill_between(x, y, where=(x >= 160) & (x <= 180), color='mediumseagreen', alpha=0.6)\n",
    "plt.axvline(160, color='green', linestyle='--')\n",
    "plt.axvline(180, color='green', linestyle='--')\n",
    "plt.title('P(160 cm < X < 180 cm)')\n",
    "plt.xlabel('Estatura (cm)')\n",
    "plt.ylabel('Densidad')\n",
    "plt.grid(True)\n",
    "plt.show()"
   ]
  },
  {
   "cell_type": "markdown",
   "metadata": {},
   "source": [
    "## En resumen: \n",
    "\n",
    "1. **La probabilidad permite cuantificar la incertidumbre y el riesgo**  \n",
    "   Se utilizan conceptos como la probabilidad clásica, la frecuencia relativa y los modelos probabilísticos para predecir la ocurrencia de eventos en situaciones de incertidumbre.\n",
    "\n",
    "2. **Existen diferentes tipos de eventos y reglas para calcular probabilidades**  \n",
    "   Se diferencia entre eventos independientes y dependientes, y se aplican reglas como la multiplicación de probabilidades para eventos independientes.\n",
    "\n",
    "3. **Las distribuciones de probabilidad modelan fenómenos aleatorios**  \n",
    "   Se estudian las distribuciones binomial (para variables discretas) y normal (para variables continuas), explicando cuándo y cómo se utilizan para describir el comportamiento de variables aleatorias.\n",
    "\n",
    "4. **La resolución de problemas prácticos se apoya en fórmulas y herramientas estadísticas**  \n",
    "   Se resuelven ejercicios aplicando fórmulas matemáticas y funciones de Python (`scipy.stats`), interpretando los resultados y visualizando las distribuciones.\n",
    "\n",
    "5. **La distribución normal es fundamental en estadística**  \n",
    "   Se destaca su forma de campana, la importancia del puntaje Z y la regla empírica (68-95-99.7%), mostrando cómo calcular probabilidades para intervalos y valores específicos."
   ]
  }
 ],
 "metadata": {
  "colab": {
   "authorship_tag": "ABX9TyNSMsmnTYO+r52vjD95luKQ",
   "mount_file_id": "1moqQiRSkSvTSmQVKlnU3KW1xKlEVf7jV",
   "provenance": []
  },
  "kernelspec": {
   "display_name": ".venv",
   "language": "python",
   "name": "python3"
  },
  "language_info": {
   "codemirror_mode": {
    "name": "ipython",
    "version": 3
   },
   "file_extension": ".py",
   "mimetype": "text/x-python",
   "name": "python",
   "nbconvert_exporter": "python",
   "pygments_lexer": "ipython3",
   "version": "3.12.0"
  }
 },
 "nbformat": 4,
 "nbformat_minor": 0
}
