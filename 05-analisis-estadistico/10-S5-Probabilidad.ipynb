{
 "cells": [
  {
   "cell_type": "markdown",
   "metadata": {
    "id": "zh8QZddZfxEM"
   },
   "source": [
    "# 🧠 Distribuciones de probabilidad"
   ]
  },
  {
   "cell_type": "markdown",
   "metadata": {
    "id": "Okz_zAJ-f4h3"
   },
   "source": [
    "## Configuración"
   ]
  },
  {
   "cell_type": "code",
   "execution_count": 10,
   "metadata": {
    "id": "9xG-dabnXZng"
   },
   "outputs": [],
   "source": [
    "import matplotlib.pyplot as plt\n",
    "from scipy.stats import binom, norm\n",
    "import numpy as np\n",
    "import pandas as pd"
   ]
  },
  {
   "cell_type": "markdown",
   "metadata": {},
   "source": [
    "## Probabilidad clásica\n",
    "\n",
    "----"
   ]
  },
  {
   "cell_type": "markdown",
   "metadata": {
    "id": "0rZ4G9yvRA6e"
   },
   "source": [
    "\n",
    "\n",
    "La probabilidad estudia la incertidumbre y permite cuantificar el **riesgo** o **posibilidad** de que ocurra un evento.\n",
    "\n",
    "\n",
    "Predecimos usando la **frecuencia relativa** o **modelos probabilísticos** basados en experimentos repetidos.\n",
    "\n",
    "---\n",
    "\n",
    "- **Probabilidad clásica:**  \n",
    "\n",
    "---\n",
    "\n",
    "\n",
    "  $$\n",
    "  P(A) = \\frac{\\text{número de casos favorables}}{\\text{número de casos posibles}}\n",
    "  $$\n",
    "\n",
    " 🎲 Ejemplos clásicos:\n",
    "\n",
    "---\n",
    "\n",
    "1. **¿Cuál es la probabilidad de sacar un número par al lanzar un dado?**  \n",
    "   Casos favorables: 2, 4, 6 ⇒ 3  \n",
    "   Casos posibles: 6  \n",
    "   $$\n",
    "   P(\\text{par}) = \\frac{3}{6} = 0.5\n",
    "   $$\n",
    "\n",
    "2. **¿Cuál es la probabilidad de sacar un 4?**  \n",
    "   $$\n",
    "   P(4) = \\frac{1}{6}\n",
    "   $$\n",
    "\n",
    "3. **¿Cuál es la probabilidad de sacar un número mayor que 4?**  \n",
    "   Casos favorables: 5, 6 ⇒ 2  \n",
    "   $$\n",
    "   P(>4) = \\frac{2}{6} = \\frac{1}{3}\n",
    "   $$\n",
    "\n",
    "---\n",
    "\n",
    "**Eventos independientes**\n",
    "\n",
    "---\n",
    "\n",
    "Dos eventos $A$ y $B$ son **independientes** si la ocurrencia de uno no afecta al otro.\n",
    "\n",
    "$$\n",
    "P(A \\cap B) = P(A) \\cdot P(B)\n",
    "$$\n",
    "\n",
    "\n",
    " 🧪 Ejemplos:\n",
    "\n",
    "---\n",
    "\n",
    "1. **Lanzar una moneda y un dado:**  \n",
    "   $$\n",
    "   P(\\text{cara y número par}) = 0.5 \\cdot 0.5 = 0.25\n",
    "   $$\n",
    "\n",
    "2. **Sacar una bola roja de una urna y lanzar una moneda:**  \n",
    "   $$\n",
    "   P(\\text{roja y águila}) = \\frac{2}{5} \\cdot 0.5 = \\frac{1}{5}\n",
    "   $$\n"
   ]
  },
  {
   "cell_type": "markdown",
   "metadata": {
    "id": "b_0gPahVV9zp"
   },
   "source": [
    "\n",
    "## Distribuciónes de probabilidad\n",
    "\n",
    "Una **distribución de probabilidad** es un modelo matemático que describe cómo se distribuyen los valores posibles de una variable aleatoria.\n",
    "\n",
    "\n",
    "  >Una distribución de probabilidad es como un mapa que nos dice qué tan probable es cada resultado posible de una situación con incertidumbre.\n",
    "  >Imagina que lanzas un dado: la distribución nos diría qué tan probable es sacar un 1, un 2, un 3… hasta un 6.\n",
    "\n",
    "---\n"
   ]
  },
  {
   "cell_type": "markdown",
   "metadata": {
    "id": "yg0grU3qWC7G"
   },
   "source": [
    "### Distribución binomial\n",
    "---\n",
    "\n",
    "Modela el número de éxitos en $n$ ensayos independientes con probabilidad $p$ de éxito.\n",
    "\n",
    "$$\n",
    "P(X = k) = C(n, k) \\cdot p^k \\cdot (1 - p)^{n - k}\n",
    "$$\n",
    "\n",
    "\n",
    "Esta distribución se usa cuando:\n",
    "\n",
    "* La variable aleatoria es discreta.\n",
    "* Haces el mismo experimento varias veces (como lanzar una moneda o responder preguntas de opción múltiple).\n",
    "* Cada intento tiene solo dos resultados: éxito o fracaso.\n",
    "* La probabilidad de éxito es la misma cada vez.\n",
    "* Los intentos son independientes entre sí.\n",
    "\n",
    "\n",
    "#### Intuición tras el modelo\n",
    "---\n",
    "\n",
    "Considera el siguiente caso: Una fabrica sabe que cierto producto sale de la linea de producción con defectos un 15 % de las veces. El producto se vende en un paquete con de 3 piezas. Representa la distribución para la cantidad de piezas defectuosas en un paquete.\n",
    "\n",
    "1. La variable aleatoria $x$ es la cantidad de piezas defectuosas en el paquete, la cual puede tomar valores entre 0 y 3.\n",
    "2. La variable aleatoria es discreta.\n",
    "3. Una pieza está defectuosa o no.\n",
    "4. Se conoce una probabilidad $p$ de que la pieza sea defectuosa.\n",
    "5. El estado de una pieza no depende del anterior ni afecta al siguiente (son independientes).\n",
    "\n",
    "\n",
    "Analicemos el caso de que $x=1$, es decir que haya un producto defectuoso dentro del paquete. Dado que los eventos son independientes la probabilidad estaría dada por  $p\\cdot(1-p)(1-p)$, aqui puedes darte cuenta que esto solo consideran una sola posibilidad, cuando en realidad existen varias formas en las que puede haber exactamente una pieza defectuosa en el paquete: la primera, la segunda o la tercera pieza pueden ser la defectuosa. Por lo tanto, debemos considerar todas las **combinaciones** posibles. En este caso, hay 3 formas diferentes de que una sola pieza sea defectuosa y las otras dos no. Así, la probabilidad total de que haya exactamente una pieza defectuosa es:\n",
    "\n",
    "$$\n",
    "P(x=1) = C(3,1) \\cdot p \\cdot (1-p)^2\n",
    "$$\n",
    "\n",
    "donde $C(3,1)$ representa el número de maneras de elegir una pieza defectuosa entre tres. Este razonamiento se generaliza para cualquier número de piezas defectuosas en el paquete, utilizando la fórmula de la distribución binomial.\n",
    "\n",
    "#### 🎯 Ejemplo:\n",
    "\n",
    "Supón que una aseguradora sabe que, en promedio, el 10% de los clientes presentan un reclamo por accidente de auto cada año. Si seleccionamos al azar 6 clientes, sea $X$ la variable aleatoria que representa el número de clientes que presentan al menos un reclamo en el año.\n",
    "\n",
    "Responde lo siguiente usando la fórmula de la binomial:\n",
    "\n",
    "$$\n",
    "P(X = k) = C(n, k) \\cdot p^k \\cdot (1-p)^{n-k}\n",
    "$$\n",
    "\n",
    "Donde $n = 6$, $p = 0.1$.\n",
    "\n",
    "---\n",
    "\n",
    "1. **¿Cuál es la probabilidad de que exactamente 2 clientes presenten un reclamo este año?**  \n",
    "   $$\n",
    "   P(X = 2) = C(6, 2) \\cdot (0.1)^2 \\cdot (0.9)^{4} \\approx 0.0984\n",
    "   $$\n",
    "\n",
    "2. **¿Cuál es la probabilidad de que menos de 3 clientes presenten un reclamo?**  \n",
    "   $$\n",
    "   P(X < 3) = P(X = 0) + P(X = 1) + P(X = 2)\n",
    "   $$\n",
    "   $$\n",
    "   = C(6, 0) \\cdot (0.1)^0 \\cdot (0.9)^{6} + C(6, 1) \\cdot (0.1)^1 \\cdot (0.9)^{5} + C(6, 2) \\cdot (0.1)^2 \\cdot (0.9)^{4} \\approx 0.9841\n",
    "   $$\n",
    "\n",
    "3. **¿Cuál es la probabilidad de que más de 4 clientes presenten un reclamo?**  \n",
    "   $$\n",
    "   P(X > 4) = 1 - P(X \\leq 4)\n",
    "   $$\n",
    "   $$\n",
    "   = 1 - \\sum_{k=0}^{4} C(6, k) \\cdot (0.1)^k \\cdot (0.9)^{6-k} \\approx 0.9407\n",
    "   $$\n",
    "\n",
    "4. **¿Cuál es la probabilidad de que entre 2 y 4 clientes (excluyendo los extremos) presenten un reclamo?**  \n",
    "   $$\n",
    "   P(2 < X < 4) = P(X = 3)\n",
    "   $$\n",
    "   $$\n",
    "   = C(6, 3) \\cdot (0.1)^3 \\cdot (0.9)^{3} \\approx 0.0138\n",
    "   $$\n",
    "\n",
    "   *(Si quieres incluir ambos extremos: $P(2 \\leq X \\leq 4) = P(X=2) + P(X=3) + P(X=4)$)*\n",
    "\n",
    "---\n",
    "\n"
   ]
  },
  {
   "cell_type": "markdown",
   "metadata": {
    "id": "mxf2l4nQWmtV"
   },
   "source": [
    "**Solución con paquete estadístico**"
   ]
  },
  {
   "cell_type": "markdown",
   "metadata": {},
   "source": [
    "\n",
    "\n",
    "| Método | Descripción | Ejemplo |\n",
    "|--------|-------------|---------|\n",
    "| `binom.pmf(k, n, p)` | Probabilidad de que ocurra exactamente $k$ éxitos | `binom.pmf(3, 5, 0.5)` → $P(X = 3)$ |\n",
    "| `binom.cdf(k, n, p)` | Probabilidad acumulada de hasta $k$ éxitos | `binom.cdf(3, 5, 0.5)` → $P(X \\leq 3)$ |\n",
    "| `binom.sf(k, n, p)` | Probabilidad de más de $k$ éxitos | `binom.sf(3, 5, 0.5)` → $P(X > 3)$ |\n",
    "\n",
    "\n",
    "---\n"
   ]
  },
  {
   "cell_type": "code",
   "execution_count": 5,
   "metadata": {},
   "outputs": [],
   "source": [
    "n=6\n",
    "p =0.1"
   ]
  },
  {
   "cell_type": "markdown",
   "metadata": {},
   "source": [
    "\n",
    "1. **¿Cuál es la probabilidad de que exactamente 2 clientes presenten un reclamo este año?**  \n",
    "   $$\n",
    "   P(X = 2) = \\text{binom.pmf}(2, 6, 0.1)\n",
    "   $$\n"
   ]
  },
  {
   "cell_type": "code",
   "execution_count": 7,
   "metadata": {},
   "outputs": [
    {
     "data": {
      "text/plain": [
       "np.float64(0.09841500000000003)"
      ]
     },
     "execution_count": 7,
     "metadata": {},
     "output_type": "execute_result"
    }
   ],
   "source": [
    "binom.pmf(2, n, p)"
   ]
  },
  {
   "cell_type": "markdown",
   "metadata": {},
   "source": [
    "2. **¿Cuál es la probabilidad de que menos de 3 clientes presenten un reclamo?**  \n",
    "   $$\n",
    "   P(X < 3) = P(X \\leq 2) = \\text{binom.cdf}(2, 6, 0.1)\n",
    "   $$"
   ]
  },
  {
   "cell_type": "code",
   "execution_count": 9,
   "metadata": {},
   "outputs": [
    {
     "data": {
      "text/plain": [
       "np.float64(0.98415)"
      ]
     },
     "execution_count": 9,
     "metadata": {},
     "output_type": "execute_result"
    }
   ],
   "source": [
    "binom.cdf(2, n, p)"
   ]
  },
  {
   "cell_type": "markdown",
   "metadata": {},
   "source": [
    "3. **¿Cuál es la probabilidad de que más de 4 clientes presenten un reclamo?**  \n",
    "   $$\n",
    "   P(X > 4) = \\text{binom.sf}(4, 6, 0.1)\n",
    "   $$"
   ]
  },
  {
   "cell_type": "code",
   "execution_count": 16,
   "metadata": {},
   "outputs": [
    {
     "data": {
      "text/plain": [
       "np.float64(0.940765380859375)"
      ]
     },
     "execution_count": 16,
     "metadata": {},
     "output_type": "execute_result"
    }
   ],
   "source": [
    "binom.sf(4, n, p)"
   ]
  },
  {
   "cell_type": "markdown",
   "metadata": {},
   "source": [
    "4. **¿Cuál es la probabilidad de que entre 2 y 4 clientes (excluyendo los extremos) presenten un reclamo?**  \n",
    "   $$\n",
    "   P(2 < X < 4) = P(X = 3) = \\text{binom.pmf}(3, 6, 0.1)\n",
    "   $$\n",
    "   *(Si quieres incluir ambos extremos: $P(2 \\leq X \\leq 4) = \\text{binom.cdf}(4, 6, 0.1) - \\text{binom.cdf}(1, 6, 0.1)$)*\n"
   ]
  },
  {
   "cell_type": "code",
   "execution_count": 19,
   "metadata": {},
   "outputs": [
    {
     "data": {
      "text/plain": [
       "np.float64(0.013885498046874991)"
      ]
     },
     "execution_count": 19,
     "metadata": {},
     "output_type": "execute_result"
    }
   ],
   "source": [
    "binom.pmf(3, n, p)"
   ]
  },
  {
   "cell_type": "code",
   "execution_count": 17,
   "metadata": {},
   "outputs": [
    {
     "data": {
      "text/plain": [
       "np.float64(0.05874633789062499)"
      ]
     },
     "execution_count": 17,
     "metadata": {},
     "output_type": "execute_result"
    }
   ],
   "source": [
    "binom.cdf(4, n, p) - binom.cdf(1, n, p)"
   ]
  },
  {
   "cell_type": "markdown",
   "metadata": {},
   "source": [
    "**Representación de la distribución de probabilidad**"
   ]
  },
  {
   "cell_type": "code",
   "execution_count": 20,
   "metadata": {
    "colab": {
     "base_uri": "https://localhost:8080/",
     "height": 488
    },
    "executionInfo": {
     "elapsed": 448,
     "status": "ok",
     "timestamp": 1745541628662,
     "user": {
      "displayName": "Roman Castillo",
      "userId": "03738236345711029424"
     },
     "user_tz": 360
    },
    "id": "XU0tJYVLX0zH",
    "outputId": "b518d624-8850-47c0-a6c9-3f7473751dd7"
   },
   "outputs": [
    {
     "data": {
      "image/png": "[encoded data removed]",
      "text/plain": [
       "<Figure size 800x500 with 1 Axes>"
      ]
     },
     "metadata": {},
     "output_type": "display_data"
    }
   ],
   "source": [
    "\n",
    "# Parámetros del ejercicio\n",
    "n = 6       # número clientes\n",
    "p = 0.1    # probabilidad iniciar una reclamación\n",
    "\n",
    "# Inicializamos listas vacías\n",
    "x_vals = []\n",
    "probabilidades = []\n",
    "\n",
    "# Llenamos las listas usando un ciclo for\n",
    "for k in range(n + 1):\n",
    "    x_vals.append(k)\n",
    "    prob = binom.pmf(k, n, p)\n",
    "    probabilidades.append(prob)\n",
    "\n",
    "# Graficamos\n",
    "plt.figure(figsize=(8, 5))\n",
    "bars = plt.bar(x_vals, probabilidades, color=\"skyblue\", edgecolor=\"black\")\n",
    "\n",
    "# Agregar etiquetas de valor a cada barra\n",
    "for i in range(len(x_vals)):\n",
    "    plt.text(x_vals[i], probabilidades[i] + 0.01, f\"{probabilidades[i]:.3f}\",\n",
    "             ha='center', va='bottom', fontsize=10)\n",
    "\n",
    "plt.title(f\"Distribución Binomial: PMF (n = {n}, p = {p})\")\n",
    "plt.xlabel(\"Número de respuestas correctas (X)\")\n",
    "plt.ylabel(\"Probabilidad P(X = x)\")\n",
    "plt.xticks(x_vals)\n",
    "plt.ylim(0, max(probabilidades) + 0.05)  # margen superior para las etiquetas\n",
    "plt.grid(axis='y', linestyle='--', alpha=0.7)\n",
    "plt.show()"
   ]
  },
  {
   "cell_type": "markdown",
   "metadata": {
    "id": "laiE4jD_D1Cz"
   },
   "source": [
    "\n",
    "| Método | Descripción | Ejemplo |\n",
    "|--------|-------------|---------|\n",
    "| `binom.pmf(k, n, p)` | Probabilidad de que ocurra exactamente $k$ éxitos | `binom.pmf(3, 5, 0.5)` → $P(X = 3)$ |\n",
    "| `binom.cdf(k, n, p)` | Probabilidad acumulada de hasta $k$ éxitos | `binom.cdf(3, 5, 0.5)` → $P(X \\leq 3)$ |\n",
    "| `binom.sf(k, n, p)` | Probabilidad de más de $k$ éxitos | `binom.sf(3, 5, 0.5)` → $P(X > 3)$ |\n",
    "\n"
   ]
  },
  {
   "cell_type": "markdown",
   "metadata": {
    "id": "MXOM4utaDnfj"
   },
   "source": [
    "En una línea de producción de chips de memoria, la probabilidad de que un chip individual sea defectuoso es de 0.02 (2%). Se toma una muestra aleatoria de 100 chips producidos en un día.\n",
    "\n",
    "Sea (X) la variable aleatoria que representa el número de chips defectuosos en la muestra. Asumimos que la producción de cada chip es independiente de los demás.\n",
    "\n",
    "Calcula las siguientes probabilidades:\n",
    "\n",
    "a) Exactamente 3 chips son defectuosos.\n",
    "b) Menos de 2 chips son defectuosos (cola izquierda).\n",
    "c) Más de 5 chips son defectuosos (cola derecha).\n",
    "d) Entre 2 y 4 chips (inclusive) son defectuosos.\n",
    "e) Al menos 1 chip es defectuoso."
   ]
  },
  {
   "cell_type": "code",
   "execution_count": 6,
   "metadata": {
    "colab": {
     "base_uri": "https://localhost:8080/"
    },
    "executionInfo": {
     "elapsed": 18,
     "status": "ok",
     "timestamp": 1747700431781,
     "user": {
      "displayName": "Roman Castillo",
      "userId": "03738236345711029424"
     },
     "user_tz": 360
    },
    "id": "1WaUs9UGDpA2",
    "outputId": "1ffe6068-d9e5-4799-949b-9159d9161caa"
   },
   "outputs": [
    {
     "data": {
      "text/plain": [
       "np.float64(0.18227594104651612)"
      ]
     },
     "execution_count": 6,
     "metadata": {},
     "output_type": "execute_result"
    }
   ],
   "source": [
    "#Exactamente 3 chips son defectuosos\n",
    "binom.pmf(3, 100, 0.02)"
   ]
  },
  {
   "cell_type": "code",
   "execution_count": 7,
   "metadata": {
    "colab": {
     "base_uri": "https://localhost:8080/"
    },
    "executionInfo": {
     "elapsed": 59,
     "status": "ok",
     "timestamp": 1747700499087,
     "user": {
      "displayName": "Roman Castillo",
      "userId": "03738236345711029424"
     },
     "user_tz": 360
    },
    "id": "eq8uzYTKEJBS",
    "outputId": "7d8b6e94-ee40-4c50-b23f-a60e4b6ee311"
   },
   "outputs": [
    {
     "data": {
      "text/plain": [
       "np.float64(0.40327171078200386)"
      ]
     },
     "execution_count": 7,
     "metadata": {},
     "output_type": "execute_result"
    }
   ],
   "source": [
    "#Menos de 2 chips son defectuosos\n",
    "binom.cdf(1, 100, 0.02)"
   ]
  },
  {
   "cell_type": "code",
   "execution_count": 8,
   "metadata": {
    "colab": {
     "base_uri": "https://localhost:8080/"
    },
    "executionInfo": {
     "elapsed": 10,
     "status": "ok",
     "timestamp": 1747700552651,
     "user": {
      "displayName": "Roman Castillo",
      "userId": "03738236345711029424"
     },
     "user_tz": 360
    },
    "id": "K_JWCeqDEVMq",
    "outputId": "40de5731-5e64-4a7b-e16c-492cc71e14d9"
   },
   "outputs": [
    {
     "data": {
      "text/plain": [
       "np.float64(0.015483640641779397)"
      ]
     },
     "execution_count": 8,
     "metadata": {},
     "output_type": "execute_result"
    }
   ],
   "source": [
    "#Más de 5 chips son defectuosos\n",
    "binom.sf(5, 100, 0.02)"
   ]
  },
  {
   "cell_type": "code",
   "execution_count": 10,
   "metadata": {
    "colab": {
     "base_uri": "https://localhost:8080/"
    },
    "executionInfo": {
     "elapsed": 8,
     "status": "ok",
     "timestamp": 1747700727325,
     "user": {
      "displayName": "Roman Castillo",
      "userId": "03738236345711029424"
     },
     "user_tz": 360
    },
    "id": "-KZSG7OLEkrH",
    "outputId": "c73c28d4-5ab3-4e54-c7b4-2ed754dd38c1"
   },
   "outputs": [
    {
     "data": {
      "text/plain": [
       "np.float64(0.5458978438484958)"
      ]
     },
     "execution_count": 10,
     "metadata": {},
     "output_type": "execute_result"
    }
   ],
   "source": [
    "# Entre 2 y 4 chips\n",
    "binom.cdf(4, 100, 0.02) - binom.cdf(1, 100, 0.02)"
   ]
  },
  {
   "cell_type": "code",
   "execution_count": 11,
   "metadata": {
    "colab": {
     "base_uri": "https://localhost:8080/"
    },
    "executionInfo": {
     "elapsed": 7,
     "status": "ok",
     "timestamp": 1747700731613,
     "user": {
      "displayName": "Roman Castillo",
      "userId": "03738236345711029424"
     },
     "user_tz": 360
    },
    "id": "8CHJ5_mTFFF3",
    "outputId": "f3f5d209-3e69-448d-f260-d470400c40f1"
   },
   "outputs": [
    {
     "data": {
      "text/plain": [
       "np.float64(0.5458978438484952)"
      ]
     },
     "execution_count": 11,
     "metadata": {},
     "output_type": "execute_result"
    }
   ],
   "source": [
    "binom.pmf(2, 100, 0.02) + binom.pmf(3, 100, 0.02) + binom.pmf(4, 100, 0.02)"
   ]
  },
  {
   "cell_type": "code",
   "execution_count": 12,
   "metadata": {
    "colab": {
     "base_uri": "https://localhost:8080/"
    },
    "executionInfo": {
     "elapsed": 17,
     "status": "ok",
     "timestamp": 1747700843067,
     "user": {
      "displayName": "Roman Castillo",
      "userId": "03738236345711029424"
     },
     "user_tz": 360
    },
    "id": "D1lPVyJ4FSdF",
    "outputId": "b474e366-fba5-4074-bda0-a55f0e0cf3f1"
   },
   "outputs": [
    {
     "data": {
      "text/plain": [
       "np.float64(0.8673804441052468)"
      ]
     },
     "execution_count": 12,
     "metadata": {},
     "output_type": "execute_result"
    }
   ],
   "source": [
    "# Al menos 1 chip es defectuoso\n",
    "binom.sf(0, 100, 0.02)"
   ]
  },
  {
   "cell_type": "markdown",
   "metadata": {
    "id": "LE2zc0NOGXGL"
   },
   "source": [
    "* Número de clientes que realizan una compra: En una tienda en línea, se registran las visitas de 500 usuarios en un día. La probabilidad de que un usuario realice una compra es del 8%. Se cuenta el número de usuarios que efectivamente compran.\n",
    "\n",
    "* Peso de los aguacates en una cosecha: Se recolecta una muestra aleatoria de 200 aguacates de un huerto. Se mide el peso de cada aguacate en gramos.\n",
    "\n",
    "* Resultado de lanzar una moneda múltiples veces: Se lanza una moneda justa 15 veces y se registra el número de veces que sale \"cara\".\n",
    "\n",
    "* Tiempo de reacción de conductores: Se mide el tiempo de reacción (en segundos) de 150 conductores ante una señal de frenado en un simulador.\n",
    "\n",
    "* Número de piezas defectuosas en un lote: Se inspecciona un lote de 1000 piezas manufacturadas. La probabilidad de que una pieza sea defectuosa es del 1.5%. Se cuenta el número de piezas defectuosas encontradas.\n",
    "\n",
    "* Altura de estudiantes universitarios: Se mide la altura (en centímetros) de 300 estudiantes universitarios elegidos al azar de una gran universidad.\n",
    "\n",
    "* Número de llamadas de soporte técnico atendidas: Un centro de llamadas recibe 20 llamadas por hora. Se cuenta el número de llamadas atendidas por un agente específico en esa hora.\n",
    "\n",
    "* Puntajes en un examen estandarizado: Se registran los puntajes obtenidos por 500 estudiantes en un examen de admisión universitario.\n",
    "\n",
    "* Número de semillas que germinan: Se siembran 100 semillas de una variedad específica y se cuenta el número de semillas que logran germinar bajo condiciones controladas. La tasa de germinación conocida para esta variedad es del 90%.\n",
    "\n",
    "* Nivel de glucosa en sangre: Se mide el nivel de glucosa en sangre (en mg/dL) de 250 pacientes en ayunas."
   ]
  },
  {
   "cell_type": "markdown",
   "metadata": {
    "id": "P52_ZGj2QJKr"
   },
   "source": [
    "###  Distribución normal\n",
    "\n",
    "\n",
    "Es continua, simétrica y en forma de campana. Se define por su media $\\mu$ y desviación estándar $\\sigma$.\n",
    "\n",
    "![](https://practicum-content.s3.amazonaws.com/resources/S01_18_4_1691759849.png)\n",
    "\n",
    "#### 📏 Regla empírica:\n",
    "- 68% de los datos están dentro de 1 $\\sigma$\n",
    "- 95% dentro de 2 $\\sigma$\n",
    "- 99.7% dentro de 3 $\\sigma$\n",
    "\n",
    "\n",
    ">El puntaje Z (o valor Z) nos dice cuántas desviaciones estándar está un dato por encima o por debajo del promedio.\n",
    ">Es como una regla para saber qué tan lejos está un valor de lo normal.\n",
    "\n",
    "##### 🎯 Ejemplo:\n",
    "\n",
    "\n",
    "\n",
    "La estatura de los estudiantes de una clase se distribuye normalmente con media $\\mu = 170$ cm y desviación estándar $\\sigma = 10$ cm.\n",
    "\n",
    "**a) ¿Cuál es la probabilidad de que un estudiante mida menos de 180 cm?**\n",
    "\n",
    "1. Calculamos el puntaje Z:  \n",
    "   $$\n",
    "   z = \\frac{180 - 170}{10} = 1\n",
    "   $$\n",
    "\n",
    "2. Buscamos $P(Z < 1)$ en la tabla Z:  \n",
    "   $$\n",
    "   P(Z < 1) \\approx 0.8413\n",
    "   $$\n",
    "\n",
    "**Respuesta:** Aproximadamente el 84.13% de los estudiantes miden menos de 180 cm.\n",
    "\n",
    "---\n",
    "\n",
    "**b) ¿Cuál es la probabilidad de que un estudiante mida más de 185 cm?**\n",
    "\n",
    "1. Calculamos el puntaje Z:\n",
    "\n",
    "$$\n",
    "z = \\frac{185 - 170}{10} = 1.5\n",
    "$$\n",
    "\n",
    "2. Buscamos $P(Z > 1.5)$:\n",
    "\n",
    "$$\n",
    "P(Z > 1.5) = 1 - P(Z < 1.5) = 1 - 0.9332 = 0.0668\n",
    "$$\n",
    "\n",
    "**Respuesta:** Aproximadamente el **6.68%** de los estudiantes miden más de 185 cm.\n",
    "\n",
    "---\n",
    "\n",
    "**c) ¿Cuál es la probabilidad de que un estudiante mida entre 160 cm y 180 cm**?\n",
    "\n",
    "1. Calculamos ambos puntajes Z:\n",
    "\n",
    "$$\n",
    "z_1 = \\frac{160 - 170}{10} = -1, \\quad z_2 = \\frac{180 - 170}{10} = 1\n",
    "$$\n",
    "\n",
    "2. Buscamos $P(-1 < Z < 1)$:\n",
    "\n",
    "$$\n",
    "P(-1 < Z < 1) = P(Z < 1) - P(Z < -1) = 0.8413 - 0.1587 = 0.6826\n",
    "$$\n",
    "\n",
    "**Respuesta:** Aproximadamente el **68.26%** de los estudiantes miden entre 160 cm y 180 cm.\n",
    "\n",
    "\n",
    "\n",
    "```python\n",
    "from scipy.stats import norm\n",
    "```\n",
    "\n",
    "| Método | Descripción | Ejemplo |\n",
    "|--------|-------------|---------|\n",
    "| `norm.pdf(x, mu, sigma)` | Densidad en el valor $x$ | `norm.pdf(180, 170, 10)` |\n",
    "| `norm.cdf(x, mu, sigma)` | Probabilidad acumulada hasta $x$ | `norm.cdf(180, 170, 10)` |\n",
    "| `norm.sf(x, mu, sigma)` | Probabilidad de que sea mayor a $x$ | `1 - norm.cdf(180, 170, 10)` |\n",
    "| `norm.ppf(q, mu, sigma)` | Valor de $x$ tal que $P(X \\leq x) = q$ | `norm.ppf(0.95, 170, 10)` |\n"
   ]
  },
  {
   "cell_type": "code",
   "execution_count": null,
   "metadata": {
    "colab": {
     "base_uri": "https://localhost:8080/"
    },
    "executionInfo": {
     "elapsed": 20,
     "status": "ok",
     "timestamp": 1745541819202,
     "user": {
      "displayName": "Roman Castillo",
      "userId": "03738236345711029424"
     },
     "user_tz": 360
    },
    "id": "n30dvqiHectr",
    "outputId": "177e2b4b-4ca7-46bf-e5bc-58d57b8da951"
   },
   "outputs": [
    {
     "data": {
      "text/plain": [
       "np.float64(0.8413447460685429)"
      ]
     },
     "execution_count": 7,
     "metadata": {},
     "output_type": "execute_result"
    }
   ],
   "source": [
    "#¿Cuál es la probabilidad de que un estudiante mida menos de 180 cm?\n",
    "norm.cdf(180, 170, 10)"
   ]
  },
  {
   "cell_type": "code",
   "execution_count": null,
   "metadata": {
    "colab": {
     "base_uri": "https://localhost:8080/",
     "height": 410
    },
    "executionInfo": {
     "elapsed": 207,
     "status": "ok",
     "timestamp": 1745541821816,
     "user": {
      "displayName": "Roman Castillo",
      "userId": "03738236345711029424"
     },
     "user_tz": 360
    },
    "id": "hPJIX7nefUv9",
    "outputId": "9f0bd5b6-2ee9-45e7-e416-e089824f1f28"
   },
   "outputs": [
    {
     "data": {
      "image/png": "[encoded data removed]",
      "text/plain": [
       "<Figure size 800x400 with 1 Axes>"
      ]
     },
     "metadata": {},
     "output_type": "display_data"
    }
   ],
   "source": [
    "# Parámetros\n",
    "mu = 170\n",
    "sigma = 10\n",
    "x = np.linspace(mu - 4*sigma, mu + 4*sigma, 1000)\n",
    "y = norm.pdf(x, mu, sigma)\n",
    "\n",
    "# Gráfico a)\n",
    "plt.figure(figsize=(8, 4))\n",
    "plt.plot(x, y, color='orange')\n",
    "plt.fill_between(x, y, where=(x <= 180), color='skyblue', alpha=0.6)\n",
    "plt.axvline(180, color='blue', linestyle='--')\n",
    "plt.title('a) P(X < 180 cm)')\n",
    "plt.xlabel('Estatura (cm)')\n",
    "plt.ylabel('Densidad')\n",
    "plt.grid(True)\n",
    "plt.show()"
   ]
  },
  {
   "cell_type": "code",
   "execution_count": null,
   "metadata": {
    "colab": {
     "base_uri": "https://localhost:8080/"
    },
    "executionInfo": {
     "elapsed": 8,
     "status": "ok",
     "timestamp": 1745542033818,
     "user": {
      "displayName": "Roman Castillo",
      "userId": "03738236345711029424"
     },
     "user_tz": 360
    },
    "id": "BurfQLRoeYA8",
    "outputId": "9ab0dc85-338d-43fd-d8d8-2d065f9ad07f"
   },
   "outputs": [
    {
     "data": {
      "text/plain": [
       "np.float64(0.06680720126885807)"
      ]
     },
     "execution_count": 10,
     "metadata": {},
     "output_type": "execute_result"
    }
   ],
   "source": [
    "#¿Cuál es la probabilidad de que un estudiante mida más de 185 cm?\n",
    "norm.sf(185, 170, 10)"
   ]
  },
  {
   "cell_type": "code",
   "execution_count": null,
   "metadata": {
    "colab": {
     "base_uri": "https://localhost:8080/",
     "height": 410
    },
    "executionInfo": {
     "elapsed": 248,
     "status": "ok",
     "timestamp": 1745541958193,
     "user": {
      "displayName": "Roman Castillo",
      "userId": "03738236345711029424"
     },
     "user_tz": 360
    },
    "id": "J06HG1NOfaq8",
    "outputId": "c328b0b4-743b-42c3-f0e5-9d5469a19954"
   },
   "outputs": [
    {
     "data": {
      "image/png": "[encoded data removed]",
      "text/plain": [
       "<Figure size 800x400 with 1 Axes>"
      ]
     },
     "metadata": {},
     "output_type": "display_data"
    }
   ],
   "source": [
    "# Parámetros\n",
    "mu = 170\n",
    "sigma = 10\n",
    "x = np.linspace(mu - 4*sigma, mu + 4*sigma, 1000)\n",
    "y = norm.pdf(x, mu, sigma)\n",
    "\n",
    "# Gráfico b)\n",
    "plt.figure(figsize=(8, 4))\n",
    "plt.plot(x, y, color='orange')\n",
    "plt.fill_between(x, y, where=(x >= 185), color='lightcoral', alpha=0.6)\n",
    "plt.axvline(185, color='red', linestyle='--')\n",
    "plt.title('b) P(X > 185 cm)')\n",
    "plt.xlabel('Estatura (cm)')\n",
    "plt.ylabel('Densidad')\n",
    "plt.grid(True)\n",
    "plt.show()"
   ]
  },
  {
   "cell_type": "code",
   "execution_count": null,
   "metadata": {
    "id": "mNJfHR28eiGd"
   },
   "outputs": [],
   "source": [
    "#¿Cuál es la probabilidad de que un estudiante mida entre 160 cm y 180 cm?\n",
    "norm.cdf(180, 170, 10)-norm.cdf(160, 170, 10)"
   ]
  },
  {
   "cell_type": "code",
   "execution_count": null,
   "metadata": {
    "colab": {
     "base_uri": "https://localhost:8080/",
     "height": 410
    },
    "executionInfo": {
     "elapsed": 208,
     "status": "ok",
     "timestamp": 1745542112329,
     "user": {
      "displayName": "Roman Castillo",
      "userId": "03738236345711029424"
     },
     "user_tz": 360
    },
    "id": "OlUUe1GSfSKB",
    "outputId": "5f76d0a3-4f0c-4c3b-9afa-fb84e13c2556"
   },
   "outputs": [
    {
     "data": {
      "image/png": "[encoded data removed]",
      "text/plain": [
       "<Figure size 800x400 with 1 Axes>"
      ]
     },
     "metadata": {},
     "output_type": "display_data"
    }
   ],
   "source": [
    "# Parámetros\n",
    "mu = 170\n",
    "sigma = 10\n",
    "x = np.linspace(mu - 4*sigma, mu + 4*sigma, 1000)\n",
    "y = norm.pdf(x, mu, sigma)\n",
    "\n",
    "# Gráfico c)\n",
    "plt.figure(figsize=(8, 4))\n",
    "plt.plot(x, y, color='orange')\n",
    "plt.fill_between(x, y, where=(x >= 160) & (x <= 180), color='mediumseagreen', alpha=0.6)\n",
    "plt.axvline(160, color='green', linestyle='--')\n",
    "plt.axvline(180, color='green', linestyle='--')\n",
    "plt.title('P(160 cm < X < 180 cm)')\n",
    "plt.xlabel('Estatura (cm)')\n",
    "plt.ylabel('Densidad')\n",
    "plt.grid(True)\n",
    "plt.show()"
   ]
  },
  {
   "cell_type": "markdown",
   "metadata": {
    "id": "cigiNU8Zkepd"
   },
   "source": [
    "## 📊 Pruebas de Hipótesis\n",
    "\n",
    "### 🧪 ¿Qué es una prueba de hipótesis?\n",
    "Es un procedimiento que usamos para tomar decisiones sobre una población, basados en una muestra. Planteamos dos ideas:\n",
    "\n",
    "- **Hipótesis nula (H₀):** lo que queremos probar o refutar (generalmente, que no hay efecto o diferencia).\n",
    "- **Hipótesis alternativa (H₁):** lo que creemos que podría ser cierto si rechazamos H₀.\n",
    "\n",
    "\n",
    "---"
   ]
  },
  {
   "cell_type": "markdown",
   "metadata": {
    "id": "g3TPh6CKksfa"
   },
   "source": [
    "\n",
    "\n",
    "### 🎯 Muestras aleatorias y medias muestrales\n",
    "\n",
    "Cuando tomamos una muestra de una población, la media de esa muestra es una **estimación** de la media real. Cuanto más grande la muestra, más cerca estará del valor real.\n",
    "\n",
    "---\n",
    "\n",
    "### 🔄 Pruebas de dos colas\n",
    "\n",
    "Se usan cuando queremos saber si **hay alguna diferencia**, sin importar en qué dirección.\n",
    "\n",
    "**Ejemplo:**\n",
    "> Un nuevo medicamento podría afectar la presión arterial. ¿Aumenta o disminuye? No lo sabemos, solo queremos saber si cambia.\n",
    "\n",
    "**Hipótesis:**\n",
    "- H₀: μ = 120  \n",
    "- H₁: μ ≠ 120\n",
    "\n",
    "---\n",
    "\n",
    "### ➡️ Pruebas de una cola\n",
    "\n",
    "Se usan cuando queremos saber si **una media es mayor o menor** que cierto valor.\n",
    "\n",
    "**Ejemplo:**\n",
    "> ¿Los estudiantes de un curso nuevo obtienen **mayores calificaciones** que el promedio histórico?\n",
    "\n",
    "**Hipótesis:**\n",
    "- H₀: μ ≤ 70  \n",
    "- H₁: μ > 70\n",
    "\n",
    "---\n"
   ]
  },
  {
   "cell_type": "markdown",
   "metadata": {
    "id": "1WV5krpPkuAK"
   },
   "source": [
    "\n",
    "### 💻 Prueba de hipótesis en Python (valores p)\n",
    "El **valor *p*** nos dice qué tan probable es obtener los resultados observados si la **hipótesis nula (H₀)** fuera cierta.\n",
    "\n",
    "Para tomar una decisión, lo comparamos con un **nivel de significancia** (*alfa*, α), que es el **límite de tolerancia al error** que estamos dispuestos a aceptar.\n",
    "\n",
    "---\n",
    "\n",
    "#### 🎯 ¿Qué es *alfa*?\n",
    "\n",
    "- Es un valor que **establecemos antes de hacer la prueba**.\n",
    "- El más común es **α = 0.05** (es decir, aceptamos un 5% de riesgo de equivocarnos al rechazar H₀).\n",
    "\n",
    "---\n",
    "\n",
    "#### 🧠 Decisión según el valor *p*:\n",
    "\n",
    "- **Si p < α**, rechazamos H₀ → *hay evidencia suficiente* para preferir H₁.\n",
    "- **Si p ≥ α**, no rechazamos H₀ → *no hay evidencia suficiente* para cambiar de idea.\n",
    "\n",
    "\n",
    "---"
   ]
  },
  {
   "cell_type": "markdown",
   "metadata": {
    "id": "W3dLoPgWl-tM"
   },
   "source": [
    "> ¿Estas calificaciones son significativamente diferentes del promedio histórico de 70?\n"
   ]
  },
  {
   "cell_type": "code",
   "execution_count": null,
   "metadata": {
    "colab": {
     "base_uri": "https://localhost:8080/"
    },
    "executionInfo": {
     "elapsed": 8,
     "status": "ok",
     "timestamp": 1745543065936,
     "user": {
      "displayName": "Roman Castillo",
      "userId": "03738236345711029424"
     },
     "user_tz": 360
    },
    "id": "WnRdhgeEk0GL",
    "outputId": "5afe1168-13ee-4f42-83c2-54e28b82a953"
   },
   "outputs": [
    {
     "name": "stdout",
     "output_type": "stream",
     "text": [
      "Valor p = 0.10674552235509217\n"
     ]
    }
   ],
   "source": [
    "from scipy.stats import ttest_1samp\n",
    "\n",
    "data = [71, 69, 74, 73, 70, 72]\n",
    "stat, p = ttest_1samp(data, 70)\n",
    "alfa=0.05\n",
    "\n",
    "print(f\"Valor p = {p}\")"
   ]
  },
  {
   "cell_type": "markdown",
   "metadata": {
    "id": "ZP_HVLwoli0p"
   },
   "source": [
    "## 📊 Comparar medias de dos poblaciones (independientes)\n",
    "\n",
    "Se usa cuando tenemos **dos grupos diferentes** y queremos saber si sus medias son iguales.\n",
    "\n",
    "**Ejemplo:**\n",
    "> ¿Los estudiantes de dos escuelas tienen la misma media de calificaciones?"
   ]
  },
  {
   "cell_type": "code",
   "execution_count": null,
   "metadata": {
    "colab": {
     "base_uri": "https://localhost:8080/"
    },
    "executionInfo": {
     "elapsed": 14,
     "status": "ok",
     "timestamp": 1745543270167,
     "user": {
      "displayName": "Roman Castillo",
      "userId": "03738236345711029424"
     },
     "user_tz": 360
    },
    "id": "9QMqA6J9ljdZ",
    "outputId": "f95f8e75-c411-4e60-faf6-bcf8f6315297"
   },
   "outputs": [
    {
     "name": "stdout",
     "output_type": "stream",
     "text": [
      "Valor p = 0.05504126429558511\n"
     ]
    }
   ],
   "source": [
    "from scipy.stats import ttest_ind\n",
    "\n",
    "grupo1 = [70, 72, 68, 74]\n",
    "grupo2 = [65, 67, 70, 66]\n",
    "ttest_ind(grupo1, grupo2)\n",
    "\n",
    "stat, p = ttest_ind(grupo1, grupo2)\n",
    "alfa= 0.05\n",
    "\n",
    "print(f\"Valor p = {p}\")"
   ]
  },
  {
   "cell_type": "markdown",
   "metadata": {
    "id": "mTlulZZelg5_"
   },
   "source": []
  },
  {
   "cell_type": "markdown",
   "metadata": {
    "id": "90h26QtfjgWW"
   },
   "source": [
    "\n",
    "\n",
    "\n",
    "\n",
    "```python\n",
    "from scipy.stats import ttest_ind\n",
    "\n",
    "grupo1 = [70, 72, 68, 74]\n",
    "grupo2 = [65, 67, 70, 66]\n",
    "ttest_ind(grupo1, grupo2)\n",
    "```\n",
    "\n",
    "---\n",
    "\n",
    "## 🔁 Muestras emparejadas (antes y después)\n",
    "\n",
    "Se usa cuando comparamos **dos mediciones del mismo grupo** (por ejemplo, antes y después de una intervención).\n",
    "\n",
    "**Ejemplo:**\n",
    "> ¿Un curso de entrenamiento mejora los resultados en una prueba?\n",
    "\n",
    "```python\n",
    "from scipy.stats import ttest_rel\n",
    "\n",
    "antes = [65, 66, 67, 64]\n",
    "despues = [70, 72, 71, 73]\n",
    "ttest_rel(antes, despues)\n",
    "```\n",
    "\n",
    "---\n",
    "\n",
    "## ✅ Conclusión\n",
    "\n",
    "Una prueba de hipótesis **no prueba que algo sea cierto**, sino que **evalúa si los datos son consistentes con una suposición (H₀)**. Si no lo son, preferimos la alternativa (H₁)."
   ]
  },
  {
   "cell_type": "code",
   "execution_count": null,
   "metadata": {
    "id": "qIlSFkVAywSP"
   },
   "outputs": [],
   "source": [
    "from scipy.stats import ttest_rel\n",
    "\n",
    "antes = [65, 66, 67, 64]\n",
    "despues = [70, 72, 71, 73]\n",
    "ttest_rel(antes, despues)"
   ]
  },
  {
   "cell_type": "code",
   "execution_count": null,
   "metadata": {
    "id": "LQncr5Mim5MM"
   },
   "outputs": [],
   "source": [
    "# Datos en GSheet https://docs.google.com/spreadsheets/d/1Xio5D36BUWOYrsT-0t6mBnLvG_DmjS9xPWpXKobI2qI/edit?usp=sharing\n",
    "PATH=\"/content/drive/MyDrive/datasets/tiempos_compras.csv\"\n",
    "\n",
    "tiempos_compras=pd.read_csv(PATH)"
   ]
  },
  {
   "cell_type": "code",
   "execution_count": null,
   "metadata": {
    "colab": {
     "base_uri": "https://localhost:8080/",
     "height": 206
    },
    "executionInfo": {
     "elapsed": 40,
     "status": "ok",
     "timestamp": 1745464690972,
     "user": {
      "displayName": "Roman Castillo",
      "userId": "03738236345711029424"
     },
     "user_tz": 360
    },
    "id": "ug2x9aZxnq2S",
    "outputId": "6ecf41fd-e340-4241-9f68-61f6590ae066"
   },
   "outputs": [
    {
     "data": {
      "application/vnd.google.colaboratory.intrinsic+json": {
       "summary": "{\n  \"name\": \"tiempos_compras\",\n  \"rows\": 200,\n  \"fields\": [\n    {\n      \"column\": \"Version\",\n      \"properties\": {\n        \"dtype\": \"number\",\n        \"std\": 0.15018832399130283,\n        \"min\": 1.7,\n        \"max\": 2.0,\n        \"num_unique_values\": 2,\n        \"samples\": [\n          1.7,\n          2.0\n        ],\n        \"semantic_type\": \"\",\n        \"description\": \"\"\n      }\n    },\n    {\n      \"column\": \"tiempo\",\n      \"properties\": {\n        \"dtype\": \"number\",\n        \"std\": 3.4892524389165236,\n        \"min\": 33.59921509557856,\n        \"max\": 55.19209301236474,\n        \"num_unique_values\": 200,\n        \"samples\": [\n          41.01711846332347,\n          45.99676384673701\n        ],\n        \"semantic_type\": \"\",\n        \"description\": \"\"\n      }\n    },\n    {\n      \"column\": \"clics\",\n      \"properties\": {\n        \"dtype\": \"number\",\n        \"std\": 2,\n        \"min\": 0,\n        \"max\": 15,\n        \"num_unique_values\": 14,\n        \"samples\": [\n          3,\n          0\n        ],\n        \"semantic_type\": \"\",\n        \"description\": \"\"\n      }\n    }\n  ]\n}",
       "type": "dataframe",
       "variable_name": "tiempos_compras"
      },
      "text/html": [
       "\n",
       "  <div id=\"df-de04b1f8-5246-48b0-80b8-69d0bac736bc\" class=\"colab-df-container\">\n",
       "    <div>\n",
       "<style scoped>\n",
       "    .dataframe tbody tr th:only-of-type {\n",
       "        vertical-align: middle;\n",
       "    }\n",
       "\n",
       "    .dataframe tbody tr th {\n",
       "        vertical-align: top;\n",
       "    }\n",
       "\n",
       "    .dataframe thead th {\n",
       "        text-align: right;\n",
       "    }\n",
       "</style>\n",
       "<table border=\"1\" class=\"dataframe\">\n",
       "  <thead>\n",
       "    <tr style=\"text-align: right;\">\n",
       "      <th></th>\n",
       "      <th>Version</th>\n",
       "      <th>tiempo</th>\n",
       "      <th>clics</th>\n",
       "    </tr>\n",
       "  </thead>\n",
       "  <tbody>\n",
       "    <tr>\n",
       "      <th>0</th>\n",
       "      <td>2.0</td>\n",
       "      <td>46.694241</td>\n",
       "      <td>7</td>\n",
       "    </tr>\n",
       "    <tr>\n",
       "      <th>1</th>\n",
       "      <td>2.0</td>\n",
       "      <td>43.593430</td>\n",
       "      <td>6</td>\n",
       "    </tr>\n",
       "    <tr>\n",
       "      <th>2</th>\n",
       "      <td>2.0</td>\n",
       "      <td>42.203941</td>\n",
       "      <td>7</td>\n",
       "    </tr>\n",
       "    <tr>\n",
       "      <th>3</th>\n",
       "      <td>1.7</td>\n",
       "      <td>47.009559</td>\n",
       "      <td>7</td>\n",
       "    </tr>\n",
       "    <tr>\n",
       "      <th>4</th>\n",
       "      <td>2.0</td>\n",
       "      <td>49.451823</td>\n",
       "      <td>4</td>\n",
       "    </tr>\n",
       "  </tbody>\n",
       "</table>\n",
       "</div>\n",
       "    <div class=\"colab-df-buttons\">\n",
       "\n",
       "  <div class=\"colab-df-container\">\n",
       "    <button class=\"colab-df-convert\" onclick=\"convertToInteractive('df-de04b1f8-5246-48b0-80b8-69d0bac736bc')\"\n",
       "            title=\"Convert this dataframe to an interactive table.\"\n",
       "            style=\"display:none;\">\n",
       "\n",
       "  <svg xmlns=\"http://www.w3.org/2000/svg\" height=\"24px\" viewBox=\"0 -960 960 960\">\n",
       "    <path d=\"M120-120v-720h720v720H120Zm60-500h600v-160H180v160Zm220 220h160v-160H400v160Zm0 220h160v-160H400v160ZM180-400h160v-160H180v160Zm440 0h160v-160H620v160ZM180-180h160v-160H180v160Zm440 0h160v-160H620v160Z\"/>\n",
       "  </svg>\n",
       "    </button>\n",
       "\n",
       "  <style>\n",
       "    .colab-df-container {\n",
       "      display:flex;\n",
       "      gap: 12px;\n",
       "    }\n",
       "\n",
       "    .colab-df-convert {\n",
       "      background-color: #E8F0FE;\n",
       "      border: none;\n",
       "      border-radius: 50%;\n",
       "      cursor: pointer;\n",
       "      display: none;\n",
       "      fill: #1967D2;\n",
       "      height: 32px;\n",
       "      padding: 0 0 0 0;\n",
       "      width: 32px;\n",
       "    }\n",
       "\n",
       "    .colab-df-convert:hover {\n",
       "      background-color: #E2EBFA;\n",
       "      box-shadow: 0px 1px 2px rgba(60, 64, 67, 0.3), 0px 1px 3px 1px rgba(60, 64, 67, 0.15);\n",
       "      fill: #174EA6;\n",
       "    }\n",
       "\n",
       "    .colab-df-buttons div {\n",
       "      margin-bottom: 4px;\n",
       "    }\n",
       "\n",
       "    [theme=dark] .colab-df-convert {\n",
       "      background-color: #3B4455;\n",
       "      fill: #D2E3FC;\n",
       "    }\n",
       "\n",
       "    [theme=dark] .colab-df-convert:hover {\n",
       "      background-color: #434B5C;\n",
       "      box-shadow: 0px 1px 3px 1px rgba(0, 0, 0, 0.15);\n",
       "      filter: drop-shadow(0px 1px 2px rgba(0, 0, 0, 0.3));\n",
       "      fill: #FFFFFF;\n",
       "    }\n",
       "  </style>\n",
       "\n",
       "    <script>\n",
       "      const buttonEl =\n",
       "        document.querySelector('#df-de04b1f8-5246-48b0-80b8-69d0bac736bc button.colab-df-convert');\n",
       "      buttonEl.style.display =\n",
       "        google.colab.kernel.accessAllowed ? 'block' : 'none';\n",
       "\n",
       "      async function convertToInteractive(key) {\n",
       "        const element = document.querySelector('#df-de04b1f8-5246-48b0-80b8-69d0bac736bc');\n",
       "        const dataTable =\n",
       "          await google.colab.kernel.invokeFunction('convertToInteractive',\n",
       "                                                    [key], {});\n",
       "        if (!dataTable) return;\n",
       "\n",
       "        const docLinkHtml = 'Like what you see? Visit the ' +\n",
       "          '<a target=\"_blank\" href=https://colab.research.google.com/notebooks/data_table.ipynb>data table notebook</a>'\n",
       "          + ' to learn more about interactive tables.';\n",
       "        element.innerHTML = '';\n",
       "        dataTable['output_type'] = 'display_data';\n",
       "        await google.colab.output.renderOutput(dataTable, element);\n",
       "        const docLink = document.createElement('div');\n",
       "        docLink.innerHTML = docLinkHtml;\n",
       "        element.appendChild(docLink);\n",
       "      }\n",
       "    </script>\n",
       "  </div>\n",
       "\n",
       "\n",
       "<div id=\"df-84a7d8d0-03d7-4396-baf6-2b58cc3c962b\">\n",
       "  <button class=\"colab-df-quickchart\" onclick=\"quickchart('df-84a7d8d0-03d7-4396-baf6-2b58cc3c962b')\"\n",
       "            title=\"Suggest charts\"\n",
       "            style=\"display:none;\">\n",
       "\n",
       "<svg xmlns=\"http://www.w3.org/2000/svg\" height=\"24px\"viewBox=\"0 0 24 24\"\n",
       "     width=\"24px\">\n",
       "    <g>\n",
       "        <path d=\"M19 3H5c-1.1 0-2 .9-2 2v14c0 1.1.9 2 2 2h14c1.1 0 2-.9 2-2V5c0-1.1-.9-2-2-2zM9 17H7v-7h2v7zm4 0h-2V7h2v10zm4 0h-2v-4h2v4z\"/>\n",
       "    </g>\n",
       "</svg>\n",
       "  </button>\n",
       "\n",
       "<style>\n",
       "  .colab-df-quickchart {\n",
       "      --bg-color: #E8F0FE;\n",
       "      --fill-color: #1967D2;\n",
       "      --hover-bg-color: #E2EBFA;\n",
       "      --hover-fill-color: #174EA6;\n",
       "      --disabled-fill-color: #AAA;\n",
       "      --disabled-bg-color: #DDD;\n",
       "  }\n",
       "\n",
       "  [theme=dark] .colab-df-quickchart {\n",
       "      --bg-color: #3B4455;\n",
       "      --fill-color: #D2E3FC;\n",
       "      --hover-bg-color: #434B5C;\n",
       "      --hover-fill-color: #FFFFFF;\n",
       "      --disabled-bg-color: #3B4455;\n",
       "      --disabled-fill-color: #666;\n",
       "  }\n",
       "\n",
       "  .colab-df-quickchart {\n",
       "    background-color: var(--bg-color);\n",
       "    border: none;\n",
       "    border-radius: 50%;\n",
       "    cursor: pointer;\n",
       "    display: none;\n",
       "    fill: var(--fill-color);\n",
       "    height: 32px;\n",
       "    padding: 0;\n",
       "    width: 32px;\n",
       "  }\n",
       "\n",
       "  .colab-df-quickchart:hover {\n",
       "    background-color: var(--hover-bg-color);\n",
       "    box-shadow: 0 1px 2px rgba(60, 64, 67, 0.3), 0 1px 3px 1px rgba(60, 64, 67, 0.15);\n",
       "    fill: var(--button-hover-fill-color);\n",
       "  }\n",
       "\n",
       "  .colab-df-quickchart-complete:disabled,\n",
       "  .colab-df-quickchart-complete:disabled:hover {\n",
       "    background-color: var(--disabled-bg-color);\n",
       "    fill: var(--disabled-fill-color);\n",
       "    box-shadow: none;\n",
       "  }\n",
       "\n",
       "  .colab-df-spinner {\n",
       "    border: 2px solid var(--fill-color);\n",
       "    border-color: transparent;\n",
       "    border-bottom-color: var(--fill-color);\n",
       "    animation:\n",
       "      spin 1s steps(1) infinite;\n",
       "  }\n",
       "\n",
       "  @keyframes spin {\n",
       "    0% {\n",
       "      border-color: transparent;\n",
       "      border-bottom-color: var(--fill-color);\n",
       "      border-left-color: var(--fill-color);\n",
       "    }\n",
       "    20% {\n",
       "      border-color: transparent;\n",
       "      border-left-color: var(--fill-color);\n",
       "      border-top-color: var(--fill-color);\n",
       "    }\n",
       "    30% {\n",
       "      border-color: transparent;\n",
       "      border-left-color: var(--fill-color);\n",
       "      border-top-color: var(--fill-color);\n",
       "      border-right-color: var(--fill-color);\n",
       "    }\n",
       "    40% {\n",
       "      border-color: transparent;\n",
       "      border-right-color: var(--fill-color);\n",
       "      border-top-color: var(--fill-color);\n",
       "    }\n",
       "    60% {\n",
       "      border-color: transparent;\n",
       "      border-right-color: var(--fill-color);\n",
       "    }\n",
       "    80% {\n",
       "      border-color: transparent;\n",
       "      border-right-color: var(--fill-color);\n",
       "      border-bottom-color: var(--fill-color);\n",
       "    }\n",
       "    90% {\n",
       "      border-color: transparent;\n",
       "      border-bottom-color: var(--fill-color);\n",
       "    }\n",
       "  }\n",
       "</style>\n",
       "\n",
       "  <script>\n",
       "    async function quickchart(key) {\n",
       "      const quickchartButtonEl =\n",
       "        document.querySelector('#' + key + ' button');\n",
       "      quickchartButtonEl.disabled = true;  // To prevent multiple clicks.\n",
       "      quickchartButtonEl.classList.add('colab-df-spinner');\n",
       "      try {\n",
       "        const charts = await google.colab.kernel.invokeFunction(\n",
       "            'suggestCharts', [key], {});\n",
       "      } catch (error) {\n",
       "        console.error('Error during call to suggestCharts:', error);\n",
       "      }\n",
       "      quickchartButtonEl.classList.remove('colab-df-spinner');\n",
       "      quickchartButtonEl.classList.add('colab-df-quickchart-complete');\n",
       "    }\n",
       "    (() => {\n",
       "      let quickchartButtonEl =\n",
       "        document.querySelector('#df-84a7d8d0-03d7-4396-baf6-2b58cc3c962b button');\n",
       "      quickchartButtonEl.style.display =\n",
       "        google.colab.kernel.accessAllowed ? 'block' : 'none';\n",
       "    })();\n",
       "  </script>\n",
       "</div>\n",
       "\n",
       "    </div>\n",
       "  </div>\n"
      ],
      "text/plain": [
       "   Version     tiempo  clics\n",
       "0      2.0  46.694241      7\n",
       "1      2.0  43.593430      6\n",
       "2      2.0  42.203941      7\n",
       "3      1.7  47.009559      7\n",
       "4      2.0  49.451823      4"
      ]
     },
     "execution_count": 15,
     "metadata": {},
     "output_type": "execute_result"
    }
   ],
   "source": [
    "tiempos_compras.head()"
   ]
  },
  {
   "cell_type": "code",
   "execution_count": null,
   "metadata": {
    "colab": {
     "base_uri": "https://localhost:8080/",
     "height": 143
    },
    "executionInfo": {
     "elapsed": 57,
     "status": "ok",
     "timestamp": 1745464705131,
     "user": {
      "displayName": "Roman Castillo",
      "userId": "03738236345711029424"
     },
     "user_tz": 360
    },
    "id": "RoLNKZk0nNOs",
    "outputId": "69ac0616-f045-4cb8-d5dc-4a05c370cf15"
   },
   "outputs": [
    {
     "data": {
      "application/vnd.google.colaboratory.intrinsic+json": {
       "summary": "{\n  \"name\": \"tiempos_compras\",\n  \"rows\": 2,\n  \"fields\": [\n    {\n      \"column\": \"Version\",\n      \"properties\": {\n        \"dtype\": \"number\",\n        \"std\": 0.21213203435596428,\n        \"min\": 1.7,\n        \"max\": 2.0,\n        \"num_unique_values\": 2,\n        \"samples\": [\n          2.0,\n          1.7\n        ],\n        \"semantic_type\": \"\",\n        \"description\": \"\"\n      }\n    },\n    {\n      \"column\": \"count\",\n      \"properties\": {\n        \"dtype\": \"number\",\n        \"std\": 7.0710678118654755,\n        \"min\": 95.0,\n        \"max\": 105.0,\n        \"num_unique_values\": 2,\n        \"samples\": [\n          105.0,\n          95.0\n        ],\n        \"semantic_type\": \"\",\n        \"description\": \"\"\n      }\n    },\n    {\n      \"column\": \"mean\",\n      \"properties\": {\n        \"dtype\": \"number\",\n        \"std\": 0.3608220158630036,\n        \"min\": 44.93419673148113,\n        \"max\": 45.44447611991739,\n        \"num_unique_values\": 2,\n        \"samples\": [\n          44.93419673148113,\n          45.44447611991739\n        ],\n        \"semantic_type\": \"\",\n        \"description\": \"\"\n      }\n    },\n    {\n      \"column\": \"std\",\n      \"properties\": {\n        \"dtype\": \"number\",\n        \"std\": 0.3076715212908244,\n        \"min\": 3.275323149111092,\n        \"max\": 3.7104363872765385,\n        \"num_unique_values\": 2,\n        \"samples\": [\n          3.275323149111092,\n          3.7104363872765385\n        ],\n        \"semantic_type\": \"\",\n        \"description\": \"\"\n      }\n    },\n    {\n      \"column\": \"min\",\n      \"properties\": {\n        \"dtype\": \"number\",\n        \"std\": 2.475782407502015,\n        \"min\": 33.59921509557856,\n        \"max\": 37.10050015375262,\n        \"num_unique_values\": 2,\n        \"samples\": [\n          37.10050015375262,\n          33.59921509557856\n        ],\n        \"semantic_type\": \"\",\n        \"description\": \"\"\n      }\n    },\n    {\n      \"column\": \"25%\",\n      \"properties\": {\n        \"dtype\": \"number\",\n        \"std\": 0.19257505986176043,\n        \"min\": 42.781317628952785,\n        \"max\": 43.0536598903841,\n        \"num_unique_values\": 2,\n        \"samples\": [\n          43.0536598903841,\n          42.781317628952785\n        ],\n        \"semantic_type\": \"\",\n        \"description\": \"\"\n      }\n    },\n    {\n      \"column\": \"50%\",\n      \"properties\": {\n        \"dtype\": \"number\",\n        \"std\": 0.6118707904674809,\n        \"min\": 44.7769504377747,\n        \"max\": 45.64226640807376,\n        \"num_unique_values\": 2,\n        \"samples\": [\n          44.7769504377747,\n          45.64226640807376\n        ],\n        \"semantic_type\": \"\",\n        \"description\": \"\"\n      }\n    },\n    {\n      \"column\": \"75%\",\n      \"properties\": {\n        \"dtype\": \"number\",\n        \"std\": 0.3613906086179881,\n        \"min\": 46.98232494609076,\n        \"max\": 47.49340844611259,\n        \"num_unique_values\": 2,\n        \"samples\": [\n          46.98232494609076,\n          47.49340844611259\n        ],\n        \"semantic_type\": \"\",\n        \"description\": \"\"\n      }\n    },\n    {\n      \"column\": \"max\",\n      \"properties\": {\n        \"dtype\": \"number\",\n        \"std\": 1.804187486484809,\n        \"min\": 52.640586599914094,\n        \"max\": 55.19209301236474,\n        \"num_unique_values\": 2,\n        \"samples\": [\n          52.640586599914094,\n          55.19209301236474\n        ],\n        \"semantic_type\": \"\",\n        \"description\": \"\"\n      }\n    }\n  ]\n}",
       "type": "dataframe"
      },
      "text/html": [
       "\n",
       "  <div id=\"df-09ecc287-0f2f-47c3-82e3-df1eacfb8bed\" class=\"colab-df-container\">\n",
       "    <div>\n",
       "<style scoped>\n",
       "    .dataframe tbody tr th:only-of-type {\n",
       "        vertical-align: middle;\n",
       "    }\n",
       "\n",
       "    .dataframe tbody tr th {\n",
       "        vertical-align: top;\n",
       "    }\n",
       "\n",
       "    .dataframe thead th {\n",
       "        text-align: right;\n",
       "    }\n",
       "</style>\n",
       "<table border=\"1\" class=\"dataframe\">\n",
       "  <thead>\n",
       "    <tr style=\"text-align: right;\">\n",
       "      <th></th>\n",
       "      <th>count</th>\n",
       "      <th>mean</th>\n",
       "      <th>std</th>\n",
       "      <th>min</th>\n",
       "      <th>25%</th>\n",
       "      <th>50%</th>\n",
       "      <th>75%</th>\n",
       "      <th>max</th>\n",
       "    </tr>\n",
       "    <tr>\n",
       "      <th>Version</th>\n",
       "      <th></th>\n",
       "      <th></th>\n",
       "      <th></th>\n",
       "      <th></th>\n",
       "      <th></th>\n",
       "      <th></th>\n",
       "      <th></th>\n",
       "      <th></th>\n",
       "    </tr>\n",
       "  </thead>\n",
       "  <tbody>\n",
       "    <tr>\n",
       "      <th>1.7</th>\n",
       "      <td>95.0</td>\n",
       "      <td>45.444476</td>\n",
       "      <td>3.710436</td>\n",
       "      <td>33.599215</td>\n",
       "      <td>42.781318</td>\n",
       "      <td>45.642266</td>\n",
       "      <td>47.493408</td>\n",
       "      <td>55.192093</td>\n",
       "    </tr>\n",
       "    <tr>\n",
       "      <th>2.0</th>\n",
       "      <td>105.0</td>\n",
       "      <td>44.934197</td>\n",
       "      <td>3.275323</td>\n",
       "      <td>37.100500</td>\n",
       "      <td>43.053660</td>\n",
       "      <td>44.776950</td>\n",
       "      <td>46.982325</td>\n",
       "      <td>52.640587</td>\n",
       "    </tr>\n",
       "  </tbody>\n",
       "</table>\n",
       "</div>\n",
       "    <div class=\"colab-df-buttons\">\n",
       "\n",
       "  <div class=\"colab-df-container\">\n",
       "    <button class=\"colab-df-convert\" onclick=\"convertToInteractive('df-09ecc287-0f2f-47c3-82e3-df1eacfb8bed')\"\n",
       "            title=\"Convert this dataframe to an interactive table.\"\n",
       "            style=\"display:none;\">\n",
       "\n",
       "  <svg xmlns=\"http://www.w3.org/2000/svg\" height=\"24px\" viewBox=\"0 -960 960 960\">\n",
       "    <path d=\"M120-120v-720h720v720H120Zm60-500h600v-160H180v160Zm220 220h160v-160H400v160Zm0 220h160v-160H400v160ZM180-400h160v-160H180v160Zm440 0h160v-160H620v160ZM180-180h160v-160H180v160Zm440 0h160v-160H620v160Z\"/>\n",
       "  </svg>\n",
       "    </button>\n",
       "\n",
       "  <style>\n",
       "    .colab-df-container {\n",
       "      display:flex;\n",
       "      gap: 12px;\n",
       "    }\n",
       "\n",
       "    .colab-df-convert {\n",
       "      background-color: #E8F0FE;\n",
       "      border: none;\n",
       "      border-radius: 50%;\n",
       "      cursor: pointer;\n",
       "      display: none;\n",
       "      fill: #1967D2;\n",
       "      height: 32px;\n",
       "      padding: 0 0 0 0;\n",
       "      width: 32px;\n",
       "    }\n",
       "\n",
       "    .colab-df-convert:hover {\n",
       "      background-color: #E2EBFA;\n",
       "      box-shadow: 0px 1px 2px rgba(60, 64, 67, 0.3), 0px 1px 3px 1px rgba(60, 64, 67, 0.15);\n",
       "      fill: #174EA6;\n",
       "    }\n",
       "\n",
       "    .colab-df-buttons div {\n",
       "      margin-bottom: 4px;\n",
       "    }\n",
       "\n",
       "    [theme=dark] .colab-df-convert {\n",
       "      background-color: #3B4455;\n",
       "      fill: #D2E3FC;\n",
       "    }\n",
       "\n",
       "    [theme=dark] .colab-df-convert:hover {\n",
       "      background-color: #434B5C;\n",
       "      box-shadow: 0px 1px 3px 1px rgba(0, 0, 0, 0.15);\n",
       "      filter: drop-shadow(0px 1px 2px rgba(0, 0, 0, 0.3));\n",
       "      fill: #FFFFFF;\n",
       "    }\n",
       "  </style>\n",
       "\n",
       "    <script>\n",
       "      const buttonEl =\n",
       "        document.querySelector('#df-09ecc287-0f2f-47c3-82e3-df1eacfb8bed button.colab-df-convert');\n",
       "      buttonEl.style.display =\n",
       "        google.colab.kernel.accessAllowed ? 'block' : 'none';\n",
       "\n",
       "      async function convertToInteractive(key) {\n",
       "        const element = document.querySelector('#df-09ecc287-0f2f-47c3-82e3-df1eacfb8bed');\n",
       "        const dataTable =\n",
       "          await google.colab.kernel.invokeFunction('convertToInteractive',\n",
       "                                                    [key], {});\n",
       "        if (!dataTable) return;\n",
       "\n",
       "        const docLinkHtml = 'Like what you see? Visit the ' +\n",
       "          '<a target=\"_blank\" href=https://colab.research.google.com/notebooks/data_table.ipynb>data table notebook</a>'\n",
       "          + ' to learn more about interactive tables.';\n",
       "        element.innerHTML = '';\n",
       "        dataTable['output_type'] = 'display_data';\n",
       "        await google.colab.output.renderOutput(dataTable, element);\n",
       "        const docLink = document.createElement('div');\n",
       "        docLink.innerHTML = docLinkHtml;\n",
       "        element.appendChild(docLink);\n",
       "      }\n",
       "    </script>\n",
       "  </div>\n",
       "\n",
       "\n",
       "<div id=\"df-5f2ae30b-83d2-4071-8894-e138c38c123a\">\n",
       "  <button class=\"colab-df-quickchart\" onclick=\"quickchart('df-5f2ae30b-83d2-4071-8894-e138c38c123a')\"\n",
       "            title=\"Suggest charts\"\n",
       "            style=\"display:none;\">\n",
       "\n",
       "<svg xmlns=\"http://www.w3.org/2000/svg\" height=\"24px\"viewBox=\"0 0 24 24\"\n",
       "     width=\"24px\">\n",
       "    <g>\n",
       "        <path d=\"M19 3H5c-1.1 0-2 .9-2 2v14c0 1.1.9 2 2 2h14c1.1 0 2-.9 2-2V5c0-1.1-.9-2-2-2zM9 17H7v-7h2v7zm4 0h-2V7h2v10zm4 0h-2v-4h2v4z\"/>\n",
       "    </g>\n",
       "</svg>\n",
       "  </button>\n",
       "\n",
       "<style>\n",
       "  .colab-df-quickchart {\n",
       "      --bg-color: #E8F0FE;\n",
       "      --fill-color: #1967D2;\n",
       "      --hover-bg-color: #E2EBFA;\n",
       "      --hover-fill-color: #174EA6;\n",
       "      --disabled-fill-color: #AAA;\n",
       "      --disabled-bg-color: #DDD;\n",
       "  }\n",
       "\n",
       "  [theme=dark] .colab-df-quickchart {\n",
       "      --bg-color: #3B4455;\n",
       "      --fill-color: #D2E3FC;\n",
       "      --hover-bg-color: #434B5C;\n",
       "      --hover-fill-color: #FFFFFF;\n",
       "      --disabled-bg-color: #3B4455;\n",
       "      --disabled-fill-color: #666;\n",
       "  }\n",
       "\n",
       "  .colab-df-quickchart {\n",
       "    background-color: var(--bg-color);\n",
       "    border: none;\n",
       "    border-radius: 50%;\n",
       "    cursor: pointer;\n",
       "    display: none;\n",
       "    fill: var(--fill-color);\n",
       "    height: 32px;\n",
       "    padding: 0;\n",
       "    width: 32px;\n",
       "  }\n",
       "\n",
       "  .colab-df-quickchart:hover {\n",
       "    background-color: var(--hover-bg-color);\n",
       "    box-shadow: 0 1px 2px rgba(60, 64, 67, 0.3), 0 1px 3px 1px rgba(60, 64, 67, 0.15);\n",
       "    fill: var(--button-hover-fill-color);\n",
       "  }\n",
       "\n",
       "  .colab-df-quickchart-complete:disabled,\n",
       "  .colab-df-quickchart-complete:disabled:hover {\n",
       "    background-color: var(--disabled-bg-color);\n",
       "    fill: var(--disabled-fill-color);\n",
       "    box-shadow: none;\n",
       "  }\n",
       "\n",
       "  .colab-df-spinner {\n",
       "    border: 2px solid var(--fill-color);\n",
       "    border-color: transparent;\n",
       "    border-bottom-color: var(--fill-color);\n",
       "    animation:\n",
       "      spin 1s steps(1) infinite;\n",
       "  }\n",
       "\n",
       "  @keyframes spin {\n",
       "    0% {\n",
       "      border-color: transparent;\n",
       "      border-bottom-color: var(--fill-color);\n",
       "      border-left-color: var(--fill-color);\n",
       "    }\n",
       "    20% {\n",
       "      border-color: transparent;\n",
       "      border-left-color: var(--fill-color);\n",
       "      border-top-color: var(--fill-color);\n",
       "    }\n",
       "    30% {\n",
       "      border-color: transparent;\n",
       "      border-left-color: var(--fill-color);\n",
       "      border-top-color: var(--fill-color);\n",
       "      border-right-color: var(--fill-color);\n",
       "    }\n",
       "    40% {\n",
       "      border-color: transparent;\n",
       "      border-right-color: var(--fill-color);\n",
       "      border-top-color: var(--fill-color);\n",
       "    }\n",
       "    60% {\n",
       "      border-color: transparent;\n",
       "      border-right-color: var(--fill-color);\n",
       "    }\n",
       "    80% {\n",
       "      border-color: transparent;\n",
       "      border-right-color: var(--fill-color);\n",
       "      border-bottom-color: var(--fill-color);\n",
       "    }\n",
       "    90% {\n",
       "      border-color: transparent;\n",
       "      border-bottom-color: var(--fill-color);\n",
       "    }\n",
       "  }\n",
       "</style>\n",
       "\n",
       "  <script>\n",
       "    async function quickchart(key) {\n",
       "      const quickchartButtonEl =\n",
       "        document.querySelector('#' + key + ' button');\n",
       "      quickchartButtonEl.disabled = true;  // To prevent multiple clicks.\n",
       "      quickchartButtonEl.classList.add('colab-df-spinner');\n",
       "      try {\n",
       "        const charts = await google.colab.kernel.invokeFunction(\n",
       "            'suggestCharts', [key], {});\n",
       "      } catch (error) {\n",
       "        console.error('Error during call to suggestCharts:', error);\n",
       "      }\n",
       "      quickchartButtonEl.classList.remove('colab-df-spinner');\n",
       "      quickchartButtonEl.classList.add('colab-df-quickchart-complete');\n",
       "    }\n",
       "    (() => {\n",
       "      let quickchartButtonEl =\n",
       "        document.querySelector('#df-5f2ae30b-83d2-4071-8894-e138c38c123a button');\n",
       "      quickchartButtonEl.style.display =\n",
       "        google.colab.kernel.accessAllowed ? 'block' : 'none';\n",
       "    })();\n",
       "  </script>\n",
       "</div>\n",
       "\n",
       "    </div>\n",
       "  </div>\n"
      ],
      "text/plain": [
       "         count       mean       std        min        25%        50%  \\\n",
       "Version                                                                \n",
       "1.7       95.0  45.444476  3.710436  33.599215  42.781318  45.642266   \n",
       "2.0      105.0  44.934197  3.275323  37.100500  43.053660  44.776950   \n",
       "\n",
       "               75%        max  \n",
       "Version                        \n",
       "1.7      47.493408  55.192093  \n",
       "2.0      46.982325  52.640587  "
      ]
     },
     "execution_count": 16,
     "metadata": {},
     "output_type": "execute_result"
    }
   ],
   "source": [
    "tiempos_compras.groupby('Version')['tiempo'].describe()"
   ]
  },
  {
   "cell_type": "markdown",
   "metadata": {
    "id": "_aNV0tQUoill"
   },
   "source": [
    "### 🧩 Contexto\n",
    "\n",
    "Queremos saber si la nueva interfaz (versión 2.0) ha mejorado la experiencia de compra haciéndola más **rápida**, es decir, que los usuarios tarden menos tiempo en completar su compra comparado con la versión anterior (1.7).\n",
    "\n",
    "---\n",
    "\n",
    "### 🎯 Variable de interés\n",
    "\n",
    "- **Tiempo** que tardan los usuarios en completar la compra (en segundos).\n",
    "\n",
    "---\n",
    "\n",
    "### 📊 Tipo de prueba\n",
    "\n",
    "Como se están comparando los **tiempos promedio** entre **dos grupos independientes** (versión 1.7 vs versión 2.0), se aplica una:\n",
    "\n",
    "> **Prueba t para muestras independientes**\n",
    "\n",
    "---\n",
    "\n",
    "### 🧪 Hipótesis\n",
    "\n",
    "Como se quiere saber si la nueva versión **reduce el tiempo**, se plantea una **prueba de una cola**:\n",
    "\n",
    "- **H₀ (nula):** La media del tiempo con versión 2.0 es mayor o igual a la de la versión 1.7  \n",
    "  $H_0: \\mu_{2.0} \\geq \\mu_{1.7}$\n",
    "  \n",
    "- **H₁ (alternativa):** La media del tiempo con versión 2.0 es menor  \n",
    "  $H_1: \\mu_{2.0} < \\mu_{1.7}$\n",
    "\n",
    "---\n",
    "\n",
    "\n",
    "### 🧠 Interpretación\n",
    "\n",
    "- Si **p < 0.05**, **rechazamos H₀**: hay evidencia suficiente para decir que la versión 2.0 es más rápida.\n",
    "- Si **p ≥ 0.05**, **no rechazamos H₀**: no hay evidencia suficiente para afirmar que la versión 2.0 mejora el tiempo."
   ]
  },
  {
   "cell_type": "code",
   "execution_count": null,
   "metadata": {
    "colab": {
     "base_uri": "https://localhost:8080/"
    },
    "executionInfo": {
     "elapsed": 6,
     "status": "ok",
     "timestamp": 1745464839917,
     "user": {
      "displayName": "Roman Castillo",
      "userId": "03738236345711029424"
     },
     "user_tz": 360
    },
    "id": "Uvug_5s6onjm",
    "outputId": "10c1c9e9-510a-4801-8b96-98aa06268190"
   },
   "outputs": [
    {
     "name": "stdout",
     "output_type": "stream",
     "text": [
      "Valor p: 0.1514\n"
     ]
    }
   ],
   "source": [
    "\n",
    "# Separar los tiempos por versión\n",
    "tiempo_v17 = tiempos_compras[tiempos_compras['Version'] == 1.7]['tiempo']\n",
    "tiempo_v20 = tiempos_compras[tiempos_compras['Version'] == 2.0]['tiempo']\n",
    "\n",
    "# Prueba t para dos muestras independientes\n",
    "stat, p = ttest_ind(tiempo_v20, tiempo_v17, alternative='less')  # porque H₁ es que v2.0 < v1.7\n",
    "\n",
    "print(f'Valor p: {p:.4f}')"
   ]
  },
  {
   "cell_type": "markdown",
   "metadata": {
    "id": "eIMSr65LOx8t"
   },
   "source": []
  }
 ],
 "metadata": {
  "colab": {
   "authorship_tag": "ABX9TyNSMsmnTYO+r52vjD95luKQ",
   "mount_file_id": "1moqQiRSkSvTSmQVKlnU3KW1xKlEVf7jV",
   "provenance": []
  },
  "kernelspec": {
   "display_name": ".venv",
   "language": "python",
   "name": "python3"
  },
  "language_info": {
   "codemirror_mode": {
    "name": "ipython",
    "version": 3
   },
   "file_extension": ".py",
   "mimetype": "text/x-python",
   "name": "python",
   "nbconvert_exporter": "python",
   "pygments_lexer": "ipython3",
   "version": "3.12.0"
  }
 },
 "nbformat": 4,
 "nbformat_minor": 0
}
