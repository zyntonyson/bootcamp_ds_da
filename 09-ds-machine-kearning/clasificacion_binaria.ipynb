{
 "cells": [
  {
   "cell_type": "markdown",
   "id": "eb98e9a0",
   "metadata": {},
   "source": [
    "# ML: Clasificación"
   ]
  },
  {
   "cell_type": "markdown",
   "id": "143bfc2c",
   "metadata": {},
   "source": [
    "## 🟢 1. ¿Qué es el aprendizaje supervisado?\n",
    "\n",
    "En Machine Learning, uno de los enfoques más usados es el **aprendizaje supervisado**. Este tipo de aprendizaje funciona a partir de ejemplos. Le damos a la computadora un conjunto de datos donde ya conocemos las respuestas correctas, para que aprenda a generalizar y pueda hacer predicciones en nuevos casos que nunca ha visto.\n",
    "\n",
    "En nuestro caso, trabajaremos con un conjunto de datos sobre tumores. Cada fila representa un tumor distinto y contiene características como el tamaño, la textura y la forma de las células. Además, cada tumor está clasificado como **benigno (`0`)** o **maligno (`1`)**.\n",
    "\n",
    "Al darle estos ejemplos al modelo, podrá aprender a distinguir patrones que lo ayuden a predecir si un nuevo tumor podría ser maligno o no, basándose únicamente en sus características.\n",
    "\n",
    "---\n",
    "\n",
    "### 📌 Conceptos clave\n",
    "\n",
    "* **Observaciones (o muestras)**: cada fila del dataset; en nuestro caso, un tumor.\n",
    "* **Características (features)**: columnas que describen cada observación, como `mean radius`, `mean texture`, etc.\n",
    "* **Objetivo (target o etiqueta)**: lo que queremos predecir. Aquí, la clase del tumor: `0 = benigno`, `1 = maligno`.\n",
    "\n",
    "> Este es un ejemplo de **clasificación binaria**, porque solo hay dos posibles clases de salida.\n"
   ]
  },
  {
   "cell_type": "markdown",
   "id": "f8110928",
   "metadata": {},
   "source": [
    "### 🤖 ¿Qué es un clasificador?\n",
    "\n",
    "Un **clasificador** es un modelo que toma datos de entrada y predice a cuál clase pertenece cada observación.\n",
    "\n",
    "En otras palabras, su trabajo es asignar una etiqueta (como `maligno` o `benigno`) en función de las características de entrada.\n",
    "\n",
    "> Existen muchos tipos de clasificadores: árboles de decisión, regresión logística, máquinas de soporte vectorial, redes neuronales, etc. Cada uno tiene su propia forma de aprender y tomar decisiones.\n"
   ]
  },
  {
   "cell_type": "markdown",
   "id": "1613ec76",
   "metadata": {},
   "source": [
    "### 📦 Cargando el dataset\n",
    "\n",
    "Vamos a utilizar un dataset llamado `breast cancer`, disponible en `scikit-learn`. Este conjunto de datos contiene 30 características numéricas de tumores, más la clasificación (benigno o maligno).\n"
   ]
  },
  {
   "cell_type": "code",
   "execution_count": 17,
   "id": "f0566f46",
   "metadata": {},
   "outputs": [],
   "source": [
    "import pandas as pd\n",
    "import seaborn as sns\n",
    "import matplotlib.pyplot as plt\n",
    "from sklearn.datasets import load_breast_cancer\n",
    "from sklearn.model_selection import train_test_split\n",
    "from sklearn.tree import DecisionTreeClassifier\n",
    "from sklearn.ensemble import RandomForestClassifier\n",
    "from sklearn.linear_model import LogisticRegression\n",
    "from sklearn.model_selection import GridSearchCV\n",
    "from sklearn.metrics import accuracy_score, precision_score, recall_score, f1_score, classification_report\n",
    "import joblib"
   ]
  },
  {
   "cell_type": "code",
   "execution_count": 15,
   "id": "3bfd172c",
   "metadata": {},
   "outputs": [],
   "source": [
    "sns.set_style('whitegrid')\n",
    "sns.set_palette('pastel')"
   ]
  },
  {
   "cell_type": "code",
   "execution_count": 2,
   "id": "9e488d7d",
   "metadata": {},
   "outputs": [],
   "source": [
    "data = load_breast_cancer(as_frame=True)\n",
    "df = data.frame\n",
    "X = df.drop(columns=['target'])\n",
    "y = df['target']"
   ]
  },
  {
   "cell_type": "markdown",
   "id": "7892fa32",
   "metadata": {},
   "source": [
    "### ✂️ División del dataset en entrenamiento y validación"
   ]
  },
  {
   "cell_type": "code",
   "execution_count": 3,
   "id": "28bba90b",
   "metadata": {},
   "outputs": [],
   "source": [
    "X_train, X_valid, y_train, y_valid = train_test_split(X, y, test_size=0.25, random_state=42)"
   ]
  },
  {
   "cell_type": "markdown",
   "id": "6683e250",
   "metadata": {},
   "source": [
    "## 🔵 Árbol de decisión 🌲\n",
    "\n",
    "Ahora que entendemos el problema, vamos a crear nuestro primer clasificador. Usaremos un **árbol de decisión**, un modelo muy intuitivo que funciona como una secuencia de preguntas:\n",
    "\n",
    "> “¿El tamaño medio del núcleo es mayor a 15? Si sí, ve a la derecha; si no, ve a la izquierda.”\n",
    "\n",
    "Este tipo de modelo se representa gráficamente como un árbol, donde cada nodo es una pregunta y cada rama representa una posible respuesta.\n"
   ]
  },
  {
   "cell_type": "code",
   "execution_count": null,
   "id": "ec076f03",
   "metadata": {},
   "outputs": [
    {
     "name": "stdout",
     "output_type": "stream",
     "text": [
      "Accuracy Árbol de Decisión: 0.951048951048951\n"
     ]
    }
   ],
   "source": [
    "tree_model = DecisionTreeClassifier(max_depth=4, random_state=42)\n",
    "tree_model.fit(X_train, y_train)"
   ]
  },
  {
   "cell_type": "markdown",
   "id": "eb630216",
   "metadata": {},
   "source": [
    "### 😯 ¿Qué hace realmente `.fit()`?\n",
    "\n",
    "Cuando usamos `.fit(X, y)`, estamos diciéndole al modelo que aprenda una relación entre las **características de entrada (`X`)** y el **objetivo (`y`)**. En este proceso, el modelo analiza los datos, encuentra patrones y genera una estructura interna (como un árbol de decisiones) que luego usará para hacer predicciones con `.predict()`.\n"
   ]
  },
  {
   "cell_type": "markdown",
   "id": "0771b43e",
   "metadata": {},
   "source": [
    "### 🧠 Ejemplo simplificado\n",
    "\n",
    "Supón que solo tuviéramos estas dos características:\n",
    "\n",
    "* `mean radius`: tamaño promedio del núcleo\n",
    "* `mean texture`: textura promedio\n",
    "\n",
    "El árbol podría funcionar así:\n",
    "\n",
    "1. ¿`mean radius` > 15?  \n",
    "   * **Sí** → probablemente maligno.  \n",
    "   * **No** → siguiente pregunta...\n",
    "\n",
    "2. ¿`mean texture` > 20?  \n",
    "   * **Sí** → probablemente maligno.  \n",
    "   * **No** → probablemente benigno.\n",
    "\n",
    "Cada una de estas decisiones es un **nodo** en el árbol, y al seguir las ramas, llegamos a una **hoja**, donde el modelo toma una decisión final (clase 0 o 1).\n"
   ]
  },
  {
   "cell_type": "markdown",
   "id": "76968678",
   "metadata": {},
   "source": [
    "### 🌱 ¿Cómo elige las preguntas?\n",
    "\n",
    "El modelo **aprende** las preguntas al analizar los datos de entrenamiento. Busca aquellas divisiones que mejor separen los casos benignos de los malignos.  \n",
    "Este proceso se llama **división del árbol** (*splitting*), y se basa en criterios matemáticos como:\n",
    "\n",
    "- **Gini impurity**\n",
    "- **Entropía**\n",
    "\n",
    "Estos criterios le indican qué tan “puros” son los grupos resultantes después de cada división. El modelo intenta que, en cada rama, las observaciones sean lo más homogéneas posible (todas malignas o todas benignas).\n"
   ]
  },
  {
   "cell_type": "markdown",
   "id": "bc83fb84",
   "metadata": {},
   "source": [
    "### 🔎 ¿Por qué es útil?\n",
    "\n",
    "- ✅ Es **fácil de interpretar** (especialmente con pocas variables).\n",
    "- ✅ Funciona bien con variables numéricas y categóricas.\n",
    "- ✅ Es **rápido de entrenar** y de predecir.\n",
    "- ✅ Se puede visualizar, lo cual ayuda a explicar las decisiones del modelo.\n"
   ]
  },
  {
   "cell_type": "code",
   "execution_count": null,
   "id": "c5f3fc49",
   "metadata": {},
   "outputs": [],
   "source": [
    "preds_tree = tree_model.predict(X_valid)\n",
    "print(\"Accuracy Árbol de Decisión:\", accuracy_score(y_valid, preds_tree))"
   ]
  },
  {
   "cell_type": "markdown",
   "id": "d53fb760",
   "metadata": {},
   "source": [
    "## 🌲🌲🌲 Random Forest 🌲🌲🌲"
   ]
  },
  {
   "cell_type": "markdown",
   "id": "df7d8fa3",
   "metadata": {},
   "source": [
    "Ya entrenamos un modelo con un solo **árbol de decisión**, pero ¿qué pasaría si en lugar de uno, tuviéramos **muchos árboles** que votaran por la mejor respuesta?\n",
    "\n",
    "Eso es exactamente lo que hace un **Random Forest**.\n",
    "\n",
    "---\n",
    "\n",
    "### 🌳 ¿Qué es un Random Forest?\n",
    "\n",
    "Un **bosque aleatorio** es un modelo de clasificación que **entrena múltiples árboles de decisión** sobre diferentes partes del conjunto de datos.  \n",
    "Cada árbol hace su propia predicción, y luego el bosque toma la **decisión final por votación** (la clase más frecuente).\n",
    "\n",
    "---\n",
    "\n",
    "### 🧠 ¿Por qué usar varios árboles?\n",
    "\n",
    "Cada árbol, por sí solo, puede ser muy sensible a pequeños cambios en los datos (como un estudiante que se equivoca fácilmente si le cambias la pregunta).\n",
    "\n",
    "Pero si juntamos las opiniones de muchos árboles distintos, el resultado es **más estable y preciso**.  \n",
    "Es como preguntar a varios expertos y decidir según el consenso.\n",
    "\n",
    "---\n",
    "\n",
    "### ⚙️ ¿Cómo se entrena un Random Forest?\n",
    "\n",
    "Cada árbol se entrena con una **muestra aleatoria** del dataset, y cada división del árbol se hace usando un **subconjunto aleatorio de características**. De ahí el nombre *“aleatorio”*.\n",
    "\n",
    "Esto introduce **diversidad** entre los árboles y evita que todos cometan los mismos errores.\n",
    "\n",
    "---\n",
    "\n",
    "### 🛠️ Hiperparámetros clave\n",
    "\n",
    "- `n_estimators`: número de árboles que tendrá el bosque.  \n",
    "- `max_depth`: profundidad máxima de cada árbol (opcional).  \n",
    "- `random_state`: semilla para reproducibilidad.\n",
    "\n",
    "---\n",
    "\n",
    "### 🌱 ¿Cuándo usar un Random Forest?\n",
    "\n",
    "✅ Cuando quieres un modelo potente sin necesidad de mucho ajuste.  \n",
    "✅ Cuando tu dataset tiene muchas características.  \n",
    "✅ Cuando quieres evitar *overfitting*, ya que el bosque es más robusto.\n"
   ]
  },
  {
   "cell_type": "code",
   "execution_count": 5,
   "id": "8134b157",
   "metadata": {},
   "outputs": [
    {
     "name": "stdout",
     "output_type": "stream",
     "text": [
      "Accuracy Random Forest: 0.965034965034965\n"
     ]
    }
   ],
   "source": [
    "rf_model = RandomForestClassifier(n_estimators=100, random_state=42)\n",
    "rf_model.fit(X_train, y_train)\n",
    "preds_rf = rf_model.predict(X_valid)\n",
    "print(\"Accuracy Random Forest:\", accuracy_score(y_valid, preds_rf))"
   ]
  },
  {
   "cell_type": "markdown",
   "id": "31d9a8e7",
   "metadata": {},
   "source": [
    "## 📈 Regresión Logística"
   ]
  },
  {
   "cell_type": "markdown",
   "id": "5623a16d",
   "metadata": {},
   "source": [
    "## ⚫ 8. Regresión logística: un modelo lineal para clasificar 🧮\n",
    "\n",
    "Al escuchar “regresión logística”, podrías pensar que sirve para predecir números (como la regresión lineal),  \n",
    "pero no: este modelo se utiliza cuando queremos **clasificar observaciones en dos categorías**, como:\n",
    "\n",
    "- ¿Es maligno o benigno?  \n",
    "- ¿Fraude o no fraude?  \n",
    "- ¿Cliente que se queda o que abandona?\n",
    "\n",
    "---\n",
    "\n",
    "### 🧠 ¿Cómo funciona?\n",
    "\n",
    "La regresión logística es un **modelo lineal** que calcula una **probabilidad** de que una observación pertenezca a la clase positiva (por ejemplo, que un tumor sea maligno).\n",
    "\n",
    "1. Toma una combinación lineal de las características (como un *score*):\n",
    "\n",
    "   $$\n",
    "   z = w_0 + w_1x_1 + w_2x_2 + \\cdots + w_nx_n\n",
    "   $$\n",
    "\n",
    "2. Luego transforma ese número con una función llamada **sigmoide** (o logística), que convierte cualquier valor real en un número entre 0 y 1:\n",
    "\n",
    "   $$\n",
    "   \\hat{p} = \\frac{1}{1 + e^{-z}}\n",
    "   $$\n",
    "\n",
    "Este valor $\\hat{p}$ es la **probabilidad** de que la observación pertenezca a la clase positiva (por ejemplo, `maligno = 1`).\n",
    "\n",
    "---\n",
    "\n",
    "### 📏 ¿Cómo decide la clase?\n",
    "\n",
    "Usualmente se usa un umbral de 0.5:\n",
    "\n",
    "- Si la probabilidad es mayor a 0.5 → clase 1  \n",
    "- Si es menor o igual a 0.5 → clase 0\n",
    "\n",
    "> Este umbral se puede ajustar si necesitas favorecer más *recall* o más *precision*.\n",
    "\n",
    "---\n",
    "\n",
    "### ⚙️ Ventajas de la regresión logística\n",
    "\n",
    "- ✅ Fácil de interpretar (puedes ver el peso de cada variable).  \n",
    "- ✅ Rápida de entrenar.  \n",
    "- ✅ Buena performance en muchos problemas simples.  \n",
    "- ✅ Menor riesgo de *overfitting* que modelos más complejos.\n",
    "\n",
    "---\n",
    "\n",
    "### 📌 ¿Cuándo usar regresión logística?\n",
    "\n",
    "✅ Cuando necesitas un modelo interpretable (puedes ver el impacto de cada variable).  \n",
    "✅ Cuando el problema es linealmente separable (las clases se pueden dividir con una línea o plano).  \n",
    "✅ Cuando quieres una **línea base robusta** sobre la cual comparar modelos más complejos.\n"
   ]
  },
  {
   "cell_type": "code",
   "execution_count": 7,
   "id": "2fb46ca7",
   "metadata": {},
   "outputs": [
    {
     "name": "stdout",
     "output_type": "stream",
     "text": [
      "Accuracy Regresión Logística: 0.958041958041958\n"
     ]
    },
    {
     "name": "stderr",
     "output_type": "stream",
     "text": [
      "c:\\Users\\roman\\Documents\\proyectos\\tripleten\\bootcamp_ds_da\\.venv\\Lib\\site-packages\\sklearn\\linear_model\\_logistic.py:470: ConvergenceWarning: lbfgs failed to converge after 20 iteration(s) (status=1):\n",
      "STOP: TOTAL NO. OF ITERATIONS REACHED LIMIT\n",
      "\n",
      "Increase the number of iterations to improve the convergence (max_iter=20).\n",
      "You might also want to scale the data as shown in:\n",
      "    https://scikit-learn.org/stable/modules/preprocessing.html\n",
      "Please also refer to the documentation for alternative solver options:\n",
      "    https://scikit-learn.org/stable/modules/linear_model.html#logistic-regression\n",
      "  n_iter_i = _check_optimize_result(\n"
     ]
    }
   ],
   "source": [
    "log_model = LogisticRegression(max_iter=20, random_state=42)\n",
    "log_model.fit(X_train, y_train)\n",
    "preds_log = log_model.predict(X_valid)\n",
    "print(\"Accuracy Regresión Logística:\", accuracy_score(y_valid, preds_log))"
   ]
  },
  {
   "cell_type": "markdown",
   "id": "cf0ae3cf",
   "metadata": {},
   "source": [
    "## 🟡 ¿Qué tan bueno es un modelo?\n",
    "\n",
    "### 📝 ¿Qué significa que un modelo \"funcione\"?\n",
    "\n",
    "Significa que cuando recibe nuevos datos (tumores que no ha visto antes), puede **predecir correctamente si son malignos o benignos**. Para saber si lo está haciendo bien, necesitamos compararlo con las respuestas verdaderas.\n",
    "\n",
    "---\n",
    "\n",
    "### ✅ *Accuracy* (Exactitud)\n",
    "\n",
    "La métrica más simple para evaluar un modelo es la **exactitud**. Nos dice el **porcentaje de casos en los que el modelo acertó**.\n",
    "\n",
    "> Si el modelo revisa 100 tumores y acierta en 90, la exactitud es 90%.\n",
    "\n",
    "**Fórmula:**\n",
    "\n",
    "$$\n",
    "\\text{Accuracy} = \\frac{\\text{Número de predicciones correctas}}{\\text{Total de predicciones}}\n",
    "$$\n",
    "\n",
    "---\n",
    "\n",
    "### ⚠️ ¡Pero cuidado con confiar demasiado en la accuracy!\n",
    "\n",
    "Imagina este escenario:  \n",
    "De cada 100 tumores, **95 son benignos** y solo **5 son malignos**.  \n",
    "Si construyo un modelo muy simple que siempre diga “benigno”, acertará 95 de 100 veces.\n",
    "\n",
    "$$\n",
    "\\text{Accuracy} = \\frac{95}{100} = 0.95\n",
    "$$\n",
    "\n",
    "¡Y sin hacer ningún esfuerzo! Pero este modelo **nunca detectaría un tumor maligno**, lo cual es gravísimo.\n",
    "\n",
    "---\n",
    "\n",
    "### 🤯 El problema de los datos desbalanceados\n",
    "\n",
    "Esto sucede cuando una de las clases aparece con mucha más frecuencia que la otra. En el caso del cáncer, esto es común: la mayoría de los casos suelen ser benignos, lo que puede **engañar** a las métricas simples como la *accuracy*.\n",
    "\n",
    "Por eso, necesitamos usar otras métricas más especializadas que nos ayuden a entender **cómo** se equivoca el modelo, no solo cuánto.\n"
   ]
  },
  {
   "cell_type": "markdown",
   "id": "e7c9ce24",
   "metadata": {},
   "source": [
    "En problemas médicos como la detección de cáncer, hay dos tipos de errores que debemos conocer bien:\n",
    "\n",
    "---\n",
    "\n",
    "### 🩹 1. Falso positivo (FP)\n",
    "\n",
    "El modelo predice que el tumor es **maligno**, pero **no lo es**.  \n",
    "Es como una falsa alarma: puede generar ansiedad, más pruebas y uso innecesario de recursos médicos.\n",
    "\n",
    "---\n",
    "\n",
    "### 🧪 2. Falso negativo (FN)\n",
    "\n",
    "El modelo predice que el tumor es **benigno**, pero **sí era maligno**.  \n",
    "Este es un error **mucho más grave**. El paciente no recibe tratamiento a tiempo y la enfermedad avanza sin que se detecte.\n",
    "\n",
    "---\n",
    "\n",
    "### 🎯 *Precision*\n",
    "\n",
    "> “De todos los casos que el modelo predijo como malignos, ¿cuántos realmente lo eran?”\n",
    "\n",
    "$$\n",
    "\\text{Precision} = \\frac{\\text{Verdaderos Positivos}}{\\text{Verdaderos Positivos} + \\text{Falsos Positivos}}\n",
    "$$\n",
    "\n",
    "Una alta *precision* significa que el modelo **no da muchas falsas alarmas**.  \n",
    "Si predice \"maligno\", casi siempre tiene razón.\n",
    "\n",
    "---\n",
    "\n",
    "### 🔍 *Recall* (Sensibilidad)\n",
    "\n",
    "> “De todos los tumores que realmente eran malignos, ¿cuántos detectó el modelo?”\n",
    "\n",
    "$$\n",
    "\\text{Recall} = \\frac{\\text{Verdaderos Positivos}}{\\text{Verdaderos Positivos} + \\text{Falsos Negativos}}\n",
    "$$\n",
    "\n",
    "Una alta *recall* significa que el modelo **casi no deja pasar casos verdaderamente malignos sin detectarlos**.\n",
    "\n",
    "---\n",
    "\n",
    "### ⚖️ ¿Qué es el F1-score?\n",
    "\n",
    "El **F1-score** es una métrica que combina la *precision* y el *recall* en un solo valor. Es especialmente útil cuando los datos están desbalanceados, ya que un modelo podría tener alta *accuracy* sin detectar correctamente la clase minoritaria.\n",
    "\n",
    "El F1-score se define como la **media armónica** entre *precision* y *recall*:\n",
    "\n",
    "$$\n",
    "F1 = 2 \\cdot \\frac{\\text{Precision} \\cdot \\text{Recall}}{\\text{Precision} + \\text{Recall}}\n",
    "$$\n",
    "\n",
    "Esto significa que el F1-score solo será alto si **ambas métricas son altas**. Si una es muy baja, el F1-score también será bajo.\n",
    "\n",
    "> Es una excelente medida cuando necesitas un balance entre no dar muchas falsas alarmas (*precision*) y no dejar pasar casos importantes (*recall*).\n",
    "\n",
    "---\n",
    "\n",
    "### 💡 ¿Qué es más importante?\n",
    "\n",
    "Depende del contexto:\n",
    "\n",
    "- En **publicidad**, tal vez te moleste un falso positivo, pero no es tan grave.\n",
    "- En **medicina**, los falsos negativos son peligrosos. Por eso, **preferimos tener alto *recall***, incluso si cometemos algunos falsos positivos.\n"
   ]
  },
  {
   "cell_type": "code",
   "execution_count": 8,
   "id": "bc86b935",
   "metadata": {},
   "outputs": [
    {
     "name": "stdout",
     "output_type": "stream",
     "text": [
      "\n",
      "Árbol de Decisión\n",
      "              precision    recall  f1-score   support\n",
      "\n",
      "           0       0.93      0.94      0.94        54\n",
      "           1       0.97      0.96      0.96        89\n",
      "\n",
      "    accuracy                           0.95       143\n",
      "   macro avg       0.95      0.95      0.95       143\n",
      "weighted avg       0.95      0.95      0.95       143\n",
      "\n",
      "\n",
      "Random Forest\n",
      "              precision    recall  f1-score   support\n",
      "\n",
      "           0       0.96      0.94      0.95        54\n",
      "           1       0.97      0.98      0.97        89\n",
      "\n",
      "    accuracy                           0.97       143\n",
      "   macro avg       0.96      0.96      0.96       143\n",
      "weighted avg       0.97      0.97      0.96       143\n",
      "\n",
      "\n",
      "Regresión Logística\n",
      "              precision    recall  f1-score   support\n",
      "\n",
      "           0       0.98      0.91      0.94        54\n",
      "           1       0.95      0.99      0.97        89\n",
      "\n",
      "    accuracy                           0.96       143\n",
      "   macro avg       0.96      0.95      0.95       143\n",
      "weighted avg       0.96      0.96      0.96       143\n",
      "\n"
     ]
    }
   ],
   "source": [
    "print(\"\\nÁrbol de Decisión\")\n",
    "print(classification_report(y_valid, preds_tree))\n",
    "print(\"\\nRandom Forest\")\n",
    "print(classification_report(y_valid, preds_rf))\n",
    "print(\"\\nRegresión Logística\")\n",
    "print(classification_report(y_valid, preds_log))"
   ]
  },
  {
   "cell_type": "markdown",
   "id": "52abfe82",
   "metadata": {},
   "source": [
    "## 📉 Visualización comparativa"
   ]
  },
  {
   "cell_type": "code",
   "execution_count": null,
   "id": "b549f6cf",
   "metadata": {},
   "outputs": [
    {
     "data": {
      "image/png": "[encoded data removed]",
      "text/plain": [
       "<Figure size 1000x600 with 1 Axes>"
      ]
     },
     "metadata": {},
     "output_type": "display_data"
    }
   ],
   "source": [
    "# Datos\n",
    "models = ['Árbol', 'Random Forest', 'Reg. Logística']\n",
    "precisions = [\n",
    "    precision_score(y_valid, preds_tree),\n",
    "    precision_score(y_valid, preds_rf),\n",
    "    precision_score(y_valid, preds_log),\n",
    "]\n",
    "recalls = [\n",
    "    recall_score(y_valid, preds_tree),\n",
    "    recall_score(y_valid, preds_rf),\n",
    "    recall_score(y_valid, preds_log),\n",
    "]\n",
    "f1s = [\n",
    "    f1_score(y_valid, preds_tree),\n",
    "    f1_score(y_valid, preds_rf),\n",
    "    f1_score(y_valid, preds_log),\n",
    "]\n",
    "\n",
    "# Crear dataframe en formato largo\n",
    "df_metrics = pd.DataFrame({\n",
    "    'Modelo': models * 3,\n",
    "    'Métrica': ['Precision'] * 3 + ['Recall'] * 3 + ['F1-score'] * 3,\n",
    "    'Valor': precisions + recalls + f1s\n",
    "})\n",
    "\n",
    "plt.figure(figsize=(10, 6))\n",
    "sns.barplot(data=df_metrics, x='Modelo', y='Valor', hue='Métrica')\n",
    "plt.ylim(0.8, 1.0)\n",
    "plt.title(\"Comparación de modelos: precisión, recall y F1-score\")\n",
    "plt.grid(axis='y')\n",
    "plt.legend(title='Métrica')\n",
    "plt.show()"
   ]
  },
  {
   "cell_type": "markdown",
   "id": "b4b071fc",
   "metadata": {},
   "source": [
    "### 🧠 ¿Cuál modelo elegir?\n",
    "\n",
    "* Si buscas **interpretabilidad**: regresión logística.\n",
    "* Si quieres una **decisión simple y explicable**: árbol de decisión.\n",
    "* Si quieres **mejor desempeño general**: Random Forest suele ganar.\n",
    "\n",
    "> 🧘‍♂️ Pero recuerda: la elección ideal **depende del problema, los datos y el contexto**  \n",
    "(por ejemplo, en salud, se prioriza *recall* sobre *accuracy*).\n"
   ]
  },
  {
   "cell_type": "markdown",
   "id": "682ccf34",
   "metadata": {},
   "source": [
    "## 💾 10. Guardar y cargar tu modelo\n",
    "\n",
    "Una vez que tienes un modelo que te gusta, **no necesitas volver a entrenarlo cada vez que lo vayas a usar**.  \n",
    "Puedes guardarlo en un archivo y cargarlo más adelante, tal como lo harías con un documento o una imagen.\n",
    "\n",
    "---\n",
    "\n",
    "### 🧠 ¿Por qué guardar un modelo?\n",
    "\n",
    "* Para evitar volver a entrenar (ahorra tiempo).\n",
    "* Para usarlo en una aplicación real.\n",
    "* Para compartirlo con otros (por ejemplo, en un equipo de trabajo).\n",
    "* Para mantener versiones controladas de tus experimentos.\n",
    "\n",
    "---"
   ]
  },
  {
   "cell_type": "code",
   "execution_count": null,
   "id": "5f60dbcd",
   "metadata": {},
   "outputs": [],
   "source": [
    "# Guardamos el mejor modelo (ejemplo: Random Forest)\n",
    "joblib.dump(rf_model, 'modelo_cancer.joblib')"
   ]
  },
  {
   "cell_type": "code",
   "execution_count": null,
   "id": "91c3c2d5",
   "metadata": {},
   "outputs": [],
   "source": [
    "import joblib\n",
    "\n",
    "# Cargar el modelo desde el archivo\n",
    "modelo_cargado = joblib.load('modelo_cancer.joblib')\n",
    "\n",
    "# Usarlo para predecir\n",
    "nuevas_predicciones = modelo_cargado.predict(X_train)\n"
   ]
  },
  {
   "cell_type": "markdown",
   "id": "6858eb64",
   "metadata": {},
   "source": [
    "## Cómo mejorar nuestros modelos\n",
    "\n",
    "### 🧪 Ajuste de hiperparámetros con GridSearchCV\n",
    "\n",
    "Una vez que identificamos al **Random Forest** como el mejor modelo en nuestras pruebas iniciales, podemos intentar **mejorar aún más su rendimiento** usando una técnica llamada `GridSearchCV`.\n",
    "\n",
    "Esta técnica nos permite buscar automáticamente la **mejor combinación de hiperparámetros**, evaluando el desempeño del modelo con validación cruzada para cada combinación.\n",
    "\n",
    "> Un hiperparámetro es una configuración externa al modelo que controla su comportamiento durante el entrenamiento. A diferencia de los parámetros (que el modelo aprende automáticamente con los datos), los hiperparámetros deben definirse antes de entrenar.\n",
    "\n",
    "Por ejemplo, podemos probar distintas profundidades de árboles (`max_depth`) y cantidades de árboles (`n_estimators`):\n",
    "\n",
    "> El resultado te indicará la combinación de hiperparámetros que ofreció el mejor equilibrio entre *precision* y *recall*, según el F1-score. Luego puedes usar ese modelo entrenado (`grid_search.best_estimator_`) para predecir sobre nuevos datos.\n"
   ]
  },
  {
   "cell_type": "code",
   "execution_count": 18,
   "id": "f6fcded1",
   "metadata": {},
   "outputs": [
    {
     "name": "stdout",
     "output_type": "stream",
     "text": [
      "Mejores parámetros: {'max_depth': 5, 'n_estimators': 50}\n",
      "Mejor F1-score (cross-validated): 0.9684603312534895\n"
     ]
    }
   ],
   "source": [
    "\n",
    "# Definir rejilla de hiperparámetros\n",
    "param_grid = {\n",
    "    'n_estimators': [50, 100, 150],\n",
    "    'max_depth': [3, 5, 10, None]\n",
    "}\n",
    "\n",
    "# Modelo base\n",
    "rf = RandomForestClassifier(random_state=42)\n",
    "\n",
    "# Búsqueda en rejilla con validación cruzada de 5 folds\n",
    "grid_search = GridSearchCV(estimator=rf, param_grid=param_grid, cv=5, scoring='f1')\n",
    "grid_search.fit(X_train, y_train)\n",
    "\n",
    "# Mejor combinación encontrada\n",
    "print(\"Mejores parámetros:\", grid_search.best_params_)\n",
    "print(\"Mejor F1-score (cross-validated):\", grid_search.best_score_)\n"
   ]
  },
  {
   "cell_type": "markdown",
   "id": "e8c3208e",
   "metadata": {},
   "source": [
    "### ¿Está aprendiendo bien o *demasiado bien*?\n",
    "\n",
    "Hasta ahora, hemos entrenado modelos con todos los datos disponibles y evaluado qué tan bien predice sobre esos mismos datos.  \n",
    "Pero en la vida real, los datos que veremos en el futuro **no serán exactamente iguales** a los que usamos para entrenar.  \n",
    "Entonces surge una pregunta importante:\n",
    "\n",
    "> **¿Nuestro modelo realmente aprendió a generalizar… o solo memorizó los ejemplos?**\n",
    "\n",
    "Aquí entran dos conceptos fundamentales:\n",
    "\n",
    "---\n",
    "\n",
    "### 🤯 *Overfitting* (sobreajuste)\n",
    "\n",
    "Un modelo sufre **overfitting** cuando aprende **demasiado bien** los datos de entrenamiento —al punto de que memoriza detalles y ruido específicos, en lugar de aprender patrones generales.\n",
    "\n",
    "Es como un estudiante que memoriza todas las respuestas exactas de una guía... pero no entiende el tema.  \n",
    "Si le cambias la pregunta en el examen, no sabe qué hacer.\n",
    "\n",
    "> **Síntoma típico:** el modelo tiene un alto desempeño en el conjunto de entrenamiento pero bajo desempeño en datos nuevos.\n",
    "\n",
    "---\n",
    "\n",
    "### 😴 *Underfitting* (subajuste)\n",
    "\n",
    "El **underfitting** ocurre cuando el modelo **no logra capturar los patrones esenciales** en los datos, ya sea porque es muy simple, porque no entrenó bien, o porque los datos no estaban bien preparados.\n",
    "\n",
    "Es como un estudiante que no estudió lo suficiente: ni siquiera responde bien las preguntas de práctica.\n",
    "\n",
    "> **Síntoma típico:** el modelo tiene un desempeño pobre tanto en entrenamiento como en validación.\n",
    "\n",
    "---\n",
    "\n",
    "### 🧪 ¿Cómo detectar estos problemas?\n",
    "\n",
    "Para detectar *overfitting* y *underfitting*, necesitamos **dividir nuestros datos** en dos partes:\n",
    "\n",
    "1. **Conjunto de entrenamiento** (`X_train`, `y_train`): para que el modelo aprenda.\n",
    "2. **Conjunto de validación** (`X_valid`, `y_valid`): para evaluar qué tan bien generaliza.\n",
    "\n",
    "Así comparamos el desempeño en **datos vistos** vs **no vistos**.\n",
    "\n",
    "---\n",
    "\n",
    "### 📊 ¿Cómo interpretarlo?\n",
    "\n",
    "- Si el *accuracy* es **muy alto en entrenamiento y bajo en validación** → *overfitting*.\n",
    "- Si el *accuracy* es **bajo en ambos conjuntos** → *underfitting*.\n",
    "- Si el *accuracy* es **similar y alto en ambos** → el modelo está generalizando bien. ✅\n",
    "\n",
    "> *Tu meta no es tener 100% de aciertos en entrenamiento, sino un modelo que funcione bien con nuevos datos reales.*\n"
   ]
  }
 ],
 "metadata": {
  "kernelspec": {
   "display_name": ".venv",
   "language": "python",
   "name": "python3"
  },
  "language_info": {
   "codemirror_mode": {
    "name": "ipython",
    "version": 3
   },
   "file_extension": ".py",
   "mimetype": "text/x-python",
   "name": "python",
   "nbconvert_exporter": "python",
   "pygments_lexer": "ipython3",
   "version": "3.12.0"
  }
 },
 "nbformat": 4,
 "nbformat_minor": 5
}
