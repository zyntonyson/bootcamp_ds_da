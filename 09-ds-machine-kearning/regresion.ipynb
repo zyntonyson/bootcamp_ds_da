{
 "cells": [
  {
   "cell_type": "markdown",
   "id": "3b62b32c",
   "metadata": {},
   "source": [
    "# ML : Regresión"
   ]
  },
  {
   "cell_type": "markdown",
   "id": "ba7cc074",
   "metadata": {},
   "source": [
    "## Objetivos académicos\n",
    "\n",
    "1. **Comprender los fundamentos de la regresión en Machine Learning**, diferenciando entre tareas de regresión y clasificación, y reconociendo aplicaciones prácticas de la regresión.\n",
    "\n",
    "2. **Aplicar y comparar distintos modelos de regresión** (regresión lineal, árbol de decisión y random forest) para predecir valores numéricos a partir de datos reales.\n",
    "\n",
    "3. **Evaluar el desempeño de modelos de regresión** utilizando métricas como el error cuadrático medio (ECM) y la raíz del error cuadrático medio (RECM), interpretando sus resultados.\n",
    "\n",
    "4. **Optimizar modelos mediante el ajuste de hiperparámetros con GridSearchCV**, identificando los parámetros clave y comprendiendo su impacto en la precisión y generalización del modelo."
   ]
  },
  {
   "cell_type": "markdown",
   "id": "94146837",
   "metadata": {},
   "source": [
    "## 🟢 1. ¿Qué es una tarea de regresión?\n",
    "\n",
    "En Machine Learning, una **tarea de regresión** consiste en predecir un **valor numérico continuo**. A diferencia de la clasificación (donde elegimos una categoría como “benigno” o “maligno”), aquí el objetivo es predecir una cantidad: un número real.\n",
    "\n",
    "---\n",
    "\n",
    "### 🍡 Ejemplos del mundo real\n",
    "\n",
    "* ¿Cuál será el precio de esta vivienda? 🏡  \n",
    "* ¿Cuántas bicicletas se rentarán mañana? 🚴‍♂️  \n",
    "* ¿Cuánto ganará este cliente el próximo mes? 💵  \n",
    "* ¿Qué temperatura habrá la semana que viene? 🌡️\n",
    "\n",
    "En todos estos casos, no buscamos etiquetar, sino **estimar una cantidad**. Y eso es regresión.\n",
    "\n",
    "---\n",
    "\n",
    "### 🌼 Diferencia clave: clasificación vs regresión\n",
    "\n",
    "| Tipo de problema | Objetivo                  | Ejemplo                         |\n",
    "|------------------|---------------------------|----------------------------------|\n",
    "| Clasificación    | Predecir una categoría    | ¿El tumor es benigno o maligno? |\n",
    "| Regresión        | Predecir un número real   | ¿Cuánto cuesta una casa?        |\n",
    "\n",
    "> En resumen: **Clasificación = ¿Qué clase? / Regresión = ¿Cuánto?**\n"
   ]
  },
  {
   "cell_type": "markdown",
   "id": "86f9aedb",
   "metadata": {},
   "source": [
    "## 🔵 2. Nuestro reto: predecir el precio medio de una vivienda en California 🏡\n",
    "\n",
    "Vamos a usar un dataset real llamado **California Housing**, que contiene información sobre viviendas y distritos en California. Cada fila representa una zona residencial, y las columnas contienen datos agregados de esa zona.\n",
    "\n",
    "---\n",
    "\n",
    "### 📊 Características del dataset\n",
    "\n",
    "| Columna     | Descripción                                       |\n",
    "|-------------|---------------------------------------------------|\n",
    "| `MedInc`    | Ingreso medio del distrito (en decenas de miles) |\n",
    "| `HouseAge`  | Antigüedad media de las viviendas (en años)      |\n",
    "| `AveRooms`  | Número promedio de habitaciones por casa         |\n",
    "| `AveOccup`  | Promedio de personas por vivienda                |\n",
    "| `Latitude`  | Latitud del distrito                             |\n",
    "| `Longitude` | Longitud del distrito                            |\n",
    "| `MedHouseVal` | Valor medio de las casas (*target*)           |\n"
   ]
  },
  {
   "cell_type": "markdown",
   "id": "3eecd6ac",
   "metadata": {},
   "source": [
    "### 📥 Cargar datos y librerías"
   ]
  },
  {
   "cell_type": "code",
   "execution_count": null,
   "id": "9522563f",
   "metadata": {},
   "outputs": [],
   "source": [
    "import pandas as pd\n",
    "import matplotlib.pyplot as plt\n",
    "from sklearn.datasets import fetch_california_housing\n",
    "from sklearn.model_selection import train_test_split\n",
    "from sklearn.tree import DecisionTreeRegressor\n",
    "from sklearn.ensemble import RandomForestRegressor\n",
    "from sklearn.linear_model import LinearRegression\n",
    "from sklearn.metrics import mean_squared_error\n",
    "from sklearn.model_selection import GridSearchCV\n",
    "import joblib"
   ]
  },
  {
   "cell_type": "code",
   "execution_count": null,
   "id": "79069678",
   "metadata": {},
   "outputs": [],
   "source": [
    "# Cargar el dataset\n",
    "housing = fetch_california_housing(as_frame=True)\n",
    "df = housing.frame\n",
    "\n",
    "# Separar features y target\n",
    "X = df.drop(columns=['MedHouseVal'])\n",
    "y = df['MedHouseVal']"
   ]
  },
  {
   "cell_type": "markdown",
   "id": "159ec423",
   "metadata": {},
   "source": [
    "## ✂️ Preparación de los datos"
   ]
  },
  {
   "cell_type": "code",
   "execution_count": null,
   "id": "9bc384e9",
   "metadata": {},
   "outputs": [],
   "source": [
    "X_train, X_valid, y_train, y_valid = train_test_split(X, y, test_size=0.25, random_state=42)"
   ]
  },
  {
   "cell_type": "markdown",
   "id": "a40e0fa0",
   "metadata": {},
   "source": [
    "### 🍥 ¿Cuál es nuestro objetivo?\n",
    "\n",
    "Vamos a construir un modelo que, a partir de variables como el ingreso medio y el número de habitaciones, sea capaz de predecir el **valor promedio de una vivienda** en esa zona.\n",
    "\n",
    "* **Entrada (`X`)**: características numéricas como `MedInc`, `HouseAge`, etc.\n",
    "* **Salida (`y`)**: `MedHouseVal`, el precio medio.\n"
   ]
  },
  {
   "cell_type": "markdown",
   "id": "dadc78f6",
   "metadata": {},
   "source": [
    "## 🟡 3. ¿Cómo se mide el error en regresión?\n",
    "\n",
    "En problemas de clasificación usamos métricas como *accuracy*, *precision* o *recall* porque las respuestas correctas eran categorías: sí/no, A/B, 0/1.\n",
    "\n",
    "Pero en regresión, **nunca esperamos acertar exactamente el valor real**, sino estar lo más cerca posible.\n",
    "\n",
    "Por eso, las métricas de regresión se enfocan en medir **qué tan lejos** están nuestras predicciones de los valores reales.\n"
   ]
  },
  {
   "cell_type": "markdown",
   "id": "ab01c745",
   "metadata": {},
   "source": [
    "### 🍥 ¿Qué es el *error*?\n",
    "\n",
    "Es simplemente la diferencia entre lo que predice el modelo y el valor correcto:\n",
    "\n",
    "$$\n",
    "\\text{Error} = \\hat{y}_i - y_i\n",
    "$$\n",
    "\n",
    "Donde:\n",
    "* $(\\hat{y}_i)$: es el valor predicho por el modelo para la observación $(i)$ \n",
    "* $(y_i)$: es el valor real\n"
   ]
  },
  {
   "cell_type": "markdown",
   "id": "613d26d3",
   "metadata": {},
   "source": [
    "### 📄 Error Cuadrático Medio (ECM / MSE)\n",
    "\n",
    "El ECM mide el promedio de los cuadrados de los errores:\n",
    "\n",
    "$$\n",
    "\\text{ECM} = \\frac{1}{n} \\sum_{i=1}^{n} (\\hat{y}_i - y_i)^2\n",
    "$$\n",
    "\n",
    "**Interpretación:**\n",
    "- Penaliza más los errores grandes (porque los eleva al cuadrado).\n",
    "- Siempre es un número positivo.\n",
    "- Cuanto más bajo, mejor.\n",
    "\n",
    "> Pero sus unidades son “dólares al cuadrado” si estás prediciendo precios, lo cual no es tan intuitivo.\n"
   ]
  },
  {
   "cell_type": "markdown",
   "id": "dda8d5ad",
   "metadata": {},
   "source": [
    "### 🗂️ Raíz del ECM (RECM / RMSE)\n",
    "\n",
    "Para volver a las mismas unidades del valor original (por ejemplo, dólares), tomamos la raíz cuadrada del ECM. A esto se le llama:\n",
    "\n",
    "$$\n",
    "\\text{RECM} = \\sqrt{\\text{ECM}}\n",
    "$$\n",
    "\n",
    "**Ejemplo práctico:**\n",
    "\n",
    "- Si el RECM es `0.45`, significa que en promedio, nos equivocamos unos **$45,000 dólares** (recordando que los valores están en cientos de miles).\n"
   ]
  },
  {
   "cell_type": "markdown",
   "id": "39c938cd",
   "metadata": {},
   "source": [
    "## 🔴 4. Árbol de decisión para regresión 🌳\n",
    "\n",
    "Ya vimos que un árbol de decisión funciona como una serie de preguntas del tipo:\n",
    "\n",
    "> “¿El ingreso medio es mayor a 5.5?”  \n",
    "> “¿La antigüedad de la vivienda es menor a 20 años?”\n",
    "\n",
    "En clasificación, cada hoja del árbol contenía una **clase** (por ejemplo, “maligno”).  \n",
    "En regresión, cada hoja contiene un **valor promedio**, calculado con los ejemplos que caen en ese nodo.\n",
    "\n",
    "---\n",
    "\n",
    "### 🧠 Intuición del árbol regresor\n",
    "\n",
    "Un **árbol de regresión** divide el espacio de los datos en regiones donde las predicciones son constantes. Es decir:\n",
    "\n",
    "- Cada región termina con un promedio de los valores verdaderos de entrenamiento.\n",
    "- Es como decir: *“si el ingreso medio está entre 2 y 4 y la ubicación es tal, entonces predice \\$120,000”*.\n",
    "\n",
    "Esto lo convierte en un modelo muy fácil de interpretar y visualizar.\n"
   ]
  },
  {
   "cell_type": "code",
   "execution_count": null,
   "id": "308b1f8e",
   "metadata": {},
   "outputs": [],
   "source": [
    "tree_reg = DecisionTreeRegressor(max_depth=4, random_state=42)\n",
    "tree_reg.fit(X_train, y_train)\n",
    "preds_tree = tree_reg.predict(X_valid)\n",
    "\n",
    "mse = mean_squared_error(y_valid, preds_tree)\n",
    "rmse = mse ** 0.5\n",
    "print(\"ECM (Árbol):\", mse)\n",
    "print(\"RECM (Árbol):\", rmse)"
   ]
  },
  {
   "cell_type": "code",
   "execution_count": null,
   "id": "63abc03a",
   "metadata": {},
   "outputs": [],
   "source": [
    "plt.figure(figsize=(6,6))\n",
    "plt.scatter(y_valid, preds_tree, alpha=0.5)\n",
    "plt.plot([y_valid.min(), y_valid.max()], [y_valid.min(), y_valid.max()], '--r')\n",
    "plt.xlabel(\"Valor real\")\n",
    "plt.ylabel(\"Predicción\")\n",
    "plt.title(\"Árbol de decisión: Real vs Predicción\")\n",
    "plt.grid(True)\n",
    "plt.show()"
   ]
  },
  {
   "cell_type": "markdown",
   "id": "9296457c",
   "metadata": {},
   "source": [
    "> Si los puntos están muy cerca de la línea roja diagonal (real = predicción), ¡vamos por buen camino!\n",
    "\n"
   ]
  },
  {
   "cell_type": "markdown",
   "id": "7724a766",
   "metadata": {},
   "source": [
    "## 🟣 5. Regresión Lineal 📈\n",
    "\n",
    "La **regresión lineal** es uno de los modelos más simples y potentes para predecir valores numéricos. A pesar de su simplicidad, muchas veces es sorprendentemente efectiva y es un excelente punto de partida en cualquier problema de regresión.\n",
    "\n",
    "---\n",
    "\n",
    "### 🧾 ¿Qué significa “lineal”?\n",
    "\n",
    "Significa que el modelo intenta **ajustar una línea (o un plano, o un hiperplano)** que se aproxime lo mejor posible a los datos. Esa línea sigue esta fórmula:\n",
    "\n",
    "$$\n",
    "\\hat{y} = b_0 + b_1 x_1 + b_2 x_2 + \\cdots + b_n x_n\n",
    "$$\n",
    "\n",
    "**Donde:**\n",
    "- $\\hat{y}$ es el valor predicho.\n",
    "- $x_1, x_2, ..., x_n$ son las características (por ejemplo, ingreso, habitaciones, edad).\n",
    "- $b_0$ es la intersección con el eje y.\n",
    "- $b_1, ..., b_n$ son los coeficientes o **pesos** que determinan la influencia de cada característica.\n",
    "\n",
    "---\n",
    "\n",
    "### 🧠 Intuición\n",
    "\n",
    "Cada característica “empuja” el valor final hacia arriba o hacia abajo.\n",
    "\n",
    "Por ejemplo:\n",
    "\n",
    "- Si `MedInc` tiene un peso positivo, a mayor ingreso medio, mayor será el precio de la vivienda.\n",
    "- Si `HouseAge` tiene un peso negativo, a mayor antigüedad, menor el valor.\n"
   ]
  },
  {
   "cell_type": "code",
   "execution_count": null,
   "id": "3c4f6d66",
   "metadata": {},
   "outputs": [],
   "source": [
    "lin_reg = LinearRegression()\n",
    "lin_reg.fit(X_train, y_train)\n",
    "preds_lin = lin_reg.predict(X_valid)\n",
    "\n",
    "mse_lin = mean_squared_error(y_valid, preds_lin)\n",
    "rmse_lin = mse_lin ** 0.5\n",
    "print(\"ECM (Lineal):\", mse_lin)\n",
    "print(\"RECM (Lineal):\", rmse_lin)"
   ]
  },
  {
   "cell_type": "code",
   "execution_count": null,
   "id": "e4cc2e11",
   "metadata": {},
   "outputs": [],
   "source": [
    "plt.figure(figsize=(6,6))\n",
    "plt.scatter(y_valid, preds_lin, alpha=0.5, color=\"orange\")\n",
    "plt.plot([y_valid.min(), y_valid.max()], [y_valid.min(), y_valid.max()], '--r')\n",
    "plt.xlabel(\"Valor real\")\n",
    "plt.ylabel(\"Predicción\")\n",
    "plt.title(\"Regresión lineal: Real vs Predicción\")\n",
    "plt.grid(True)\n",
    "plt.show()"
   ]
  },
  {
   "cell_type": "markdown",
   "id": "8ddbf37d",
   "metadata": {},
   "source": [
    "> Una buena regresión debe concentrar sus puntos cerca de la línea roja. Si vemos mucho “abanico”, probablemente necesitamos un modelo más flexible."
   ]
  },
  {
   "cell_type": "markdown",
   "id": "1e303f96",
   "metadata": {},
   "source": [
    "## 🟤 6. Random Forest para regresión 🌲\n",
    "\n",
    "Ya trabajamos con:\n",
    "\n",
    "* Árbol de decisión, que es fácil de interpretar, pero puede sobreajustarse.\n",
    "* Regresión lineal, que es simple y rápida, pero puede no capturar relaciones complejas.\n",
    "\n",
    "Ahora presentamos un modelo que combina **lo mejor de ambos mundos**: el **Random Forest**.\n",
    "\n",
    "---\n",
    "\n",
    "### 🧠 ¿Qué es un Random Forest?\n",
    "\n",
    "Un **bosque aleatorio** es un conjunto de muchos árboles de decisión entrenados con **subconjuntos aleatorios** de los datos y las características.\n",
    "\n",
    "> Cada árbol hace su predicción, y el resultado final es el **promedio** de todas las predicciones (en regresión) o el **voto mayoritario** (en clasificación).\n",
    "\n",
    "---\n",
    "\n",
    "### 🍥 Ventajas del Random Forest\n",
    "\n",
    "✅ Generaliza bien: no se queda atrapado en los datos de entrenamiento.  \n",
    "✅ Maneja relaciones no lineales.  \n",
    "✅ No necesita mucho ajuste.  \n",
    "✅ Resistente al ruido.\n",
    "\n",
    "---\n",
    "\n",
    "### ⚙️ Hiperparámetros clave\n",
    "\n",
    "* `n_estimators`: número de árboles en el bosque.\n",
    "* `max_depth`: profundidad máxima de cada árbol (opcional).\n",
    "* `random_state`: semilla para reproducibilidad.\n"
   ]
  },
  {
   "cell_type": "code",
   "execution_count": null,
   "id": "4e02a012",
   "metadata": {},
   "outputs": [],
   "source": [
    "rf_reg = RandomForestRegressor(n_estimators=100, random_state=42)\n",
    "rf_reg.fit(X_train, y_train)\n",
    "preds_rf = rf_reg.predict(X_valid)\n",
    "\n",
    "mse_rf = mean_squared_error(y_valid, preds_rf)\n",
    "rmse_rf = mse_rf ** 0.5\n",
    "print(\"ECM (RF):\", mse_rf)\n",
    "print(\"RECM (RF):\", rmse_rf)"
   ]
  },
  {
   "cell_type": "code",
   "execution_count": null,
   "id": "9fc0a634",
   "metadata": {},
   "outputs": [],
   "source": [
    "plt.figure(figsize=(6,6))\n",
    "plt.scatter(y_valid, preds_rf, alpha=0.5, color=\"green\")\n",
    "plt.plot([y_valid.min(), y_valid.max()], [y_valid.min(), y_valid.max()], '--r')\n",
    "plt.xlabel(\"Valor real\")\n",
    "plt.ylabel(\"Predicción\")\n",
    "plt.title(\"Random Forest: Real vs Predicción\")\n",
    "plt.grid(True)\n",
    "plt.show()"
   ]
  },
  {
   "cell_type": "markdown",
   "id": "540b661b",
   "metadata": {},
   "source": [
    "## 📊 Comparación de modelos"
   ]
  },
  {
   "cell_type": "code",
   "execution_count": null,
   "id": "aeb50f52",
   "metadata": {},
   "outputs": [],
   "source": [
    "modelos = ['Árbol', 'Lineal', 'Random Forest']\n",
    "mse_scores = [mse, mse_lin, mse_rf]\n",
    "rmse_scores = [rmse, rmse_lin, rmse_rf]\n",
    "\n",
    "for modelo, mse_val, rmse_val in zip(modelos, mse_scores, rmse_scores):\n",
    "    print(f\"{modelo}\")\n",
    "    print(f\"  ECM: {mse_val:.4f}\")\n",
    "    print(f\"  RECM: {rmse_val:.4f}\\n\")"
   ]
  },
  {
   "cell_type": "code",
   "execution_count": null,
   "id": "7c698129",
   "metadata": {},
   "outputs": [],
   "source": [
    "x = range(len(modelos))\n",
    "plt.figure(figsize=(10,5))\n",
    "plt.bar(x, rmse_scores, tick_label=modelos, color=[\"skyblue\", \"orange\", \"green\"])\n",
    "plt.ylabel(\"RECM\")\n",
    "plt.title(\"Comparación de modelos - RECM\")\n",
    "plt.ylim(0, max(rmse_scores) + 0.2)\n",
    "plt.grid(axis='y')\n",
    "plt.xticks(rotation=15)\n",
    "plt.show()"
   ]
  },
  {
   "cell_type": "markdown",
   "id": "da683b36",
   "metadata": {},
   "source": [
    "### 🧠 ¿Cómo interpretar los resultados?\n",
    "\n",
    "* El modelo con **RECM más bajo** es el que se **equivoca menos** en promedio.\n",
    "* Si el **Random Forest** obtiene el mejor resultado (lo más común), puedes justificar su elección aunque no sea tan interpretable como la regresión lineal.\n",
    "\n",
    "> Elegir un modelo no siempre es solo por precisión: a veces se valora también la **interpretabilidad**, **velocidad** o **robustez** según el contexto.\n"
   ]
  },
  {
   "cell_type": "markdown",
   "id": "3a39c057",
   "metadata": {},
   "source": [
    "## 💾 8. Guardar el modelo final\n",
    "\n",
    "Una vez que tenemos un modelo bien evaluado (por ejemplo, el **Random Forest** que obtuvo el menor RECM), podemos **guardarlo en un archivo** para:\n",
    "\n",
    "* Reutilizarlo más tarde sin tener que reentrenar.\n",
    "* Integrarlo en una aplicación real.\n",
    "* Compartirlo con otros miembros del equipo.\n",
    "* Versionarlo como parte de un flujo de trabajo reproducible.\n"
   ]
  },
  {
   "cell_type": "code",
   "execution_count": null,
   "id": "92d35429",
   "metadata": {},
   "outputs": [],
   "source": [
    "joblib.dump(rf_reg, \"modelo_valor_vivienda.joblib\")\n",
    "\n",
    "# Cargar el modelo desde archivo\n",
    "modelo_cargado = joblib.load(\"modelo_valor_vivienda.joblib\")\n",
    "\n",
    "# Usar el modelo cargado para hacer predicciones\n",
    "nuevas_predicciones = modelo_cargado.predict(X_valid)"
   ]
  },
  {
   "cell_type": "markdown",
   "id": "1b9bc1ff",
   "metadata": {},
   "source": []
  },
  {
   "cell_type": "markdown",
   "id": "71f1379a",
   "metadata": {},
   "source": [
    "## 🧩 9. Ajuste de hiperparámetros con GridSearch\n",
    "\n",
    "Para mejorar el rendimiento de un modelo como Random Forest, es fundamental ajustar sus hiperparámetros, es decir, aquellos valores que controlan el comportamiento del algoritmo (por ejemplo, el número de árboles, la profundidad máxima, etc.). Una técnica muy utilizada es **GridSearch**, que consiste en probar de manera sistemática todas las combinaciones posibles de un conjunto de valores para los hiperparámetros seleccionados. Usando `GridSearchCV` de `scikit-learn`, podemos automatizar este proceso: el método entrena y valida el modelo con cada combinación, utilizando validación cruzada, y al final nos indica cuál es la mejor configuración según la métrica elegida (por ejemplo, el menor RECM). Así, GridSearch nos ayuda a encontrar el modelo más preciso de forma eficiente y reproducible.\n",
    "\n",
    "\n",
    "\n",
    "### 🔧 Principales hiperparámetros para ajustar en Random Forest\n",
    "\n",
    "Al utilizar GridSearch para optimizar un modelo Random Forest, es importante considerar los hiperparámetros más relevantes que influyen en su desempeño. Entre los principales se encuentran:\n",
    "\n",
    "- **`n_estimators`**: número de árboles en el bosque. Más árboles suelen mejorar la precisión, pero aumentan el tiempo de cómputo.\n",
    "- **`max_depth`**: profundidad máxima de cada árbol. Limitarla ayuda a evitar el sobreajuste.\n",
    "- **`min_samples_split`**: número mínimo de muestras necesarias para dividir un nodo interno.\n",
    "- **`min_samples_leaf`**: número mínimo de muestras requeridas en una hoja.\n",
    "- **`max_features`**: número máximo de características consideradas al buscar la mejor división en cada nodo.\n",
    "- **`bootstrap`**: indica si se usan muestras con reemplazo para construir los árboles.\n",
    "- **`random_state`**: semilla para asegurar la reproducibilidad de los resultados.\n",
    "\n",
    "Ajustar estos hiperparámetros permite encontrar el equilibrio óptimo entre precisión, generalización y eficiencia computacional del modelo."
   ]
  },
  {
   "cell_type": "code",
   "execution_count": null,
   "id": "c8a6a7c0",
   "metadata": {},
   "outputs": [],
   "source": [
    "\n",
    "# Definir el diccionario de hiperparámetros a probar\n",
    "param_grid = {\n",
    "    'n_estimators': [50, 100, 200],\n",
    "    'max_depth': [None, 10, 20],\n",
    "    'min_samples_split': [2, 5],\n",
    "    'min_samples_leaf': [1, 3],\n",
    "    'max_features': ['log2', 'sqrt']\n",
    "}\n",
    "\n",
    "# Crear el modelo base\n",
    "rf = RandomForestRegressor(random_state=42)\n",
    "\n",
    "# Configurar GridSearchCV\n",
    "grid_search = GridSearchCV(\n",
    "    estimator=rf,\n",
    "    param_grid=param_grid,\n",
    "    cv=3,  # 3-fold cross-validation\n",
    "    scoring='neg_root_mean_squared_error',  # Para minimizar el RECM\n",
    "    n_jobs=-1,  # Usar todos los núcleos disponibles\n",
    "    verbose=2\n",
    ")\n",
    "\n",
    "# Ajustar el modelo\n",
    "grid_search.fit(X_train, y_train)\n",
    "\n",
    "# Mostrar los mejores hiperparámetros encontrados\n",
    "print(\"Mejores hiperparámetros:\", grid_search.best_params_)\n",
    "print(\"Mejor RECM (validación cruzada):\", -grid_search.best_score_)"
   ]
  },
  {
   "cell_type": "code",
   "execution_count": null,
   "id": "0cd91685",
   "metadata": {},
   "outputs": [],
   "source": [
    "best_gridsearch = grid_search.best_estimator_\n",
    "predict_gridsearch = best_gridsearch.predict(X_valid)\n",
    "mse_rf = mean_squared_error(y_valid, predict_gridsearch)\n",
    "rmse_rf = mse_rf ** 0.5\n",
    "print(\"ECM (RF):\", mse_rf)\n",
    "print(\"RECM (RF):\", rmse_rf)\n"
   ]
  },
  {
   "cell_type": "code",
   "execution_count": null,
   "id": "46ed3995",
   "metadata": {},
   "outputs": [],
   "source": [
    "plt.figure(figsize=(6,6))\n",
    "plt.scatter(y_valid, predict_gridsearch, alpha=0.5, color=\"green\")\n",
    "plt.plot([y_valid.min(), y_valid.max()], [y_valid.min(), y_valid.max()], '--r')\n",
    "plt.xlabel(\"Valor real\")\n",
    "plt.ylabel(\"Predicción\")\n",
    "plt.title(\"Random Forest GridSearch: Real vs Predicción\")\n",
    "plt.grid(True)\n",
    "plt.show()"
   ]
  },
  {
   "cell_type": "markdown",
   "id": "e21eba46",
   "metadata": {},
   "source": [
    "# En resumen\n",
    "\n",
    "1. **Regresión :**  Es una tarea donde el objetivo es predecir valores numéricos continuos, a diferencia de la clasificación que predice categorías.\n",
    "\n",
    "2. **Métricas de evaluación:** : El error cuadrático medio (ECM) y la raíz del error cuadrático medio (RECM) son métricas clave para medir la precisión de los modelos de regresión.\n",
    "\n",
    "3. **Ajuste de hiperparámetros:** :El uso de GridSearchCV permite encontrar la mejor combinación de hiperparámetros para mejorar el rendimiento del modelo, especialmente en random forest.\n",
    "\n",
    "4. **Interpretación y visualización de resultados:** : Analizar gráficamente las predicciones frente a los valores reales ayuda a identificar el ajuste del modelo y posibles áreas de mejora.\n",
    "\n"
   ]
  }
 ],
 "metadata": {
  "kernelspec": {
   "display_name": ".venv",
   "language": "python",
   "name": "python3"
  },
  "language_info": {
   "codemirror_mode": {
    "name": "ipython",
    "version": 3
   },
   "file_extension": ".py",
   "mimetype": "text/x-python",
   "name": "python",
   "nbconvert_exporter": "python",
   "pygments_lexer": "ipython3",
   "version": "3.12.0"
  }
 },
 "nbformat": 4,
 "nbformat_minor": 5
}
