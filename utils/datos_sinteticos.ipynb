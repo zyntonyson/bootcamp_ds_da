{
 "cells": [
  {
   "cell_type": "code",
   "execution_count": null,
   "id": "260cb488",
   "metadata": {},
   "outputs": [],
   "source": [
    "import pandas as pd\n",
    "import numpy as np "
   ]
  },
  {
   "cell_type": "code",
   "execution_count": null,
   "id": "71a2a5da",
   "metadata": {},
   "outputs": [],
   "source": [
    "PATH=\"/content/drive/MyDrive/datasets/tiempos_compras.csv\"\n",
    "def generar_datos_tiempo(version):\n",
    "  if version == 1.7:\n",
    "    return np.random.normal(loc=57, scale=4.5)+np.random.normal(loc=0.5, scale=1)\n",
    "  return np.random.normal(loc=45, scale=3.3)+np.random.normal(loc=0, scale=1)\n",
    "\n",
    "def generar_datos_clics(version):\n",
    "  if version == 1.7:\n",
    "    return np.random.poisson(lam=9)\n",
    "  return np.random.poisson(lam=6)\n",
    "\n",
    "valores = [\"2.0\",'1.7']\n",
    "version=np.random.choice(valores, size=200, replace=True)\n",
    "(\n",
    "    pd.DataFrame(version,columns=['Version'])\n",
    "    .assign(tiempo=lambda x:x['Version'].apply(generar_datos_tiempo))\n",
    "    .assign(clics=lambda x:x['Version'].apply(generar_datos_clics))\n",
    "    #.to_csv(PATH,index=False)\n",
    ")\n"
   ]
  }
 ],
 "metadata": {
  "language_info": {
   "name": "python"
  }
 },
 "nbformat": 4,
 "nbformat_minor": 5
}
