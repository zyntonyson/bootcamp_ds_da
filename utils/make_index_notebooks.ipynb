{
 "cells": [
  {
   "cell_type": "code",
   "execution_count": 21,
   "id": "9ec84a0d",
   "metadata": {},
   "outputs": [],
   "source": [
    "import os\n",
    "\n",
    "def construir_arbol_notebooks(ruta_base):\n",
    "    arbol = {}\n",
    "\n",
    "    for carpeta_actual, _, archivos in os.walk(ruta_base):\n",
    "        notebooks = [f for f in archivos if f.endswith(\".ipynb\")]\n",
    "        if notebooks:\n",
    "            ruta_relativa = os.path.relpath(carpeta_actual, ruta_base)\n",
    "            partes = ruta_relativa.split(os.sep)\n",
    "            nodo = arbol\n",
    "            for parte in partes:\n",
    "                nodo = nodo.setdefault(parte, {})\n",
    "            for notebook in notebooks:\n",
    "                nombre_sin_extension = os.path.splitext(notebook)[0]\n",
    "                nodo[nombre_sin_extension] = None  # None = hoja\n",
    "\n",
    "    return arbol\n",
    "\n",
    "def escribir_markdown(arbol, archivo_md, nivel=1):\n",
    "    for clave, valor in sorted(arbol.items()):\n",
    "        if valor is None:\n",
    "            archivo_md.write(\"   \" * nivel + f\"- {clave}\\n\")\n",
    "        else:\n",
    "            archivo_md.write(\"   \" * nivel + f\"- {clave}\\n\")\n",
    "            escribir_markdown(valor, archivo_md, nivel + 1)\n",
    "\n",
    "def generar_listado_notebooks(ruta_base, archivo_salida=\"notebooks.md\"):\n",
    "    arbol = construir_arbol_notebooks(ruta_base)\n",
    "    with open(archivo_salida, \"w\", encoding=\"utf-8\") as f:\n",
    "        f.write(\"*Notebooks*\\n\\n\")\n",
    "        escribir_markdown(arbol, f)\n",
    "\n"
   ]
  },
  {
   "cell_type": "code",
   "execution_count": 22,
   "id": "b2c93ded",
   "metadata": {},
   "outputs": [],
   "source": [
    "def limpiar_ruta(ruta):\n",
    "    return ruta.replace(os.sep, \"/\")\n",
    "\n",
    "def construir_arbol_notebooks(ruta_base):\n",
    "    arbol = {}\n",
    "\n",
    "    for carpeta_actual, _, archivos in os.walk(ruta_base):\n",
    "        notebooks = [f for f in archivos if f.endswith(\".ipynb\")]\n",
    "        if notebooks:\n",
    "            ruta_relativa = os.path.relpath(carpeta_actual, ruta_base)\n",
    "            partes = ruta_relativa.split(os.sep) if ruta_relativa != \".\" else []\n",
    "            nodo = arbol\n",
    "            for parte in partes:\n",
    "                nodo = nodo.setdefault(parte, {})\n",
    "            for notebook in notebooks:\n",
    "                ruta_notebook = os.path.join(carpeta_actual, notebook)\n",
    "                ruta_relativa = os.path.relpath(ruta_notebook, ruta_base)\n",
    "                nodo[notebook] = limpiar_ruta(ruta_relativa)  # hoja: ruta_colab\n",
    "\n",
    "    return arbol\n",
    "\n",
    "def escribir_arbol_colab(arbol, archivo_md, ruta_repo, nivel=1,user=\"zyntonyson\"):\n",
    "    for clave, valor in sorted(arbol.items()):\n",
    "        if isinstance(valor, dict):\n",
    "            archivo_md.write(\"   \" * nivel + f\"- {clave}\\n\")\n",
    "            escribir_arbol_colab(valor, archivo_md, ruta_repo, nivel + 1)\n",
    "        else:\n",
    "            titulo = os.path.splitext(clave)[0]\n",
    "            url = f\"https://colab.research.google.com/github/{user}/{ruta_repo}/blob/main/{valor}\"\n",
    "            archivo_md.write(\"   \" * nivel + f\"- [{titulo}]({url})\\n\")\n",
    "\n",
    "def generar_markdown_notebooks(ruta_repo_local, nombre_repo=\"main-folder\", archivo_salida=\"notebooks.md\"):\n",
    "    arbol = construir_arbol_notebooks(ruta_repo_local)\n",
    "    with open(archivo_salida, \"w\", encoding=\"utf-8\") as f:\n",
    "        f.write(\"*Notebooks*\\n\\n\")\n",
    "        escribir_arbol_colab(arbol, f, nombre_repo)\n",
    "\n",
    "\n"
   ]
  },
  {
   "cell_type": "code",
   "execution_count": 23,
   "id": "93eca96b",
   "metadata": {},
   "outputs": [],
   "source": [
    "# 🧪 Ejemplo de uso:\n",
    "generar_markdown_notebooks(ruta_repo_local=r\"C:\\Users\\roman\\Documents\\proyectos\\tripleten\\bootcamp_ds_da\", nombre_repo='bootcamp_ds_da',archivo_salida=r\"C:\\Users\\roman\\Documents\\proyectos\\tripleten\\bootcamp_ds_da\\Index-notebooks.md\")"
   ]
  },
  {
   "cell_type": "code",
   "execution_count": 24,
   "id": "dedcc8f7",
   "metadata": {},
   "outputs": [],
   "source": [
    "# 🧪 Ejemplo de uso:\n",
    "#generar_listado_notebooks(ruta_base=r\"C:\\Users\\roman\\Documents\\proyectos\\tripleten\\bootcamp_ds_da\",archivo_salida=r\"C:\\Users\\roman\\Documents\\proyectos\\tripleten\\bootcamp_ds_da\\Index-notebooks.md\")\n"
   ]
  }
 ],
 "metadata": {
  "kernelspec": {
   "display_name": "Python 3",
   "language": "python",
   "name": "python3"
  },
  "language_info": {
   "codemirror_mode": {
    "name": "ipython",
    "version": 3
   },
   "file_extension": ".py",
   "mimetype": "text/x-python",
   "name": "python",
   "nbconvert_exporter": "python",
   "pygments_lexer": "ipython3",
   "version": "3.10.6"
  }
 },
 "nbformat": 4,
 "nbformat_minor": 5
}
