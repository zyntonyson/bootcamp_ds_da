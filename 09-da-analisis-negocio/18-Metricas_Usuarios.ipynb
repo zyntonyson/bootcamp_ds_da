{
 "cells": [
  {
   "cell_type": "markdown",
   "id": "3a0d84b8",
   "metadata": {},
   "source": [
    "# 📊 Fundamentos de métricas y evaluación de usuarios\n",
    "Sesión 1 - Ciencia de Datos y Producto"
   ]
  },
  {
   "cell_type": "markdown",
   "id": "9e381fe5",
   "metadata": {},
   "source": [
    "### 🎯 Objetivo de la sesión\n",
    "Comprender las métricas clave para evaluar el desempeño del negocio y el comportamiento de los usuarios en productos digitales, y aplicarlas en un ejemplo práctico.\n"
   ]
  },
  {
   "cell_type": "markdown",
   "id": "d908abc2",
   "metadata": {},
   "source": [
    "### 1️⃣ Facturación, beneficios y rentabilidad\n",
    "\n",
    "📘 **Concepto:**  \n",
    "Métricas financieras que permiten entender la salud económica de un producto o servicio.\n",
    "\n",
    "💡 **Intuición:**  \n",
    "¿Estamos ganando dinero? ¿En qué etapa lo ganamos o lo perdemos?\n",
    "\n",
    "🛠️ **Aplicaciones:**  \n",
    "Análisis de costos, estrategias de precios y control de márgenes."
   ]
  },
  {
   "cell_type": "markdown",
   "id": "adbca486",
   "metadata": {},
   "source": [
    "### 2️⃣ ROI y ROMI\n",
    "\n",
    "📘 **Concepto:**  \n",
    "- ROI = (Beneficio neto − Inversión) / Inversión  \n",
    "- ROMI = Beneficio bruto generado por campaña / Gasto de campaña\n",
    "\n",
    "💡 **Intuición:**  \n",
    "¿Valió la pena la inversión? ¿Cuánto recuperamos por cada peso invertido?\n",
    "\n",
    "🛠️ **Aplicaciones:**  \n",
    "Comparación de campañas, canales o productos."
   ]
  },
  {
   "cell_type": "markdown",
   "id": "704ec0a7",
   "metadata": {},
   "source": [
    "### 3️⃣ Embudos de conversión\n",
    "\n",
    "📘 **Concepto:**  \n",
    "Representan las etapas por las que pasa un usuario hasta completar una acción.\n",
    "\n",
    "💡 **Ejemplo:**  \n",
    "1000 impresiones → 100 clics → 10 conversiones\n",
    "\n",
    "🛠️ **Aplicaciones:**  \n",
    "Diagnóstico de pérdida de usuarios en cada etapa."
   ]
  },
  {
   "cell_type": "markdown",
   "id": "ff1ccb75",
   "metadata": {},
   "source": [
    "### 4️⃣ CTR y CR\n",
    "\n",
    "📘 **Concepto:**  \n",
    "- CTR = clics / impresiones * 100  \n",
    "- CR = conversiones / clics * 100\n",
    "\n",
    "💡 **Intuición:**  \n",
    "CTR mide atención; CR mide convencimiento.\n",
    "\n",
    "🛠️ **Aplicaciones:**  \n",
    "Evaluación de campañas y páginas de destino."
   ]
  },
  {
   "cell_type": "markdown",
   "id": "fe2b7074",
   "metadata": {},
   "source": [
    "### 5️⃣ DAU, WAU, MAU\n",
    "\n",
    "📘 **Concepto:**  \n",
    "Usuarios activos únicos por día, semana o mes.\n",
    "\n",
    "💡 **Intuición:**  \n",
    "Reflejan frecuencia de uso.\n",
    "\n",
    "🛠️ **Aplicaciones:**  \n",
    "Evaluar engagement o crecimiento."
   ]
  },
  {
   "cell_type": "markdown",
   "id": "7a300244",
   "metadata": {},
   "source": [
    "### 6️⃣ Sticky Factor\n",
    "\n",
    "📘 **Concepto:**  \n",
    "Sticky Factor = DAU / WAU\n",
    "\n",
    "💡 **Intuición:**  \n",
    "¿Qué proporción de usuarios regresa cada día?\n",
    "\n",
    "🛠️ **Aplicaciones:**  \n",
    "Medición de retención a corto plazo."
   ]
  },
  {
   "cell_type": "markdown",
   "id": "03ad033b",
   "metadata": {},
   "source": [
    "### 7️⃣ Duración y frecuencia de sesiones\n",
    "\n",
    "📘 **Concepto:**  \n",
    "- ASL: duración promedio de sesión  \n",
    "- Número de sesiones por usuario\n",
    "\n",
    "💡 **Intuición:**  \n",
    "Cuánto tiempo y cuán frecuente usan el producto.\n",
    "\n",
    "🛠️ **Aplicaciones:**  \n",
    "Diagnóstico de profundidad de uso."
   ]
  },
  {
   "cell_type": "markdown",
   "id": "f195f5bb",
   "metadata": {},
   "source": [
    "### 8️⃣ Framework HEART\n",
    "\n",
    "📘 **Concepto:**  \n",
    "Evaluación UX: Happiness, Engagement, Adoption, Retention, Task Success\n",
    "\n",
    "💡 **Intuición:**  \n",
    "¿Es útil, agradable y efectivo?\n",
    "\n",
    "🛠️ **Aplicaciones:**  \n",
    "Medición de experiencia de usuario."
   ]
  },
  {
   "cell_type": "markdown",
   "id": "23149089",
   "metadata": {},
   "source": [
    "### 9️⃣ Framework AARRR\n",
    "\n",
    "📘 **Concepto:**  \n",
    "Ciclo de vida del usuario: Acquisition, Activation, Retention, Referral, Revenue\n",
    "\n",
    "💡 **Intuición:**  \n",
    "Detecta cuellos de botella en crecimiento.\n",
    "\n",
    "🛠️ **Aplicaciones:**  \n",
    "Diseño de estrategias de producto."
   ]
  },
  {
   "cell_type": "markdown",
   "id": "10c0ad1f",
   "metadata": {},
   "source": [
    "### 🧪 Simulación de datos de campañas de marketing"
   ]
  },
  {
   "cell_type": "code",
   "execution_count": null,
   "id": "72fdadaa",
   "metadata": {},
   "outputs": [],
   "source": [
    "import pandas as pd\n",
    "\n",
    "# Crear dataset simulado\n",
    "data = {\n",
    "    \"user_id\": [101, 101, 101, 102, 102, 103, 103, 103, 104],\n",
    "    \"fecha\": [\"2025-06-01\"] * 9,\n",
    "    \"evento\": [\"impresion\", \"clic\", \"conversion\", \n",
    "               \"impresion\", \"clic\", \n",
    "               \"impresion\", \"clic\", \"conversion\", \n",
    "               \"impresion\"],\n",
    "    \"campania\": [\"A\", \"A\", \"A\", \"A\", \"A\", \"B\", \"B\", \"B\", \"B\"]\n",
    "}\n",
    "\n",
    "df = pd.DataFrame(data)\n",
    "df\n"
   ]
  },
  {
   "cell_type": "markdown",
   "id": "6fa4b593",
   "metadata": {},
   "source": [
    "### 📈 Cálculo de CTR y CR por campaña"
   ]
  },
  {
   "cell_type": "code",
   "execution_count": null,
   "id": "a7f9a0d3",
   "metadata": {},
   "outputs": [],
   "source": [
    "# Agrupamos y contamos eventos\n",
    "pivot = df.pivot_table(index='campania', columns='evento', aggfunc='size', fill_value=0)\n",
    "pivot[\"CTR\"] = pivot[\"clic\"] / pivot[\"impresion\"]\n",
    "pivot[\"CR\"] = pivot[\"conversion\"] / pivot[\"clic\"]\n",
    "pivot[[\"CTR\", \"CR\"]] * 100  # en porcentaje\n"
   ]
  },
  {
   "cell_type": "markdown",
   "id": "56132774",
   "metadata": {},
   "source": [
    "### ✅ Conclusión\n",
    "Este ejercicio ilustra cómo se pueden usar métricas simples para entender el rendimiento de una campaña y el comportamiento de los usuarios. En la siguiente sesión exploraremos análisis más avanzados como cohortes y economía unitaria."
   ]
  }
 ],
 "metadata": {},
 "nbformat": 4,
 "nbformat_minor": 5
}
