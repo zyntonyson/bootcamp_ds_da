{
 "cells": [
  {
   "cell_type": "markdown",
   "id": "4410a9e1",
   "metadata": {},
   "source": [
    "# 📈 Análisis avanzado – Cohortes y economía unitaria\n",
    "Sesión 2 - Ciencia de Datos y Producto"
   ]
  },
  {
   "cell_type": "markdown",
   "id": "d50bd3f6",
   "metadata": {},
   "source": [
    "### 🎯 Objetivo de la sesión\n",
    "Aplicar métodos de análisis de cohortes para entender el comportamiento de los usuarios a lo largo del tiempo y evaluar la rentabilidad del negocio usando economía unitaria (LTV, CAC).\n"
   ]
  },
  {
   "cell_type": "markdown",
   "id": "a5977d6a",
   "metadata": {},
   "source": [
    "### 1️⃣ ¿Qué es una cohorte?\n",
    "\n",
    "📘 **Concepto:** Grupo de usuarios con una acción común en un mismo periodo.  \n",
    "💡 **Intuición:** Permite comparar cómo evoluciona cada grupo a lo largo del tiempo.  \n",
    "🛠️ **Aplicaciones:** Analizar retención, impacto de cambios y estacionalidad."
   ]
  },
  {
   "cell_type": "markdown",
   "id": "a756abd1",
   "metadata": {},
   "source": [
    "### 2️⃣ Tasa de retención y cancelación\n",
    "\n",
    "📘 **Concepto:**  \n",
    "- Retención = usuarios activos / usuarios iniciales  \n",
    "- Cancelación = abandono respecto al mes anterior\n",
    "\n",
    "💡 **Intuición:** Cuántos usuarios siguen usando el producto.  \n",
    "🛠️ **Aplicaciones:** Medir fidelidad, detectar caídas, monitorear salud del producto."
   ]
  },
  {
   "cell_type": "markdown",
   "id": "b9dfc778",
   "metadata": {},
   "source": [
    "### 3️⃣ Cohortes por comportamiento\n",
    "\n",
    "📘 **Concepto:** Agrupar por acciones específicas, no solo por fecha.  \n",
    "💡 **Intuición:** Segmentar por tipo de uso, no solo por cuándo llegaron.  \n",
    "🛠️ **Aplicaciones:** Evaluar features, campañas o hábitos de uso."
   ]
  },
  {
   "cell_type": "markdown",
   "id": "f6813ebc",
   "metadata": {},
   "source": [
    "### 4️⃣ Visualización con mapas de calor\n",
    "\n",
    "📘 **Concepto:** Tabla de cohortes donde los colores indican intensidad (retención o ingreso).  \n",
    "💡 **Intuición:** Fácil detección visual de tendencias.  \n",
    "🛠️ **Aplicaciones:** Comunicación de hallazgos, análisis de retención."
   ]
  },
  {
   "cell_type": "markdown",
   "id": "4b7934d8",
   "metadata": {},
   "source": [
    "### 5️⃣ LTV (Lifetime Value)\n",
    "\n",
    "📘 **Concepto:** Ingreso total que aporta un cliente durante su ciclo de vida.  \n",
    "💡 **Intuición:** ¿Cuánto valor genera un usuario?  \n",
    "🛠️ **Aplicaciones:** Planeación de marketing, modelos de pricing."
   ]
  },
  {
   "cell_type": "markdown",
   "id": "bafd1a5d",
   "metadata": {},
   "source": [
    "### 6️⃣ CAC (Customer Acquisition Cost)\n",
    "\n",
    "📘 **Concepto:** Costo promedio de adquirir un cliente.  \n",
    "💡 **Intuición:** ¿Cuánto nos cuesta cada usuario nuevo?  \n",
    "🛠️ **Aplicaciones:** Evaluación de campañas y rentabilidad."
   ]
  },
  {
   "cell_type": "markdown",
   "id": "d1455e4c",
   "metadata": {},
   "source": [
    "### 7️⃣ Relación LTV / CAC\n",
    "\n",
    "📘 **Concepto:** Medida clave de rentabilidad.  \n",
    "💡 **Intuición:** Si LTV > CAC, hay ganancia. Ideal: LTV/CAC ≈ 3.  \n",
    "🛠️ **Aplicaciones:** Decisiones de inversión, viabilidad del modelo."
   ]
  },
  {
   "cell_type": "markdown",
   "id": "c210232b",
   "metadata": {},
   "source": [
    "### 🧪 Simulación de datos para cohortes y economía unitaria"
   ]
  },
  {
   "cell_type": "code",
   "execution_count": null,
   "id": "f2f00898",
   "metadata": {},
   "outputs": [],
   "source": [
    "import pandas as pd\n",
    "import numpy as np\n",
    "\n",
    "# Simulación de datos\n",
    "np.random.seed(42)\n",
    "n_users = 50\n",
    "user_ids = range(1001, 1001 + n_users)\n",
    "registro = pd.to_datetime(np.random.choice(pd.date_range(\"2023-01-01\", \"2023-06-30\", freq=\"D\"), n_users))\n",
    "compras = [registro[i] + pd.to_timedelta(np.random.randint(0, 120), unit=\"D\") for i in range(n_users)]\n",
    "montos = np.random.randint(20, 200, n_users)\n",
    "cac = np.random.randint(5, 30, n_users)\n",
    "\n",
    "df = pd.DataFrame({\n",
    "    \"user_id\": user_ids,\n",
    "    \"fecha_registro\": registro,\n",
    "    \"fecha_compra\": compras,\n",
    "    \"monto\": montos,\n",
    "    \"costo_adquisicion\": cac\n",
    "})\n",
    "\n",
    "df[\"mes_cohorte\"] = df[\"fecha_registro\"].dt.to_period(\"M\")\n",
    "df[\"mes_compra\"] = df[\"fecha_compra\"].dt.to_period(\"M\")\n",
    "df.head()\n"
   ]
  },
  {
   "cell_type": "markdown",
   "id": "4ec822e1",
   "metadata": {},
   "source": [
    "### 📊 Retención de usuarios por cohorte"
   ]
  },
  {
   "cell_type": "code",
   "execution_count": null,
   "id": "7183609c",
   "metadata": {},
   "outputs": [],
   "source": [
    "cohort_table = df.groupby([\"mes_cohorte\", \"mes_compra\"])[\"user_id\"].nunique().unstack().fillna(0)\n",
    "cohort_size = cohort_table.iloc[:, 0]\n",
    "retencion = cohort_table.divide(cohort_size, axis=0)\n",
    "retencion.style.format(\"{:.1%}\")\n"
   ]
  },
  {
   "cell_type": "markdown",
   "id": "389d4544",
   "metadata": {},
   "source": [
    "### 🌡️ Visualización con mapa de calor"
   ]
  },
  {
   "cell_type": "code",
   "execution_count": null,
   "id": "84a2a80c",
   "metadata": {},
   "outputs": [],
   "source": [
    "import seaborn as sns\n",
    "import matplotlib.pyplot as plt\n",
    "\n",
    "plt.figure(figsize=(10, 6))\n",
    "sns.heatmap(retencion, annot=True, fmt=\".0%\", cmap=\"Blues\", linewidths=1, linecolor='gray')\n",
    "plt.title(\"Mapa de calor de retención por cohorte\")\n",
    "plt.ylabel(\"Cohorte de registro\")\n",
    "plt.xlabel(\"Mes de compra\")\n",
    "plt.tight_layout()\n",
    "plt.show()\n"
   ]
  },
  {
   "cell_type": "markdown",
   "id": "2ae06b52",
   "metadata": {},
   "source": [
    "### 💰 Cálculo de LTV por cohorte"
   ]
  },
  {
   "cell_type": "code",
   "execution_count": null,
   "id": "9a709870",
   "metadata": {},
   "outputs": [],
   "source": [
    "ltv_table = df.groupby([\"mes_cohorte\", \"mes_compra\"])[\"monto\"].sum().unstack().fillna(0).cumsum(axis=1)\n",
    "ltv_table.style.format(\"${:.0f}\")\n"
   ]
  },
  {
   "cell_type": "markdown",
   "id": "59ab3233",
   "metadata": {},
   "source": [
    "### 🧮 CAC promedio y comparación con LTV"
   ]
  },
  {
   "cell_type": "code",
   "execution_count": null,
   "id": "adccaeea",
   "metadata": {},
   "outputs": [],
   "source": [
    "cac_promedio = df[\"costo_adquisicion\"].mean()\n",
    "ltv_promedio = df.groupby(\"user_id\")[\"monto\"].sum().mean()\n",
    "ratio = ltv_promedio / cac_promedio\n",
    "\n",
    "print(f\"CAC promedio: ${cac_promedio:.2f}\")\n",
    "print(f\"LTV promedio: ${ltv_promedio:.2f}\")\n",
    "print(f\"Relación LTV / CAC: {ratio:.2f}\")\n"
   ]
  }
 ],
 "metadata": {},
 "nbformat": 4,
 "nbformat_minor": 5
}
