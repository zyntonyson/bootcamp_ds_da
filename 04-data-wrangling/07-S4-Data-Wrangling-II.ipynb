{
 "cells": [
  {
   "cell_type": "markdown",
   "metadata": {
    "id": "JtVSwefm0l-3"
   },
   "source": [
    "# 🧪 SP4 Data Wrangling  PII\n",
    "\n",
    "**Objetivo del webinar:**  \n",
    "Desarrollar habilidades prácticas para la exploración, transformación y visualización de datos usando Pandas, dentro del proceso de análisis de datos en Python.\n",
    "\n",
    "## 🎯 Objetivos principales de la sesión\n",
    "\n",
    "1. **Identificar y manipular tipos de datos** en un DataFrame para asegurar una base sólida en el preprocesamiento.\n",
    "2. **Aplicar transformaciones y crear nuevas variables** para enriquecer la información disponible y facilitar el análisis.\n",
    "3. **Construir visualizaciones básicas** para explorar relaciones y comunicar hallazgos de forma efectiva.\n"
   ]
  },
  {
   "cell_type": "markdown",
   "metadata": {
    "id": "LT-wiwdM1Osr"
   },
   "source": [
    "## 🩺  Datos de salud pública\n",
    "\n",
    "Imagina que formas parte del equipo de análisis de una institución de salud pública. Se te ha asignado la tarea de explorar y analizar un conjunto de datos con información de pacientes atendidos por una enfermedad respiratoria durante el **2023**. El objetivo es identificar patrones relevantes, agrupar información clave y generar visualizaciones que apoyen la toma de decisiones clínicas y epidemiológicas.\n",
    "\n",
    "El conjunto de datos incluye variables como: edad, sexo, fechas de ingreso y egreso hospitalario, región geográfica, síntomas reportados, diagnóstico confirmado, resultado de laboratorio, días de hospitalización y estado final del paciente.\n",
    "\n",
    "### 🎯 Objetivos del caso práctico\n",
    "\n",
    "1. **Limpiar y preparar los datos** para asegurar su calidad y consistencia antes del análisis.\n",
    "2. **Generar nuevas variables derivadas**, como duración de hospitalización y grupos de edad, para facilitar la segmentación y el análisis.\n",
    "3. **Explorar visualmente los datos** mediante histogramas, gráficos de barras y líneas, para comprender mejor la distribución de los casos y su evolución en el tiempo.\n"
   ]
  },
  {
   "cell_type": "markdown",
   "metadata": {
    "id": "uSvync3euU07"
   },
   "source": [
    "### Diccionario de datos\n",
    "\n",
    "| Columna             | Descripción                                                                 |\n",
    "|---------------------|------------------------------------------------------------------------------|\n",
    "| id_paciente         | Identificador único asignado a cada paciente.                               |\n",
    "| edad                | Edad del paciente en años.                                                  |\n",
    "| sexo                | Sexo del paciente, puede ser \"masculino\" (M) o \"femenino\" (F).              |\n",
    "| fecha_ingreso       | Fecha en la que el paciente ingresó al hospital.                            |\n",
    "| fecha_egreso        | Fecha en la que el paciente egresó del hospital.                            |\n",
    "| region              | Región geográfica donde reside el paciente.                                 |\n",
    "| sintoma_principal   | Síntomas que presentó el paciente.                                          |\n",
    "| diagnostico         | Diagnóstico médico confirmado para el paciente.                             |\n",
    "| resultado_laboratorio | Resultados de las pruebas de laboratorio realizadas al paciente.         |\n",
    "| estado_paciente     | Estado final/actual del paciente.                                           |\n",
    "| spo2                | Nivel de saturación de oxígeno en la sangre, expresado como porcentaje.     |\n",
    "| presion_sanguinea   | Medida de la presión arterial del paciente, expresada como \"sistólica/diastólica\". |\n"
   ]
  },
  {
   "cell_type": "markdown",
   "metadata": {
    "id": "7xhh1w4_HjcR"
   },
   "source": [
    "### Cargado de datos y herramientas"
   ]
  },
  {
   "cell_type": "code",
   "execution_count": null,
   "metadata": {
    "executionInfo": {
     "elapsed": 389,
     "status": "ok",
     "timestamp": 1748477776923,
     "user": {
      "displayName": "Roman Castillo",
      "userId": "03738236345711029424"
     },
     "user_tz": 360
    },
    "id": "dJrZ7x0H14BM"
   },
   "outputs": [],
   "source": [
    "import pandas as pd\n",
    "import matplotlib.pyplot as plt\n"
   ]
  },
  {
   "cell_type": "code",
   "execution_count": null,
   "metadata": {
    "executionInfo": {
     "elapsed": 4,
     "status": "ok",
     "timestamp": 1748477923878,
     "user": {
      "displayName": "Roman Castillo",
      "userId": "03738236345711029424"
     },
     "user_tz": 360
    },
    "id": "VrYhpsziz2U5"
   },
   "outputs": [],
   "source": [
    "# Datos en google sheets por si desean replicar en casa\n",
    "# https://docs.google.com/spreadsheets/d/1KXcXTFe02SqSKsmd6S36bbbwVkVwZNUFZq-aYsDX-i4/edit?usp=sharing\n",
    "PATH=\"/content/base_de_datos_de_salud_publica - base_de_datos_de_salud_publica.csv\" ## Agrega aquí la ruta de tu archivo"
   ]
  },
  {
   "cell_type": "code",
   "execution_count": null,
   "metadata": {
    "colab": {
     "base_uri": "https://localhost:8080/",
     "height": 423
    },
    "executionInfo": {
     "elapsed": 117,
     "status": "ok",
     "timestamp": 1748477929914,
     "user": {
      "displayName": "Roman Castillo",
      "userId": "03738236345711029424"
     },
     "user_tz": 360
    },
    "id": "oimdRs2H2EeE",
    "outputId": "774ba782-662b-4c1f-c16f-12e084c80961"
   },
   "outputs": [],
   "source": [
    "datos = pd.read_csv(PATH)\n",
    "datos"
   ]
  },
  {
   "cell_type": "markdown",
   "metadata": {
    "id": "5ifQ-tQE2Tje"
   },
   "source": [
    "### Familizarización con los datos"
   ]
  },
  {
   "cell_type": "code",
   "execution_count": null,
   "metadata": {
    "colab": {
     "base_uri": "https://localhost:8080/"
    },
    "executionInfo": {
     "elapsed": 41,
     "status": "ok",
     "timestamp": 1748477947560,
     "user": {
      "displayName": "Roman Castillo",
      "userId": "03738236345711029424"
     },
     "user_tz": 360
    },
    "id": "n_KGdR4g2Zlw",
    "outputId": "2cce172b-fda4-425a-b4fe-0f8538db1d82"
   },
   "outputs": [],
   "source": [
    "datos.info()"
   ]
  },
  {
   "cell_type": "markdown",
   "metadata": {
    "id": "-IECR2t_5Cgf"
   },
   "source": [
    "> ¿Los datos tiene el formato adecuado? 🤔\n"
   ]
  },
  {
   "cell_type": "markdown",
   "metadata": {
    "id": "jVyd7Skd6YLU"
   },
   "source": [
    "### Conversión de datos"
   ]
  },
  {
   "cell_type": "markdown",
   "metadata": {
    "id": "WE_W93Oc7Asz"
   },
   "source": [
    "#### Numéricos"
   ]
  },
  {
   "cell_type": "code",
   "execution_count": null,
   "metadata": {
    "colab": {
     "base_uri": "https://localhost:8080/",
     "height": 317
    },
    "executionInfo": {
     "elapsed": 49,
     "status": "error",
     "timestamp": 1748478294445,
     "user": {
      "displayName": "Roman Castillo",
      "userId": "03738236345711029424"
     },
     "user_tz": 360
    },
    "id": "4vmsT5er7jRO",
    "outputId": "9f823790-c4cf-4b68-8b42-fff64d5714d8"
   },
   "outputs": [],
   "source": [
    "# Casteo de string a int\n",
    "datos['edad'].astype(int) # Conversion no segura"
   ]
  },
  {
   "cell_type": "code",
   "execution_count": null,
   "metadata": {
    "executionInfo": {
     "elapsed": 2,
     "status": "ok",
     "timestamp": 1748478342469,
     "user": {
      "displayName": "Roman Castillo",
      "userId": "03738236345711029424"
     },
     "user_tz": 360
    },
    "id": "Jta9BmAu7uZC"
   },
   "outputs": [],
   "source": [
    "datos['edad'] = pd.to_numeric(datos['edad'], errors='coerce') # Conversión segura"
   ]
  },
  {
   "cell_type": "markdown",
   "metadata": {
    "id": "cbAuw7_F8OM7"
   },
   "source": [
    "> `pd.to_numeric()` es más seguro que `.astype(int)` porque convierte errores en `NaN` en lugar de fallar.  \n",
    "> Útil cuando no estás seguro de que todo sea número."
   ]
  },
  {
   "cell_type": "code",
   "execution_count": null,
   "metadata": {
    "colab": {
     "base_uri": "https://localhost:8080/",
     "height": 458
    },
    "executionInfo": {
     "elapsed": 4,
     "status": "ok",
     "timestamp": 1748478442794,
     "user": {
      "displayName": "Roman Castillo",
      "userId": "03738236345711029424"
     },
     "user_tz": 360
    },
    "id": "k1H73gmmb2Mt",
    "outputId": "4432dce9-17b0-44d0-dc34-d00ca0a7a5eb"
   },
   "outputs": [],
   "source": [
    "datos['presion_arterial']"
   ]
  },
  {
   "cell_type": "code",
   "execution_count": null,
   "metadata": {
    "colab": {
     "base_uri": "https://localhost:8080/",
     "height": 478
    },
    "executionInfo": {
     "elapsed": 55,
     "status": "ok",
     "timestamp": 1748478633480,
     "user": {
      "displayName": "Roman Castillo",
      "userId": "03738236345711029424"
     },
     "user_tz": 360
    },
    "id": "_O9u3CZlgDAm",
    "outputId": "fabccf84-10eb-46ef-c999-f8fd957689bb"
   },
   "outputs": [],
   "source": [
    "# Divide en dos columnas con el método str.split(expand=True)\n",
    "presion_split = datos['presion_arterial'].str.replace('mmHg', '').str.strip().str.split(\"/\", expand=True)\n",
    "\n",
    "# Asigna los valores a nuevas columnas\n",
    "datos['presion_arterial_sistolica'] = pd.to_numeric(presion_split[0], errors='coerce')\n",
    "datos['presion_arterial_distolica'] = pd.to_numeric(presion_split[1], errors='coerce')\n",
    "\n",
    "datos"
   ]
  },
  {
   "cell_type": "markdown",
   "metadata": {
    "id": "HkVcCh008ei-"
   },
   "source": [
    "#### Fechas"
   ]
  },
  {
   "cell_type": "markdown",
   "metadata": {
    "id": "pEtvY8n98x4e"
   },
   "source": [
    "---\n",
    "\n",
    "> **DATETIME**: Objeto que representa fechas y horas en pandas, permitiendo operaciones como filtrado, extracción y conversión de componentes temporales.\n",
    "\n",
    "\n",
    "---"
   ]
  },
  {
   "cell_type": "code",
   "execution_count": null,
   "metadata": {
    "colab": {
     "base_uri": "https://localhost:8080/"
    },
    "executionInfo": {
     "elapsed": 12,
     "status": "ok",
     "timestamp": 1748478856231,
     "user": {
      "displayName": "Roman Castillo",
      "userId": "03738236345711029424"
     },
     "user_tz": 360
    },
    "id": "nYZ42AtC9EdC",
    "outputId": "b00b9973-1292-4633-abc4-13aa70ba8ef1"
   },
   "outputs": [],
   "source": [
    "pd.to_datetime(datos['fecha_ingreso']).info()"
   ]
  },
  {
   "cell_type": "code",
   "execution_count": null,
   "metadata": {
    "executionInfo": {
     "elapsed": 3,
     "status": "ok",
     "timestamp": 1748478988177,
     "user": {
      "displayName": "Roman Castillo",
      "userId": "03738236345711029424"
     },
     "user_tz": 360
    },
    "id": "h-dFm87T9gek"
   },
   "outputs": [],
   "source": [
    "datos['fecha_ingreso'] = pd.to_datetime(datos['fecha_ingreso'],format='%Y-%m-%d', errors='coerce')\n",
    "datos['fecha_egreso'] = pd.to_datetime(datos['fecha_egreso'],format='%Y-%m-%d', errors='coerce')"
   ]
  },
  {
   "cell_type": "markdown",
   "metadata": {
    "id": "nq-U2eMH9fBu"
   },
   "source": [
    "---\n",
    "\n",
    "\n",
    "##### Parámetros `format` y `errors` en `pd.to_datetime`\n",
    "\n",
    "- **`format`**: Define el formato exacto de la fecha para mejorar rendimiento y evitar ambigüedades.  \n",
    "  Se usa con códigos de formato tipo `strftime`, por ejemplo:\n",
    "  - `%Y-%m-%d` → `2023-12-31` (ISO estándar)\n",
    "  - `%d/%m/%Y` → `31/12/2023`\n",
    "  - `%m-%d-%Y %H:%M` → `12-31-2023 15:45`\n",
    "  - `%Y-%m-%dT%H:%M:%SZ` → con zona horaria en UTC (ISO 8601 con Z)\n",
    "\n",
    "- **`errors`**: Maneja errores durante la conversión.\n",
    "  - `\"raise\"` (default): lanza error si hay un valor inválido.\n",
    "  - `\"coerce\"`: convierte errores en `NaT` (Not a Time).\n",
    "  - `\"ignore\"`: devuelve el original sin convertir.\n",
    "\n",
    "##### Formatos que pandas detecta automáticamente\n",
    "Pandas reconoce muchas estructuras comunes sin necesidad de especificar `format`, como:\n",
    "- `2023-12-31`\n",
    "- `31/12/2023`\n",
    "- `Dec 31, 2023`\n",
    "- `2023-12-31T23:59:59Z` (formato ISO con zona horaria)\n",
    "- `2023-12-31 23:59:59+00:00` (con offset de zona horaria)"
   ]
  },
  {
   "cell_type": "markdown",
   "metadata": {
    "id": "rx_F3zyL-3W1"
   },
   "source": [
    "##### Referencia para profundizar en `format` de fechas\n",
    "\n",
    "Puedes revisar la documentación oficial de Python sobre `strftime` y `strptime` aquí:  \n",
    "[https://docs.python.org/3/library/datetime.html#strftime-and-strptime-format-codes](https://docs.python.org/3/library/datetime.html#strftime-and-strptime-format-codes)\n",
    "\n",
    "Ahí encontrarás todos los códigos disponibles como `%Y` (año), `%m` (mes), `%d` (día), `%H` (hora), entre otros.\n",
    "\n",
    "\n",
    "\n",
    "---"
   ]
  },
  {
   "cell_type": "code",
   "execution_count": null,
   "metadata": {
    "colab": {
     "base_uri": "https://localhost:8080/"
    },
    "executionInfo": {
     "elapsed": 7,
     "status": "ok",
     "timestamp": 1748478994678,
     "user": {
      "displayName": "Roman Castillo",
      "userId": "03738236345711029424"
     },
     "user_tz": 360
    },
    "id": "3nZ2trzrgDIZ",
    "outputId": "ed4f0726-13d9-483a-b9ab-66d2e2fa7d40"
   },
   "outputs": [],
   "source": [
    "datos.info()"
   ]
  },
  {
   "cell_type": "code",
   "execution_count": null,
   "metadata": {
    "colab": {
     "base_uri": "https://localhost:8080/",
     "height": 226
    },
    "executionInfo": {
     "elapsed": 81,
     "status": "ok",
     "timestamp": 1748479073558,
     "user": {
      "displayName": "Roman Castillo",
      "userId": "03738236345711029424"
     },
     "user_tz": 360
    },
    "id": "Gu9HwgsJeUET",
    "outputId": "576d532a-c877-41a7-dca7-27c59c21841a"
   },
   "outputs": [],
   "source": [
    "datos.head()"
   ]
  },
  {
   "cell_type": "markdown",
   "metadata": {
    "id": "eNhjbxLyAG9e"
   },
   "source": [
    "### Ingeniería de características"
   ]
  },
  {
   "cell_type": "code",
   "execution_count": null,
   "metadata": {
    "executionInfo": {
     "elapsed": 8,
     "status": "ok",
     "timestamp": 1748479230700,
     "user": {
      "displayName": "Roman Castillo",
      "userId": "03738236345711029424"
     },
     "user_tz": 360
    },
    "id": "AQw7lbuWBwdN"
   },
   "outputs": [],
   "source": [
    "#Crea una estimación del año de nacimiento del paciente\n",
    "datos['año_nacimiento']= 2023 - datos['edad']"
   ]
  },
  {
   "cell_type": "code",
   "execution_count": null,
   "metadata": {
    "colab": {
     "base_uri": "https://localhost:8080/",
     "height": 226
    },
    "executionInfo": {
     "elapsed": 73,
     "status": "ok",
     "timestamp": 1748479235096,
     "user": {
      "displayName": "Roman Castillo",
      "userId": "03738236345711029424"
     },
     "user_tz": 360
    },
    "id": "An0qhe1CQ9VW",
    "outputId": "c654a451-84ef-4fc2-e01e-e9ceb3f7d3c8"
   },
   "outputs": [],
   "source": [
    "datos.head()"
   ]
  },
  {
   "cell_type": "code",
   "execution_count": null,
   "metadata": {
    "executionInfo": {
     "elapsed": 4,
     "status": "ok",
     "timestamp": 1748479293306,
     "user": {
      "displayName": "Roman Castillo",
      "userId": "03738236345711029424"
     },
     "user_tz": 360
    },
    "id": "Mlbg1PU9CwsA"
   },
   "outputs": [],
   "source": [
    "#Determina los dias que el paciente estuvo hospitalizado\n",
    "datos['dias_hospitalizacion']= datos['fecha_egreso']-datos['fecha_ingreso']"
   ]
  },
  {
   "cell_type": "code",
   "execution_count": null,
   "metadata": {
    "colab": {
     "base_uri": "https://localhost:8080/",
     "height": 226
    },
    "executionInfo": {
     "elapsed": 60,
     "status": "ok",
     "timestamp": 1748479325309,
     "user": {
      "displayName": "Roman Castillo",
      "userId": "03738236345711029424"
     },
     "user_tz": 360
    },
    "id": "79s29VRcDo-l",
    "outputId": "05237ca5-f7e9-454e-99df-eddf4b4c102c"
   },
   "outputs": [],
   "source": [
    "datos.head()"
   ]
  },
  {
   "cell_type": "code",
   "execution_count": null,
   "metadata": {
    "id": "P88LNs0ph-0o"
   },
   "outputs": [],
   "source": [
    "datos['fecha_ingreso'].dt.year.unique()"
   ]
  },
  {
   "cell_type": "code",
   "execution_count": null,
   "metadata": {
    "executionInfo": {
     "elapsed": 2,
     "status": "ok",
     "timestamp": 1748479380930,
     "user": {
      "displayName": "Roman Castillo",
      "userId": "03738236345711029424"
     },
     "user_tz": 360
    },
    "id": "BXtxXPXcDkfi"
   },
   "outputs": [],
   "source": [
    "# Convierte los dias a numeros en vez de ventana de tiempo\n",
    "datos['dias_hospitalizacion'] = datos['dias_hospitalizacion'].dt.days"
   ]
  },
  {
   "cell_type": "code",
   "execution_count": null,
   "metadata": {
    "colab": {
     "base_uri": "https://localhost:8080/"
    },
    "executionInfo": {
     "elapsed": 15,
     "status": "ok",
     "timestamp": 1748479384647,
     "user": {
      "displayName": "Roman Castillo",
      "userId": "03738236345711029424"
     },
     "user_tz": 360
    },
    "id": "Tbgr2B_4SH_f",
    "outputId": "2fc6ea61-fea5-4043-98f5-266d1c1c4147"
   },
   "outputs": [],
   "source": [
    "datos.info()"
   ]
  },
  {
   "cell_type": "markdown",
   "metadata": {
    "id": "OdzTFRepSmFu"
   },
   "source": [
    "Si tenemos una columna de dia, otra de mes y otra se año, cómo podríamos construir una sola columna de fecha?"
   ]
  },
  {
   "cell_type": "code",
   "execution_count": null,
   "metadata": {
    "id": "LQyPvtyeSmtx"
   },
   "outputs": [],
   "source": [
    "data = {'day': [15, 28, 5, 10],\n",
    "        'month': [1, 2, 3, 4],\n",
    "        'year': [2023, 2024, 2025, 2023]}\n",
    "df = pd.DataFrame(data)\n",
    "\n",
    "#Construir la columna de fecha\n",
    "df['Fecha'] = pd.to_datetime(df[['year', 'month', 'day']])"
   ]
  },
  {
   "cell_type": "markdown",
   "metadata": {
    "id": "tj64zyLBBaCa"
   },
   "source": [
    "---\n",
    "\n",
    "`apply()` permite aplicar funciones a filas o columnas. Usa `axis=0` para columnas y `axis=1` para filas, permitiendo operaciones personalizadas sobre cada elemento.\n",
    "\n",
    "---"
   ]
  },
  {
   "cell_type": "code",
   "execution_count": null,
   "metadata": {
    "colab": {
     "base_uri": "https://localhost:8080/",
     "height": 547
    },
    "executionInfo": {
     "elapsed": 53,
     "status": "ok",
     "timestamp": 1748479651234,
     "user": {
      "displayName": "Roman Castillo",
      "userId": "03738236345711029424"
     },
     "user_tz": 360
    },
    "id": "bcEaTn3KCxIl",
    "outputId": "3ac1b47f-442e-4146-d194-7638e0a105d0"
   },
   "outputs": [],
   "source": [
    "#Crear columna “grupo de edad” (niño, adulto, adulto mayor)\n",
    "def edad_a_grupo(edad):\n",
    "    if edad < 18:\n",
    "        return 'Niño'\n",
    "    elif edad < 65:\n",
    "        return 'Adulto'\n",
    "    else:\n",
    "        return 'Adulto mayor'\n",
    "\n",
    "datos['grupo_edad'] = datos['edad'].apply(edad_a_grupo)\n",
    "datos\n"
   ]
  },
  {
   "cell_type": "code",
   "execution_count": null,
   "metadata": {
    "colab": {
     "base_uri": "https://localhost:8080/",
     "height": 547
    },
    "executionInfo": {
     "elapsed": 62,
     "status": "ok",
     "timestamp": 1748479834991,
     "user": {
      "displayName": "Roman Castillo",
      "userId": "03738236345711029424"
     },
     "user_tz": 360
    },
    "id": "zMXl-OcDCz_V",
    "outputId": "c128c320-ef86-42b7-c1b6-319b210f0003"
   },
   "outputs": [],
   "source": [
    "#Generar una bandera de “caso grave” si la persona estuvo más de 7 días hospitalizada o falleció\n",
    "\n",
    "def caso_grave(row):\n",
    "  dias_hospitalizacion = row['dias_hospitalizacion']\n",
    "  estado_paciente = row['estado_paciente']\n",
    "  return dias_hospitalizacion > 7 or estado_paciente.lower() == 'fallecido'\n",
    "\n",
    "\n",
    "datos['caso_grave'] = datos.apply(caso_grave, axis=1)\n",
    "datos"
   ]
  },
  {
   "cell_type": "markdown",
   "metadata": {
    "id": "RTWfeupbIM2a"
   },
   "source": [
    "### Transformación de datos"
   ]
  },
  {
   "cell_type": "markdown",
   "metadata": {
    "id": "okMP4xVt6_m6"
   },
   "source": [
    "#### Agregación de variables`Agg`"
   ]
  },
  {
   "cell_type": "markdown",
   "metadata": {
    "id": "1u7XY0KbxxVl"
   },
   "source": [
    "El equipo de salud pública necesita comprender cómo varían la edad, la duración de la hospitalización y la gravedad de la enfermedad entre los diferentes grupos de edad. Esto les permitirá identificar grupos de mayor riesgo y adaptar las estrategias de prevención y tratamiento. Por ejemplo, si se observa que los adultos mayores tienen una mayor duración de hospitalización y una mayor cantidad de casos graves, se podrían implementar medidas específicas para proteger a este grupo vulnerable."
   ]
  },
  {
   "cell_type": "markdown",
   "metadata": {
    "id": "9AcaLHgV4VRQ"
   },
   "source": [
    "---\n",
    "\n",
    "`.agg()` es una función de Pandas que permite aplicar una o varias funciones de agregación a un DataFrame o Series, usualmente después de agrupar con `groupby()`.\n",
    "\n",
    "**Parámetros:**\n",
    "\n",
    "* **`func`:** Puede ser:\n",
    "    * Una función:  `np.mean`, `sum`, `min`, `max`, etc.\n",
    "    * Una lista de funciones:  `[np.mean, 'sum']`\n",
    "    * Un diccionario: `{columna: función, otra_columna: ['min', 'max']}`\n",
    "    * listado nombres: `nombre_1= (columna_1, función_1), nombre_2= (columna_2, función_2), nombre_3= (columna_3, función_3)`\n",
    "\n",
    "**Funciones Default:**\n",
    "\n",
    "Algunas funciones comunes accesibles directamente son:\n",
    "* `'mean'`\n",
    "* `'sum'`\n",
    "* `'size'` (cuenta elementos)\n",
    "* `'count'` (cuenta valores no nulos)\n",
    "* `'std'` (desviación estándar)\n",
    "* `'var'` (varianza)\n",
    "* `'min'`\n",
    "* `'max'`\n",
    "* `'first'` (primer valor)\n",
    "* `'last'` (último valor)\n",
    "* `'nunique'` (cuenta valores únicos)\n",
    "\n",
    "\n",
    "---"
   ]
  },
  {
   "cell_type": "code",
   "execution_count": null,
   "metadata": {
    "colab": {
     "base_uri": "https://localhost:8080/",
     "height": 143
    },
    "collapsed": true,
    "executionInfo": {
     "elapsed": 54,
     "status": "ok",
     "timestamp": 1748480134308,
     "user": {
      "displayName": "Roman Castillo",
      "userId": "03738236345711029424"
     },
     "user_tz": 360
    },
    "id": "imcECgnazSvj",
    "outputId": "56e6710f-5b52-48fd-8c4b-ca25fba66fa3"
   },
   "outputs": [],
   "source": [
    "# Muestra una tabla que indique la duración promedio de la hospitalización  y la cantidad de casos graves por grupo de edad\n",
    "\n",
    "(datos\n",
    " .groupby('grupo_edad',as_index=False)\n",
    " .agg(\n",
    "     dias_hospitalizacion_avg=('dias_hospitalizacion', 'mean'),\n",
    "     total_de_casos = ('id_paciente','count'),\n",
    "     casos_graves_count=('caso_grave', 'sum'),\n",
    "     casos_graves_rate = ('caso_grave', 'mean')\n",
    "    )\n",
    "  .sort_values('casos_graves_rate', ascending=False)\n",
    ")"
   ]
  },
  {
   "cell_type": "markdown",
   "metadata": {
    "id": "uc4Alu2f0Dfu"
   },
   "source": [
    ">¿Qué sugieren los datos?"
   ]
  },
  {
   "cell_type": "markdown",
   "metadata": {
    "id": "f1_7yQdp7HNh"
   },
   "source": [
    "#### Tablas dinámicas `pivot_tables`"
   ]
  },
  {
   "cell_type": "markdown",
   "metadata": {
    "id": "Y7YVnz2M0gnP"
   },
   "source": [
    "Se requiere un análisis de la distribución geográfica de los casos y su relación con el estado del paciente. Se busca identificar si existen regiones con mayor incidencia de casos o con mayor mortalidad. Esto podría ayudar a comprender factores geográficos que influyen en la propagación de la enfermedad y a asignar recursos de manera eficiente a las zonas más afectadas."
   ]
  },
  {
   "cell_type": "markdown",
   "metadata": {
    "id": "jjHQLnJN6gdh"
   },
   "source": [
    "---\n",
    "\n",
    "`pivot_table` es una función de Pandas que crea una tabla dinámica a partir de un DataFrame. Permite resumir y agregar datos de forma flexible, similar a las tablas dinámicas en hojas de cálculo.\n",
    "\n",
    "**Parámetros:**\n",
    "\n",
    "* **`data`:** El DataFrame a utilizar.\n",
    "* **`values`:** La columna o columnas a agregar (opcional, si se omite se usa `aggfunc='size'` para contar).\n",
    "* **`index`:** La columna o columnas a usar como índice (filas de la tabla).\n",
    "* **`columns`:** La columna o columnas a usar como columnas de la tabla.\n",
    "* **`aggfunc`:** La función o funciones de agregación a aplicar (por defecto `'mean'`).\n",
    "    * Puede ser una función, una lista de funciones, o un diccionario que mapea columnas a funciones.\n",
    "    * `'size'` cuenta la cantidad de elementos en cada grupo.\n",
    "\n",
    "\n",
    "\n",
    "\n",
    "\n",
    "---"
   ]
  },
  {
   "cell_type": "code",
   "execution_count": null,
   "metadata": {
    "colab": {
     "base_uri": "https://localhost:8080/",
     "height": 519
    },
    "executionInfo": {
     "elapsed": 57,
     "status": "ok",
     "timestamp": 1748480755742,
     "user": {
      "displayName": "Roman Castillo",
      "userId": "03738236345711029424"
     },
     "user_tz": 360
    },
    "id": "Z39uctw0mCBc",
    "outputId": "97b26c07-0604-484f-b213-9cf5b0765119"
   },
   "outputs": [],
   "source": [
    "(\n",
    "datos\n",
    "  .groupby(['region','estado_paciente'],as_index=False)\n",
    "  .agg(casos=('id_paciente','count'))\n",
    ")"
   ]
  },
  {
   "cell_type": "code",
   "execution_count": null,
   "metadata": {
    "colab": {
     "base_uri": "https://localhost:8080/",
     "height": 237
    },
    "executionInfo": {
     "elapsed": 24,
     "status": "ok",
     "timestamp": 1748480864259,
     "user": {
      "displayName": "Roman Castillo",
      "userId": "03738236345711029424"
     },
     "user_tz": 360
    },
    "id": "-WuF5qvZ2Wlv",
    "outputId": "3358e5f0-5400-4ada-cf99-13b25ba705f4"
   },
   "outputs": [],
   "source": [
    "#Crea una pivot_table que muestre la cantidad de pacientes por región geográfica\n",
    "# y estado del paciente (recuperado, fallecido).\n",
    "datos.pivot_table(\n",
    "    index='region',\n",
    "    columns='estado_paciente',\n",
    "    values='id_paciente',\n",
    "    aggfunc='count'\n",
    ")"
   ]
  },
  {
   "cell_type": "markdown",
   "metadata": {
    "id": "kX8xumLI8Co_"
   },
   "source": [
    "#### Unir dataframes"
   ]
  },
  {
   "cell_type": "markdown",
   "metadata": {
    "id": "qXAbo8QZCaeP"
   },
   "source": [
    "Para comprender mejor la situación, necesitan comparar la tasa de casos graves de cada región con la tasa nacional. Esto les permitirá identificar las regiones con tasas significativamente más altas o más bajas que el promedio nacional, lo que podría indicar la necesidad de intervenciones específicas o la asignación de recursos adicionales."
   ]
  },
  {
   "cell_type": "markdown",
   "metadata": {
    "id": "eZNkd2NECEls"
   },
   "source": [
    "---\n",
    "\n",
    "\n",
    "`merge()` es una función de Pandas que permite combinar dos DataFrames en función de una o más columnas clave. Es similar a las operaciones JOIN en bases de datos relacionales.\n",
    "\n",
    "**Funcionamiento:**\n",
    "\n",
    "`merge()` busca coincidencias entre las columnas clave especificadas en ambos DataFrames y crea un nuevo DataFrame que contiene las columnas de ambos DataFrames, combinadas en función de las coincidencias.\n",
    "\n",
    "**Parámetros clave:**\n",
    "\n",
    "* **`left`:** El primer DataFrame.\n",
    "* **`right`:** El segundo DataFrame.\n",
    "* **`on`:** Nombre de la columna o columnas clave comunes en ambos DataFrames.\n",
    "* **`how`:** Tipo de unión a realizar:\n",
    "    * `'left'` (por defecto): Unión izquierda.\n",
    "    * `'right'` : Unión derecha.\n",
    "    * `'inner'` : Unión interna.\n",
    "    * `'outer'` : Unión externa.\n",
    "\n",
    "\n",
    "\n",
    "---"
   ]
  },
  {
   "cell_type": "code",
   "execution_count": null,
   "metadata": {
    "colab": {
     "base_uri": "https://localhost:8080/",
     "height": 206
    },
    "executionInfo": {
     "elapsed": 31,
     "status": "ok",
     "timestamp": 1748481053835,
     "user": {
      "displayName": "Roman Castillo",
      "userId": "03738236345711029424"
     },
     "user_tz": 360
    },
    "id": "yazPfTqP8W3K",
    "outputId": "ef3ba02e-d392-429f-f0f4-ac0aaab4dc4f"
   },
   "outputs": [],
   "source": [
    "casos_graves_rates=(datos\n",
    "                    .groupby('region',as_index=False)\n",
    "                    .agg(casos_graves_rate = ('caso_grave', 'mean'))\n",
    "                    )\n",
    "\n",
    "casos_graves_rates['casos_graves_rate'] = casos_graves_rates['casos_graves_rate'].round(2)\n",
    "casos_graves_rates"
   ]
  },
  {
   "cell_type": "code",
   "execution_count": null,
   "metadata": {
    "colab": {
     "base_uri": "https://localhost:8080/",
     "height": 206
    },
    "executionInfo": {
     "elapsed": 56,
     "status": "ok",
     "timestamp": 1748481113322,
     "user": {
      "displayName": "Roman Castillo",
      "userId": "03738236345711029424"
     },
     "user_tz": 360
    },
    "id": "wR7OdXwL-9b3",
    "outputId": "c106a7b6-5ec7-4ee4-cf3d-17194838b868"
   },
   "outputs": [],
   "source": [
    "referencia_nacional=[\n",
    "    {'region': 'Centro', 'Tasa Nacional': 0.35},\n",
    "    {'region': 'Este', 'Tasa Nacional': 0.54},\n",
    "    {'region': 'Norte', 'Tasa Nacional': 0.45},\n",
    "    {'region': 'Oeste', 'Tasa Nacional': 0.49},\n",
    "    {'region': 'Sur', 'Tasa Nacional': 0.47}\n",
    "]\n",
    "\n",
    "referencia_nacional = pd.DataFrame(referencia_nacional)\n",
    "referencia_nacional"
   ]
  },
  {
   "cell_type": "code",
   "execution_count": null,
   "metadata": {
    "colab": {
     "base_uri": "https://localhost:8080/",
     "height": 206
    },
    "executionInfo": {
     "elapsed": 48,
     "status": "ok",
     "timestamp": 1748481243527,
     "user": {
      "displayName": "Roman Castillo",
      "userId": "03738236345711029424"
     },
     "user_tz": 360
    },
    "id": "XjdbnSjFc3Le",
    "outputId": "0228eebb-0e3d-4e0b-a9ca-d9c6f777b927"
   },
   "outputs": [],
   "source": [
    "(\n",
    "    casos_graves_rates\n",
    "    .merge(referencia_nacional, on='region', how='left')\n",
    ")"
   ]
  },
  {
   "cell_type": "markdown",
   "metadata": {
    "id": "TD5JZzG_AnkK"
   },
   "source": [
    "> ¿Qué sugieren los datos?"
   ]
  },
  {
   "cell_type": "markdown",
   "metadata": {
    "id": "6p1gtpnpDDjb"
   },
   "source": [
    "### Visualización de datos"
   ]
  },
  {
   "cell_type": "markdown",
   "metadata": {
    "id": "bYgXWzEcDiy5"
   },
   "source": [
    "El equipo de salud pública necesita comprender la distribución de la edad de los pacientes que han sido atendidos por una enfermedad respiratoria. Esto les permitirá identificar los grupos de edad más afectados y adaptar las estrategias de prevención y tratamiento de manera específica. Por ejemplo, si se observa una alta concentración de pacientes en un rango de edad particular, se podrían enfocar las campañas de vacunación o las medidas de prevención en ese grupo."
   ]
  },
  {
   "cell_type": "markdown",
   "metadata": {
    "id": "gER1avojxnYz"
   },
   "source": [
    "---\n",
    "\n",
    "\n",
    "\n",
    "`.plot()` es una función para crear gráficos como líneas, dispersión, histogramas y barras.\n",
    "\n",
    "**Uso:**\n",
    "* **`kind`:** Tipo de gráfico (`'line'`, `'scatter'`, `'hist'`, `'bar'`, etc.). Por defecto: `'line'`.\n",
    "* **`kwargs`:** Opciones adicionales (título, etiquetas, color, tamaño, etc.).\n",
    "\n",
    "**Tipos de gráficos:**\n",
    "\n",
    "* `'line'` (por defecto): Gráfico de líneas.\n",
    "* `'scatter'`: Gráfico de dispersión.\n",
    "* `'hist'`: Histograma.\n",
    "* `'bar'`: Gráfico de barras.\n",
    "* `'box'`: Diagrama de caja.\n",
    "* `'pie'`: Gráfico circular.\n",
    "* `'kde'`: Gráfico de densidad.\n",
    "\n",
    "\n",
    "\n",
    "**Referencias**\n",
    "\n",
    "* [Dataframe plot](https://pandas.pydata.org/pandas-docs/version/2.1.3/reference/api/pandas.DataFrame.plot.html)\n",
    "\n",
    "\n",
    "---"
   ]
  },
  {
   "cell_type": "markdown",
   "metadata": {
    "id": "UeNe3v_1n7FD"
   },
   "source": [
    "## ¿Cómo varia la presion arterial de los pacientes?"
   ]
  },
  {
   "cell_type": "code",
   "execution_count": null,
   "metadata": {
    "colab": {
     "base_uri": "https://localhost:8080/",
     "height": 490
    },
    "executionInfo": {
     "elapsed": 276,
     "status": "ok",
     "timestamp": 1748481971354,
     "user": {
      "displayName": "Roman Castillo",
      "userId": "03738236345711029424"
     },
     "user_tz": 360
    },
    "id": "6uAf3h_FDvWF",
    "outputId": "f30bcbea-3586-452a-9e73-a0280d3b65e2"
   },
   "outputs": [],
   "source": [
    "datos['presion_arterial_sistolica'].plot(kind='hist', bins=10, edgecolor='black',color='green')\n",
    "plt.title('Distribución de la presion sistólica de los pacientes')\n",
    "plt.xlabel('Presion (mmHg)')\n",
    "plt.ylabel('Frecuencia')"
   ]
  },
  {
   "cell_type": "code",
   "execution_count": null,
   "metadata": {
    "colab": {
     "base_uri": "https://localhost:8080/",
     "height": 490
    },
    "executionInfo": {
     "elapsed": 224,
     "status": "ok",
     "timestamp": 1748481812961,
     "user": {
      "displayName": "Roman Castillo",
      "userId": "03738236345711029424"
     },
     "user_tz": 360
    },
    "id": "qvzsKfKiosWP",
    "outputId": "ceb8a5bf-e408-404d-b382-7ba2da705e26"
   },
   "outputs": [],
   "source": [
    "datos['presion_arterial_distolica'].plot(kind='hist', bins=25, edgecolor='black')\n",
    "plt.title('Distribución de la presion distólica de los pacientes')\n",
    "plt.xlabel('Presion (mmHg)')\n",
    "plt.ylabel('Frecuencia')"
   ]
  },
  {
   "cell_type": "code",
   "execution_count": null,
   "metadata": {
    "colab": {
     "base_uri": "https://localhost:8080/"
    },
    "executionInfo": {
     "elapsed": 9,
     "status": "ok",
     "timestamp": 1748481858360,
     "user": {
      "displayName": "Roman Castillo",
      "userId": "03738236345711029424"
     },
     "user_tz": 360
    },
    "id": "ANGeIdVjo38q",
    "outputId": "a6cd84e4-ce4e-4b5a-cd88-fd08bdfb0035"
   },
   "outputs": [],
   "source": [
    "datos['presion_arterial_distolica'].min()"
   ]
  },
  {
   "cell_type": "markdown",
   "metadata": {
    "id": "614ydBYhpqZ2"
   },
   "source": [
    "## ¿Cómo se distribuyen por grupo de edad?"
   ]
  },
  {
   "cell_type": "code",
   "execution_count": null,
   "metadata": {
    "colab": {
     "base_uri": "https://localhost:8080/",
     "height": 490
    },
    "executionInfo": {
     "elapsed": 149,
     "status": "ok",
     "timestamp": 1748482009541,
     "user": {
      "displayName": "Roman Castillo",
      "userId": "03738236345711029424"
     },
     "user_tz": 360
    },
    "id": "OkpIXjRAEUu5",
    "outputId": "aa6bae86-fb2c-4bde-9270-84db8662e3af"
   },
   "outputs": [],
   "source": [
    "valores_por_grupo_de_edad=datos['grupo_edad'].value_counts()\n",
    "valores_por_grupo_de_edad.plot(kind='bar', edgecolor='black', rot=0)\n",
    "plt.title('Distribución de la edad de los pacientes')\n",
    "plt.xlabel('Grupo de edad')\n",
    "plt.ylabel('Casos')"
   ]
  },
  {
   "cell_type": "code",
   "execution_count": null,
   "metadata": {
    "colab": {
     "base_uri": "https://localhost:8080/",
     "height": 466
    },
    "executionInfo": {
     "elapsed": 204,
     "status": "ok",
     "timestamp": 1748482204792,
     "user": {
      "displayName": "Roman Castillo",
      "userId": "03738236345711029424"
     },
     "user_tz": 360
    },
    "id": "zZnlGBz8FNJ4",
    "outputId": "f7f0bfbc-8f04-40e9-dc1e-2a783141e8b5"
   },
   "outputs": [],
   "source": [
    "valores_por_grupo_de_edad.plot(kind='pie', autopct='%1.2f%%')\n",
    "plt.title('Distribución de la edad de los pacientes')\n",
    "plt.xlabel('Grupo de edad')\n",
    "plt.ylabel('Casos')"
   ]
  }
 ],
 "metadata": {
  "colab": {
   "authorship_tag": "ABX9TyMqNGCpGyq987Vt+02fyvF1",
   "mount_file_id": "1nCfzTnfYyjtkBCecn8XtcOJJOOHRr7kc",
   "provenance": []
  },
  "kernelspec": {
   "display_name": "Python 3",
   "name": "python3"
  },
  "language_info": {
   "name": "python"
  }
 },
 "nbformat": 4,
 "nbformat_minor": 0
}
