{
 "cells": [
  {
   "cell_type": "markdown",
   "id": "76ade7b2",
   "metadata": {},
   "source": [
    "### 🎯 Objetivos Académicos\n",
    "\n",
    "Al finalizar esta actividad, el estudiante será capaz de:\n",
    "\n",
    "1. **Detectar y corregir problemas comunes de calidad en un dataset**, como valores nulos, duplicados y atípicos.  \n",
    "2. **Aplicar técnicas de ingeniería de características** para enriquecer la información contenida en un conjunto de datos.  \n",
    "3. **Realizar un análisis exploratorio de datos (EDA)** usando herramientas estadísticas y visuales para responder preguntas clave del negocio.  \n",
    "4. **Formular y poner a prueba hipótesis estadísticas** con base en los datos, interpretando correctamente los resultados y su significancia.\n"
   ]
  },
  {
   "cell_type": "markdown",
   "id": "89539293",
   "metadata": {},
   "source": [
    "### 🩺 Contexto del Caso\n",
    "\n",
    "Eres un analista de datos contratado por una aseguradora médica que busca optimizar sus políticas de cobro.  \n",
    "El equipo directivo quiere entender qué variables influyen más en los cargos médicos (`charges`) y si hay diferencias significativas entre ciertos grupos de personas, como fumadores y no fumadores, o entre regiones del país.  \n",
    "Tu tarea es explorar los datos de sus clientes y presentar hallazgos clave que guíen futuras decisiones.\n"
   ]
  },
  {
   "cell_type": "markdown",
   "id": "7313312d",
   "metadata": {},
   "source": [
    "### 📁 Descripción del Dataset\n",
    "\n",
    "El archivo `insurance.csv` contiene información de individuos asegurados, incluyendo sus características personales y el monto cobrado por servicios médicos.\n"
   ]
  },
  {
   "cell_type": "markdown",
   "id": "ac4fb30c",
   "metadata": {},
   "source": [
    "### 📘 Diccionario de Datos\n",
    "\n",
    "| Variable    | Descripción |\n",
    "|-------------|-------------|\n",
    "| `age`       | Edad del beneficiario principal |\n",
    "| `sex`       | Sexo del contratante del seguro (`male`, `female`) |\n",
    "| `bmi`       | Índice de masa corporal (peso/altura²) |\n",
    "| `children`  | Número de hijos/dependientes asegurados |\n",
    "| `smoker`    | Si la persona fuma (`yes`, `no`) |\n",
    "| `region`    | Región de residencia (`northeast`, `southeast`, `southwest`, `northwest`) |\n",
    "| `charges`   | Costo individual de servicios médicos facturado |\n"
   ]
  },
  {
   "cell_type": "code",
   "execution_count": null,
   "id": "a6dbf35a",
   "metadata": {},
   "outputs": [],
   "source": [
    "import pandas as pd \n"
   ]
  },
  {
   "cell_type": "code",
   "execution_count": null,
   "id": "b565dab1",
   "metadata": {},
   "outputs": [
    {
     "data": {
      "text/html": [
       "<div>\n",
       "<style scoped>\n",
       "    .dataframe tbody tr th:only-of-type {\n",
       "        vertical-align: middle;\n",
       "    }\n",
       "\n",
       "    .dataframe tbody tr th {\n",
       "        vertical-align: top;\n",
       "    }\n",
       "\n",
       "    .dataframe thead th {\n",
       "        text-align: right;\n",
       "    }\n",
       "</style>\n",
       "<table border=\"1\" class=\"dataframe\">\n",
       "  <thead>\n",
       "    <tr style=\"text-align: right;\">\n",
       "      <th></th>\n",
       "      <th>age</th>\n",
       "      <th>sex</th>\n",
       "      <th>bmi</th>\n",
       "      <th>children</th>\n",
       "      <th>smoker</th>\n",
       "      <th>region</th>\n",
       "      <th>charges</th>\n",
       "    </tr>\n",
       "  </thead>\n",
       "  <tbody>\n",
       "    <tr>\n",
       "      <th>0</th>\n",
       "      <td>19</td>\n",
       "      <td>female</td>\n",
       "      <td>27.900</td>\n",
       "      <td>0</td>\n",
       "      <td>yes</td>\n",
       "      <td>southwest</td>\n",
       "      <td>16884.92400</td>\n",
       "    </tr>\n",
       "    <tr>\n",
       "      <th>1</th>\n",
       "      <td>18</td>\n",
       "      <td>male</td>\n",
       "      <td>33.770</td>\n",
       "      <td>1</td>\n",
       "      <td>no</td>\n",
       "      <td>southeast</td>\n",
       "      <td>1725.55230</td>\n",
       "    </tr>\n",
       "    <tr>\n",
       "      <th>2</th>\n",
       "      <td>28</td>\n",
       "      <td>male</td>\n",
       "      <td>33.000</td>\n",
       "      <td>3</td>\n",
       "      <td>no</td>\n",
       "      <td>southeast</td>\n",
       "      <td>4449.46200</td>\n",
       "    </tr>\n",
       "    <tr>\n",
       "      <th>3</th>\n",
       "      <td>33</td>\n",
       "      <td>male</td>\n",
       "      <td>22.705</td>\n",
       "      <td>0</td>\n",
       "      <td>no</td>\n",
       "      <td>northwest</td>\n",
       "      <td>21984.47061</td>\n",
       "    </tr>\n",
       "    <tr>\n",
       "      <th>4</th>\n",
       "      <td>32</td>\n",
       "      <td>male</td>\n",
       "      <td>28.880</td>\n",
       "      <td>0</td>\n",
       "      <td>no</td>\n",
       "      <td>northwest</td>\n",
       "      <td>3866.85520</td>\n",
       "    </tr>\n",
       "  </tbody>\n",
       "</table>\n",
       "</div>"
      ],
      "text/plain": [
       "   age     sex     bmi  children smoker     region      charges\n",
       "0   19  female  27.900         0    yes  southwest  16884.92400\n",
       "1   18    male  33.770         1     no  southeast   1725.55230\n",
       "2   28    male  33.000         3     no  southeast   4449.46200\n",
       "3   33    male  22.705         0     no  northwest  21984.47061\n",
       "4   32    male  28.880         0     no  northwest   3866.85520"
      ]
     },
     "execution_count": 3,
     "metadata": {},
     "output_type": "execute_result"
    }
   ],
   "source": [
    "# Cargar datos\n",
    "insurance_url =\"https://raw.githubusercontent.com/stedy/Machine-Learning-with-R-datasets/refs/heads/master/insurance.csv\"\n",
    "df=pd.read_csv(insurance_url)\n",
    "df.head()"
   ]
  },
  {
   "cell_type": "code",
   "execution_count": 4,
   "id": "4695b33e",
   "metadata": {},
   "outputs": [
    {
     "name": "stdout",
     "output_type": "stream",
     "text": [
      "<class 'pandas.core.frame.DataFrame'>\n",
      "RangeIndex: 1338 entries, 0 to 1337\n",
      "Data columns (total 7 columns):\n",
      " #   Column    Non-Null Count  Dtype  \n",
      "---  ------    --------------  -----  \n",
      " 0   age       1338 non-null   int64  \n",
      " 1   sex       1338 non-null   object \n",
      " 2   bmi       1338 non-null   float64\n",
      " 3   children  1338 non-null   int64  \n",
      " 4   smoker    1338 non-null   object \n",
      " 5   region    1338 non-null   object \n",
      " 6   charges   1338 non-null   float64\n",
      "dtypes: float64(2), int64(2), object(3)\n",
      "memory usage: 73.3+ KB\n"
     ]
    }
   ],
   "source": [
    "df.info()"
   ]
  },
  {
   "cell_type": "markdown",
   "id": "6a9ad8d6",
   "metadata": {},
   "source": [
    "### 1️⃣ Revisión de calidad de datos\n",
    "\n",
    "- Verifica la presencia de valores nulos o duplicados.\n",
    "- Identifica posibles valores atípicos en variables numéricas (`bmi`, `charges`, `age`).\n",
    "- Comenta si los valores categóricos están bien codificados o requieren limpieza.\n"
   ]
  },
  {
   "cell_type": "code",
   "execution_count": null,
   "id": "550ec412",
   "metadata": {},
   "outputs": [],
   "source": []
  },
  {
   "cell_type": "markdown",
   "id": "c1da7c92",
   "metadata": {},
   "source": [
    "### 2️⃣ Ingeniería de características\n",
    "\n",
    "- Crea una nueva variable `bmi_category` según los rangos oficiales de la OMS:\n",
    "  - Bajo peso: < 18.5\n",
    "  - Normal: 18.5–24.9\n",
    "  - Sobrepeso: 25.0–29.9\n",
    "  - Obesidad: ≥ 30.0\n",
    "- Crea una nueva variable `is_parent` que indique si la persona tiene al menos un hijo.\n",
    "- Crea una variable `age_group` (por ejemplo: `joven` < 30, `adulto` 30–50, `mayor` > 50)\n"
   ]
  },
  {
   "cell_type": "code",
   "execution_count": null,
   "id": "6bcd83f0",
   "metadata": {},
   "outputs": [],
   "source": []
  },
  {
   "cell_type": "markdown",
   "id": "43f91791",
   "metadata": {},
   "source": [
    "### 3️⃣ Análisis exploratorio\n",
    "\n",
    "- ¿Cómo varía el costo médico (`charges`) según la región, el hábito de fumar o el sexo?\n",
    "- ¿Existen diferencias de `charges` entre padres y no padres?\n",
    "- Realiza tablas de agrupación y pivot tables con:\n",
    "  - Promedio de `charges` por región y por `smoker`.\n",
    "  - Conteo de asegurados por `bmi_category` y `sex`.\n",
    "- Visualizaciones sugeridas:\n",
    "  - Boxplots de `charges` por `smoker` y `sex`.\n",
    "  - Histogramas o KDE de distribución de `charges`.\n",
    "  - Gráficas de barras apiladas por `region` y `bmi_category`.\n"
   ]
  },
  {
   "cell_type": "code",
   "execution_count": null,
   "id": "9f0741a4",
   "metadata": {},
   "outputs": [],
   "source": []
  },
  {
   "cell_type": "markdown",
   "id": "cc2295e6",
   "metadata": {},
   "source": [
    "### 4️⃣ Prueba de hipótesis\n",
    "\n",
    "**Pregunta**: ¿Existe una diferencia significativa en el promedio de `charges` entre fumadores y no fumadores?\n",
    "\n",
    "- Hipótesis:\n",
    "  - H₀: No hay diferencia en los promedios de `charges` entre fumadores y no fumadores.\n",
    "  - H₁: Hay una diferencia en los promedios de `charges` entre fumadores y no fumadores.\n",
    "- Aplica una prueba t para muestras independientes (`ttest_ind`).\n",
    "- Reporta valor de p y concluye con base en un nivel de significancia de 0.05.\n"
   ]
  },
  {
   "cell_type": "code",
   "execution_count": null,
   "id": "37e660ac",
   "metadata": {},
   "outputs": [],
   "source": []
  }
 ],
 "metadata": {
  "kernelspec": {
   "display_name": ".venv",
   "language": "python",
   "name": "python3"
  },
  "language_info": {
   "codemirror_mode": {
    "name": "ipython",
    "version": 3
   },
   "file_extension": ".py",
   "mimetype": "text/x-python",
   "name": "python",
   "nbconvert_exporter": "python",
   "pygments_lexer": "ipython3",
   "version": "3.12.0"
  }
 },
 "nbformat": 4,
 "nbformat_minor": 5
}
