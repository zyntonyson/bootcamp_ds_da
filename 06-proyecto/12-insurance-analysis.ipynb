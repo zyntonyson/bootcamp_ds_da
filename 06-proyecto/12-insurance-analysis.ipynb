{
 "cells": [
  {
   "cell_type": "markdown",
   "id": "76ade7b2",
   "metadata": {},
   "source": [
    "### 🎯 Objetivos Académicos\n",
    "\n",
    "Al finalizar esta actividad, el estudiante será capaz de:\n",
    "\n",
    "1. **Detectar y corregir problemas comunes de calidad en un dataset**, como valores nulos, duplicados y atípicos.  \n",
    "2. **Aplicar técnicas de ingeniería de características** para enriquecer la información contenida en un conjunto de datos.  \n",
    "3. **Realizar un análisis exploratorio de datos (EDA)** usando herramientas estadísticas y visuales para responder preguntas clave del negocio.  \n",
    "4. **Formular y poner a prueba hipótesis estadísticas** con base en los datos, interpretando correctamente los resultados y su significancia.\n"
   ]
  },
  {
   "cell_type": "markdown",
   "id": "89539293",
   "metadata": {},
   "source": [
    "### 🩺 Contexto del Caso\n",
    "\n",
    "Eres un analista de datos contratado por una aseguradora médica que busca optimizar sus políticas de cobro.  \n",
    "El equipo directivo quiere entender qué variables influyen más en los cargos médicos (`charges`) y si hay diferencias significativas entre ciertos grupos de personas, como fumadores y no fumadores, o entre regiones del país.  \n",
    "Tu tarea es explorar los datos de sus clientes y presentar hallazgos clave que guíen futuras decisiones.\n"
   ]
  },
  {
   "cell_type": "markdown",
   "id": "7313312d",
   "metadata": {},
   "source": [
    "### 📁 Descripción del Dataset\n",
    "\n",
    "El archivo `insurance.csv` contiene información de individuos asegurados, incluyendo sus características personales y el monto cobrado por servicios médicos.\n"
   ]
  },
  {
   "cell_type": "markdown",
   "id": "ac4fb30c",
   "metadata": {},
   "source": [
    "### 📘 Diccionario de Datos\n",
    "\n",
    "| Variable    | Descripción |\n",
    "|-------------|-------------|\n",
    "| `age`       | Edad del beneficiario principal |\n",
    "| `sex`       | Sexo del contratante del seguro (`male`, `female`) |\n",
    "| `bmi`       | Índice de masa corporal (peso/altura²) |\n",
    "| `children`  | Número de hijos/dependientes asegurados |\n",
    "| `smoker`    | Si la persona fuma (`yes`, `no`) |\n",
    "| `region`    | Región de residencia (`northeast`, `southeast`, `southwest`, `northwest`) |\n",
    "| `charges`   | Costo individual de servicios médicos facturado |\n"
   ]
  },
  {
   "cell_type": "code",
   "execution_count": null,
   "id": "a6dbf35a",
   "metadata": {},
   "outputs": [],
   "source": [
    "import pandas as pd \n"
   ]
  },
  {
   "cell_type": "code",
   "execution_count": null,
   "id": "b565dab1",
   "metadata": {},
   "outputs": [],
   "source": [
    "# Cargar datos\n",
    "insurance_url =\"https://raw.githubusercontent.com/stedy/Machine-Learning-with-R-datasets/refs/heads/master/insurance.csv\"\n",
    "df=pd.read_csv(insurance_url)\n",
    "df.head()"
   ]
  },
  {
   "cell_type": "code",
   "execution_count": null,
   "id": "4695b33e",
   "metadata": {},
   "outputs": [],
   "source": [
    "df.info()"
   ]
  },
  {
   "cell_type": "markdown",
   "id": "6a9ad8d6",
   "metadata": {},
   "source": [
    "### 1️⃣ Revisión de calidad de datos\n",
    "\n",
    "- Verifica la presencia de valores nulos o duplicados.\n",
    "- Identifica posibles valores atípicos en variables numéricas (`bmi`, `charges`, `age`).\n",
    "- Comenta si los valores categóricos están bien codificados o requieren limpieza.\n"
   ]
  },
  {
   "cell_type": "code",
   "execution_count": null,
   "id": "550ec412",
   "metadata": {},
   "outputs": [],
   "source": []
  },
  {
   "cell_type": "markdown",
   "id": "c1da7c92",
   "metadata": {},
   "source": [
    "### 2️⃣ Ingeniería de características\n",
    "\n",
    "- Crea una nueva variable `bmi_category` según los rangos oficiales de la OMS:\n",
    "  - Bajo peso: < 18.5\n",
    "  - Normal: 18.5–24.9\n",
    "  - Sobrepeso: 25.0–29.9\n",
    "  - Obesidad: ≥ 30.0\n",
    "- Crea una nueva variable `is_parent` que indique si la persona tiene al menos un hijo.\n",
    "- Crea una variable `age_group` (por ejemplo: `joven` < 30, `adulto` 30–50, `mayor` > 50)\n"
   ]
  },
  {
   "cell_type": "code",
   "execution_count": null,
   "id": "6bcd83f0",
   "metadata": {},
   "outputs": [],
   "source": []
  },
  {
   "cell_type": "markdown",
   "id": "43f91791",
   "metadata": {},
   "source": [
    "### 3️⃣ Análisis exploratorio\n",
    "\n",
    "- ¿Cómo varía el costo médico (`charges`) según la región, el hábito de fumar o el sexo?\n",
    "- ¿Existen diferencias de `charges` entre padres y no padres?\n",
    "- Realiza tablas de agrupación y pivot tables con:\n",
    "  - Promedio de `charges` por región y por `smoker`.\n",
    "  - Conteo de asegurados por `bmi_category` y `sex`.\n",
    "- Visualizaciones sugeridas:\n",
    "  - Boxplots de `charges` por `smoker` y `sex`.\n",
    "  - Histogramas o KDE de distribución de `charges`.\n",
    "  - Gráficas de barras apiladas por `region` y `bmi_category`.\n"
   ]
  },
  {
   "cell_type": "code",
   "execution_count": null,
   "id": "9f0741a4",
   "metadata": {},
   "outputs": [],
   "source": []
  },
  {
   "cell_type": "markdown",
   "id": "cc2295e6",
   "metadata": {},
   "source": [
    "### 4️⃣ Prueba de hipótesis\n",
    "\n",
    "**Pregunta**: ¿Existe una diferencia significativa en el promedio de `charges` entre fumadores y no fumadores?\n",
    "\n",
    "- Hipótesis:\n",
    "  - H₀: No hay diferencia en los promedios de `charges` entre fumadores y no fumadores.\n",
    "  - H₁: Hay una diferencia en los promedios de `charges` entre fumadores y no fumadores.\n",
    "- Aplica una prueba t para muestras independientes (`ttest_ind`).\n",
    "- Reporta valor de p y concluye con base en un nivel de significancia de 0.05.\n"
   ]
  },
  {
   "cell_type": "code",
   "execution_count": null,
   "id": "37e660ac",
   "metadata": {},
   "outputs": [],
   "source": []
  }
 ],
 "metadata": {
  "kernelspec": {
   "display_name": ".venv",
   "language": "python",
   "name": "python3"
  },
  "language_info": {
   "codemirror_mode": {
    "name": "ipython",
    "version": 3
   },
   "file_extension": ".py",
   "mimetype": "text/x-python",
   "name": "python",
   "nbconvert_exporter": "python",
   "pygments_lexer": "ipython3",
   "version": "3.12.0"
  }
 },
 "nbformat": 4,
 "nbformat_minor": 5
}
