{
 "cells": [
  {
   "cell_type": "markdown",
   "metadata": {},
   "source": [
    "---\n",
    "\n",
    "**Objetivos académicos**\n",
    "\n",
    "1. Comprender los conceptos básicos de la minería de datos web y su importancia para obtener información de páginas y APIs.\n",
    "2. Identificar la estructura y los elementos principales del HTML para facilitar la extracción de datos relevantes.\n",
    "3. Aplicar técnicas de web scraping utilizando Python, `requests` y `BeautifulSoup` para recolectar y procesar información desde sitios web.\n",
    "4. Utilizar expresiones regulares y manipulación de datos para filtrar, limpiar y organizar la información extraída.\n",
    "5. Interactuar con APIs REST, comprendiendo los métodos HTTP más comunes y el manejo de datos en formato JSON, así como su integración en DataFrames para análisis posterior.\n",
    "\n",
    "---"
   ]
  },
  {
   "cell_type": "markdown",
   "metadata": {
    "id": "m-GAxN5moSMX"
   },
   "source": [
    "# Mineria de datos"
   ]
  },
  {
   "cell_type": "markdown",
   "metadata": {
    "id": "2Rt_9N8coFmi"
   },
   "source": [
    "**🔎 Introducción a la minería web**  \n",
    "\n",
    "---\n",
    "\n",
    "¿Sabías que puedes extraer información directamente desde cualquier página web? 🌐 La minería web es una técnica súper útil que permite a analistas y desarrolladores obtener datos valiosos de sitios en línea, especialmente cuando no se cuenta con suficiente información para hacer un buen análisis. A través de este proceso, podemos complementar nuestros datos, descubrir patrones interesantes y hasta encontrar cosas que no esperábamos 🎯. Para hacerlo, es clave entender cómo funciona el HTML, el lenguaje que da estructura a todas las páginas web. Cada título, párrafo, tabla o imagen está organizada con etiquetas especiales, ¡y conocerlas nos abre la puerta a todo ese contenido! 🚪📄\n",
    "\n",
    "**📬 Peticiones HTTP y cómo obtener datos**  \n",
    "\n",
    "---\n",
    "\n",
    "Cuando visitas una página web, tu navegador le manda una \"petición\" al servidor usando un protocolo llamado HTTP. A cambio, el servidor responde con el código HTML de la página 🧾. Lo mejor es que podemos imitar ese proceso desde Python usando la librería `requests` 🐍. Al hacerlo, recibimos el contenido de la página en forma de texto, que luego podemos analizar y filtrar para obtener solo lo que nos interesa: nombres de productos, precios, tablas de datos... lo que sea 📊🛒. Con herramientas como BeautifulSoup, ese texto se convierte en una fuente de información muy poderosa. ¡Es como tener una lupa para explorar la web! 🔍\n"
   ]
  },
  {
   "cell_type": "markdown",
   "metadata": {
    "id": "lvGoxEphqed-"
   },
   "source": [
    "**📬 Códigos de respuesta HTTP comunes**\n",
    "\n",
    "---\n",
    "\n",
    "Cuando haces una solicitud a una API (o a cualquier servidor web), recibes una respuesta con un código que indica si todo salió bien o si hubo algún problema. Aquí están los más comunes:\n",
    "\n",
    "| Código | Significado             | Descripción breve                                  |\n",
    "|--------|-------------------------|----------------------------------------------------|\n",
    "| 200    | OK                      | La solicitud fue exitosa y se devolvieron los datos. |\n",
    "| 201    | Created                 | El recurso fue creado exitosamente.               |\n",
    "| 204    | No Content              | La solicitud fue exitosa, pero no hay datos que devolver. |\n",
    "| 301    | Moved Permanently       | La URL solicitada se ha movido permanentemente.   |\n",
    "| 302    | Found                   | El recurso está temporalmente en otra ubicación.  |\n",
    "| 400    | Bad Request             | La solicitud tiene un error de sintaxis.          |\n",
    "| 401    | Unauthorized            | Falta autenticación o es inválida.                |\n",
    "| 403    | Forbidden               | Tienes prohibido el acceso al recurso.            |\n",
    "| 404    | Not Found               | El recurso solicitado no existe.                  |\n",
    "| 500    | Internal Server Error   | Error inesperado en el servidor.                  |\n",
    "| 502    | Bad Gateway             | El servidor recibió una respuesta inválida.       |\n",
    "| 503    | Service Unavailable     | El servidor está sobrecargado o en mantenimiento. |\n"
   ]
  },
  {
   "cell_type": "markdown",
   "metadata": {},
   "source": [
    "## 🏗️ Estructura básica de una página HTML\n",
    "\n",
    "Una página web está construida con HTML (HyperText Markup Language), que es el lenguaje que le da estructura y formato a todo lo que ves en Internet. El HTML organiza el contenido usando **etiquetas** (tags), que indican el propósito de cada elemento: títulos, párrafos, imágenes, tablas, enlaces, etc.  \n",
    "Las etiquetas pueden tener **atributos** que añaden información extra, como identificadores (`id`), clases (`class`), enlaces (`href`), rutas de imágenes (`src`), entre otros.  \n",
    "La estructura básica de cualquier página HTML suele verse así:\n",
    "\n",
    "```html\n",
    "<!DOCTYPE html>\n",
    "<html>\n",
    "  <head>\n",
    "    <title>Título de la página</title>\n",
    "  </head>\n",
    "  <body>\n",
    "    <h1 id=\"principal\" class=\"titulo\">Encabezado principal</h1>\n",
    "    <p class=\"intro\">Este es un párrafo de texto.</p>\n",
    "    <a href=\"https://ejemplo.com\" target=\"_blank\" class=\"enlace-destacado\">Un enlace</a>\n",
    "    <img src=\"imagen.jpg\" alt=\"Descripción de la imagen\" class=\"img-responsive\">\n",
    "    <table class=\"tabla-datos\">\n",
    "      <tr><th>Columna 1</th><th>Columna 2</th></tr>\n",
    "      <tr><td data-info=\"dato1\">Dato 1</td><td>Dato 2</td></tr>\n",
    "    </table>\n",
    "  </body>\n",
    "</html>\n",
    "```\n",
    "\n",
    "En este ejemplo, puedes ver atributos como `id`, `class`, `href`, `src`, `alt`, `target` y `data-info`, que ayudan a identificar, clasificar o describir los elementos de la página.\n",
    "\n",
    "---"
   ]
  },
  {
   "cell_type": "markdown",
   "metadata": {},
   "source": [
    "\n",
    "\n",
    "## 🔖 Etiquetas para la extracción de datos\n",
    "\n",
    "Al hacer minería web o scraping, hay ciertas etiquetas HTML que resultan especialmente útiles para extraer información relevante:\n",
    "\n",
    "- `<h1>`, `<h2>`, `<h3>`...: Encabezados o títulos de secciones.\n",
    "- `<p>`: Párrafos de texto.\n",
    "- `<a>`: Enlaces a otras páginas o recursos (el atributo `href` contiene la URL).\n",
    "- `<img>`: Imágenes (el atributo `src` contiene la ruta de la imagen).\n",
    "- `<table>`, `<tr>`, `<td>`, `<th>`: Tablas y sus celdas, ideales para datos estructurados.\n",
    "- `<ul>`, `<ol>`, `<li>`: Listas no ordenadas y ordenadas.\n",
    "- `<div>`, `<span>`: Contenedores genéricos, útiles para agrupar y dar formato a otros elementos.\n",
    "\n",
    "Conocer estas etiquetas te permitirá identificar y extraer la información que necesitas de cualquier página web de manera eficiente y precisa. 🕵️‍♂️📄"
   ]
  },
  {
   "cell_type": "markdown",
   "metadata": {
    "id": "DM_DkeA2qjMC"
   },
   "source": [
    "## 🧪 Ejercicios de práctica: Web scraping con Python 🐍\n",
    "\n",
    "Trabajaremos con el sitio [http://books.toscrape.com/](http://books.toscrape.com/), una página que simula una tienda de libros. El objetivo será obtener información útil desde el código HTML usando `requests`, `BeautifulSoup` y expresiones regulares.\n",
    "\n",
    "---"
   ]
  },
  {
   "cell_type": "code",
   "execution_count": null,
   "metadata": {
    "executionInfo": {
     "elapsed": 2636,
     "status": "ok",
     "timestamp": 1749352100775,
     "user": {
      "displayName": "Roman Castillo",
      "userId": "03738236345711029424"
     },
     "user_tz": 360
    },
    "id": "AUbZC4oarnnn"
   },
   "outputs": [],
   "source": [
    "import re\n",
    "import requests\n",
    "from bs4 import BeautifulSoup\n",
    "import csv\n",
    "import pandas as pd"
   ]
  },
  {
   "cell_type": "markdown",
   "metadata": {
    "id": "_IBlBsZPqlVv"
   },
   "source": [
    "### 🧵 Ejercicio 1: Obtener el código HTML  \n",
    "**Objetivo:** Hacer una solicitud HTTP y visualizar el código fuente de la página."
   ]
  },
  {
   "cell_type": "code",
   "execution_count": null,
   "metadata": {
    "id": "XwiU7ZbjqkZM"
   },
   "outputs": [],
   "source": [
    "\n",
    "url = \"http://books.toscrape.com/\"\n",
    "res = requests.get(url)\n",
    "\n",
    "print(res.status_code)  # Debería imprimir 200\n",
    "print(res.text[:1000])  # Imprime los primeros 1000 caracteres del HTML"
   ]
  },
  {
   "cell_type": "code",
   "execution_count": null,
   "metadata": {},
   "outputs": [],
   "source": [
    "with open('html_content.txt','w') as f:\n",
    "  f.write(res.text)\n",
    "\n"
   ]
  },
  {
   "cell_type": "markdown",
   "metadata": {
    "id": "OGgyH3I2q6UQ"
   },
   "source": [
    "### 🔖 Ejercicio 2: Buscar todos los títulos de los libros en la portada  \n",
    "**Objetivo:** Usar `BeautifulSoup` para extraer los títulos de todos los libros listados en la página de inicio.\n",
    "\n",
    "---"
   ]
  },
  {
   "cell_type": "code",
   "execution_count": null,
   "metadata": {
    "colab": {
     "base_uri": "https://localhost:8080/"
    },
    "executionInfo": {
     "elapsed": 25,
     "status": "ok",
     "timestamp": 1749338384368,
     "user": {
      "displayName": "Roman Castillo",
      "userId": "03738236345711029424"
     },
     "user_tz": 360
    },
    "id": "ZroOuMuxrCYt",
    "outputId": "8cad11f7-230c-4f74-897e-d9448a7ca83f"
   },
   "outputs": [],
   "source": [
    "\n",
    "soup = BeautifulSoup(res.text, \"lxml\")\n",
    "books = soup.find_all(\"h3\")\n",
    "\n",
    "for book in books:\n",
    "    print(book.find(\"a\")[\"title\"])\n",
    "    #print(book.text)"
   ]
  },
  {
   "cell_type": "markdown",
   "metadata": {
    "id": "706fEVCsrGGX"
   },
   "source": [
    "### 🎯 Ejercicio 3: Buscar libros con 5 estrellas  \n",
    "**Objetivo:** Filtrar elementos usando atributos de clase para identificar libros con calificación de 5 estrellas.\n"
   ]
  },
  {
   "cell_type": "code",
   "execution_count": null,
   "metadata": {
    "id": "1ZsVrtpprLcN"
   },
   "outputs": [],
   "source": [
    "five_star_books = soup.find_all(\"p\", class_=\"star-rating Five\")\n",
    "\n",
    "for tag in five_star_books:\n",
    "    title = tag.find_next(\"h3\").find(\"a\")[\"title\"]\n",
    "    print(f\"🌟 {title}\")"
   ]
  },
  {
   "cell_type": "markdown",
   "metadata": {
    "id": "wv-EIUvxrYTV"
   },
   "source": [
    "### 💰 Ejercicio 4: Extraer precios usando expresiones regulares  \n",
    "**Objetivo:** Usar `re` para filtrar todos los precios que aparecen en el HTML."
   ]
  },
  {
   "cell_type": "markdown",
   "metadata": {},
   "source": [
    "Las **expresiones regulares** son herramientas muy útiles en programación que permiten buscar, identificar y extraer patrones específicos dentro de textos. Por ejemplo, puedes usarlas para encontrar precios, correos electrónicos o palabras clave dentro del código HTML de una página web. En el web scraping, las expresiones regulares ayudan a filtrar y limpiar la información obtenida, facilitando el análisis de los datos."
   ]
  },
  {
   "cell_type": "markdown",
   "metadata": {},
   "source": [
    "| Carácter/Patrón | Explicación                                      | Ejemplo de uso                  |\n",
    "|-----------------|--------------------------------------------------|---------------------------------|\n",
    "| .               | Cualquier carácter excepto salto de línea         | `a.b` encuentra \"acb\", \"a9b\"    |\n",
    "| ^               | Inicio de línea                                  | `^Hola` encuentra \"Hola mundo\"  |\n",
    "| $               | Fin de línea                                     | `mundo$` encuentra \"Hola mundo\" |\n",
    "| *               | Cero o más repeticiones                          | `ab*c` encuentra \"ac\", \"abc\", \"abbc\" |\n",
    "| +               | Una o más repeticiones                           | `ab+c` encuentra \"abc\", \"abbc\"  |\n",
    "| ?               | Cero o una repetición (opcional)                 | `colou?r` encuentra \"color\", \"colour\" |\n",
    "| []              | Conjunto de caracteres                           | `[aeiou]` encuentra cualquier vocal |\n",
    "| [^]             | Cualquier carácter excepto los indicados          | `[^0-9]` encuentra no dígitos   |\n",
    "| {n}             | Exactamente n repeticiones                       | `a{3}` encuentra \"aaa\"          |\n",
    "| {n,}            | Al menos n repeticiones                          | `a{2,}` encuentra \"aa\", \"aaa\"   |\n",
    "| {n,m}           | Entre n y m repeticiones                         | `a{2,4}` encuentra \"aa\", \"aaa\", \"aaaa\" |\n",
    "| \\d              | Cualquier dígito (equivale a [0-9])              | `\\d+` encuentra \"123\" en \"abc123\" |\n",
    "| \\D              | Cualquier no dígito                              | `\\D+` encuentra \"abc\" en \"abc123\" |\n",
    "| \\w              | Cualquier carácter alfanumérico o guion bajo     | `\\w+` encuentra \"abc123\"        |\n",
    "| \\W              | Cualquier carácter no alfanumérico               | `\\W+` encuentra \"!\" en \"abc!\"   |\n",
    "| \\s              | Cualquier espacio en blanco                      | `\\s+` encuentra espacios, tabulaciones |\n",
    "| \\S              | Cualquier carácter que no sea espacio en blanco  | `\\S+` encuentra \"Hola\" en \"Hola mundo\" |\n",
    "| \\               | Carácter de escape para símbolos especiales      | `\\.` encuentra el punto \".\"     |\n",
    "| ( )             | Agrupación y captura                             | `(abc)+` encuentra \"abcabc\"     |\n",
    "| \\|              | Alternancia (o lógico)                           | `perro\\|gato` encuentra \"perro\" o \"gato\" |"
   ]
  },
  {
   "cell_type": "code",
   "execution_count": null,
   "metadata": {
    "id": "zQbUsFrkn_tk"
   },
   "outputs": [],
   "source": [
    "\n",
    "prices = re.findall(r\"£\\d+\\.\\d{2}\", res.text)\n",
    "print(prices)"
   ]
  },
  {
   "cell_type": "markdown",
   "metadata": {
    "id": "vWKogy4SrhVK"
   },
   "source": [
    "### 📦 Ejercicio 5: Combina título y precio  \n",
    "**Objetivo:** Crear un pequeño script que imprima título y precio de cada libro."
   ]
  },
  {
   "cell_type": "code",
   "execution_count": null,
   "metadata": {
    "colab": {
     "base_uri": "https://localhost:8080/"
    },
    "executionInfo": {
     "elapsed": 15,
     "status": "ok",
     "timestamp": 1749338441774,
     "user": {
      "displayName": "Roman Castillo",
      "userId": "03738236345711029424"
     },
     "user_tz": 360
    },
    "id": "CLhOD1ixrj_0",
    "outputId": "0b67a34a-99c9-4184-b202-32e02b260509"
   },
   "outputs": [],
   "source": [
    "books = soup.find_all(\"article\", class_=\"product_pod\")\n",
    "\n",
    "for book in books:\n",
    "    title = book.h3.a[\"title\"]\n",
    "    price = book.find(\"p\", class_=\"price_color\").text\n",
    "    print(f\"{title} - {price}\")"
   ]
  },
  {
   "cell_type": "markdown",
   "metadata": {
    "id": "I90KU5Ozr0Q4"
   },
   "source": [
    "### 📂 Ejercicio 6: Obtener enlaces a detalles de cada libro  \n",
    "**Objetivo:** Extraer el atributo `href` de cada libro para obtener su URL individual.\n"
   ]
  },
  {
   "cell_type": "code",
   "execution_count": null,
   "metadata": {
    "colab": {
     "base_uri": "https://localhost:8080/"
    },
    "executionInfo": {
     "elapsed": 17,
     "status": "ok",
     "timestamp": 1749338445875,
     "user": {
      "displayName": "Roman Castillo",
      "userId": "03738236345711029424"
     },
     "user_tz": 360
    },
    "id": "umEqMmAOr0D9",
    "outputId": "fed1098e-834b-4f16-99cb-9cbad4f5b50c"
   },
   "outputs": [],
   "source": [
    "base_url = \"http://books.toscrape.com/\"\n",
    "for book in books:\n",
    "    relative_link = book.h3.a[\"href\"]\n",
    "    print(base_url + relative_link.replace('../', '').strip())"
   ]
  },
  {
   "cell_type": "markdown",
   "metadata": {
    "id": "mZRY6wxdr3qn"
   },
   "source": [
    "### 🧹 Ejercicio 7: Filtrar libros con título que contenga una palabra clave  \n",
    "**Objetivo:** Usar regex para encontrar libros que contengan, por ejemplo, la palabra \"Python\".\n"
   ]
  },
  {
   "cell_type": "code",
   "execution_count": null,
   "metadata": {
    "colab": {
     "base_uri": "https://localhost:8080/"
    },
    "executionInfo": {
     "elapsed": 13,
     "status": "ok",
     "timestamp": 1749338463915,
     "user": {
      "displayName": "Roman Castillo",
      "userId": "03738236345711029424"
     },
     "user_tz": 360
    },
    "id": "hcjIslSVr5o9",
    "outputId": "7a554a9e-50dc-4272-c71f-59f4d464e79d"
   },
   "outputs": [],
   "source": [
    "pattern = re.compile(r\"secret\", re.IGNORECASE)\n",
    "\n",
    "for book in books:\n",
    "    title = book.h3.a[\"title\"]\n",
    "    if pattern.search(title):\n",
    "        print(f\"📘 {title}\")"
   ]
  },
  {
   "cell_type": "markdown",
   "metadata": {
    "id": "uS1-ZxmTr-xH"
   },
   "source": [
    "### 🔢 Ejercicio 8: Contar cuántos libros tienen 3, 4 o 5 estrellas  \n",
    "**Objetivo:** Contar y clasificar libros según la cantidad de estrellas.\n"
   ]
  },
  {
   "cell_type": "code",
   "execution_count": null,
   "metadata": {
    "colab": {
     "base_uri": "https://localhost:8080/"
    },
    "executionInfo": {
     "elapsed": 45,
     "status": "ok",
     "timestamp": 1749338547444,
     "user": {
      "displayName": "Roman Castillo",
      "userId": "03738236345711029424"
     },
     "user_tz": 360
    },
    "id": "-I1NqzkKr_Z_",
    "outputId": "46767be7-9b42-4bc0-8a5c-184cb9b7f020"
   },
   "outputs": [],
   "source": [
    "ratings = [\"Three\", \"Four\", \"Five\"]\n",
    "for rating in ratings:\n",
    "    count = len(soup.find_all(\"p\", class_=\"star-rating \" + rating))\n",
    "    print(f\"⭐ {rating} stars: {count} libros\")"
   ]
  },
  {
   "cell_type": "markdown",
   "metadata": {
    "id": "_VPEmXgssBcs"
   },
   "source": [
    "### 📝 Ejercicio 9: Guardar los títulos y precios en un archivo CSV  \n",
    "**Objetivo:** Practicar exportación de datos.\n"
   ]
  },
  {
   "cell_type": "code",
   "execution_count": null,
   "metadata": {
    "executionInfo": {
     "elapsed": 14,
     "status": "ok",
     "timestamp": 1749338551094,
     "user": {
      "displayName": "Roman Castillo",
      "userId": "03738236345711029424"
     },
     "user_tz": 360
    },
    "id": "3S3jVn96sDk1"
   },
   "outputs": [],
   "source": [
    "with open(\"libros.csv\", mode=\"w\", newline=\"\") as file:\n",
    "    writer = csv.writer(file)\n",
    "    writer.writerow([\"Título\", \"Precio\"])\n",
    "    for book in books:\n",
    "        title = book.h3.a[\"title\"]\n",
    "        price = book.find(\"p\", class_=\"price_color\").text\n",
    "        writer.writerow([title, price])"
   ]
  },
  {
   "cell_type": "markdown",
   "metadata": {
    "id": "71bJJlg3toBx"
   },
   "source": [
    "### 🧮 Ejercicio 10: Convertir los datos en un DataFrame  \n",
    "**Objetivo:** Crear un `DataFrame` con columnas para título, precio y calificación.\n"
   ]
  },
  {
   "cell_type": "code",
   "execution_count": null,
   "metadata": {
    "colab": {
     "base_uri": "https://localhost:8080/",
     "height": 676
    },
    "executionInfo": {
     "elapsed": 132,
     "status": "ok",
     "timestamp": 1749338785995,
     "user": {
      "displayName": "Roman Castillo",
      "userId": "03738236345711029424"
     },
     "user_tz": 360
    },
    "id": "faTiiismtP96",
    "outputId": "748fe0b1-c435-4a6d-b1e5-4d6b36d8f6dd"
   },
   "outputs": [],
   "source": [
    "data = []\n",
    "for book in books:\n",
    "    title = book.h3.a[\"title\"]\n",
    "    price = book.find(\"p\", class_=\"price_color\").text\n",
    "    price =  re.sub(r'[^0-9.]', '', price)\n",
    "    rating_class = book.find(\"p\")[\"class\"]\n",
    "    rating = rating_class[1] if len(rating_class) > 1 else \"No rating\"\n",
    "    data.append({\"Título\": title, \"Precio\": price, \"Estrellas\": rating})\n",
    "\n",
    "df = pd.DataFrame(data)\n",
    "df"
   ]
  },
  {
   "cell_type": "markdown",
   "metadata": {
    "id": "pLvX0Hx5dfse"
   },
   "source": [
    "\n",
    "### 📊 Ejercicio 10: Calcular el precio promedio de los libros de la portada  \n",
    "**Objetivo:** Convertir los precios a float y calcular el promedio."
   ]
  },
  {
   "cell_type": "code",
   "execution_count": null,
   "metadata": {},
   "outputs": [],
   "source": [
    "df['Precio'] = pd.to_numeric(df['Precio'], errors='coerce')\n",
    "(\n",
    "    df.groupby('Estrellas')['Precio'].mean()\n",
    ")"
   ]
  },
  {
   "cell_type": "markdown",
   "metadata": {
    "id": "KhtSkPV2eI-g"
   },
   "source": [
    "# API's"
   ]
  },
  {
   "cell_type": "markdown",
   "metadata": {
    "id": "Lwcn2W5weGgm"
   },
   "source": [
    "**🔗 ¿Qué es una API?**  \n",
    "Una API (Interfaz de Programación de Aplicaciones) es un conjunto de reglas que permite que dos programas se comuniquen entre sí. En el contexto del análisis de datos, las APIs permiten acceder a información alojada en servidores externos de forma estructurada, rápida y segura, sin tener que extraer datos directamente desde el HTML de una página web. Usar una API es como hacer una solicitud en un restaurante: tú pides (por ejemplo, el clima de hoy) y el servidor te responde con exactamente lo que necesitas, en un formato limpio como JSON o XML.\n",
    "\n",
    "---\n",
    "\n",
    "**📋 Tipos de llamadas HTTP comunes en una API**\n",
    "\n",
    "| Método | Descripción | Uso común |\n",
    "|--------|-------------|-----------|\n",
    "| `GET`    | Solicita datos desde el servidor | Obtener información (lectura) |\n",
    "| `POST`   | Envía datos al servidor | Crear un nuevo recurso |\n",
    "| `PUT`    | Reemplaza un recurso existente | Actualizar por completo un dato |\n",
    "| `PATCH`  | Modifica parcialmente un recurso | Editar parte de la información |\n",
    "| `DELETE` | Elimina un recurso | Borrar datos del servidor |\n"
   ]
  },
  {
   "cell_type": "markdown",
   "metadata": {
    "id": "P2K72_GzelFc"
   },
   "source": [
    "**🗂️ ¿Qué es el formato JSON y por qué es tan usado en APIs?**  \n",
    "JSON (JavaScript Object Notation) es un formato ligero y estructurado para intercambiar datos. Se basa en pares clave-valor, muy parecido a los diccionarios en Python o los objetos en JavaScript. Su sintaxis sencilla lo hace fácil de leer para los humanos y muy eficiente para las máquinas. 🌍\n",
    "\n",
    "JSON se ha convertido en el formato preferido para las respuestas de muchas APIs porque permite transmitir información de forma clara, compacta y estandarizada. Cuando haces una llamada a una API, por ejemplo para obtener datos del clima o los detalles de un producto, el servidor suele responder con un objeto JSON. Esto facilita el procesamiento de los datos en aplicaciones web, móviles o scripts de análisis. Su amplia compatibilidad con casi todos los lenguajes de programación modernos ha hecho que JSON sea adoptado de manera masiva en el desarrollo de software y análisis de datos. 🔄📡\n"
   ]
  },
  {
   "cell_type": "markdown",
   "metadata": {
    "id": "4hlZ-XfQfoS_"
   },
   "source": [
    "## 🧪 Práctica con JSONPlaceholder API (GET y POST)\n",
    "\n",
    "Trabajaremos con la API pública [https://jsonplaceholder.typicode.com](https://jsonplaceholder.typicode.com), que simula el comportamiento de una API REST real. Los recursos disponibles incluyen `posts`, `comments`, `users`, entre otros."
   ]
  },
  {
   "cell_type": "markdown",
   "metadata": {
    "id": "idRqaFzTfvtA"
   },
   "source": [
    "### 🔍 Ejercicio 1: Obtener todas las publicaciones\n",
    "**Objetivo:** Usar `requests.get()` para obtener una lista de publicaciones.\n",
    "\n"
   ]
  },
  {
   "cell_type": "code",
   "execution_count": null,
   "metadata": {
    "colab": {
     "base_uri": "https://localhost:8080/"
    },
    "executionInfo": {
     "elapsed": 72,
     "status": "ok",
     "timestamp": 1749352108737,
     "user": {
      "displayName": "Roman Castillo",
      "userId": "03738236345711029424"
     },
     "user_tz": 360
    },
    "id": "KAglkwG_f4jU",
    "outputId": "989ef8d7-898f-4928-e3c6-178b79304fc9"
   },
   "outputs": [],
   "source": [
    "\n",
    "url = \"https://jsonplaceholder.typicode.com/posts\"\n",
    "res = requests.get(url)\n",
    "\n",
    "print(res.status_code)\n",
    "print(res.json()[:3])  # Muestra las primeras 3 publicaciones"
   ]
  },
  {
   "cell_type": "markdown",
   "metadata": {
    "id": "-71PGaaPf_TE"
   },
   "source": [
    "### 💬 Ejercicio 3: Obtener todos los comentarios de una publicación  \n",
    "**Objetivo:** Usar parámetros en la URL para filtrar comentarios."
   ]
  },
  {
   "cell_type": "code",
   "execution_count": null,
   "metadata": {
    "colab": {
     "base_uri": "https://localhost:8080/"
    },
    "executionInfo": {
     "elapsed": 251,
     "status": "ok",
     "timestamp": 1749352117319,
     "user": {
      "displayName": "Roman Castillo",
      "userId": "03738236345711029424"
     },
     "user_tz": 360
    },
    "id": "mfrqzHFdgBsh",
    "outputId": "18c85b8a-c43a-4cc8-ced3-30f0a6aef20d"
   },
   "outputs": [],
   "source": [
    "params = {\"postId\": 1}\n",
    "res = requests.get(\"https://jsonplaceholder.typicode.com/comments\", params=params)\n",
    "\n",
    "for comment in res.json():\n",
    "    print(comment[\"email\"], \"-\", comment[\"body\"][:40], \"...\")"
   ]
  },
  {
   "cell_type": "markdown",
   "metadata": {
    "id": "X5_UQi_LgC8L"
   },
   "source": [
    "### 📝 Ejercicio 4: Crear una nueva publicación (POST)  \n",
    "**Objetivo:** Simular la creación de un post usando `requests.post()`."
   ]
  },
  {
   "cell_type": "code",
   "execution_count": null,
   "metadata": {
    "colab": {
     "base_uri": "https://localhost:8080/"
    },
    "executionInfo": {
     "elapsed": 108,
     "status": "ok",
     "timestamp": 1749352124777,
     "user": {
      "displayName": "Roman Castillo",
      "userId": "03738236345711029424"
     },
     "user_tz": 360
    },
    "id": "kvU5HQeSgFO6",
    "outputId": "a6ba1118-d54a-4bf8-d15b-adc0f11ab17f"
   },
   "outputs": [],
   "source": [
    "payload = {\n",
    "    \"title\": \"Mi primer post\",\n",
    "    \"body\": \"Este es un post de prueba para la clase.\",\n",
    "    \"userId\": 1\n",
    "}\n",
    "\n",
    "res = requests.post(\"https://jsonplaceholder.typicode.com/posts\", json=payload)\n",
    "print(res.status_code)\n",
    "print(res.json())"
   ]
  },
  {
   "cell_type": "markdown",
   "metadata": {
    "id": "q7xz5zhZgILW"
   },
   "source": [
    "### 🧪 Ejercicio 5: Crear un comentario en una publicación  \n",
    "**Objetivo:** Simular un comentario nuevo con `POST`."
   ]
  },
  {
   "cell_type": "code",
   "execution_count": null,
   "metadata": {
    "colab": {
     "base_uri": "https://localhost:8080/"
    },
    "executionInfo": {
     "elapsed": 243,
     "status": "ok",
     "timestamp": 1749352130894,
     "user": {
      "displayName": "Roman Castillo",
      "userId": "03738236345711029424"
     },
     "user_tz": 360
    },
    "id": "t89ja15hgKPv",
    "outputId": "769e6fce-f783-4c07-d670-1a8d0a47a801"
   },
   "outputs": [],
   "source": [
    "payload = {\n",
    "    \"postId\": 1,\n",
    "    \"name\": \"Comentario de prueba\",\n",
    "    \"email\": \"ejemplo@email.com\",\n",
    "    \"body\": \"¡Este es un comentario para practicar!\"\n",
    "}\n",
    "\n",
    "res = requests.post(\"https://jsonplaceholder.typicode.com/comments\", json=payload)\n",
    "print(res.json())"
   ]
  },
  {
   "cell_type": "markdown",
   "metadata": {
    "id": "x4_9CRAfgPdZ"
   },
   "source": [
    "### 🗃️ Ejercicio 6: Extraer publicaciones y convertirlas a DataFrame  \n",
    "**Objetivo:** Obtener publicaciones de un usuario y convertirlas en un DataFrame."
   ]
  },
  {
   "cell_type": "code",
   "execution_count": null,
   "metadata": {
    "colab": {
     "base_uri": "https://localhost:8080/",
     "height": 206
    },
    "executionInfo": {
     "elapsed": 294,
     "status": "ok",
     "timestamp": 1749352141494,
     "user": {
      "displayName": "Roman Castillo",
      "userId": "03738236345711029424"
     },
     "user_tz": 360
    },
    "id": "9pmWh0rIgO7L",
    "outputId": "12c3e99e-b1e9-4b44-bd2c-d9efbc5208f2"
   },
   "outputs": [],
   "source": [
    "\n",
    "params = {\"userId\": 2}\n",
    "res = requests.get(\"https://jsonplaceholder.typicode.com/posts\", params=params)\n",
    "posts = res.json()\n",
    "\n",
    "df = pd.DataFrame(posts)\n",
    "df.head()"
   ]
  },
  {
   "cell_type": "markdown",
   "metadata": {},
   "source": [
    "## En resumen en esta sesion revisamos:\n",
    "\n",
    "\n",
    "1. **Introducción a la minería de datos web:**  \n",
    "   Aprendiste qué es la minería de datos web, su importancia y cómo puede ayudarte a obtener información valiosa de páginas y APIs.\n",
    "\n",
    "2. **Estructura y etiquetas HTML:**  \n",
    "   Identificaste los elementos principales del HTML (como `<h1>`, `<p>`, `<a>`, `<table>`, etc.) que facilitan la extracción de datos relevantes en el web scraping.\n",
    "\n",
    "3. **Web scraping con Python:**  \n",
    "   Practicaste cómo usar `requests` y `BeautifulSoup` para recolectar, filtrar y organizar información desde sitios web, incluyendo el uso de expresiones regulares para limpiar datos.\n",
    "\n",
    "4. **Interacción con APIs REST:**  \n",
    "   Aprendiste a realizar peticiones HTTP (`GET`, `POST`) a APIs, a manejar respuestas en formato JSON y a integrar estos datos en DataFrames para su análisis.\n",
    "\n",
    "5. **Ejercicios prácticos y automatización:**  \n",
    "   Realizaste ejercicios para extraer títulos, precios, calificaciones y enlaces de libros, así como para guardar y analizar la información obtenida, aplicando todo lo aprendido en casos reales.\n",
    "\n"
   ]
  }
 ],
 "metadata": {
  "colab": {
   "authorship_tag": "ABX9TyNhY5/+r4MfTicVq5xK2ocz",
   "provenance": []
  },
  "kernelspec": {
   "display_name": ".venv",
   "language": "python",
   "name": "python3"
  },
  "language_info": {
   "codemirror_mode": {
    "name": "ipython",
    "version": 3
   },
   "file_extension": ".py",
   "mimetype": "text/x-python",
   "name": "python",
   "nbconvert_exporter": "python",
   "pygments_lexer": "ipython3",
   "version": "3.12.0"
  }
 },
 "nbformat": 4,
 "nbformat_minor": 0
}
