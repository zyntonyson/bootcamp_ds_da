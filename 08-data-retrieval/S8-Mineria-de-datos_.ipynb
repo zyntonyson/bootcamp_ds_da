{
 "cells": [
  {
   "cell_type": "markdown",
   "metadata": {
    "id": "m-GAxN5moSMX"
   },
   "source": [
    "# Mineria de datos"
   ]
  },
  {
   "cell_type": "markdown",
   "metadata": {
    "id": "2Rt_9N8coFmi"
   },
   "source": [
    "**🔎 Introducción a la minería web**  \n",
    "¿Sabías que puedes extraer información directamente desde cualquier página web? 🌐 La minería web es una técnica súper útil que permite a analistas y desarrolladores obtener datos valiosos de sitios en línea, especialmente cuando no se cuenta con suficiente información para hacer un buen análisis. A través de este proceso, podemos complementar nuestros datos, descubrir patrones interesantes y hasta encontrar cosas que no esperábamos 🎯. Para hacerlo, es clave entender cómo funciona el HTML, el lenguaje que da estructura a todas las páginas web. Cada título, párrafo, tabla o imagen está organizada con etiquetas especiales, ¡y conocerlas nos abre la puerta a todo ese contenido! 🚪📄\n",
    "\n",
    "**📬 Peticiones HTTP y cómo obtener datos**  \n",
    "Cuando visitas una página web, tu navegador le manda una \"petición\" al servidor usando un protocolo llamado HTTP. A cambio, el servidor responde con el código HTML de la página 🧾. Lo mejor es que podemos imitar ese proceso desde Python usando la librería `requests` 🐍. Al hacerlo, recibimos el contenido de la página en forma de texto, que luego podemos analizar y filtrar para obtener solo lo que nos interesa: nombres de productos, precios, tablas de datos... lo que sea 📊🛒. Con herramientas como BeautifulSoup, ese texto se convierte en una fuente de información muy poderosa. ¡Es como tener una lupa para explorar la web! 🔍\n"
   ]
  },
  {
   "cell_type": "markdown",
   "metadata": {
    "id": "lvGoxEphqed-"
   },
   "source": [
    "**📬 Códigos de respuesta HTTP comunes**\n",
    "\n",
    "Cuando haces una solicitud a una API (o a cualquier servidor web), recibes una respuesta con un código que indica si todo salió bien o si hubo algún problema. Aquí están los más comunes:\n",
    "\n",
    "| Código | Significado             | Descripción breve                                  |\n",
    "|--------|-------------------------|----------------------------------------------------|\n",
    "| 200    | OK                      | La solicitud fue exitosa y se devolvieron los datos. |\n",
    "| 201    | Created                 | El recurso fue creado exitosamente.               |\n",
    "| 204    | No Content              | La solicitud fue exitosa, pero no hay datos que devolver. |\n",
    "| 301    | Moved Permanently       | La URL solicitada se ha movido permanentemente.   |\n",
    "| 302    | Found                   | El recurso está temporalmente en otra ubicación.  |\n",
    "| 400    | Bad Request             | La solicitud tiene un error de sintaxis.          |\n",
    "| 401    | Unauthorized            | Falta autenticación o es inválida.                |\n",
    "| 403    | Forbidden               | Tienes prohibido el acceso al recurso.            |\n",
    "| 404    | Not Found               | El recurso solicitado no existe.                  |\n",
    "| 500    | Internal Server Error   | Error inesperado en el servidor.                  |\n",
    "| 502    | Bad Gateway             | El servidor recibió una respuesta inválida.       |\n",
    "| 503    | Service Unavailable     | El servidor está sobrecargado o en mantenimiento. |\n"
   ]
  },
  {
   "cell_type": "markdown",
   "metadata": {},
   "source": [
    "## 🏗️ Estructura básica de una página HTML\n",
    "\n",
    "Una página web está construida con HTML (HyperText Markup Language), que es el lenguaje que le da estructura y formato a todo lo que ves en Internet. El HTML organiza el contenido usando **etiquetas** (tags), que indican el propósito de cada elemento: títulos, párrafos, imágenes, tablas, enlaces, etc.  \n",
    "Las etiquetas pueden tener **atributos** que añaden información extra, como identificadores (`id`), clases (`class`), enlaces (`href`), rutas de imágenes (`src`), entre otros.  \n",
    "La estructura básica de cualquier página HTML suele verse así:\n",
    "\n",
    "```html\n",
    "<!DOCTYPE html>\n",
    "<html>\n",
    "  <head>\n",
    "    <title>Título de la página</title>\n",
    "  </head>\n",
    "  <body>\n",
    "    <h1 id=\"principal\" class=\"titulo\">Encabezado principal</h1>\n",
    "    <p class=\"intro\">Este es un párrafo de texto.</p>\n",
    "    <a href=\"https://ejemplo.com\" target=\"_blank\" class=\"enlace-destacado\">Un enlace</a>\n",
    "    <img src=\"imagen.jpg\" alt=\"Descripción de la imagen\" class=\"img-responsive\">\n",
    "    <table class=\"tabla-datos\">\n",
    "      <tr><th>Columna 1</th><th>Columna 2</th></tr>\n",
    "      <tr><td data-info=\"dato1\">Dato 1</td><td>Dato 2</td></tr>\n",
    "    </table>\n",
    "  </body>\n",
    "</html>\n",
    "```\n",
    "\n",
    "En este ejemplo, puedes ver atributos como `id`, `class`, `href`, `src`, `alt`, `target` y `data-info`, que ayudan a identificar, clasificar o describir los elementos de la página.\n",
    "\n",
    "---"
   ]
  },
  {
   "cell_type": "markdown",
   "metadata": {},
   "source": [
    "\n",
    "\n",
    "## 🔖 Etiquetas para la extracción de datos\n",
    "\n",
    "Al hacer minería web o scraping, hay ciertas etiquetas HTML que resultan especialmente útiles para extraer información relevante:\n",
    "\n",
    "- `<h1>`, `<h2>`, `<h3>`...: Encabezados o títulos de secciones.\n",
    "- `<p>`: Párrafos de texto.\n",
    "- `<a>`: Enlaces a otras páginas o recursos (el atributo `href` contiene la URL).\n",
    "- `<img>`: Imágenes (el atributo `src` contiene la ruta de la imagen).\n",
    "- `<table>`, `<tr>`, `<td>`, `<th>`: Tablas y sus celdas, ideales para datos estructurados.\n",
    "- `<ul>`, `<ol>`, `<li>`: Listas no ordenadas y ordenadas.\n",
    "- `<div>`, `<span>`: Contenedores genéricos, útiles para agrupar y dar formato a otros elementos.\n",
    "\n",
    "Conocer estas etiquetas te permitirá identificar y extraer la información que necesitas de cualquier página web de manera eficiente y precisa. 🕵️‍♂️📄"
   ]
  },
  {
   "cell_type": "markdown",
   "metadata": {
    "id": "DM_DkeA2qjMC"
   },
   "source": [
    "## 🧪 Ejercicios de práctica: Web scraping con Python 🐍\n",
    "\n",
    "Trabajaremos con el sitio [http://books.toscrape.com/](http://books.toscrape.com/), una página que simula una tienda de libros. El objetivo será obtener información útil desde el código HTML usando `requests`, `BeautifulSoup` y expresiones regulares.\n",
    "\n",
    "---"
   ]
  },
  {
   "cell_type": "code",
   "execution_count": null,
   "metadata": {
    "executionInfo": {
     "elapsed": 2636,
     "status": "ok",
     "timestamp": 1749352100775,
     "user": {
      "displayName": "Roman Castillo",
      "userId": "03738236345711029424"
     },
     "user_tz": 360
    },
    "id": "AUbZC4oarnnn"
   },
   "outputs": [],
   "source": [
    "import re\n",
    "import requests\n",
    "from bs4 import BeautifulSoup\n",
    "import csv\n",
    "import pandas as pd"
   ]
  },
  {
   "cell_type": "markdown",
   "metadata": {
    "id": "_IBlBsZPqlVv"
   },
   "source": [
    "### 🧵 Ejercicio 1: Obtener el código HTML  \n",
    "**Objetivo:** Hacer una solicitud HTTP y visualizar el código fuente de la página."
   ]
  },
  {
   "cell_type": "code",
   "execution_count": null,
   "metadata": {
    "id": "XwiU7ZbjqkZM"
   },
   "outputs": [],
   "source": [
    "\n",
    "url = \"http://books.toscrape.com/\"\n",
    "res = requests.get(url)\n",
    "\n",
    "print(res.status_code)  # Debería imprimir 200\n",
    "print(res.text[:1000])  # Imprime los primeros 1000 caracteres del HTML"
   ]
  },
  {
   "cell_type": "markdown",
   "metadata": {
    "id": "OGgyH3I2q6UQ"
   },
   "source": [
    "### 🔖 Ejercicio 2: Buscar todos los títulos de los libros en la portada  \n",
    "**Objetivo:** Usar `BeautifulSoup` para extraer los títulos de todos los libros listados en la página de inicio.\n",
    "\n",
    "---"
   ]
  },
  {
   "cell_type": "code",
   "execution_count": 6,
   "metadata": {
    "colab": {
     "base_uri": "https://localhost:8080/"
    },
    "executionInfo": {
     "elapsed": 25,
     "status": "ok",
     "timestamp": 1749338384368,
     "user": {
      "displayName": "Roman Castillo",
      "userId": "03738236345711029424"
     },
     "user_tz": 360
    },
    "id": "ZroOuMuxrCYt",
    "outputId": "8cad11f7-230c-4f74-897e-d9448a7ca83f"
   },
   "outputs": [
    {
     "name": "stdout",
     "output_type": "stream",
     "text": [
      "A Light in the Attic\n",
      "Tipping the Velvet\n",
      "Soumission\n",
      "Sharp Objects\n",
      "Sapiens: A Brief History of Humankind\n",
      "The Requiem Red\n",
      "The Dirty Little Secrets of Getting Your Dream Job\n",
      "The Coming Woman: A Novel Based on the Life of the Infamous Feminist, Victoria Woodhull\n",
      "The Boys in the Boat: Nine Americans and Their Epic Quest for Gold at the 1936 Berlin Olympics\n",
      "The Black Maria\n",
      "Starving Hearts (Triangular Trade Trilogy, #1)\n",
      "Shakespeare's Sonnets\n",
      "Set Me Free\n",
      "Scott Pilgrim's Precious Little Life (Scott Pilgrim #1)\n",
      "Rip it Up and Start Again\n",
      "Our Band Could Be Your Life: Scenes from the American Indie Underground, 1981-1991\n",
      "Olio\n",
      "Mesaerion: The Best Science Fiction Stories 1800-1849\n",
      "Libertarianism for Beginners\n",
      "It's Only the Himalayas\n"
     ]
    }
   ],
   "source": [
    "\n",
    "soup = BeautifulSoup(res.text, \"lxml\")\n",
    "books = soup.find_all(\"h3\")\n",
    "\n",
    "for book in books:\n",
    "    print(book.find(\"a\")[\"title\"])"
   ]
  },
  {
   "cell_type": "markdown",
   "metadata": {
    "id": "706fEVCsrGGX"
   },
   "source": [
    "### 🎯 Ejercicio 3: Buscar libros con 5 estrellas  \n",
    "**Objetivo:** Filtrar elementos usando atributos de clase para identificar libros con calificación de 5 estrellas.\n"
   ]
  },
  {
   "cell_type": "code",
   "execution_count": null,
   "metadata": {
    "id": "1ZsVrtpprLcN"
   },
   "outputs": [],
   "source": [
    "five_star_books = soup.find_all(\"p\", class_=\"star-rating Five\")\n",
    "\n",
    "for tag in five_star_books:\n",
    "    title = tag.find_previous(\"h3\").find(\"a\")[\"title\"]\n",
    "    print(f\"🌟 {title}\")"
   ]
  },
  {
   "cell_type": "markdown",
   "metadata": {
    "id": "wv-EIUvxrYTV"
   },
   "source": [
    "### 💰 Ejercicio 4: Extraer precios usando expresiones regulares  \n",
    "**Objetivo:** Usar `re` para filtrar todos los precios que aparecen en el HTML."
   ]
  },
  {
   "cell_type": "code",
   "execution_count": null,
   "metadata": {
    "id": "zQbUsFrkn_tk"
   },
   "outputs": [],
   "source": [
    "\n",
    "prices = re.findall(r\"£\\d+\\.\\d{2}\", res.text)\n",
    "print(prices)"
   ]
  },
  {
   "cell_type": "markdown",
   "metadata": {
    "id": "vWKogy4SrhVK"
   },
   "source": [
    "### 📦 Ejercicio 5: Combina título y precio  \n",
    "**Objetivo:** Crear un pequeño script que imprima título y precio de cada libro."
   ]
  },
  {
   "cell_type": "code",
   "execution_count": 11,
   "metadata": {
    "colab": {
     "base_uri": "https://localhost:8080/"
    },
    "executionInfo": {
     "elapsed": 15,
     "status": "ok",
     "timestamp": 1749338441774,
     "user": {
      "displayName": "Roman Castillo",
      "userId": "03738236345711029424"
     },
     "user_tz": 360
    },
    "id": "CLhOD1ixrj_0",
    "outputId": "0b67a34a-99c9-4184-b202-32e02b260509"
   },
   "outputs": [
    {
     "name": "stdout",
     "output_type": "stream",
     "text": [
      "A Light in the Attic - Â£51.77\n",
      "Tipping the Velvet - Â£53.74\n",
      "Soumission - Â£50.10\n",
      "Sharp Objects - Â£47.82\n",
      "Sapiens: A Brief History of Humankind - Â£54.23\n",
      "The Requiem Red - Â£22.65\n",
      "The Dirty Little Secrets of Getting Your Dream Job - Â£33.34\n",
      "The Coming Woman: A Novel Based on the Life of the Infamous Feminist, Victoria Woodhull - Â£17.93\n",
      "The Boys in the Boat: Nine Americans and Their Epic Quest for Gold at the 1936 Berlin Olympics - Â£22.60\n",
      "The Black Maria - Â£52.15\n",
      "Starving Hearts (Triangular Trade Trilogy, #1) - Â£13.99\n",
      "Shakespeare's Sonnets - Â£20.66\n",
      "Set Me Free - Â£17.46\n",
      "Scott Pilgrim's Precious Little Life (Scott Pilgrim #1) - Â£52.29\n",
      "Rip it Up and Start Again - Â£35.02\n",
      "Our Band Could Be Your Life: Scenes from the American Indie Underground, 1981-1991 - Â£57.25\n",
      "Olio - Â£23.88\n",
      "Mesaerion: The Best Science Fiction Stories 1800-1849 - Â£37.59\n",
      "Libertarianism for Beginners - Â£51.33\n",
      "It's Only the Himalayas - Â£45.17\n"
     ]
    }
   ],
   "source": [
    "books = soup.find_all(\"article\", class_=\"product_pod\")\n",
    "\n",
    "for book in books:\n",
    "    title = book.h3.a[\"title\"]\n",
    "    price = book.find(\"p\", class_=\"price_color\").text\n",
    "    print(f\"{title} - {price}\")"
   ]
  },
  {
   "cell_type": "markdown",
   "metadata": {
    "id": "I90KU5Ozr0Q4"
   },
   "source": [
    "### 📂 Ejercicio 6: Obtener enlaces a detalles de cada libro  \n",
    "**Objetivo:** Extraer el atributo `href` de cada libro para obtener su URL individual.\n"
   ]
  },
  {
   "cell_type": "code",
   "execution_count": 12,
   "metadata": {
    "colab": {
     "base_uri": "https://localhost:8080/"
    },
    "executionInfo": {
     "elapsed": 17,
     "status": "ok",
     "timestamp": 1749338445875,
     "user": {
      "displayName": "Roman Castillo",
      "userId": "03738236345711029424"
     },
     "user_tz": 360
    },
    "id": "umEqMmAOr0D9",
    "outputId": "fed1098e-834b-4f16-99cb-9cbad4f5b50c"
   },
   "outputs": [
    {
     "name": "stdout",
     "output_type": "stream",
     "text": [
      "http://books.toscrape.com/catalogue/catalogue/a-light-in-the-attic_1000/index.html\n",
      "http://books.toscrape.com/catalogue/catalogue/tipping-the-velvet_999/index.html\n",
      "http://books.toscrape.com/catalogue/catalogue/soumission_998/index.html\n",
      "http://books.toscrape.com/catalogue/catalogue/sharp-objects_997/index.html\n",
      "http://books.toscrape.com/catalogue/catalogue/sapiens-a-brief-history-of-humankind_996/index.html\n",
      "http://books.toscrape.com/catalogue/catalogue/the-requiem-red_995/index.html\n",
      "http://books.toscrape.com/catalogue/catalogue/the-dirty-little-secrets-of-getting-your-dream-job_994/index.html\n",
      "http://books.toscrape.com/catalogue/catalogue/the-coming-woman-a-novel-based-on-the-life-of-the-infamous-feminist-victoria-woodhull_993/index.html\n",
      "http://books.toscrape.com/catalogue/catalogue/the-boys-in-the-boat-nine-americans-and-their-epic-quest-for-gold-at-the-1936-berlin-olympics_992/index.html\n",
      "http://books.toscrape.com/catalogue/catalogue/the-black-maria_991/index.html\n",
      "http://books.toscrape.com/catalogue/catalogue/starving-hearts-triangular-trade-trilogy-1_990/index.html\n",
      "http://books.toscrape.com/catalogue/catalogue/shakespeares-sonnets_989/index.html\n",
      "http://books.toscrape.com/catalogue/catalogue/set-me-free_988/index.html\n",
      "http://books.toscrape.com/catalogue/catalogue/scott-pilgrims-precious-little-life-scott-pilgrim-1_987/index.html\n",
      "http://books.toscrape.com/catalogue/catalogue/rip-it-up-and-start-again_986/index.html\n",
      "http://books.toscrape.com/catalogue/catalogue/our-band-could-be-your-life-scenes-from-the-american-indie-underground-1981-1991_985/index.html\n",
      "http://books.toscrape.com/catalogue/catalogue/olio_984/index.html\n",
      "http://books.toscrape.com/catalogue/catalogue/mesaerion-the-best-science-fiction-stories-1800-1849_983/index.html\n",
      "http://books.toscrape.com/catalogue/catalogue/libertarianism-for-beginners_982/index.html\n",
      "http://books.toscrape.com/catalogue/catalogue/its-only-the-himalayas_981/index.html\n"
     ]
    }
   ],
   "source": [
    "base_url = \"http://books.toscrape.com/catalogue/\"\n",
    "for book in books:\n",
    "    relative_link = book.h3.a[\"href\"]\n",
    "    print(base_url + relative_link.replace('../../../', ''))"
   ]
  },
  {
   "cell_type": "markdown",
   "metadata": {
    "id": "mZRY6wxdr3qn"
   },
   "source": [
    "### 🧹 Ejercicio 7: Filtrar libros con título que contenga una palabra clave  \n",
    "**Objetivo:** Usar regex para encontrar libros que contengan, por ejemplo, la palabra \"Python\".\n"
   ]
  },
  {
   "cell_type": "code",
   "execution_count": 15,
   "metadata": {
    "colab": {
     "base_uri": "https://localhost:8080/"
    },
    "executionInfo": {
     "elapsed": 13,
     "status": "ok",
     "timestamp": 1749338463915,
     "user": {
      "displayName": "Roman Castillo",
      "userId": "03738236345711029424"
     },
     "user_tz": 360
    },
    "id": "hcjIslSVr5o9",
    "outputId": "7a554a9e-50dc-4272-c71f-59f4d464e79d"
   },
   "outputs": [
    {
     "name": "stdout",
     "output_type": "stream",
     "text": [
      "📘 The Dirty Little Secrets of Getting Your Dream Job\n"
     ]
    }
   ],
   "source": [
    "pattern = re.compile(r\"secret\", re.IGNORECASE)\n",
    "\n",
    "for book in books:\n",
    "    title = book.h3.a[\"title\"]\n",
    "    if pattern.search(title):\n",
    "        print(f\"📘 {title}\")"
   ]
  },
  {
   "cell_type": "markdown",
   "metadata": {
    "id": "uS1-ZxmTr-xH"
   },
   "source": [
    "### 🔢 Ejercicio 8: Contar cuántos libros tienen 3, 4 o 5 estrellas  \n",
    "**Objetivo:** Contar y clasificar libros según la cantidad de estrellas.\n"
   ]
  },
  {
   "cell_type": "code",
   "execution_count": 16,
   "metadata": {
    "colab": {
     "base_uri": "https://localhost:8080/"
    },
    "executionInfo": {
     "elapsed": 45,
     "status": "ok",
     "timestamp": 1749338547444,
     "user": {
      "displayName": "Roman Castillo",
      "userId": "03738236345711029424"
     },
     "user_tz": 360
    },
    "id": "-I1NqzkKr_Z_",
    "outputId": "46767be7-9b42-4bc0-8a5c-184cb9b7f020"
   },
   "outputs": [
    {
     "name": "stdout",
     "output_type": "stream",
     "text": [
      "⭐ Three stars: 3 libros\n",
      "⭐ Four stars: 4 libros\n",
      "⭐ Five stars: 4 libros\n"
     ]
    }
   ],
   "source": [
    "ratings = [\"Three\", \"Four\", \"Five\"]\n",
    "for rating in ratings:\n",
    "    count = len(soup.find_all(\"p\", class_=\"star-rating \" + rating))\n",
    "    print(f\"⭐ {rating} stars: {count} libros\")"
   ]
  },
  {
   "cell_type": "markdown",
   "metadata": {
    "id": "_VPEmXgssBcs"
   },
   "source": [
    "### 📝 Ejercicio 9: Guardar los títulos y precios en un archivo CSV  \n",
    "**Objetivo:** Practicar exportación de datos.\n"
   ]
  },
  {
   "cell_type": "code",
   "execution_count": 17,
   "metadata": {
    "executionInfo": {
     "elapsed": 14,
     "status": "ok",
     "timestamp": 1749338551094,
     "user": {
      "displayName": "Roman Castillo",
      "userId": "03738236345711029424"
     },
     "user_tz": 360
    },
    "id": "3S3jVn96sDk1"
   },
   "outputs": [],
   "source": [
    "with open(\"libros.csv\", mode=\"w\", newline=\"\") as file:\n",
    "    writer = csv.writer(file)\n",
    "    writer.writerow([\"Título\", \"Precio\"])\n",
    "    for book in books:\n",
    "        title = book.h3.a[\"title\"]\n",
    "        price = book.find(\"p\", class_=\"price_color\").text\n",
    "        writer.writerow([title, price])"
   ]
  },
  {
   "cell_type": "markdown",
   "metadata": {
    "id": "71bJJlg3toBx"
   },
   "source": [
    "### 🧮 Ejercicio 10: Convertir los datos en un DataFrame  \n",
    "**Objetivo:** Crear un `DataFrame` con columnas para título, precio y calificación.\n"
   ]
  },
  {
   "cell_type": "code",
   "execution_count": 24,
   "metadata": {
    "colab": {
     "base_uri": "https://localhost:8080/",
     "height": 676
    },
    "executionInfo": {
     "elapsed": 132,
     "status": "ok",
     "timestamp": 1749338785995,
     "user": {
      "displayName": "Roman Castillo",
      "userId": "03738236345711029424"
     },
     "user_tz": 360
    },
    "id": "faTiiismtP96",
    "outputId": "748fe0b1-c435-4a6d-b1e5-4d6b36d8f6dd"
   },
   "outputs": [
    {
     "data": {
      "application/vnd.google.colaboratory.intrinsic+json": {
       "summary": "{\n  \"name\": \"df\",\n  \"rows\": 20,\n  \"fields\": [\n    {\n      \"column\": \"T\\u00edtulo\",\n      \"properties\": {\n        \"dtype\": \"string\",\n        \"num_unique_values\": 20,\n        \"samples\": [\n          \"A Light in the Attic\",\n          \"Mesaerion: The Best Science Fiction Stories 1800-1849\",\n          \"Our Band Could Be Your Life: Scenes from the American Indie Underground, 1981-1991\"\n        ],\n        \"semantic_type\": \"\",\n        \"description\": \"\"\n      }\n    },\n    {\n      \"column\": \"Precio\",\n      \"properties\": {\n        \"dtype\": \"string\",\n        \"num_unique_values\": 20,\n        \"samples\": [\n          \"\\u00c2\\u00a351.77\",\n          \"\\u00c2\\u00a337.59\",\n          \"\\u00c2\\u00a357.25\"\n        ],\n        \"semantic_type\": \"\",\n        \"description\": \"\"\n      }\n    },\n    {\n      \"column\": \"Estrellas\",\n      \"properties\": {\n        \"dtype\": \"category\",\n        \"num_unique_values\": 5,\n        \"samples\": [\n          \"One\",\n          \"Two\",\n          \"Four\"\n        ],\n        \"semantic_type\": \"\",\n        \"description\": \"\"\n      }\n    }\n  ]\n}",
       "type": "dataframe",
       "variable_name": "df"
      },
      "text/html": [
       "\n",
       "  <div id=\"df-5d866f05-9c51-404b-8dbd-6c936d93a5bd\" class=\"colab-df-container\">\n",
       "    <div>\n",
       "<style scoped>\n",
       "    .dataframe tbody tr th:only-of-type {\n",
       "        vertical-align: middle;\n",
       "    }\n",
       "\n",
       "    .dataframe tbody tr th {\n",
       "        vertical-align: top;\n",
       "    }\n",
       "\n",
       "    .dataframe thead th {\n",
       "        text-align: right;\n",
       "    }\n",
       "</style>\n",
       "<table border=\"1\" class=\"dataframe\">\n",
       "  <thead>\n",
       "    <tr style=\"text-align: right;\">\n",
       "      <th></th>\n",
       "      <th>Título</th>\n",
       "      <th>Precio</th>\n",
       "      <th>Estrellas</th>\n",
       "    </tr>\n",
       "  </thead>\n",
       "  <tbody>\n",
       "    <tr>\n",
       "      <th>0</th>\n",
       "      <td>A Light in the Attic</td>\n",
       "      <td>Â£51.77</td>\n",
       "      <td>Three</td>\n",
       "    </tr>\n",
       "    <tr>\n",
       "      <th>1</th>\n",
       "      <td>Tipping the Velvet</td>\n",
       "      <td>Â£53.74</td>\n",
       "      <td>One</td>\n",
       "    </tr>\n",
       "    <tr>\n",
       "      <th>2</th>\n",
       "      <td>Soumission</td>\n",
       "      <td>Â£50.10</td>\n",
       "      <td>One</td>\n",
       "    </tr>\n",
       "    <tr>\n",
       "      <th>3</th>\n",
       "      <td>Sharp Objects</td>\n",
       "      <td>Â£47.82</td>\n",
       "      <td>Four</td>\n",
       "    </tr>\n",
       "    <tr>\n",
       "      <th>4</th>\n",
       "      <td>Sapiens: A Brief History of Humankind</td>\n",
       "      <td>Â£54.23</td>\n",
       "      <td>Five</td>\n",
       "    </tr>\n",
       "    <tr>\n",
       "      <th>5</th>\n",
       "      <td>The Requiem Red</td>\n",
       "      <td>Â£22.65</td>\n",
       "      <td>One</td>\n",
       "    </tr>\n",
       "    <tr>\n",
       "      <th>6</th>\n",
       "      <td>The Dirty Little Secrets of Getting Your Dream...</td>\n",
       "      <td>Â£33.34</td>\n",
       "      <td>Four</td>\n",
       "    </tr>\n",
       "    <tr>\n",
       "      <th>7</th>\n",
       "      <td>The Coming Woman: A Novel Based on the Life of...</td>\n",
       "      <td>Â£17.93</td>\n",
       "      <td>Three</td>\n",
       "    </tr>\n",
       "    <tr>\n",
       "      <th>8</th>\n",
       "      <td>The Boys in the Boat: Nine Americans and Their...</td>\n",
       "      <td>Â£22.60</td>\n",
       "      <td>Four</td>\n",
       "    </tr>\n",
       "    <tr>\n",
       "      <th>9</th>\n",
       "      <td>The Black Maria</td>\n",
       "      <td>Â£52.15</td>\n",
       "      <td>One</td>\n",
       "    </tr>\n",
       "    <tr>\n",
       "      <th>10</th>\n",
       "      <td>Starving Hearts (Triangular Trade Trilogy, #1)</td>\n",
       "      <td>Â£13.99</td>\n",
       "      <td>Two</td>\n",
       "    </tr>\n",
       "    <tr>\n",
       "      <th>11</th>\n",
       "      <td>Shakespeare's Sonnets</td>\n",
       "      <td>Â£20.66</td>\n",
       "      <td>Four</td>\n",
       "    </tr>\n",
       "    <tr>\n",
       "      <th>12</th>\n",
       "      <td>Set Me Free</td>\n",
       "      <td>Â£17.46</td>\n",
       "      <td>Five</td>\n",
       "    </tr>\n",
       "    <tr>\n",
       "      <th>13</th>\n",
       "      <td>Scott Pilgrim's Precious Little Life (Scott Pi...</td>\n",
       "      <td>Â£52.29</td>\n",
       "      <td>Five</td>\n",
       "    </tr>\n",
       "    <tr>\n",
       "      <th>14</th>\n",
       "      <td>Rip it Up and Start Again</td>\n",
       "      <td>Â£35.02</td>\n",
       "      <td>Five</td>\n",
       "    </tr>\n",
       "    <tr>\n",
       "      <th>15</th>\n",
       "      <td>Our Band Could Be Your Life: Scenes from the A...</td>\n",
       "      <td>Â£57.25</td>\n",
       "      <td>Three</td>\n",
       "    </tr>\n",
       "    <tr>\n",
       "      <th>16</th>\n",
       "      <td>Olio</td>\n",
       "      <td>Â£23.88</td>\n",
       "      <td>One</td>\n",
       "    </tr>\n",
       "    <tr>\n",
       "      <th>17</th>\n",
       "      <td>Mesaerion: The Best Science Fiction Stories 18...</td>\n",
       "      <td>Â£37.59</td>\n",
       "      <td>One</td>\n",
       "    </tr>\n",
       "    <tr>\n",
       "      <th>18</th>\n",
       "      <td>Libertarianism for Beginners</td>\n",
       "      <td>Â£51.33</td>\n",
       "      <td>Two</td>\n",
       "    </tr>\n",
       "    <tr>\n",
       "      <th>19</th>\n",
       "      <td>It's Only the Himalayas</td>\n",
       "      <td>Â£45.17</td>\n",
       "      <td>Two</td>\n",
       "    </tr>\n",
       "  </tbody>\n",
       "</table>\n",
       "</div>\n",
       "    <div class=\"colab-df-buttons\">\n",
       "\n",
       "  <div class=\"colab-df-container\">\n",
       "    <button class=\"colab-df-convert\" onclick=\"convertToInteractive('df-5d866f05-9c51-404b-8dbd-6c936d93a5bd')\"\n",
       "            title=\"Convert this dataframe to an interactive table.\"\n",
       "            style=\"display:none;\">\n",
       "\n",
       "  <svg xmlns=\"http://www.w3.org/2000/svg\" height=\"24px\" viewBox=\"0 -960 960 960\">\n",
       "    <path d=\"M120-120v-720h720v720H120Zm60-500h600v-160H180v160Zm220 220h160v-160H400v160Zm0 220h160v-160H400v160ZM180-400h160v-160H180v160Zm440 0h160v-160H620v160ZM180-180h160v-160H180v160Zm440 0h160v-160H620v160Z\"/>\n",
       "  </svg>\n",
       "    </button>\n",
       "\n",
       "  <style>\n",
       "    .colab-df-container {\n",
       "      display:flex;\n",
       "      gap: 12px;\n",
       "    }\n",
       "\n",
       "    .colab-df-convert {\n",
       "      background-color: #E8F0FE;\n",
       "      border: none;\n",
       "      border-radius: 50%;\n",
       "      cursor: pointer;\n",
       "      display: none;\n",
       "      fill: #1967D2;\n",
       "      height: 32px;\n",
       "      padding: 0 0 0 0;\n",
       "      width: 32px;\n",
       "    }\n",
       "\n",
       "    .colab-df-convert:hover {\n",
       "      background-color: #E2EBFA;\n",
       "      box-shadow: 0px 1px 2px rgba(60, 64, 67, 0.3), 0px 1px 3px 1px rgba(60, 64, 67, 0.15);\n",
       "      fill: #174EA6;\n",
       "    }\n",
       "\n",
       "    .colab-df-buttons div {\n",
       "      margin-bottom: 4px;\n",
       "    }\n",
       "\n",
       "    [theme=dark] .colab-df-convert {\n",
       "      background-color: #3B4455;\n",
       "      fill: #D2E3FC;\n",
       "    }\n",
       "\n",
       "    [theme=dark] .colab-df-convert:hover {\n",
       "      background-color: #434B5C;\n",
       "      box-shadow: 0px 1px 3px 1px rgba(0, 0, 0, 0.15);\n",
       "      filter: drop-shadow(0px 1px 2px rgba(0, 0, 0, 0.3));\n",
       "      fill: #FFFFFF;\n",
       "    }\n",
       "  </style>\n",
       "\n",
       "    <script>\n",
       "      const buttonEl =\n",
       "        document.querySelector('#df-5d866f05-9c51-404b-8dbd-6c936d93a5bd button.colab-df-convert');\n",
       "      buttonEl.style.display =\n",
       "        google.colab.kernel.accessAllowed ? 'block' : 'none';\n",
       "\n",
       "      async function convertToInteractive(key) {\n",
       "        const element = document.querySelector('#df-5d866f05-9c51-404b-8dbd-6c936d93a5bd');\n",
       "        const dataTable =\n",
       "          await google.colab.kernel.invokeFunction('convertToInteractive',\n",
       "                                                    [key], {});\n",
       "        if (!dataTable) return;\n",
       "\n",
       "        const docLinkHtml = 'Like what you see? Visit the ' +\n",
       "          '<a target=\"_blank\" href=https://colab.research.google.com/notebooks/data_table.ipynb>data table notebook</a>'\n",
       "          + ' to learn more about interactive tables.';\n",
       "        element.innerHTML = '';\n",
       "        dataTable['output_type'] = 'display_data';\n",
       "        await google.colab.output.renderOutput(dataTable, element);\n",
       "        const docLink = document.createElement('div');\n",
       "        docLink.innerHTML = docLinkHtml;\n",
       "        element.appendChild(docLink);\n",
       "      }\n",
       "    </script>\n",
       "  </div>\n",
       "\n",
       "\n",
       "    <div id=\"df-d8b13f87-4d79-419e-9d10-c00832e60c41\">\n",
       "      <button class=\"colab-df-quickchart\" onclick=\"quickchart('df-d8b13f87-4d79-419e-9d10-c00832e60c41')\"\n",
       "                title=\"Suggest charts\"\n",
       "                style=\"display:none;\">\n",
       "\n",
       "<svg xmlns=\"http://www.w3.org/2000/svg\" height=\"24px\"viewBox=\"0 0 24 24\"\n",
       "     width=\"24px\">\n",
       "    <g>\n",
       "        <path d=\"M19 3H5c-1.1 0-2 .9-2 2v14c0 1.1.9 2 2 2h14c1.1 0 2-.9 2-2V5c0-1.1-.9-2-2-2zM9 17H7v-7h2v7zm4 0h-2V7h2v10zm4 0h-2v-4h2v4z\"/>\n",
       "    </g>\n",
       "</svg>\n",
       "      </button>\n",
       "\n",
       "<style>\n",
       "  .colab-df-quickchart {\n",
       "      --bg-color: #E8F0FE;\n",
       "      --fill-color: #1967D2;\n",
       "      --hover-bg-color: #E2EBFA;\n",
       "      --hover-fill-color: #174EA6;\n",
       "      --disabled-fill-color: #AAA;\n",
       "      --disabled-bg-color: #DDD;\n",
       "  }\n",
       "\n",
       "  [theme=dark] .colab-df-quickchart {\n",
       "      --bg-color: #3B4455;\n",
       "      --fill-color: #D2E3FC;\n",
       "      --hover-bg-color: #434B5C;\n",
       "      --hover-fill-color: #FFFFFF;\n",
       "      --disabled-bg-color: #3B4455;\n",
       "      --disabled-fill-color: #666;\n",
       "  }\n",
       "\n",
       "  .colab-df-quickchart {\n",
       "    background-color: var(--bg-color);\n",
       "    border: none;\n",
       "    border-radius: 50%;\n",
       "    cursor: pointer;\n",
       "    display: none;\n",
       "    fill: var(--fill-color);\n",
       "    height: 32px;\n",
       "    padding: 0;\n",
       "    width: 32px;\n",
       "  }\n",
       "\n",
       "  .colab-df-quickchart:hover {\n",
       "    background-color: var(--hover-bg-color);\n",
       "    box-shadow: 0 1px 2px rgba(60, 64, 67, 0.3), 0 1px 3px 1px rgba(60, 64, 67, 0.15);\n",
       "    fill: var(--button-hover-fill-color);\n",
       "  }\n",
       "\n",
       "  .colab-df-quickchart-complete:disabled,\n",
       "  .colab-df-quickchart-complete:disabled:hover {\n",
       "    background-color: var(--disabled-bg-color);\n",
       "    fill: var(--disabled-fill-color);\n",
       "    box-shadow: none;\n",
       "  }\n",
       "\n",
       "  .colab-df-spinner {\n",
       "    border: 2px solid var(--fill-color);\n",
       "    border-color: transparent;\n",
       "    border-bottom-color: var(--fill-color);\n",
       "    animation:\n",
       "      spin 1s steps(1) infinite;\n",
       "  }\n",
       "\n",
       "  @keyframes spin {\n",
       "    0% {\n",
       "      border-color: transparent;\n",
       "      border-bottom-color: var(--fill-color);\n",
       "      border-left-color: var(--fill-color);\n",
       "    }\n",
       "    20% {\n",
       "      border-color: transparent;\n",
       "      border-left-color: var(--fill-color);\n",
       "      border-top-color: var(--fill-color);\n",
       "    }\n",
       "    30% {\n",
       "      border-color: transparent;\n",
       "      border-left-color: var(--fill-color);\n",
       "      border-top-color: var(--fill-color);\n",
       "      border-right-color: var(--fill-color);\n",
       "    }\n",
       "    40% {\n",
       "      border-color: transparent;\n",
       "      border-right-color: var(--fill-color);\n",
       "      border-top-color: var(--fill-color);\n",
       "    }\n",
       "    60% {\n",
       "      border-color: transparent;\n",
       "      border-right-color: var(--fill-color);\n",
       "    }\n",
       "    80% {\n",
       "      border-color: transparent;\n",
       "      border-right-color: var(--fill-color);\n",
       "      border-bottom-color: var(--fill-color);\n",
       "    }\n",
       "    90% {\n",
       "      border-color: transparent;\n",
       "      border-bottom-color: var(--fill-color);\n",
       "    }\n",
       "  }\n",
       "</style>\n",
       "\n",
       "      <script>\n",
       "        async function quickchart(key) {\n",
       "          const quickchartButtonEl =\n",
       "            document.querySelector('#' + key + ' button');\n",
       "          quickchartButtonEl.disabled = true;  // To prevent multiple clicks.\n",
       "          quickchartButtonEl.classList.add('colab-df-spinner');\n",
       "          try {\n",
       "            const charts = await google.colab.kernel.invokeFunction(\n",
       "                'suggestCharts', [key], {});\n",
       "          } catch (error) {\n",
       "            console.error('Error during call to suggestCharts:', error);\n",
       "          }\n",
       "          quickchartButtonEl.classList.remove('colab-df-spinner');\n",
       "          quickchartButtonEl.classList.add('colab-df-quickchart-complete');\n",
       "        }\n",
       "        (() => {\n",
       "          let quickchartButtonEl =\n",
       "            document.querySelector('#df-d8b13f87-4d79-419e-9d10-c00832e60c41 button');\n",
       "          quickchartButtonEl.style.display =\n",
       "            google.colab.kernel.accessAllowed ? 'block' : 'none';\n",
       "        })();\n",
       "      </script>\n",
       "    </div>\n",
       "\n",
       "  <div id=\"id_46af0d3f-1908-48dd-89af-be16960d1fb9\">\n",
       "    <style>\n",
       "      .colab-df-generate {\n",
       "        background-color: #E8F0FE;\n",
       "        border: none;\n",
       "        border-radius: 50%;\n",
       "        cursor: pointer;\n",
       "        display: none;\n",
       "        fill: #1967D2;\n",
       "        height: 32px;\n",
       "        padding: 0 0 0 0;\n",
       "        width: 32px;\n",
       "      }\n",
       "\n",
       "      .colab-df-generate:hover {\n",
       "        background-color: #E2EBFA;\n",
       "        box-shadow: 0px 1px 2px rgba(60, 64, 67, 0.3), 0px 1px 3px 1px rgba(60, 64, 67, 0.15);\n",
       "        fill: #174EA6;\n",
       "      }\n",
       "\n",
       "      [theme=dark] .colab-df-generate {\n",
       "        background-color: #3B4455;\n",
       "        fill: #D2E3FC;\n",
       "      }\n",
       "\n",
       "      [theme=dark] .colab-df-generate:hover {\n",
       "        background-color: #434B5C;\n",
       "        box-shadow: 0px 1px 3px 1px rgba(0, 0, 0, 0.15);\n",
       "        filter: drop-shadow(0px 1px 2px rgba(0, 0, 0, 0.3));\n",
       "        fill: #FFFFFF;\n",
       "      }\n",
       "    </style>\n",
       "    <button class=\"colab-df-generate\" onclick=\"generateWithVariable('df')\"\n",
       "            title=\"Generate code using this dataframe.\"\n",
       "            style=\"display:none;\">\n",
       "\n",
       "  <svg xmlns=\"http://www.w3.org/2000/svg\" height=\"24px\"viewBox=\"0 0 24 24\"\n",
       "       width=\"24px\">\n",
       "    <path d=\"M7,19H8.4L18.45,9,17,7.55,7,17.6ZM5,21V16.75L18.45,3.32a2,2,0,0,1,2.83,0l1.4,1.43a1.91,1.91,0,0,1,.58,1.4,1.91,1.91,0,0,1-.58,1.4L9.25,21ZM18.45,9,17,7.55Zm-12,3A5.31,5.31,0,0,0,4.9,8.1,5.31,5.31,0,0,0,1,6.5,5.31,5.31,0,0,0,4.9,4.9,5.31,5.31,0,0,0,6.5,1,5.31,5.31,0,0,0,8.1,4.9,5.31,5.31,0,0,0,12,6.5,5.46,5.46,0,0,0,6.5,12Z\"/>\n",
       "  </svg>\n",
       "    </button>\n",
       "    <script>\n",
       "      (() => {\n",
       "      const buttonEl =\n",
       "        document.querySelector('#id_46af0d3f-1908-48dd-89af-be16960d1fb9 button.colab-df-generate');\n",
       "      buttonEl.style.display =\n",
       "        google.colab.kernel.accessAllowed ? 'block' : 'none';\n",
       "\n",
       "      buttonEl.onclick = () => {\n",
       "        google.colab.notebook.generateWithVariable('df');\n",
       "      }\n",
       "      })();\n",
       "    </script>\n",
       "  </div>\n",
       "\n",
       "    </div>\n",
       "  </div>\n"
      ],
      "text/plain": [
       "                                               Título   Precio Estrellas\n",
       "0                                A Light in the Attic  Â£51.77     Three\n",
       "1                                  Tipping the Velvet  Â£53.74       One\n",
       "2                                          Soumission  Â£50.10       One\n",
       "3                                       Sharp Objects  Â£47.82      Four\n",
       "4               Sapiens: A Brief History of Humankind  Â£54.23      Five\n",
       "5                                     The Requiem Red  Â£22.65       One\n",
       "6   The Dirty Little Secrets of Getting Your Dream...  Â£33.34      Four\n",
       "7   The Coming Woman: A Novel Based on the Life of...  Â£17.93     Three\n",
       "8   The Boys in the Boat: Nine Americans and Their...  Â£22.60      Four\n",
       "9                                     The Black Maria  Â£52.15       One\n",
       "10     Starving Hearts (Triangular Trade Trilogy, #1)  Â£13.99       Two\n",
       "11                              Shakespeare's Sonnets  Â£20.66      Four\n",
       "12                                        Set Me Free  Â£17.46      Five\n",
       "13  Scott Pilgrim's Precious Little Life (Scott Pi...  Â£52.29      Five\n",
       "14                          Rip it Up and Start Again  Â£35.02      Five\n",
       "15  Our Band Could Be Your Life: Scenes from the A...  Â£57.25     Three\n",
       "16                                               Olio  Â£23.88       One\n",
       "17  Mesaerion: The Best Science Fiction Stories 18...  Â£37.59       One\n",
       "18                       Libertarianism for Beginners  Â£51.33       Two\n",
       "19                            It's Only the Himalayas  Â£45.17       Two"
      ]
     },
     "execution_count": 24,
     "metadata": {},
     "output_type": "execute_result"
    }
   ],
   "source": [
    "data = []\n",
    "for book in books:\n",
    "    title = book.h3.a[\"title\"]\n",
    "    price = book.find(\"p\", class_=\"price_color\").text.strip(\"£\")\n",
    "    rating_class = book.find(\"p\")[\"class\"]\n",
    "    rating = rating_class[1] if len(rating_class) > 1 else \"No rating\"\n",
    "    data.append({\"Título\": title, \"Precio\": price, \"Estrellas\": rating})\n",
    "\n",
    "df = pd.DataFrame(data)\n",
    "df"
   ]
  },
  {
   "cell_type": "markdown",
   "metadata": {
    "id": "pLvX0Hx5dfse"
   },
   "source": [
    "\n",
    "### 📊 Ejercicio 10: Calcular el precio promedio de los libros de la portada  \n",
    "**Objetivo:** Convertir los precios a float y calcular el promedio."
   ]
  },
  {
   "cell_type": "markdown",
   "metadata": {
    "id": "KhtSkPV2eI-g"
   },
   "source": [
    "# API's"
   ]
  },
  {
   "cell_type": "markdown",
   "metadata": {
    "id": "Lwcn2W5weGgm"
   },
   "source": [
    "**🔗 ¿Qué es una API?**  \n",
    "Una API (Interfaz de Programación de Aplicaciones) es un conjunto de reglas que permite que dos programas se comuniquen entre sí. En el contexto del análisis de datos, las APIs permiten acceder a información alojada en servidores externos de forma estructurada, rápida y segura, sin tener que extraer datos directamente desde el HTML de una página web. Usar una API es como hacer una solicitud en un restaurante: tú pides (por ejemplo, el clima de hoy) y el servidor te responde con exactamente lo que necesitas, en un formato limpio como JSON o XML.\n",
    "\n",
    "---\n",
    "\n",
    "**📋 Tipos de llamadas HTTP comunes en una API**\n",
    "\n",
    "| Método | Descripción | Uso común |\n",
    "|--------|-------------|-----------|\n",
    "| `GET`    | Solicita datos desde el servidor | Obtener información (lectura) |\n",
    "| `POST`   | Envía datos al servidor | Crear un nuevo recurso |\n",
    "| `PUT`    | Reemplaza un recurso existente | Actualizar por completo un dato |\n",
    "| `PATCH`  | Modifica parcialmente un recurso | Editar parte de la información |\n",
    "| `DELETE` | Elimina un recurso | Borrar datos del servidor |\n"
   ]
  },
  {
   "cell_type": "markdown",
   "metadata": {
    "id": "P2K72_GzelFc"
   },
   "source": [
    "**🗂️ ¿Qué es el formato JSON y por qué es tan usado en APIs?**  \n",
    "JSON (JavaScript Object Notation) es un formato ligero y estructurado para intercambiar datos. Se basa en pares clave-valor, muy parecido a los diccionarios en Python o los objetos en JavaScript. Su sintaxis sencilla lo hace fácil de leer para los humanos y muy eficiente para las máquinas. 🌍\n",
    "\n",
    "JSON se ha convertido en el formato preferido para las respuestas de muchas APIs porque permite transmitir información de forma clara, compacta y estandarizada. Cuando haces una llamada a una API, por ejemplo para obtener datos del clima o los detalles de un producto, el servidor suele responder con un objeto JSON. Esto facilita el procesamiento de los datos en aplicaciones web, móviles o scripts de análisis. Su amplia compatibilidad con casi todos los lenguajes de programación modernos ha hecho que JSON sea adoptado de manera masiva en el desarrollo de software y análisis de datos. 🔄📡\n"
   ]
  },
  {
   "cell_type": "markdown",
   "metadata": {
    "id": "4hlZ-XfQfoS_"
   },
   "source": [
    "## 🧪 Práctica con JSONPlaceholder API (GET y POST)\n",
    "\n",
    "Trabajaremos con la API pública [https://jsonplaceholder.typicode.com](https://jsonplaceholder.typicode.com), que simula el comportamiento de una API REST real. Los recursos disponibles incluyen `posts`, `comments`, `users`, entre otros."
   ]
  },
  {
   "cell_type": "markdown",
   "metadata": {
    "id": "idRqaFzTfvtA"
   },
   "source": [
    "### 🔍 Ejercicio 1: Obtener todas las publicaciones\n",
    "**Objetivo:** Usar `requests.get()` para obtener una lista de publicaciones.\n",
    "\n"
   ]
  },
  {
   "cell_type": "code",
   "execution_count": 2,
   "metadata": {
    "colab": {
     "base_uri": "https://localhost:8080/"
    },
    "executionInfo": {
     "elapsed": 72,
     "status": "ok",
     "timestamp": 1749352108737,
     "user": {
      "displayName": "Roman Castillo",
      "userId": "03738236345711029424"
     },
     "user_tz": 360
    },
    "id": "KAglkwG_f4jU",
    "outputId": "989ef8d7-898f-4928-e3c6-178b79304fc9"
   },
   "outputs": [
    {
     "name": "stdout",
     "output_type": "stream",
     "text": [
      "200\n",
      "[{'userId': 1, 'id': 1, 'title': 'sunt aut facere repellat provident occaecati excepturi optio reprehenderit', 'body': 'quia et suscipit\\nsuscipit recusandae consequuntur expedita et cum\\nreprehenderit molestiae ut ut quas totam\\nnostrum rerum est autem sunt rem eveniet architecto'}, {'userId': 1, 'id': 2, 'title': 'qui est esse', 'body': 'est rerum tempore vitae\\nsequi sint nihil reprehenderit dolor beatae ea dolores neque\\nfugiat blanditiis voluptate porro vel nihil molestiae ut reiciendis\\nqui aperiam non debitis possimus qui neque nisi nulla'}, {'userId': 1, 'id': 3, 'title': 'ea molestias quasi exercitationem repellat qui ipsa sit aut', 'body': 'et iusto sed quo iure\\nvoluptatem occaecati omnis eligendi aut ad\\nvoluptatem doloribus vel accusantium quis pariatur\\nmolestiae porro eius odio et labore et velit aut'}]\n"
     ]
    }
   ],
   "source": [
    "\n",
    "url = \"https://jsonplaceholder.typicode.com/posts\"\n",
    "res = requests.get(url)\n",
    "\n",
    "print(res.status_code)\n",
    "print(res.json()[:3])  # Muestra las primeras 3 publicaciones"
   ]
  },
  {
   "cell_type": "markdown",
   "metadata": {
    "id": "-71PGaaPf_TE"
   },
   "source": [
    "### 💬 Ejercicio 3: Obtener todos los comentarios de una publicación  \n",
    "**Objetivo:** Usar parámetros en la URL para filtrar comentarios."
   ]
  },
  {
   "cell_type": "code",
   "execution_count": 3,
   "metadata": {
    "colab": {
     "base_uri": "https://localhost:8080/"
    },
    "executionInfo": {
     "elapsed": 251,
     "status": "ok",
     "timestamp": 1749352117319,
     "user": {
      "displayName": "Roman Castillo",
      "userId": "03738236345711029424"
     },
     "user_tz": 360
    },
    "id": "mfrqzHFdgBsh",
    "outputId": "18c85b8a-c43a-4cc8-ced3-30f0a6aef20d"
   },
   "outputs": [
    {
     "name": "stdout",
     "output_type": "stream",
     "text": [
      "Eliseo@gardner.biz - laudantium enim quasi est quidem magnam  ...\n",
      "Jayne_Kuhic@sydney.com - est natus enim nihil est dolore omnis vo ...\n",
      "Nikita@garfield.biz - quia molestiae reprehenderit quasi asper ...\n",
      "Lew@alysha.tv - non et atque\n",
      "occaecati deserunt quas acc ...\n",
      "Hayden@althea.biz - harum non quasi et ratione\n",
      "tempore iure  ...\n"
     ]
    }
   ],
   "source": [
    "params = {\"postId\": 1}\n",
    "res = requests.get(\"https://jsonplaceholder.typicode.com/comments\", params=params)\n",
    "\n",
    "for comment in res.json():\n",
    "    print(comment[\"email\"], \"-\", comment[\"body\"][:40], \"...\")"
   ]
  },
  {
   "cell_type": "markdown",
   "metadata": {
    "id": "X5_UQi_LgC8L"
   },
   "source": [
    "### 📝 Ejercicio 4: Crear una nueva publicación (POST)  \n",
    "**Objetivo:** Simular la creación de un post usando `requests.post()`."
   ]
  },
  {
   "cell_type": "code",
   "execution_count": 4,
   "metadata": {
    "colab": {
     "base_uri": "https://localhost:8080/"
    },
    "executionInfo": {
     "elapsed": 108,
     "status": "ok",
     "timestamp": 1749352124777,
     "user": {
      "displayName": "Roman Castillo",
      "userId": "03738236345711029424"
     },
     "user_tz": 360
    },
    "id": "kvU5HQeSgFO6",
    "outputId": "a6ba1118-d54a-4bf8-d15b-adc0f11ab17f"
   },
   "outputs": [
    {
     "name": "stdout",
     "output_type": "stream",
     "text": [
      "201\n",
      "{'title': 'Mi primer post', 'body': 'Este es un post de prueba para la clase.', 'userId': 1, 'id': 101}\n"
     ]
    }
   ],
   "source": [
    "payload = {\n",
    "    \"title\": \"Mi primer post\",\n",
    "    \"body\": \"Este es un post de prueba para la clase.\",\n",
    "    \"userId\": 1\n",
    "}\n",
    "\n",
    "res = requests.post(\"https://jsonplaceholder.typicode.com/posts\", json=payload)\n",
    "print(res.status_code)\n",
    "print(res.json())"
   ]
  },
  {
   "cell_type": "markdown",
   "metadata": {
    "id": "q7xz5zhZgILW"
   },
   "source": [
    "### 🧪 Ejercicio 5: Crear un comentario en una publicación  \n",
    "**Objetivo:** Simular un comentario nuevo con `POST`."
   ]
  },
  {
   "cell_type": "code",
   "execution_count": 5,
   "metadata": {
    "colab": {
     "base_uri": "https://localhost:8080/"
    },
    "executionInfo": {
     "elapsed": 243,
     "status": "ok",
     "timestamp": 1749352130894,
     "user": {
      "displayName": "Roman Castillo",
      "userId": "03738236345711029424"
     },
     "user_tz": 360
    },
    "id": "t89ja15hgKPv",
    "outputId": "769e6fce-f783-4c07-d670-1a8d0a47a801"
   },
   "outputs": [
    {
     "name": "stdout",
     "output_type": "stream",
     "text": [
      "{'postId': 1, 'name': 'Comentario de prueba', 'email': 'ejemplo@email.com', 'body': '¡Este es un comentario para practicar!', 'id': 501}\n"
     ]
    }
   ],
   "source": [
    "payload = {\n",
    "    \"postId\": 1,\n",
    "    \"name\": \"Comentario de prueba\",\n",
    "    \"email\": \"ejemplo@email.com\",\n",
    "    \"body\": \"¡Este es un comentario para practicar!\"\n",
    "}\n",
    "\n",
    "res = requests.post(\"https://jsonplaceholder.typicode.com/comments\", json=payload)\n",
    "print(res.json())"
   ]
  },
  {
   "cell_type": "markdown",
   "metadata": {
    "id": "x4_9CRAfgPdZ"
   },
   "source": [
    "### 🗃️ Ejercicio 6: Extraer publicaciones y convertirlas a DataFrame  \n",
    "**Objetivo:** Obtener publicaciones de un usuario y convertirlas en un DataFrame."
   ]
  },
  {
   "cell_type": "code",
   "execution_count": 7,
   "metadata": {
    "colab": {
     "base_uri": "https://localhost:8080/",
     "height": 206
    },
    "executionInfo": {
     "elapsed": 294,
     "status": "ok",
     "timestamp": 1749352141494,
     "user": {
      "displayName": "Roman Castillo",
      "userId": "03738236345711029424"
     },
     "user_tz": 360
    },
    "id": "9pmWh0rIgO7L",
    "outputId": "12c3e99e-b1e9-4b44-bd2c-d9efbc5208f2"
   },
   "outputs": [
    {
     "data": {
      "application/vnd.google.colaboratory.intrinsic+json": {
       "summary": "{\n  \"name\": \"df\",\n  \"rows\": 10,\n  \"fields\": [\n    {\n      \"column\": \"userId\",\n      \"properties\": {\n        \"dtype\": \"number\",\n        \"std\": 0,\n        \"min\": 2,\n        \"max\": 2,\n        \"num_unique_values\": 1,\n        \"samples\": [\n          2\n        ],\n        \"semantic_type\": \"\",\n        \"description\": \"\"\n      }\n    },\n    {\n      \"column\": \"id\",\n      \"properties\": {\n        \"dtype\": \"number\",\n        \"std\": 3,\n        \"min\": 11,\n        \"max\": 20,\n        \"num_unique_values\": 10,\n        \"samples\": [\n          19\n        ],\n        \"semantic_type\": \"\",\n        \"description\": \"\"\n      }\n    },\n    {\n      \"column\": \"title\",\n      \"properties\": {\n        \"dtype\": \"string\",\n        \"num_unique_values\": 10,\n        \"samples\": [\n          \"adipisci placeat illum aut reiciendis qui\"\n        ],\n        \"semantic_type\": \"\",\n        \"description\": \"\"\n      }\n    },\n    {\n      \"column\": \"body\",\n      \"properties\": {\n        \"dtype\": \"string\",\n        \"num_unique_values\": 10,\n        \"samples\": [\n          \"illum quis cupiditate provident sit magnam\\nea sed aut omnis\\nveniam maiores ullam consequatur atque\\nadipisci quo iste expedita sit quos voluptas\"\n        ],\n        \"semantic_type\": \"\",\n        \"description\": \"\"\n      }\n    }\n  ]\n}",
       "type": "dataframe",
       "variable_name": "df"
      },
      "text/html": [
       "\n",
       "  <div id=\"df-a47ac7b6-7ff2-49c6-bbde-b3d2f34e4c06\" class=\"colab-df-container\">\n",
       "    <div>\n",
       "<style scoped>\n",
       "    .dataframe tbody tr th:only-of-type {\n",
       "        vertical-align: middle;\n",
       "    }\n",
       "\n",
       "    .dataframe tbody tr th {\n",
       "        vertical-align: top;\n",
       "    }\n",
       "\n",
       "    .dataframe thead th {\n",
       "        text-align: right;\n",
       "    }\n",
       "</style>\n",
       "<table border=\"1\" class=\"dataframe\">\n",
       "  <thead>\n",
       "    <tr style=\"text-align: right;\">\n",
       "      <th></th>\n",
       "      <th>userId</th>\n",
       "      <th>id</th>\n",
       "      <th>title</th>\n",
       "      <th>body</th>\n",
       "    </tr>\n",
       "  </thead>\n",
       "  <tbody>\n",
       "    <tr>\n",
       "      <th>0</th>\n",
       "      <td>2</td>\n",
       "      <td>11</td>\n",
       "      <td>et ea vero quia laudantium autem</td>\n",
       "      <td>delectus reiciendis molestiae occaecati non mi...</td>\n",
       "    </tr>\n",
       "    <tr>\n",
       "      <th>1</th>\n",
       "      <td>2</td>\n",
       "      <td>12</td>\n",
       "      <td>in quibusdam tempore odit est dolorem</td>\n",
       "      <td>itaque id aut magnam\\npraesentium quia et ea o...</td>\n",
       "    </tr>\n",
       "    <tr>\n",
       "      <th>2</th>\n",
       "      <td>2</td>\n",
       "      <td>13</td>\n",
       "      <td>dolorum ut in voluptas mollitia et saepe quo a...</td>\n",
       "      <td>aut dicta possimus sint mollitia voluptas comm...</td>\n",
       "    </tr>\n",
       "    <tr>\n",
       "      <th>3</th>\n",
       "      <td>2</td>\n",
       "      <td>14</td>\n",
       "      <td>voluptatem eligendi optio</td>\n",
       "      <td>fuga et accusamus dolorum perferendis illo vol...</td>\n",
       "    </tr>\n",
       "    <tr>\n",
       "      <th>4</th>\n",
       "      <td>2</td>\n",
       "      <td>15</td>\n",
       "      <td>eveniet quod temporibus</td>\n",
       "      <td>reprehenderit quos placeat\\nvelit minima offic...</td>\n",
       "    </tr>\n",
       "  </tbody>\n",
       "</table>\n",
       "</div>\n",
       "    <div class=\"colab-df-buttons\">\n",
       "\n",
       "  <div class=\"colab-df-container\">\n",
       "    <button class=\"colab-df-convert\" onclick=\"convertToInteractive('df-a47ac7b6-7ff2-49c6-bbde-b3d2f34e4c06')\"\n",
       "            title=\"Convert this dataframe to an interactive table.\"\n",
       "            style=\"display:none;\">\n",
       "\n",
       "  <svg xmlns=\"http://www.w3.org/2000/svg\" height=\"24px\" viewBox=\"0 -960 960 960\">\n",
       "    <path d=\"M120-120v-720h720v720H120Zm60-500h600v-160H180v160Zm220 220h160v-160H400v160Zm0 220h160v-160H400v160ZM180-400h160v-160H180v160Zm440 0h160v-160H620v160ZM180-180h160v-160H180v160Zm440 0h160v-160H620v160Z\"/>\n",
       "  </svg>\n",
       "    </button>\n",
       "\n",
       "  <style>\n",
       "    .colab-df-container {\n",
       "      display:flex;\n",
       "      gap: 12px;\n",
       "    }\n",
       "\n",
       "    .colab-df-convert {\n",
       "      background-color: #E8F0FE;\n",
       "      border: none;\n",
       "      border-radius: 50%;\n",
       "      cursor: pointer;\n",
       "      display: none;\n",
       "      fill: #1967D2;\n",
       "      height: 32px;\n",
       "      padding: 0 0 0 0;\n",
       "      width: 32px;\n",
       "    }\n",
       "\n",
       "    .colab-df-convert:hover {\n",
       "      background-color: #E2EBFA;\n",
       "      box-shadow: 0px 1px 2px rgba(60, 64, 67, 0.3), 0px 1px 3px 1px rgba(60, 64, 67, 0.15);\n",
       "      fill: #174EA6;\n",
       "    }\n",
       "\n",
       "    .colab-df-buttons div {\n",
       "      margin-bottom: 4px;\n",
       "    }\n",
       "\n",
       "    [theme=dark] .colab-df-convert {\n",
       "      background-color: #3B4455;\n",
       "      fill: #D2E3FC;\n",
       "    }\n",
       "\n",
       "    [theme=dark] .colab-df-convert:hover {\n",
       "      background-color: #434B5C;\n",
       "      box-shadow: 0px 1px 3px 1px rgba(0, 0, 0, 0.15);\n",
       "      filter: drop-shadow(0px 1px 2px rgba(0, 0, 0, 0.3));\n",
       "      fill: #FFFFFF;\n",
       "    }\n",
       "  </style>\n",
       "\n",
       "    <script>\n",
       "      const buttonEl =\n",
       "        document.querySelector('#df-a47ac7b6-7ff2-49c6-bbde-b3d2f34e4c06 button.colab-df-convert');\n",
       "      buttonEl.style.display =\n",
       "        google.colab.kernel.accessAllowed ? 'block' : 'none';\n",
       "\n",
       "      async function convertToInteractive(key) {\n",
       "        const element = document.querySelector('#df-a47ac7b6-7ff2-49c6-bbde-b3d2f34e4c06');\n",
       "        const dataTable =\n",
       "          await google.colab.kernel.invokeFunction('convertToInteractive',\n",
       "                                                    [key], {});\n",
       "        if (!dataTable) return;\n",
       "\n",
       "        const docLinkHtml = 'Like what you see? Visit the ' +\n",
       "          '<a target=\"_blank\" href=https://colab.research.google.com/notebooks/data_table.ipynb>data table notebook</a>'\n",
       "          + ' to learn more about interactive tables.';\n",
       "        element.innerHTML = '';\n",
       "        dataTable['output_type'] = 'display_data';\n",
       "        await google.colab.output.renderOutput(dataTable, element);\n",
       "        const docLink = document.createElement('div');\n",
       "        docLink.innerHTML = docLinkHtml;\n",
       "        element.appendChild(docLink);\n",
       "      }\n",
       "    </script>\n",
       "  </div>\n",
       "\n",
       "\n",
       "    <div id=\"df-d256eccb-6c41-4ee4-8214-a177496cf5ab\">\n",
       "      <button class=\"colab-df-quickchart\" onclick=\"quickchart('df-d256eccb-6c41-4ee4-8214-a177496cf5ab')\"\n",
       "                title=\"Suggest charts\"\n",
       "                style=\"display:none;\">\n",
       "\n",
       "<svg xmlns=\"http://www.w3.org/2000/svg\" height=\"24px\"viewBox=\"0 0 24 24\"\n",
       "     width=\"24px\">\n",
       "    <g>\n",
       "        <path d=\"M19 3H5c-1.1 0-2 .9-2 2v14c0 1.1.9 2 2 2h14c1.1 0 2-.9 2-2V5c0-1.1-.9-2-2-2zM9 17H7v-7h2v7zm4 0h-2V7h2v10zm4 0h-2v-4h2v4z\"/>\n",
       "    </g>\n",
       "</svg>\n",
       "      </button>\n",
       "\n",
       "<style>\n",
       "  .colab-df-quickchart {\n",
       "      --bg-color: #E8F0FE;\n",
       "      --fill-color: #1967D2;\n",
       "      --hover-bg-color: #E2EBFA;\n",
       "      --hover-fill-color: #174EA6;\n",
       "      --disabled-fill-color: #AAA;\n",
       "      --disabled-bg-color: #DDD;\n",
       "  }\n",
       "\n",
       "  [theme=dark] .colab-df-quickchart {\n",
       "      --bg-color: #3B4455;\n",
       "      --fill-color: #D2E3FC;\n",
       "      --hover-bg-color: #434B5C;\n",
       "      --hover-fill-color: #FFFFFF;\n",
       "      --disabled-bg-color: #3B4455;\n",
       "      --disabled-fill-color: #666;\n",
       "  }\n",
       "\n",
       "  .colab-df-quickchart {\n",
       "    background-color: var(--bg-color);\n",
       "    border: none;\n",
       "    border-radius: 50%;\n",
       "    cursor: pointer;\n",
       "    display: none;\n",
       "    fill: var(--fill-color);\n",
       "    height: 32px;\n",
       "    padding: 0;\n",
       "    width: 32px;\n",
       "  }\n",
       "\n",
       "  .colab-df-quickchart:hover {\n",
       "    background-color: var(--hover-bg-color);\n",
       "    box-shadow: 0 1px 2px rgba(60, 64, 67, 0.3), 0 1px 3px 1px rgba(60, 64, 67, 0.15);\n",
       "    fill: var(--button-hover-fill-color);\n",
       "  }\n",
       "\n",
       "  .colab-df-quickchart-complete:disabled,\n",
       "  .colab-df-quickchart-complete:disabled:hover {\n",
       "    background-color: var(--disabled-bg-color);\n",
       "    fill: var(--disabled-fill-color);\n",
       "    box-shadow: none;\n",
       "  }\n",
       "\n",
       "  .colab-df-spinner {\n",
       "    border: 2px solid var(--fill-color);\n",
       "    border-color: transparent;\n",
       "    border-bottom-color: var(--fill-color);\n",
       "    animation:\n",
       "      spin 1s steps(1) infinite;\n",
       "  }\n",
       "\n",
       "  @keyframes spin {\n",
       "    0% {\n",
       "      border-color: transparent;\n",
       "      border-bottom-color: var(--fill-color);\n",
       "      border-left-color: var(--fill-color);\n",
       "    }\n",
       "    20% {\n",
       "      border-color: transparent;\n",
       "      border-left-color: var(--fill-color);\n",
       "      border-top-color: var(--fill-color);\n",
       "    }\n",
       "    30% {\n",
       "      border-color: transparent;\n",
       "      border-left-color: var(--fill-color);\n",
       "      border-top-color: var(--fill-color);\n",
       "      border-right-color: var(--fill-color);\n",
       "    }\n",
       "    40% {\n",
       "      border-color: transparent;\n",
       "      border-right-color: var(--fill-color);\n",
       "      border-top-color: var(--fill-color);\n",
       "    }\n",
       "    60% {\n",
       "      border-color: transparent;\n",
       "      border-right-color: var(--fill-color);\n",
       "    }\n",
       "    80% {\n",
       "      border-color: transparent;\n",
       "      border-right-color: var(--fill-color);\n",
       "      border-bottom-color: var(--fill-color);\n",
       "    }\n",
       "    90% {\n",
       "      border-color: transparent;\n",
       "      border-bottom-color: var(--fill-color);\n",
       "    }\n",
       "  }\n",
       "</style>\n",
       "\n",
       "      <script>\n",
       "        async function quickchart(key) {\n",
       "          const quickchartButtonEl =\n",
       "            document.querySelector('#' + key + ' button');\n",
       "          quickchartButtonEl.disabled = true;  // To prevent multiple clicks.\n",
       "          quickchartButtonEl.classList.add('colab-df-spinner');\n",
       "          try {\n",
       "            const charts = await google.colab.kernel.invokeFunction(\n",
       "                'suggestCharts', [key], {});\n",
       "          } catch (error) {\n",
       "            console.error('Error during call to suggestCharts:', error);\n",
       "          }\n",
       "          quickchartButtonEl.classList.remove('colab-df-spinner');\n",
       "          quickchartButtonEl.classList.add('colab-df-quickchart-complete');\n",
       "        }\n",
       "        (() => {\n",
       "          let quickchartButtonEl =\n",
       "            document.querySelector('#df-d256eccb-6c41-4ee4-8214-a177496cf5ab button');\n",
       "          quickchartButtonEl.style.display =\n",
       "            google.colab.kernel.accessAllowed ? 'block' : 'none';\n",
       "        })();\n",
       "      </script>\n",
       "    </div>\n",
       "\n",
       "    </div>\n",
       "  </div>\n"
      ],
      "text/plain": [
       "   userId  id                                              title  \\\n",
       "0       2  11                   et ea vero quia laudantium autem   \n",
       "1       2  12              in quibusdam tempore odit est dolorem   \n",
       "2       2  13  dolorum ut in voluptas mollitia et saepe quo a...   \n",
       "3       2  14                          voluptatem eligendi optio   \n",
       "4       2  15                            eveniet quod temporibus   \n",
       "\n",
       "                                                body  \n",
       "0  delectus reiciendis molestiae occaecati non mi...  \n",
       "1  itaque id aut magnam\\npraesentium quia et ea o...  \n",
       "2  aut dicta possimus sint mollitia voluptas comm...  \n",
       "3  fuga et accusamus dolorum perferendis illo vol...  \n",
       "4  reprehenderit quos placeat\\nvelit minima offic...  "
      ]
     },
     "execution_count": 7,
     "metadata": {},
     "output_type": "execute_result"
    }
   ],
   "source": [
    "\n",
    "params = {\"userId\": 2}\n",
    "res = requests.get(\"https://jsonplaceholder.typicode.com/posts\", params=params)\n",
    "posts = res.json()\n",
    "\n",
    "df = pd.DataFrame(posts)\n",
    "df.head()"
   ]
  }
 ],
 "metadata": {
  "colab": {
   "authorship_tag": "ABX9TyNhY5/+r4MfTicVq5xK2ocz",
   "provenance": []
  },
  "kernelspec": {
   "display_name": "Python 3",
   "name": "python3"
  },
  "language_info": {
   "name": "python",
   "version": "3.10.6"
  }
 },
 "nbformat": 4,
 "nbformat_minor": 0
}
