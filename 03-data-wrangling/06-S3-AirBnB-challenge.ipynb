{
 "cells": [
  {
   "cell_type": "markdown",
   "metadata": {
    "id": "VtulPvu5SBlG"
   },
   "source": []
  },
  {
   "cell_type": "markdown",
   "metadata": {
    "id": "3zV2v_YRBvIJ"
   },
   "source": [
    "# AirBnb Challenge\n",
    "\n",
    "Airbnb 🏡 es una plataforma en línea que conecta a viajeros ✈️ con personas que alquilan sus casas 🛏️ por corto tiempo. Fundada en 2008 🗓️, no posee las propiedades, sino que cobra comisión por cada reserva 💰. Disponible en web y app 📱, también ofrece experiencias turísticas únicas 🌍. Su nombre viene de “AirBedandBreakfast”, su idea original de ofrecer camas inflables y desayuno 🍳.\n",
    "\n",
    "## Sobre los datos\n",
    "\n",
    "El **conjunto de datos** con el que trabajarás forma parte de la iniciativa **Airbnb Inside** y proporciona información sobre los **anuncios de alojamientos en casas particulares** en la ciudad de **Nueva York**. Este conjunto de datos incluye detalles sobre los anuncios, como **descripciones completas**, **puntuaciones de reseñas promedio**, **reseñas de usuarios con identificación única** y **comentarios detallados**, además de **calendarios** con información de **precios** y **disponibilidad** para cada anuncio y día.\n",
    "\n"
   ]
  },
  {
   "cell_type": "markdown",
   "metadata": {
    "id": "jER8fDzRrEEt"
   },
   "source": [
    "##Análisis exploratorio de datos EDA\n"
   ]
  },
  {
   "cell_type": "markdown",
   "metadata": {
    "id": "LF1HoNiLJkCB"
   },
   "source": [
    "📊 **Comencemos familiarizándonos con el dataset**\n",
    "\n",
    "Para dar el primer paso en nuestro análisis, te recomiendo hacer lo siguiente:\n",
    "\n",
    "1. **Carga los datos** 🗂️  \n",
    "   Asegúrate de que el archivo esté correctamente leído en tu entorno de trabajo.\n",
    "\n",
    "2. **Explora los tipos de datos** 🔍  \n",
    "   Revisa con qué tipo de datos cuenta cada columna (números, texto, fechas, etc.).\n",
    "\n",
    "3. **Observa los nombres de las columnas** 🧾  \n",
    "   Esto te ayudará a entender qué información contiene cada una y cómo puedes usarla.\n",
    "\n",
    "4. **Visualiza algunas filas del dataset** 👁️  \n",
    "   Echa un vistazo general a las primeras filas para hacerte una idea de qué representa cada columna y cómo están organizados los datos.\n",
    "\n",
    "> 💡 *Este paso es clave para que tu análisis posterior sea más eficiente y enfocado.*"
   ]
  },
  {
   "cell_type": "code",
   "execution_count": null,
   "metadata": {
    "executionInfo": {
     "elapsed": 747,
     "status": "ok",
     "timestamp": 1747873374104,
     "user": {
      "displayName": "Roman Castillo",
      "userId": "03738236345711029424"
     },
     "user_tz": 360
    },
    "id": "8s-2hGKPXvFQ"
   },
   "outputs": [],
   "source": [
    "import pandas as pd"
   ]
  },
  {
   "cell_type": "code",
   "execution_count": null,
   "metadata": {
    "colab": {
     "base_uri": "https://localhost:8080/"
    },
    "executionInfo": {
     "elapsed": 891,
     "status": "ok",
     "timestamp": 1747873399965,
     "user": {
      "displayName": "Roman Castillo",
      "userId": "03738236345711029424"
     },
     "user_tz": 360
    },
    "id": "PH55q6L89vfm",
    "outputId": "efb9d46d-7b40-4c19-928a-31786623afce"
   },
   "outputs": [],
   "source": [
    "# Descarga de aca a los datos : https://drive.google.com/file/d/16Z1rpnVm_NQ5ljiIZfSGzHAiNlUXL0x4/view\n",
    "# Cargar el dataset\n",
    "PATH =\"/content/Airbnb_Open_Data.csv\"\n",
    "\n",
    "airbnb = pd.read_csv(PATH) # cargar dataset"
   ]
  },
  {
   "cell_type": "code",
   "execution_count": null,
   "metadata": {
    "colab": {
     "base_uri": "https://localhost:8080/"
    },
    "executionInfo": {
     "elapsed": 203,
     "status": "ok",
     "timestamp": 1747875027930,
     "user": {
      "displayName": "Roman Castillo",
      "userId": "03738236345711029424"
     },
     "user_tz": 360
    },
    "id": "PDXyiRLnX5Hr",
    "outputId": "4c689198-6dae-418c-f2d4-8b287855fed4"
   },
   "outputs": [],
   "source": [
    "airbnb.info()"
   ]
  },
  {
   "cell_type": "code",
   "execution_count": null,
   "metadata": {
    "id": "YWmzkpxd-7NT"
   },
   "outputs": [],
   "source": [
    "# Veamos algunas filas\n"
   ]
  },
  {
   "cell_type": "code",
   "execution_count": null,
   "metadata": {
    "id": "Cg2icP-T_Fvh"
   },
   "outputs": [],
   "source": [
    "# Informacion sobre las columnas y el tipo de dato asociado a ellas\n",
    "\n"
   ]
  },
  {
   "cell_type": "markdown",
   "metadata": {
    "id": "gvs9gY3EfrG7"
   },
   "source": [
    "\n",
    "Reemplaza todas aquellas columnas con espacio entre las palabras con \"_\". Adicionalmente, deje todos los nombre en minúsculas."
   ]
  },
  {
   "cell_type": "markdown",
   "metadata": {
    "id": "LB8ysKyluqhW"
   },
   "source": [
    "## Limpieza de datos"
   ]
  },
  {
   "cell_type": "markdown",
   "metadata": {
    "id": "PKlZ_Pc9xyIB"
   },
   "source": [
    "♻️  **Convierte las columnas `price`, `service_fee` a númericas**"
   ]
  },
  {
   "cell_type": "markdown",
   "metadata": {
    "id": "nMadvMsA017R"
   },
   "source": [
    "> 💡 Hint: usa la función `replace` para poder hacer la conversión de los datos:\n",
    "\n",
    "> ```df['price'].str.replace('$','').astype(float)```"
   ]
  },
  {
   "cell_type": "code",
   "execution_count": null,
   "metadata": {
    "id": "VvVgqkCAxytF"
   },
   "outputs": [],
   "source": []
  },
  {
   "cell_type": "markdown",
   "metadata": {
    "id": "KgCRIZRkv_vY"
   },
   "source": [
    "\n",
    "🧩 **Manejo de Valores Faltantes**\n",
    "\n",
    "Ahora que tienes una idea general de lo que hay en el dataset, deberás corregir los problemas que este tiene.\n",
    "\n",
    "1. 🔍 **Identifica las columnas con valores faltantes.**\n",
    "2. 🛠️ **Decide una estrategia para manejarlos**, como:\n",
    "   * Imputación con media/mediana/moda.\n",
    "   * Eliminar columnas o filas con muchos valores faltantes.\n",
    "   * Rellenar con un valor específico.\n",
    "   * Justificar si decides no hacer nada.\n",
    "\n",
    "---\n",
    "\n",
    "### 🧠 Estrategias sugeridas:\n",
    "\n",
    "---\n",
    "\n",
    "#### ❌ **Eliminar columnas**\n",
    "Si una columna tiene más del **50 %** de valores faltantes y **no es crucial**, considera eliminarla.\n",
    "\n",
    "```python\n",
    "# Eliminar una columna con muchos valores nulos\n",
    "df = df.drop(columns=['nombre_columna'])\n",
    "```\n",
    "\n",
    "---\n",
    "\n",
    "#### 🔢 **Imputación de valores faltantes**\n",
    "\n",
    "Cuando la columna es importante, puedes rellenar los valores faltantes con una estrategia adecuada:\n",
    "\n",
    "##### 📈 Media\n",
    "```python\n",
    "# Rellenar con la media (para columnas numéricas)\n",
    "df['columna_numerica'] = df['columna_numerica'].fillna(df['columna_numerica'].mean())\n",
    "```\n",
    "\n",
    "##### 📊 Mediana\n",
    "```python\n",
    "# Rellenar con la mediana (más robusta a valores atípicos)\n",
    "df['columna_numerica'] = df['columna_numerica'].fillna(df['columna_numerica'].median())\n",
    "```\n",
    "\n",
    "##### 🔁 Moda\n",
    "```python\n",
    "# Rellenar con la moda (para columnas categóricas)\n",
    "df['columna_categorica'] = df['columna_categorica'].fillna(df['columna_categorica'].mode()[0])\n",
    "```\n",
    "\n",
    "##### 🧱 Valor específico\n",
    "```python\n",
    "# Rellenar con un valor fijo (por ejemplo, \"Desconocido\")\n",
    "df['columna'] = df['columna'].fillna('Desconocido')\n",
    "```\n",
    "\n",
    "---\n",
    "\n",
    "#### 🧹 **Eliminar filas**\n",
    "Si los valores faltantes son pocos pero en columnas importantes, puedes optar por eliminar esas filas.\n",
    "\n",
    "```python\n",
    "# Eliminar filas que tengan al menos un valor nulo\n",
    "df = df.dropna(subset=['columna_importante'])\n",
    "```\n",
    "\n",
    "---\n",
    "\n",
    "#### ✅ **Dejar los valores nulos (con justificación)**\n",
    "En algunos casos, puede tener sentido **no rellenar** los valores faltantes si se justifican bien en el análisis.\n",
    "\n",
    "> 💬 *Ejemplo: “Decidimos no imputar la columna `X` ya que los valores faltantes indican un evento significativo que se analizará por separado.”*\n",
    "\n",
    "---\n",
    "\n",
    "Recuerda siempre **justificar** tu decisión y considerar el impacto en el análisis 📊.\n"
   ]
  },
  {
   "cell_type": "code",
   "execution_count": null,
   "metadata": {
    "id": "_oe3DdzQToQi"
   },
   "outputs": [],
   "source": [
    "# Verificar valores faltantes\n"
   ]
  },
  {
   "cell_type": "code",
   "execution_count": null,
   "metadata": {
    "id": "c8WDjedZTyTF"
   },
   "outputs": [],
   "source": [
    "# a. Eliminar columnas con muchos valores faltantes\n",
    "\n",
    "\n",
    "# b. Imputar con la moda (ej: 'neighbourhood group')\n",
    "\n",
    "\n",
    "# c. Eliminar filas con valores faltantes en columnas importantes (ej: 'price')\n",
    "\n",
    "\n",
    "# d. Llenar valores nulos de 'review rate number' con 0. Asumimos que si no tiene review rate number es porque no tiene reviews.\n",
    "\n",
    "\n",
    "\n",
    "# e. Verifica los cambios\n",
    "\n"
   ]
  },
  {
   "cell_type": "markdown",
   "metadata": {
    "id": "wLGvuioQ5Ng2"
   },
   "source": [
    "## Análisis"
   ]
  },
  {
   "cell_type": "markdown",
   "metadata": {
    "id": "CBt95ms74nmU"
   },
   "source": [
    "\n",
    "Piensa que tu cliente puede ser  alguno de los siguientes interesados:\n",
    "\n",
    "| Stakeholder | Intereses |\n",
    "|---|---|\n",
    "| **Huéspedes** | Encontrar alojamientos con buena relación calidad-precio, en ubicaciones convenientes y con las comodidades que necesitan. |\n",
    "| **Anfitriones** | Maximizar sus ingresos, optimizar la ocupación de sus propiedades y mejorar la experiencia de sus huéspedes. |\n",
    "| **Inversores** | Identificar zonas con alto potencial de rentabilidad, evaluar el retorno de la inversión en propiedades para alquiler a corto plazo y comprender las tendencias del mercado. |\n",
    "| **Gobierno local** | Asegurar el cumplimiento de las normativas, controlar el impacto del turismo en la ciudad y proteger los derechos de los residentes. |\n",
    "| **Comunidades locales** | Preservar la calidad de vida en sus barrios, evitar la gentrificación y participar en la toma de decisiones sobre el turismo en su zona. |\n",
    "\n",
    "\n",
    "\n",
    "* Escoge uno de ellos y haz un listado de posibles preguntas que pudieran ser de su interés\n",
    "\n",
    "\n",
    "* De las preguntas escoge un par, discutan que tabla  tabla resumen (`groupby` , `describe`,`query` ) que pudieran usar para  responder. *e.g. El top 3 de Alojamientos que*\n",
    "\n"
   ]
  },
  {
   "cell_type": "markdown",
   "metadata": {
    "id": "5l5NNv3pCPs-"
   },
   "source": []
  },
  {
   "cell_type": "code",
   "execution_count": null,
   "metadata": {
    "id": "GNDQlkG6CcUP"
   },
   "outputs": [],
   "source": [
    "# Distribucion de viviendas segun año de contruccion. Para ello, debe contar el numero de registros según el año de construcción.\n",
    "# Barrios con mayor numero de viviendas para arriendo. Cuente el número de registros y agrupelos por barrio de forma descendente.\n",
    "# Obtenga el costo promedio de alojamiento según el barrio de la ciudad.\n",
    "# Determina el top 5 de vecindarios con el mejor review promedio (review_rate_number).\n",
    "\n"
   ]
  }
 ],
 "metadata": {
  "colab": {
   "provenance": [
    {
     "file_id": "1dh5pJ2mOJB5TPxWW45cZri1WjpfWkpoC",
     "timestamp": 1747542481069
    },
    {
     "file_id": "1kY1vPYqiOSElaSemNM-Ti9_UusfUOQjs",
     "timestamp": 1740990220868
    },
    {
     "file_id": "1GzTYTJQxg7o_ySPPP5O6crhvL4wiffhG",
     "timestamp": 1738541320393
    }
   ]
  },
  "kernelspec": {
   "display_name": "Python 3",
   "name": "python3"
  },
  "language_info": {
   "name": "python"
  }
 },
 "nbformat": 4,
 "nbformat_minor": 0
}
