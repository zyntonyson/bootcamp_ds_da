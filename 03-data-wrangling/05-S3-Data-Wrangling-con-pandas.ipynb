{
 "cells": [
  {
   "cell_type": "markdown",
   "metadata": {},
   "source": [
    "\n",
    "# Data Wrangling y Pandas \n",
    "---\n",
    "\n",
    "## Objetivos académicos\n",
    "\n",
    "1. Comprender el proceso de **data wrangling** y su importancia en la preparación de datos para el análisis.\n",
    "2. Desarrollar habilidades para crear y manipular **DataFrames** utilizando la biblioteca Pandas.\n",
    "3. Aplicar técnicas de exploración y filtrado de datos para identificar patrones y características relevantes en conjuntos de datos.\n",
    "4. Implementar métodos de limpieza de datos, gestionando valores nulos y eliminando duplicados para mejorar la calidad de la información.\n",
    "5. Utilizar funciones de agrupación y resumen estadístico para analizar y sintetizar información a partir de los datos disponibles.\n",
    "\n",
    "## Agenda\n",
    "\n",
    "1. ¿Qué es Data Wrangling?\n",
    "2. Introducción a Pandas y DataFrames\n",
    "3. Crear un DataFrame\n",
    "   - Desde colecciones de Python\n",
    "   - Desde hojas de cálculo (csv, excel, etc.)\n",
    "4. Atributos de un DataFrame\n",
    "5. Examinar un DataFrame\n",
    "   - Ordenar\n",
    "   - Slicing y selección por índices\n",
    "   - Filtrado condicional\n",
    "6. Procesamiento de los datos\n",
    "   - Manejo de valores nulos\n",
    "   - Manejo de datos duplicados\n",
    "7. Agrupación de datos\n",
    "\n",
    "---"
   ]
  },
  {
   "cell_type": "markdown",
   "metadata": {
    "id": "T3dRBPI2_ll8"
   },
   "source": [
    "\n",
    "# ¿Qué es Data Wrangling?\n",
    "\n",
    "**Data Wrangling** es el proceso de limpiar, transformar y estructurar datos para su análisis. Incluye tareas como manejar valores faltantes, corregir formatos y estandarizar información, mejorando la calidad de los datos.\n",
    "\n",
    "\n",
    "<img src=\"https://www.modernanalyst.com/Portals/0/Public%20Uploads/Fin654-data-wrangler.jpg\" alt=\"Descripción\" width=\"300\" height=\"300\">\n",
    "\n",
    "---\n",
    "\n",
    "- **🔍 DESCUBRIMIENTO:**  \n",
    "  Familiarizarse con los datos para conceptualizar cómo podrías utilizarlos.\n",
    "\n",
    "- **📂 ESTRUCTURACIÓN:**  \n",
    "  Transformar datos en bruto para que sean fácilmente utilizables.\n",
    "\n",
    "- **🧹 LIMPIEZA:**  \n",
    "  Eliminar errores inherentes en los datos que podrían distorsionar tu análisis.\n",
    "\n",
    "- **📊 ENRIQUECIMIENTO:**  \n",
    "  Determinar si es necesario enriquecer o aumentar tus datos existentes.\n",
    "\n",
    "- **✅ VERIFICACIÓN:**  \n",
    "  Confirmar que tus datos sean consistentes y de alta calidad.\n",
    "\n",
    "- **📤 PUBLICACIÓN:**  \n",
    "  Hacer que tus datos estén disponibles para el análisis.\n",
    "\n",
    "---\n",
    "# Introducción a Pandas y DataFrames\n",
    "\n",
    "Pandas es una biblioteca de Python para análisis y manipulación de datos. Su estructura principal, el **DataFrame**, permite organizar datos en tablas similares a Excel, facilitando operaciones como filtrado, agregación y limpieza. Es esencial para la ciencia de datos y el análisis estructurado de información.\n",
    "\n",
    "<img src=\"https://media.geeksforgeeks.org/wp-content/uploads/finallpandas.png\" alt=\"Descripción\" width=\"300\" height=\"300\">\n",
    "\n",
    "\n",
    "\n"
   ]
  },
  {
   "cell_type": "markdown",
   "metadata": {
    "id": "n5FHh3H1Jt6R"
   },
   "source": [
    "## Crear un *dataframe*"
   ]
  },
  {
   "cell_type": "markdown",
   "metadata": {
    "id": "YOFZXwWFBllQ"
   },
   "source": [
    "Para comenzar *carguemos pandas en nuestro espacio de trabajo* y creemos un nuevo dataframe"
   ]
  },
  {
   "cell_type": "code",
   "execution_count": null,
   "metadata": {
    "id": "rKCX_eXJBlHw"
   },
   "outputs": [],
   "source": [
    "import pandas as pd"
   ]
  },
  {
   "cell_type": "markdown",
   "metadata": {
    "id": "9Q9lZ5ygB5ni"
   },
   "source": [
    "### Desde colecciones de python"
   ]
  },
  {
   "cell_type": "code",
   "execution_count": null,
   "metadata": {
    "id": "MHmSjy0BCw5B"
   },
   "outputs": [],
   "source": [
    "# Desde listas anidadas\n",
    "datos =  [\n",
    "    [5644686960, \"email\", \"c129aa540a\", 0],\n",
    "    [8623045648, \"email\", \"d6d19c571c\", 0],\n",
    "    [5739438900, \"email\", \"19379ee49c\", 0],\n",
    "    [7486955288, \"email\", \"09c27794fa\", 0],\n",
    "    [7298923004, \"email\", \"1fe184ed73\", 0],\n",
    "    [6034222291, \"email\", \"fb58a27f03\", 0],\n",
    "    [5690036640, \"email\", \"a088a48182\", 0],\n",
    "    [9963049355, \"email\", \"9cc43ebd15\", 0],\n",
    "    [7686901492, \"email\", \"539df283fd\", 0],\n",
    "    [7557066181, \"email\", \"4687297254\", 0]\n",
    "]\n",
    "\n",
    "columnas =[\"user_id\", \"source\", \"email\", \"purchase\"]\n",
    "df = pd.DataFrame(datos, columns=columnas)\n"
   ]
  },
  {
   "cell_type": "code",
   "execution_count": null,
   "metadata": {
    "id": "20jrHY2hDEBy"
   },
   "outputs": [],
   "source": [
    "# Desde lista de diccionarios\n",
    "datos =  [\n",
    "    {\"user_id\": 5644686960, \"source\": \"email\", \"email\": \"c129aa540a\", \"purchase\": 0},\n",
    "    {\"user_id\": 8623045648, \"source\": \"email\", \"email\": \"d6d19c571c\", \"purchase\": 0},\n",
    "    {\"user_id\": 5739438900, \"source\": \"email\", \"email\": \"19379ee49c\", \"purchase\": 0},\n",
    "    {\"user_id\": 7486955288, \"source\": \"email\", \"email\": \"09c27794fa\", \"purchase\": 0},\n",
    "    {\"user_id\": 7298923004, \"source\": \"email\", \"email\": \"1fe184ed73\", \"purchase\": 0},\n",
    "    {\"user_id\": 6034222291, \"source\": \"email\", \"email\": \"fb58a27f03\", \"purchase\": 0},\n",
    "    {\"user_id\": 5690036640, \"source\": \"email\", \"email\": \"a088a48182\", \"purchase\": 0},\n",
    "    {\"user_id\": 9963049355, \"source\": \"email\", \"email\": \"9cc43ebd15\", \"purchase\": 0},\n",
    "    {\"user_id\": 7686901492, \"source\": \"email\", \"email\": \"539df283fd\", \"purchase\": 0},\n",
    "    {\"user_id\": 7557066181, \"source\": \"email\", \"email\": \"4687297254\", \"purchase\": 0}\n",
    "]\n",
    "df = pd.DataFrame(datos)\n",
    "df"
   ]
  },
  {
   "cell_type": "code",
   "execution_count": null,
   "metadata": {
    "id": "t06j8SSFqZEE"
   },
   "outputs": [],
   "source": [
    "# Diccionario de lista\n",
    "datos = {\n",
    "    \"user_id\": [\n",
    "        5644686960, 8623045648, 5739438900, 7486955288, 7298923004,\n",
    "        6034222291, 5690036640, 9963049355, 7686901492, 7557066181\n",
    "    ],\n",
    "    \"source\": [\n",
    "        \"email\", \"email\", \"email\", \"email\", \"email\",\n",
    "        \"email\", \"email\", \"email\", \"email\", \"email\"\n",
    "    ],\n",
    "    \"email\": [\n",
    "        \"c129aa540a\", \"d6d19c571c\", \"19379ee49c\", \"09c27794fa\", \"1fe184ed73\",\n",
    "        \"fb58a27f03\", \"a088a48182\", \"9cc43ebd15\", \"539df283fd\", \"4687297254\"\n",
    "    ],\n",
    "    \"purchase\": [\n",
    "        0, 0, 0, 0, 0,\n",
    "        0, 0, 0, 0, 0\n",
    "    ]\n",
    "}\n",
    "df = pd.DataFrame(datos)\n",
    "df"
   ]
  },
  {
   "cell_type": "markdown",
   "metadata": {
    "id": "HmnYu7k2DSDP"
   },
   "source": [
    "### Desde hojas de cálculo (csv,excel,etc)"
   ]
  },
  {
   "cell_type": "code",
   "execution_count": null,
   "metadata": {
    "id": "wFaDwrKdDQGA"
   },
   "outputs": [],
   "source": [
    "# DATOS DE PRUEBA 'https://docs.google.com/spreadsheets/d/1Xio5D36BUWOYrsT-0t6mBnLvG_DmjS9xPWpXKobI2qI/edit?gid=1712717259#gid=1712717259'"
   ]
  },
  {
   "cell_type": "code",
   "execution_count": null,
   "metadata": {
    "id": "ly43E2HWJTpm"
   },
   "outputs": [],
   "source": [
    "# Si el archivo no está separado por comas puedes usar el parámetro sep\n",
    "PATH = \"/content/tiempos_compras - tiempos_compras_raw.csv\"\n",
    "df=pd.read_csv(PATH, sep=',')\n",
    "df"
   ]
  },
  {
   "cell_type": "code",
   "execution_count": null,
   "metadata": {
    "id": "Y2FtmWZRGwjE"
   },
   "outputs": [],
   "source": [
    "# Si tenemos excel podemos usar pd.read_excel()\n",
    "PATH=\"/content/tiempos_compras.xlsx\"\n",
    "pd.read_excel(PATH,sheet_name='hoja_vacia')"
   ]
  },
  {
   "cell_type": "markdown",
   "metadata": {
    "id": "vyeFL3oKJ5FW"
   },
   "source": [
    "### Atributos de un dataframe"
   ]
  },
  {
   "cell_type": "code",
   "execution_count": null,
   "metadata": {
    "id": "kyjjCfzFJ8d5"
   },
   "outputs": [],
   "source": [
    "# Cuántos datos tengo y cómo están organizados (rows,columns)\n",
    "df.shape"
   ]
  },
  {
   "cell_type": "code",
   "execution_count": null,
   "metadata": {
    "id": "uwVINBYkKX5I"
   },
   "outputs": [],
   "source": [
    "# Qué caracteristicas observo ( nombre de las columna)\n",
    "df.columns"
   ]
  },
  {
   "cell_type": "code",
   "execution_count": null,
   "metadata": {
    "id": "GeYtDXLxJ-74"
   },
   "outputs": [],
   "source": [
    "# Resumen general de mis datos incluyendo cuantos tengo y el tipo de cada dato\n",
    "df.info()"
   ]
  },
  {
   "cell_type": "markdown",
   "metadata": {
    "id": "4l3-8IRUKLBE"
   },
   "source": [
    "## Examinar un dataframe"
   ]
  },
  {
   "cell_type": "markdown",
   "metadata": {
    "id": "Q5KDjzE9bm8W"
   },
   "source": [
    "### Ordernar un dataframe"
   ]
  },
  {
   "cell_type": "code",
   "execution_count": null,
   "metadata": {
    "id": "nVpmQzDfYFeQ"
   },
   "outputs": [],
   "source": [
    "df"
   ]
  },
  {
   "cell_type": "code",
   "execution_count": null,
   "metadata": {
    "id": "-DdFoGhzbtc0"
   },
   "outputs": [],
   "source": [
    "df.sort_values('clics',ascending=True)"
   ]
  },
  {
   "cell_type": "code",
   "execution_count": null,
   "metadata": {
    "id": "F-cJ71c_Z9qq"
   },
   "outputs": [],
   "source": [
    "df"
   ]
  },
  {
   "cell_type": "code",
   "execution_count": null,
   "metadata": {
    "id": "AS17IbcrLAKW"
   },
   "outputs": [],
   "source": [
    "df.sort_values(['Version','id'],ascending=[False,True],inplace=True)\n",
    "# El parametro inplace permite aplicar los cambios al df en el sitio"
   ]
  },
  {
   "cell_type": "code",
   "execution_count": null,
   "metadata": {
    "id": "kYnN80tief3V"
   },
   "outputs": [],
   "source": [
    "df"
   ]
  },
  {
   "cell_type": "markdown",
   "metadata": {
    "id": "wtihW4FmfSTP"
   },
   "source": [
    "### Slicing"
   ]
  },
  {
   "cell_type": "markdown",
   "metadata": {
    "id": "vYwnnGltPYcS"
   },
   "source": []
  },
  {
   "cell_type": "code",
   "execution_count": null,
   "metadata": {
    "id": "nSG8Dcj8KQWW"
   },
   "outputs": [],
   "source": [
    "# Nos muestra una cantidad pequeña de datos iniciales\n",
    "df.head()\n"
   ]
  },
  {
   "cell_type": "code",
   "execution_count": null,
   "metadata": {
    "id": "VO3WeLymPS4C"
   },
   "outputs": [],
   "source": [
    "# Nos muestra una cantidad pequeña de datos finales\n",
    "\n",
    "df.tail()"
   ]
  },
  {
   "cell_type": "code",
   "execution_count": null,
   "metadata": {
    "id": "bukFb3KCcQPF"
   },
   "outputs": [],
   "source": [
    "# Muestra de los datos, random_state congela la muestra\n",
    "#df.sample(10,random_state=10)\n",
    "df.sample(5)"
   ]
  },
  {
   "cell_type": "code",
   "execution_count": null,
   "metadata": {
    "id": "kTxeaDhYI_KM"
   },
   "outputs": [],
   "source": [
    "df.head()"
   ]
  },
  {
   "cell_type": "code",
   "execution_count": null,
   "metadata": {
    "id": "mWZ22q11KiAi"
   },
   "outputs": [],
   "source": [
    "# Si pongo dentro del corchete rangos (0:5) me devuelve las filas en ese rango\n",
    "df[20:25]"
   ]
  },
  {
   "cell_type": "code",
   "execution_count": null,
   "metadata": {
    "id": "dKXZZGIqLUl-"
   },
   "outputs": [],
   "source": [
    "# Si paso nombre de columna, me devuelva la columna\n",
    "df['id']"
   ]
  },
  {
   "cell_type": "code",
   "execution_count": null,
   "metadata": {
    "id": "0TX8SIjuL3D8"
   },
   "outputs": [],
   "source": [
    "# Si quiero más de una columna paso una lista con sus nombres\n",
    "df[['Version','id']]"
   ]
  },
  {
   "cell_type": "markdown",
   "metadata": {
    "id": "QyRUybp0fVTb"
   },
   "source": [
    "### Seleccion por índices"
   ]
  },
  {
   "cell_type": "code",
   "execution_count": null,
   "metadata": {
    "colab": {
     "base_uri": "https://localhost:8080/",
     "height": 366
    },
    "executionInfo": {
     "elapsed": 64,
     "status": "ok",
     "timestamp": 1747500699962,
     "user": {
      "displayName": "Roman Castillo",
      "userId": "03738236345711029424"
     },
     "user_tz": 360
    },
    "id": "Dfnw7IHUfks-",
    "outputId": "b6b19f13-ebd5-4ea8-9eb3-fe9938ba57bd"
   },
   "outputs": [],
   "source": [
    "df.loc[0:8,'clics']\n"
   ]
  },
  {
   "cell_type": "code",
   "execution_count": null,
   "metadata": {
    "colab": {
     "base_uri": "https://localhost:8080/",
     "height": 143
    },
    "executionInfo": {
     "elapsed": 32,
     "status": "ok",
     "timestamp": 1747500716600,
     "user": {
      "displayName": "Roman Castillo",
      "userId": "03738236345711029424"
     },
     "user_tz": 360
    },
    "id": "t0Uu6-V7I0dd",
    "outputId": "55a8bd1c-74c1-43c4-e49f-cb93bb540b0a"
   },
   "outputs": [],
   "source": [
    "df.loc[[1,4,20],['clics','id']]"
   ]
  },
  {
   "cell_type": "code",
   "execution_count": null,
   "metadata": {
    "colab": {
     "base_uri": "https://localhost:8080/"
    },
    "executionInfo": {
     "elapsed": 13,
     "status": "ok",
     "timestamp": 1747500749844,
     "user": {
      "displayName": "Roman Castillo",
      "userId": "03738236345711029424"
     },
     "user_tz": 360
    },
    "id": "4Tex3kogJFHp",
    "outputId": "981e291b-4850-4baa-f8ed-69e4170081ef"
   },
   "outputs": [],
   "source": [
    "df.loc[1,'clics']"
   ]
  },
  {
   "cell_type": "markdown",
   "metadata": {
    "id": "vl11CaqiJz4a"
   },
   "source": [
    "### Filtrado condicional"
   ]
  },
  {
   "cell_type": "code",
   "execution_count": null,
   "metadata": {
    "id": "EUNEmE8-ZFEK"
   },
   "outputs": [],
   "source": [
    "df"
   ]
  },
  {
   "cell_type": "markdown",
   "metadata": {
    "id": "hX5qirCXKFDZ"
   },
   "source": [
    "#### Usando loc"
   ]
  },
  {
   "cell_type": "code",
   "execution_count": null,
   "metadata": {
    "colab": {
     "base_uri": "https://localhost:8080/",
     "height": 206
    },
    "executionInfo": {
     "elapsed": 80,
     "status": "ok",
     "timestamp": 1747500816732,
     "user": {
      "displayName": "Roman Castillo",
      "userId": "03738236345711029424"
     },
     "user_tz": 360
    },
    "id": "VFoj51NvKCRg",
    "outputId": "2efb4019-5ba8-4e95-c1f2-679cc695c019"
   },
   "outputs": [],
   "source": [
    "df_sample=df.sample(5,random_state=13752)\n",
    "df_sample"
   ]
  },
  {
   "cell_type": "code",
   "execution_count": null,
   "metadata": {
    "colab": {
     "base_uri": "https://localhost:8080/",
     "height": 241
    },
    "executionInfo": {
     "elapsed": 7,
     "status": "ok",
     "timestamp": 1747500938460,
     "user": {
      "displayName": "Roman Castillo",
      "userId": "03738236345711029424"
     },
     "user_tz": 360
    },
    "id": "OggKiYh2ePUh",
    "outputId": "532b1c62-5040-44f8-a8b4-8579b5837fd1"
   },
   "outputs": [],
   "source": [
    "df_sample['Version']  == 2.0"
   ]
  },
  {
   "cell_type": "code",
   "execution_count": null,
   "metadata": {
    "colab": {
     "base_uri": "https://localhost:8080/",
     "height": 81
    },
    "executionInfo": {
     "elapsed": 19,
     "status": "ok",
     "timestamp": 1747500981139,
     "user": {
      "displayName": "Roman Castillo",
      "userId": "03738236345711029424"
     },
     "user_tz": 360
    },
    "id": "UvPRD6A1LHd7",
    "outputId": "710e3896-0220-4777-e396-842d2251668d"
   },
   "outputs": [],
   "source": [
    "df_sample[df_sample['Version']  == 2.0]"
   ]
  },
  {
   "cell_type": "code",
   "execution_count": null,
   "metadata": {
    "colab": {
     "base_uri": "https://localhost:8080/",
     "height": 81
    },
    "executionInfo": {
     "elapsed": 9,
     "status": "ok",
     "timestamp": 1747501041151,
     "user": {
      "displayName": "Roman Castillo",
      "userId": "03738236345711029424"
     },
     "user_tz": 360
    },
    "id": "E_2YwE65dPRT",
    "outputId": "99c44dbc-3c05-498c-81cb-ceb4a91cfdea"
   },
   "outputs": [],
   "source": [
    "filtro=df_sample['Version'] == 2.0\n",
    "df_sample.loc[filtro,['Version','id','clics']]"
   ]
  },
  {
   "cell_type": "code",
   "execution_count": null,
   "metadata": {
    "colab": {
     "base_uri": "https://localhost:8080/",
     "height": 112
    },
    "executionInfo": {
     "elapsed": 27,
     "status": "ok",
     "timestamp": 1747501075648,
     "user": {
      "displayName": "Roman Castillo",
      "userId": "03738236345711029424"
     },
     "user_tz": 360
    },
    "id": "kAM3TmdBdrVX",
    "outputId": "3886471b-c364-46e0-d38e-9e6ca993c81b"
   },
   "outputs": [],
   "source": [
    "filtro = df_sample['id'] > 15\n",
    "df_sample[filtro]\n"
   ]
  },
  {
   "cell_type": "code",
   "execution_count": null,
   "metadata": {
    "colab": {
     "base_uri": "https://localhost:8080/",
     "height": 81
    },
    "executionInfo": {
     "elapsed": 55,
     "status": "ok",
     "timestamp": 1747501192929,
     "user": {
      "displayName": "Roman Castillo",
      "userId": "03738236345711029424"
     },
     "user_tz": 360
    },
    "id": "PSGeskipai2C",
    "outputId": "9f6038ee-0e5e-4deb-fe2d-60730f1b2bc0"
   },
   "outputs": [],
   "source": [
    "filtro= (df_sample['Version'] == 2.0) | (df_sample['clics'] >50)\n",
    "df_sample[filtro]"
   ]
  },
  {
   "cell_type": "markdown",
   "metadata": {
    "id": "DiosXojTOQgL"
   },
   "source": [
    "#### Usando `query`"
   ]
  },
  {
   "cell_type": "code",
   "execution_count": null,
   "metadata": {
    "id": "MTB9cJ_UOa06"
   },
   "outputs": [],
   "source": [
    "df_sample.query('id > 15')"
   ]
  },
  {
   "cell_type": "code",
   "execution_count": null,
   "metadata": {
    "id": "CTWeBXqwVqKl"
   },
   "outputs": [],
   "source": [
    "df_sample.query('Version == 1.7')\n"
   ]
  },
  {
   "cell_type": "code",
   "execution_count": null,
   "metadata": {
    "id": "KJCS576sVzIl"
   },
   "outputs": [],
   "source": [
    "df_sample.query('Version == 1.7 and clics >5 ')\n"
   ]
  },
  {
   "cell_type": "markdown",
   "metadata": {
    "id": "UNMLzoh2Vjy9"
   },
   "source": [
    "## Procesamiento de los datos"
   ]
  },
  {
   "cell_type": "markdown",
   "metadata": {
    "id": "WwLuCbsUUtz_"
   },
   "source": [
    "### Manejo de valores nulos"
   ]
  },
  {
   "cell_type": "code",
   "execution_count": null,
   "metadata": {
    "id": "hwAdqdQ1U3fs"
   },
   "outputs": [],
   "source": [
    "#df.notnull().sum()\n",
    "df.info()"
   ]
  },
  {
   "cell_type": "code",
   "execution_count": null,
   "metadata": {
    "id": "N6hYA0BKfGST"
   },
   "outputs": [],
   "source": [
    "df.notnull().sum()"
   ]
  },
  {
   "cell_type": "code",
   "execution_count": null,
   "metadata": {
    "id": "2kYZiciHU59p"
   },
   "outputs": [],
   "source": [
    "#df.isnull().sum()\n",
    "df.isna().sum()"
   ]
  },
  {
   "cell_type": "code",
   "execution_count": null,
   "metadata": {
    "id": "_1PFlg1TVAVC"
   },
   "outputs": [],
   "source": [
    "df.query('id.isna()')"
   ]
  },
  {
   "cell_type": "code",
   "execution_count": null,
   "metadata": {
    "id": "WABMoFqLMAB7"
   },
   "outputs": [],
   "source": [
    "df_sample"
   ]
  },
  {
   "cell_type": "code",
   "execution_count": null,
   "metadata": {
    "collapsed": true,
    "id": "aRRBCX93hhP2"
   },
   "outputs": [],
   "source": [
    "df_sample['id'].fillna(0)"
   ]
  },
  {
   "cell_type": "code",
   "execution_count": null,
   "metadata": {
    "id": "F0DHe142gWCD"
   },
   "outputs": [],
   "source": [
    "df_sample['id']=df_sample['id'].fillna(0)\n",
    "df_sample"
   ]
  },
  {
   "cell_type": "code",
   "execution_count": null,
   "metadata": {
    "id": "oLuCHu10ZlXX"
   },
   "outputs": [],
   "source": [
    "df_sin_nulos=df.fillna({'id':0,'Version':1.0,'tiempo':0,'clics':0})"
   ]
  },
  {
   "cell_type": "code",
   "execution_count": null,
   "metadata": {
    "id": "aOF3cGUli_Pr"
   },
   "outputs": [],
   "source": [
    "df_sin_nulos.info()"
   ]
  },
  {
   "cell_type": "markdown",
   "metadata": {
    "id": "q_ejc8A4azuc"
   },
   "source": [
    "### Manejo de datos duplicados"
   ]
  },
  {
   "cell_type": "code",
   "execution_count": null,
   "metadata": {
    "id": "vuJMthPtkSkM"
   },
   "outputs": [],
   "source": [
    "df.duplicated()"
   ]
  },
  {
   "cell_type": "code",
   "execution_count": null,
   "metadata": {
    "id": "mT_JPAJSiDB1"
   },
   "outputs": [],
   "source": [
    "df.duplicated(keep=False) # Keep= False marca como duplicado la primera aparición y todas las posteriores"
   ]
  },
  {
   "cell_type": "code",
   "execution_count": null,
   "metadata": {
    "id": "4Zy5H9Xpa3d7"
   },
   "outputs": [],
   "source": [
    "df.loc[df.duplicated(keep=False),:].sort_values(['Version','id'])"
   ]
  },
  {
   "cell_type": "code",
   "execution_count": null,
   "metadata": {
    "id": "EmAVxee4kvPs"
   },
   "outputs": [],
   "source": [
    "df"
   ]
  },
  {
   "cell_type": "code",
   "execution_count": null,
   "metadata": {
    "id": "2QIbiSrRdgRC"
   },
   "outputs": [],
   "source": [
    "df.drop_duplicates(inplace=True)"
   ]
  },
  {
   "cell_type": "code",
   "execution_count": null,
   "metadata": {
    "id": "ZUKkTLaGjaGN"
   },
   "outputs": [],
   "source": [
    "df"
   ]
  },
  {
   "cell_type": "markdown",
   "metadata": {
    "id": "Zct9CddafUzr"
   },
   "source": [
    "### Agrupación de datos"
   ]
  },
  {
   "cell_type": "code",
   "execution_count": null,
   "metadata": {
    "id": "H7GSFmNxgYfc"
   },
   "outputs": [],
   "source": [
    "df_sin_nulos['Version'].unique()"
   ]
  },
  {
   "cell_type": "code",
   "execution_count": null,
   "metadata": {
    "id": "p7TNVH2ZTRWL"
   },
   "outputs": [],
   "source": [
    "df_sin_nulos.groupby('Version')['id'].count()"
   ]
  },
  {
   "cell_type": "code",
   "execution_count": null,
   "metadata": {
    "id": "-Hx2AixQTwZC"
   },
   "outputs": [],
   "source": [
    "df_sin_nulos.groupby('Version')['clics'].mean()"
   ]
  },
  {
   "cell_type": "code",
   "execution_count": null,
   "metadata": {
    "id": "_Xm5S0bfl37o"
   },
   "outputs": [],
   "source": [
    "df_sin_nulos.groupby('Version')['tiempo'].sum()"
   ]
  },
  {
   "cell_type": "markdown",
   "metadata": {},
   "source": [
    "---\n",
    "\n",
    "## Objetivos logrados\n",
    "\n",
    "1. Aprendiste qué es el data wrangling y por qué es fundamental para preparar datos antes del análisis.\n",
    "2. Conociste la biblioteca Pandas y cómo crear DataFrames a partir de diferentes fuentes y estructuras de datos.\n",
    "3. Practicaste la exploración y manipulación de DataFrames, incluyendo ordenamiento, selección y filtrado de información.\n",
    "4. Aplicaste técnicas para limpiar datos, identificando y gestionando valores nulos y duplicados.\n",
    "5. Realizaste agrupaciones y cálculos estadísticos para obtener resúmenes útiles de los datos.\n",
    "\n",
    "---"
   ]
  }
 ],
 "metadata": {
  "colab": {
   "authorship_tag": "ABX9TyO+fuQcG+lXtGJnTaApbqRn",
   "mount_file_id": "1nctANUYjxJEzbTgg5YAhqGTXk_DiFSgD",
   "provenance": []
  },
  "kernelspec": {
   "display_name": "Python 3",
   "name": "python3"
  },
  "language_info": {
   "name": "python"
  }
 },
 "nbformat": 4,
 "nbformat_minor": 0
}
